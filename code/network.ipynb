{
  "cells": [
    {
      "cell_type": "markdown",
      "metadata": {
        "id": "rvGwydOHnxrH"
      },
      "source": [
        "# Redes Neurais e sua Implementação"
      ]
    },
    {
      "cell_type": "code",
      "source": [
        "!pip install unidecode"
      ],
      "metadata": {
        "colab": {
          "base_uri": "https://localhost:8080/"
        },
        "id": "iKkxFUWTn6-5",
        "outputId": "8f5973e3-921f-4d18-be67-02b23c9355af"
      },
      "execution_count": 923,
      "outputs": [
        {
          "output_type": "stream",
          "name": "stdout",
          "text": [
            "Looking in indexes: https://pypi.org/simple, https://us-python.pkg.dev/colab-wheels/public/simple/\n",
            "Requirement already satisfied: unidecode in /usr/local/lib/python3.10/dist-packages (1.3.6)\n"
          ]
        }
      ]
    },
    {
      "cell_type": "code",
      "execution_count": 924,
      "metadata": {
        "colab": {
          "base_uri": "https://localhost:8080/"
        },
        "id": "9ySTH8jKnxrK",
        "outputId": "d6d2b0c2-3ee9-4092-af39-ba1bc4c6c804"
      },
      "outputs": [
        {
          "output_type": "stream",
          "name": "stderr",
          "text": [
            "[nltk_data] Downloading package stopwords to /root/nltk_data...\n",
            "[nltk_data]   Package stopwords is already up-to-date!\n",
            "[nltk_data] Downloading package punkt to /root/nltk_data...\n",
            "[nltk_data]   Package punkt is already up-to-date!\n"
          ]
        },
        {
          "output_type": "execute_result",
          "data": {
            "text/plain": [
              "True"
            ]
          },
          "metadata": {},
          "execution_count": 924
        }
      ],
      "source": [
        "import string\n",
        "import re\n",
        "import nltk\n",
        "import ast\n",
        "import pandas as pd\n",
        "import numpy as np\n",
        "import tensorflow as tf\n",
        "from unidecode import unidecode\n",
        "from nltk.corpus import stopwords\n",
        "from nltk.tokenize import word_tokenize\n",
        "from nltk.stem import PorterStemmer, LancasterStemmer, WordNetLemmatizer\n",
        "from collections import Counter\n",
        "from sklearn.model_selection import StratifiedShuffleSplit\n",
        "from sklearn.pipeline import Pipeline\n",
        "from sklearn.preprocessing import FunctionTransformer\n",
        "from sklearn.base import BaseEstimator, TransformerMixin\n",
        "\n",
        "nltk.download('stopwords')\n",
        "nltk.download('punkt')\n"
      ]
    },
    {
      "cell_type": "code",
      "execution_count": 925,
      "metadata": {
        "id": "c1auSdJjnxrO"
      },
      "outputs": [],
      "source": [
        "df = pd.read_csv(\"./data/final_dataset.csv\",converters={'biased_words4':ast.literal_eval})"
      ]
    },
    {
      "cell_type": "code",
      "execution_count": 926,
      "metadata": {
        "colab": {
          "base_uri": "https://localhost:8080/"
        },
        "id": "wU1iXOXxnxrO",
        "outputId": "605ff019-2d21-4226-da03-fa2240ecd7c7"
      },
      "outputs": [
        {
          "output_type": "execute_result",
          "data": {
            "text/plain": [
              "Index(['sentence', 'news_link', 'outlet', 'topic', 'type', 'group_id',\n",
              "       'num_sent', 'Label_bias', 'Label_opinion', 'article', 'biased_words4',\n",
              "       'full_article'],\n",
              "      dtype='object')"
            ]
          },
          "metadata": {},
          "execution_count": 926
        }
      ],
      "source": [
        "df.columns"
      ]
    },
    {
      "cell_type": "markdown",
      "metadata": {
        "id": "i87WgYR5nxrP"
      },
      "source": [
        "## 1 - Features Importantes\n",
        "- Label_bias (categórica): Indica se o texto foi classificado como enviesado, não-enviesado ou se não foi possível atingir um consenso quanto a classificação.\n",
        "- Label_opinion (categórica): Indica de que modo o viés se manifesta na percepção dos entrevistados; especificamente separando casos de exposição de opinião do autor ou com fatos que corroborem um viés. (Um pouco fuzzy demais, talvez?)\n",
        "- Biased_words(vetor): Indica as palavras marcadas como \"denunciantes\" da presença de viés. \n",
        "- Topic(categórica): Indica o assunto do texto, dentro das categorias PREENCHER AQUI   "
      ]
    },
    {
      "cell_type": "markdown",
      "metadata": {
        "id": "Bi7I8bprnxrP"
      },
      "source": [
        "## 2 - Pré-Processamento"
      ]
    },
    {
      "cell_type": "markdown",
      "metadata": {
        "id": "8jhbot7NnxrP"
      },
      "source": [
        "### 2.1 - Básico textual (remoção de stopwords, filtro de expressões com números, etc)"
      ]
    },
    {
      "cell_type": "markdown",
      "metadata": {
        "id": "ZIl3QssXnxrQ"
      },
      "source": [
        "- A priori, vamos considerar como tokens todas as palavras que:\n",
        "    - tenham mais do que 3 letras\n",
        "    - não possuam números\n",
        "    - não estejam nas stopwords do inglês\n",
        "    \n",
        "- Vamos remover os acentos e, mediante a escolha do usuário, aplicar um stemmer."
      ]
    },
    {
      "cell_type": "code",
      "execution_count": 927,
      "metadata": {
        "colab": {
          "base_uri": "https://localhost:8080/"
        },
        "id": "ufcufOOonxrQ",
        "outputId": "1c596a2a-03a6-4c94-b8b7-e2312b2b9332"
      },
      "outputs": [
        {
          "output_type": "execute_result",
          "data": {
            "text/plain": [
              "0    YouTube is making clear there will be no “birt...\n",
              "1    The increasingly bitter dispute between Americ...\n",
              "2    So while there may be a humanitarian crisis dr...\n",
              "3    A professor who teaches climate change classes...\n",
              "4    The World Anti-Doping Agency on Tuesday said t...\n",
              "Name: sentence, dtype: object"
            ]
          },
          "metadata": {},
          "execution_count": 927
        }
      ],
      "source": [
        "digit_pattern = r'\\d+(\\.\\d+)?'\n",
        "solo_quotations_pattern = pattern = r\"^(?:' '|\\\\\" \"|\\`\\`)$\"\n",
        "\n",
        "remove_quotation = r\"'\\b|\\b'\\s|\\s'\\b|\\\"\\b|\\b\\\"\\s|\\s\\\"\\b|``\\b|\\b``\\s|\\s``\\b\" # como em \"America is Great\"\n",
        "remove_symbols_only = r'\\b[^\\w\\s]+\\b' # como em '--'\n",
        "remove_symbols_if_aside = r'\\b[^\\w\\s]|[^\\w\\s]\\b' # como em 'dog-'\n",
        "\n",
        "remove_patterns = remove_quotation,remove_symbols_if_aside, remove_symbols_only\n",
        "\n",
        "stop_words = set(stopwords.words('english')) # talvez o set deixe mais rápido\n",
        "\n",
        "def preprocess_basic_text(data,col):\n",
        "    \n",
        "    prepped_texts = []\n",
        "\n",
        "    for s in data[col]:\n",
        "        # Remove acentos e põe tudo para lower case\n",
        "        s = unidecode(s).lower()\n",
        "        tokens = word_tokenize(s,language=\"english\")\n",
        "\n",
        "        tokens = [\n",
        "            re.sub('|'.join(remove_patterns),'',t)\n",
        "            for t in tokens \n",
        "            if not bool(re.search(digit_pattern,t))\n",
        "            and t not in string.punctuation\n",
        "            and t not in stop_words\n",
        "        ]\n",
        "\n",
        "        tokens = [\n",
        "            t for t in tokens\n",
        "            if not bool(re.match(solo_quotations_pattern,t)) \n",
        "            and len(t) >= 3\n",
        "        ]\n",
        "\n",
        "        prepped_texts.append(tokens)\n",
        "\n",
        "    data[col] = prepped_texts\n",
        "\n",
        "    return df \n",
        "\n",
        "df_functions_test_copy = df.copy()\n",
        "df_functions_test_copy = preprocess_basic_text(df_functions_test_copy,'sentence')\n",
        "df_functions_test_copy['sentence'].head()\n"
      ]
    },
    {
      "cell_type": "markdown",
      "metadata": {
        "id": "5dgVKAMqnxrR"
      },
      "source": [
        "### 2.1 - Stemmers\n",
        "\n",
        "- Temos o objetivo de avaliar como diferentes estratégias de stemming afetam os resultados do treinamento. A função a seguir visa abstrair esse passo para um etapa separada de pré-processamento. \n",
        "- Serão testados os stemmer de Porter e de Lancaster, além da lematização via WordNet. Vamos também obter os resultados do modelo quando utilizados sem qualquer stemmer. "
      ]
    },
    {
      "cell_type": "code",
      "execution_count": 928,
      "metadata": {
        "id": "4xM7KssbnxrR"
      },
      "outputs": [],
      "source": [
        "def apply_stemmer_individual(sentence, stemmer_type:str):\n",
        "\n",
        "    # Função a ser executada para cada sentença, com expectativa de uso em algum filtro, por exemplo\n",
        "\n",
        "    stemmer = {}\n",
        "    lemmatizer = {}\n",
        "\n",
        "    if stemmer_type == \"Porter\":\n",
        "        stemmer = PorterStemmer()\n",
        "        return [stemmer.stem(token) for token in sentence]\n",
        "\n",
        "    elif stemmer_type == \"Lancaster\":\n",
        "        stemmer = LancasterStemmer()\n",
        "        return [stemmer.stem(token) for token in sentence]\n",
        "    \n",
        "    else:  # \"Wordnet\":\n",
        "        lemmatizer = WordNetLemmatizer()\n",
        "        return [lemmatizer.stem(token) for token in sentence]\n"
      ]
    },
    {
      "cell_type": "markdown",
      "metadata": {
        "id": "Tn5oI00HnxrR"
      },
      "source": [
        "- Aplicando stemmer para teste da função "
      ]
    },
    {
      "cell_type": "code",
      "execution_count": 929,
      "metadata": {
        "colab": {
          "base_uri": "https://localhost:8080/"
        },
        "id": "KgjPdj9rnxrS",
        "outputId": "78745555-ab39-4567-d762-76f9967c4e14"
      },
      "outputs": [
        {
          "output_type": "execute_result",
          "data": {
            "text/plain": [
              "0    [y, o, u, t, u, b, e,  , i, s,  , m, a, k, i, ...\n",
              "1    [t, h, e,  , i, n, c, r, e, a, s, i, n, g, l, ...\n",
              "2    [s, o,  , w, h, i, l, e,  , t, h, e, r, e,  , ...\n",
              "3    [a,  , p, r, o, f, e, s, s, o, r,  , w, h, o, ...\n",
              "4    [t, h, e,  , w, o, r, l, d,  , a, n, t, i, -, ...\n",
              "Name: sentence, dtype: object"
            ]
          },
          "metadata": {},
          "execution_count": 929
        }
      ],
      "source": [
        "df_functions_test_copy['sentence'] = df_functions_test_copy['sentence'].apply(lambda x: apply_stemmer_individual(x,\"Porter\"))\n",
        "df_functions_test_copy['sentence'].head()"
      ]
    },
    {
      "cell_type": "code",
      "source": [
        "# generalizando a aplicação pra todas as instâncias\n",
        "def apply_stemmer_for_all(data,cols,stemmer_flag=False,stemmer_type=None):\n",
        "  \n",
        "  if stemmer_flag == False:\n",
        "    return data\n",
        "\n",
        "  for col in cols:\n",
        "    data[col] = data[col].apply(lambda x: apply_stemmer_individual(x,stemmer_type))\n",
        "  return data"
      ],
      "metadata": {
        "id": "glvQTh33ftLq"
      },
      "execution_count": 930,
      "outputs": []
    },
    {
      "cell_type": "markdown",
      "source": [
        "- Aplicando stemmer nas palavras enviesadas também"
      ],
      "metadata": {
        "id": "q7DI_NtDL3Wh"
      }
    },
    {
      "cell_type": "code",
      "source": [
        "df_functions_test_copy['biased_words4'] = df_functions_test_copy['biased_words4'].apply(lambda x: apply_stemmer_individual(x,\"Porter\"))\n",
        "df_functions_test_copy['biased_words4'][:5]"
      ],
      "metadata": {
        "colab": {
          "base_uri": "https://localhost:8080/"
        },
        "id": "y2poUveOL9Qy",
        "outputId": "d66b868f-5122-48ce-b51a-49bff221a264"
      },
      "execution_count": 931,
      "outputs": [
        {
          "output_type": "execute_result",
          "data": {
            "text/plain": [
              "0    [belat, birther]\n",
              "1            [bitter]\n",
              "2             [crisi]\n",
              "3           [legitim]\n",
              "4                  []\n",
              "Name: biased_words4, dtype: object"
            ]
          },
          "metadata": {},
          "execution_count": 931
        }
      ]
    },
    {
      "cell_type": "markdown",
      "metadata": {
        "id": "gTmunv1UnxrS"
      },
      "source": [
        "### 2.3 - Separando o dataset"
      ]
    },
    {
      "cell_type": "code",
      "execution_count": 932,
      "metadata": {
        "id": "47Q6I9gVnxrS"
      },
      "outputs": [],
      "source": [
        "def train_valid_test_split(features, labels):\n",
        "    \"\"\" Retorna uma lista de tuplas contendo os datasets de features e de labels para cada segmento (treino, validação, teste) \"\"\"\n",
        "    \n",
        "    # Treino-val e Teste\n",
        "    shuffle_train_test = StratifiedShuffleSplit(n_splits=1, test_size=0.2, random_state=892)\n",
        "    train_val_indexes, test_indexes = next(shuffle_train_test.split(features.values, labels.values))\n",
        "    train_val_df, train_val_labels = features.iloc[train_val_indexes], labels.iloc[train_val_indexes]\n",
        "    test_df, test_labels = features.iloc[test_indexes], labels.iloc[test_indexes]\n",
        "\n",
        "    # Treino e Validação\n",
        "    shuffle_train_validate = StratifiedShuffleSplit(n_splits=1, test_size=0.25, random_state=124)\n",
        "    train_indexes, validation_indexes = next(shuffle_train_validate.split(train_val_df.values,train_val_labels.values))\n",
        "    train_df, train_labels = features.iloc[train_indexes], labels.iloc[train_indexes]\n",
        "    validation_df, validation_labels = features.iloc[validation_indexes], labels.iloc[validation_indexes]\n",
        "\n",
        "\n",
        "    return [(train_df, train_labels), (validation_df, validation_labels), (test_df, test_labels)]\n"
      ]
    },
    {
      "cell_type": "code",
      "execution_count": 933,
      "metadata": {
        "colab": {
          "base_uri": "https://localhost:8080/"
        },
        "id": "DwBxzoVAnxrS",
        "outputId": "ff518492-3230-42d4-cae8-0e5ab820f941"
      },
      "outputs": [
        {
          "output_type": "execute_result",
          "data": {
            "text/plain": [
              "(848, 12)"
            ]
          },
          "metadata": {},
          "execution_count": 933
        }
      ],
      "source": [
        "train, val, test = train_valid_test_split(df_functions_test_copy,df_functions_test_copy['Label_bias'])\n",
        "train[0].shape"
      ]
    },
    {
      "cell_type": "markdown",
      "metadata": {
        "id": "KOOeFWainxrT"
      },
      "source": [
        "### 2.4 - Encoding (palavras)\n",
        "\n",
        "- Para representar as palavras, vamos criar um encoding com base na frequência apresentada no corpus.\n",
        "- Utilizaremos alguns números para representar determinadas semânticas:\n",
        "  - padding(\"pad\"), necessário para deixar todas as entradas com mesmo tamanho, terá o valor 0.\n",
        "  - start-of-sequence(\"sos\"), usado para identificar o ínicio de cada sentença, terá o número 1\n",
        "  - unknown, para marcar palavras desconhecidas, terá o número 2"
      ]
    },
    {
      "cell_type": "code",
      "source": [
        "train_df_copy = train[0]"
      ],
      "metadata": {
        "id": "zYBDQAz94V8S"
      },
      "execution_count": 934,
      "outputs": []
    },
    {
      "cell_type": "code",
      "source": [
        "SOS = \"<sos>\"\n",
        "PADDING = \"<pad>\"\n",
        "UNKNOWN = \"<ukn>\""
      ],
      "metadata": {
        "id": "p2aNLT_LEAaX"
      },
      "execution_count": 935,
      "outputs": []
    },
    {
      "cell_type": "code",
      "source": [
        "def add_padding_and_sos(data):\n",
        "\n",
        "    max_length = max(len(seq) for seq in data['sentence'])\n",
        "    for index,row in data.iterrows():\n",
        "      sentence = [SOS] + row['sentence']\n",
        "      paddings = (max_length - len(row['sentence'])) * [PADDING]\n",
        "      sentence += paddings\n",
        "      data.at[index,'sentence'] = sentence\n",
        "    \n",
        "    return data\n",
        "\n",
        "train_df_copy = add_padding_and_sos(train_df_copy)"
      ],
      "metadata": {
        "id": "IzA2U6fi3NYb"
      },
      "execution_count": 936,
      "outputs": []
    },
    {
      "cell_type": "code",
      "source": [
        "print(train_df_copy.loc[190,'sentence'])"
      ],
      "metadata": {
        "colab": {
          "base_uri": "https://localhost:8080/"
        },
        "id": "bwR2dRIFHVq9",
        "outputId": "d74e43eb-c857-4524-b7e8-2647b6ca71c2"
      },
      "execution_count": 937,
      "outputs": [
        {
          "output_type": "stream",
          "name": "stdout",
          "text": [
            "['<sos>', 'e', 'v', 'e', 'n', ' ', 't', 'h', 'o', 'u', 'g', 'h', ' ', 't', 'h', 'u', 'n', 'b', 'e', 'r', 'g', ' ', 'i', 's', ' ', 'c', 'a', 'p', 'a', 'b', 'l', 'e', ' ', 'o', 'f', ' ', 'd', 'o', 'i', 'n', 'g', ' ', 't', 'h', 'i', 'n', 'g', 's', ' ', 'm', 'a', 'n', 'y', ' ', 'o', 'n', ' ', 't', 'h', 'e', ' ', 'r', 'i', 'g', 'h', 't', ' ', 'r', 'e', 'f', 'u', 's', 'e', ' ', 't', 'o', ' ', 'd', 'o', ' ', '—', ' ', 's', 'u', 'c', 'h', ' ', 'a', 's', ' ', 'r', 'e', 'a', 'd', ' ', 'a', 'n', 'd', ' ', 'u', 'n', 'd', 'e', 'r', 's', 't', 'a', 'n', 'd', ' ', 's', 'c', 'i', 'e', 'n', 't', 'i', 'f', 'i', 'c', ' ', 'e', 'v', 'i', 'd', 'e', 'n', 'c', 'e', ' ', '—', ' ', 'r', 'i', 'g', 'h', 't', '-', 'w', 'i', 'n', 'g', 'e', 'r', 's', ' ', 'a', 'r', 'g', 'u', 'e', 'd', ' ', 't', 'h', 'a', 't', ' ', 't', 'h', 'u', 'n', 'b', 'e', 'r', 'g', ' ', 'a', 'n', 'd', ' ', 'h', 'e', 'r', ' ', 'f', 'e', 'l', 'l', 'o', 'w', ' ', 'y', 'o', 'u', 't', 'h', ' ', 'a', 'c', 't', 'i', 'v', 'i', 's', 't', 's', ' ', 'c', 'a', 'n', 'n', 'o', 't', ' ', 't', 'h', 'i', 'n', 'k', ' ', 'f', 'o', 'r', ' ', 't', 'h', 'e', 'm', 's', 'e', 'l', 'v', 'e', 's', '.', '<pad>', '<pad>', '<pad>', '<pad>', '<pad>', '<pad>', '<pad>', '<pad>', '<pad>', '<pad>', '<pad>', '<pad>', '<pad>', '<pad>', '<pad>', '<pad>', '<pad>', '<pad>', '<pad>', '<pad>', '<pad>', '<pad>', '<pad>', '<pad>', '<pad>', '<pad>', '<pad>', '<pad>', '<pad>', '<pad>', '<pad>', '<pad>', '<pad>', '<pad>', '<pad>', '<pad>', '<pad>', '<pad>', '<pad>', '<pad>', '<pad>', '<pad>', '<pad>', '<pad>', '<pad>', '<pad>', '<pad>', '<pad>', '<pad>', '<pad>', '<pad>', '<pad>', '<pad>', '<pad>', '<pad>', '<pad>', '<pad>', '<pad>', '<pad>', '<pad>', '<pad>', '<pad>', '<pad>', '<pad>', '<pad>', '<pad>', '<pad>', '<pad>', '<pad>', '<pad>', '<pad>', '<pad>', '<pad>', '<pad>', '<pad>', '<pad>', '<pad>', '<pad>', '<pad>', '<pad>', '<pad>', '<pad>', '<pad>', '<pad>', '<pad>', '<pad>', '<pad>', '<pad>', '<pad>', '<pad>', '<pad>', '<pad>', '<pad>', '<pad>', '<pad>', '<pad>', '<pad>', '<pad>', '<pad>', '<pad>', '<pad>', '<pad>', '<pad>', '<pad>', '<pad>', '<pad>', '<pad>', '<pad>', '<pad>', '<pad>', '<pad>', '<pad>', '<pad>', '<pad>', '<pad>', '<pad>', '<pad>', '<pad>', '<pad>', '<pad>', '<pad>', '<pad>', '<pad>', '<pad>', '<pad>', '<pad>', '<pad>', '<pad>', '<pad>', '<pad>', '<pad>', '<pad>', '<pad>', '<pad>', '<pad>', '<pad>', '<pad>', '<pad>', '<pad>', '<pad>', '<pad>', '<pad>', '<pad>', '<pad>', '<pad>', '<pad>', '<pad>', '<pad>', '<pad>', '<pad>', '<pad>', '<pad>', '<pad>', '<pad>', '<pad>', '<pad>', '<pad>', '<pad>', '<pad>', '<pad>', '<pad>', '<pad>', '<pad>', '<pad>', '<pad>', '<pad>', '<pad>', '<pad>', '<pad>', '<pad>', '<pad>', '<pad>', '<pad>', '<pad>', '<pad>', '<pad>', '<pad>', '<pad>', '<pad>', '<pad>', '<pad>', '<pad>', '<pad>', '<pad>', '<pad>', '<pad>', '<pad>', '<pad>', '<pad>', '<pad>', '<pad>', '<pad>', '<pad>', '<pad>', '<pad>', '<pad>', '<pad>', '<pad>', '<pad>', '<pad>', '<pad>', '<pad>', '<pad>', '<pad>', '<pad>', '<pad>', '<pad>', '<pad>', '<pad>', '<pad>', '<pad>', '<pad>', '<pad>', '<pad>', '<pad>', '<pad>', '<pad>', '<pad>', '<pad>', '<pad>', '<pad>', '<pad>', '<pad>', '<pad>', '<pad>', '<pad>', '<pad>', '<pad>', '<pad>', '<pad>', '<pad>', '<pad>', '<pad>', '<pad>', '<pad>', '<pad>', '<pad>', '<pad>', '<pad>', '<pad>', '<pad>', '<pad>', '<pad>', '<pad>', '<pad>', '<pad>', '<pad>', '<pad>', '<pad>', '<pad>', '<pad>', '<pad>', '<pad>', '<pad>', '<pad>', '<pad>', '<pad>', '<pad>', '<pad>', '<pad>', '<pad>', '<pad>', '<pad>', '<pad>', '<pad>', '<pad>', '<pad>', '<pad>', '<pad>', '<pad>', '<pad>', '<pad>', '<pad>', '<pad>', '<pad>', '<pad>', '<pad>', '<pad>', '<pad>', '<pad>', '<pad>', '<pad>', '<pad>', '<pad>', '<pad>', '<pad>', '<pad>', '<pad>', '<pad>', '<pad>', '<pad>', '<pad>', '<pad>', '<pad>', '<pad>', '<pad>', '<pad>', '<pad>', '<pad>', '<pad>', '<pad>', '<pad>', '<pad>', '<pad>', '<pad>', '<pad>', '<pad>', '<pad>', '<pad>', '<pad>', '<pad>', '<pad>', '<pad>', '<pad>', '<pad>', '<pad>', '<pad>', '<pad>', '<pad>', '<pad>', '<pad>', '<pad>', '<pad>', '<pad>', '<pad>', '<pad>', '<pad>', '<pad>', '<pad>', '<pad>', '<pad>', '<pad>', '<pad>', '<pad>', '<pad>', '<pad>', '<pad>', '<pad>', '<pad>', '<pad>', '<pad>', '<pad>', '<pad>', '<pad>', '<pad>', '<pad>', '<pad>', '<pad>', '<pad>', '<pad>', '<pad>', '<pad>', '<pad>', '<pad>', '<pad>', '<pad>', '<pad>', '<pad>', '<pad>', '<pad>', '<pad>', '<pad>', '<pad>', '<pad>', '<pad>', '<pad>', '<pad>', '<pad>', '<pad>', '<pad>', '<pad>', '<pad>', '<pad>', '<pad>', '<pad>', '<pad>', '<pad>', '<pad>', '<pad>', '<pad>', '<pad>']\n"
          ]
        }
      ]
    },
    {
      "cell_type": "markdown",
      "source": [
        "- Construindo o vocabulário com base na frequência de aparecimento.\n",
        "  - *Obs*: note a colocação de determinadas tags logo no ínicio"
      ],
      "metadata": {
        "id": "212Rr3J3Ka06"
      }
    },
    {
      "cell_type": "code",
      "execution_count": 938,
      "metadata": {
        "id": "-qkd_GWhnxrT"
      },
      "outputs": [],
      "source": [
        "def create_vocabulary(data):\n",
        "  \"\"\" Retorna uma lookup table (StaticVocabularyTable) \"\"\"  \n",
        "\n",
        "  vocab = Counter()\n",
        "  for sentence in train_df_copy['sentence']:  \n",
        "      vocab.update(sentence)\n",
        "\n",
        "  words = tf.constant([PADDING] + \n",
        "                      [SOS] + \n",
        "                      [UNKNOWN] + \n",
        "                      [word for word in vocab.keys() if word != PADDING and word != SOS]\n",
        "  )\n",
        "  words_ids = tf.range(len(vocab)+1, dtype=tf.int64) # +1 porque unknown é o único não mapeado\n",
        "  vocab_init = tf.lookup.KeyValueTensorInitializer(words,words_ids)\n",
        "  num_oov_buckets = 5000 # bucket para palavras desconhecidas\n",
        "  vocab_table = tf.lookup.StaticVocabularyTable(vocab_init,num_oov_buckets)\n",
        "  \n",
        "  return vocab_table"
      ]
    },
    {
      "cell_type": "markdown",
      "source": [
        "- Demonstração de como estão os encodings de algumas palavras. "
      ],
      "metadata": {
        "id": "9aSx7Sx-Ph93"
      }
    },
    {
      "cell_type": "code",
      "source": [
        "vocab_table = create_vocabulary(train_df_copy)\n",
        "vocab_table.lookup(tf.constant([b'nice trump move'.split(b' ')]))"
      ],
      "metadata": {
        "colab": {
          "base_uri": "https://localhost:8080/"
        },
        "id": "9ALwPlNXIq83",
        "outputId": "b9cf1300-62ea-4a96-cf54-3b3f969550be"
      },
      "execution_count": 939,
      "outputs": [
        {
          "output_type": "execute_result",
          "data": {
            "text/plain": [
              "<tf.Tensor: shape=(1, 3), dtype=int64, numpy=array([[2152, 3826,  846]])>"
            ]
          },
          "metadata": {},
          "execution_count": 939
        }
      ]
    },
    {
      "cell_type": "markdown",
      "metadata": {
        "id": "vcuvVw23nxrT"
      },
      "source": [
        "- Convertendo os tokens para o índice na tabela (tanto da sentença, como das palavras que denotam viés)"
      ]
    },
    {
      "cell_type": "code",
      "execution_count": 940,
      "metadata": {
        "colab": {
          "base_uri": "https://localhost:8080/",
          "height": 669
        },
        "id": "yS398UOqnxrT",
        "outputId": "8d3efd1e-3b36-48d6-8b5e-9c91cabd6462"
      },
      "outputs": [
        {
          "output_type": "execute_result",
          "data": {
            "text/plain": [
              "                                              sentence  \\\n",
              "129  [1, 3, 4, 5, 6, 7, 8, 9, 4, 10, 3, 11, 6, 12, ...   \n",
              "684  [1, 3, 4, 28, 6, 7, 7, 4, 12, 17, 7, 17, 3, 5,...   \n",
              "538  [1, 8, 18, 4, 24, 25, 33, 29, 31, 4, 13, 23, 1...   \n",
              "573  [1, 3, 7, 13, 23, 6, 16, 26, 23, 4, 16, 27, 5,...   \n",
              "11   [1, 19, 16, 13, 4, 6, 18, 17, 4, 26, 7, 3, 12,...   \n",
              "\n",
              "                                             news_link     outlet  \\\n",
              "129  https://www.breitbart.com/politics/2020/01/15/...  breitbart   \n",
              "684  https://www.breitbart.com/politics/2019/01/15/...  breitbart   \n",
              "538  https://www.huffpost.com/entry/muslim-teen-dis...   huffpost   \n",
              "573  https://www.alternet.org/2019/09/everything-yo...   alternet   \n",
              "11   https://www.nbcnews.com/news/world/wave-vaccin...      msnbc   \n",
              "\n",
              "            topic   type  group_id  num_sent  Label_bias  \\\n",
              "129  student-debt  right         8         1  Non-biased   \n",
              "684      abortion  right        41         1  Non-biased   \n",
              "538         sport   left        32         1  Non-biased   \n",
              "573         sport   left        34         1      Biased   \n",
              "11       vaccines   left         1         1      Biased   \n",
              "\n",
              "                  Label_opinion  \\\n",
              "129            Entirely factual   \n",
              "684            Entirely factual   \n",
              "538            Entirely factual   \n",
              "573  Expresses writer’s opinion   \n",
              "11                 No agreement   \n",
              "\n",
              "                                               article biased_words4  \\\n",
              "129  A solid majority of student loan borrowers in ...            []   \n",
              "684  A poll released Tuesday finds 75 percent of Am...        [2779]   \n",
              "538  HuffPost is part of Verizon Media. We and our ...        [5004]   \n",
              "573  Since 1983, Kim Karsh has helped baseball team...        [3372]   \n",
              "11   LONDON — The coronavirus crosses borders witho...        [2871]   \n",
              "\n",
              "                                          full_article  \n",
              "129  ('ProPublica is a Pulitzer Prize-winning inves...  \n",
              "684  ('Discover Thomson Reuters', 'By Reuters Staff...  \n",
              "538  ('', '', \"Despite a pandemic, one-sided presid...  \n",
              "573  ('Chinese state media outlets have been bursti...  \n",
              "11   ('', 'Profile', 'Sections', 'tv', 'Featured', ...  "
            ],
            "text/html": [
              "\n",
              "  <div id=\"df-69cb8655-f0c8-425c-9355-533fb420c09d\">\n",
              "    <div class=\"colab-df-container\">\n",
              "      <div>\n",
              "<style scoped>\n",
              "    .dataframe tbody tr th:only-of-type {\n",
              "        vertical-align: middle;\n",
              "    }\n",
              "\n",
              "    .dataframe tbody tr th {\n",
              "        vertical-align: top;\n",
              "    }\n",
              "\n",
              "    .dataframe thead th {\n",
              "        text-align: right;\n",
              "    }\n",
              "</style>\n",
              "<table border=\"1\" class=\"dataframe\">\n",
              "  <thead>\n",
              "    <tr style=\"text-align: right;\">\n",
              "      <th></th>\n",
              "      <th>sentence</th>\n",
              "      <th>news_link</th>\n",
              "      <th>outlet</th>\n",
              "      <th>topic</th>\n",
              "      <th>type</th>\n",
              "      <th>group_id</th>\n",
              "      <th>num_sent</th>\n",
              "      <th>Label_bias</th>\n",
              "      <th>Label_opinion</th>\n",
              "      <th>article</th>\n",
              "      <th>biased_words4</th>\n",
              "      <th>full_article</th>\n",
              "    </tr>\n",
              "  </thead>\n",
              "  <tbody>\n",
              "    <tr>\n",
              "      <th>129</th>\n",
              "      <td>[1, 3, 4, 5, 6, 7, 8, 9, 4, 10, 3, 11, 6, 12, ...</td>\n",
              "      <td>https://www.breitbart.com/politics/2020/01/15/...</td>\n",
              "      <td>breitbart</td>\n",
              "      <td>student-debt</td>\n",
              "      <td>right</td>\n",
              "      <td>8</td>\n",
              "      <td>1</td>\n",
              "      <td>Non-biased</td>\n",
              "      <td>Entirely factual</td>\n",
              "      <td>A solid majority of student loan borrowers in ...</td>\n",
              "      <td>[]</td>\n",
              "      <td>('ProPublica is a Pulitzer Prize-winning inves...</td>\n",
              "    </tr>\n",
              "    <tr>\n",
              "      <th>684</th>\n",
              "      <td>[1, 3, 4, 28, 6, 7, 7, 4, 12, 17, 7, 17, 3, 5,...</td>\n",
              "      <td>https://www.breitbart.com/politics/2019/01/15/...</td>\n",
              "      <td>breitbart</td>\n",
              "      <td>abortion</td>\n",
              "      <td>right</td>\n",
              "      <td>41</td>\n",
              "      <td>1</td>\n",
              "      <td>Non-biased</td>\n",
              "      <td>Entirely factual</td>\n",
              "      <td>A poll released Tuesday finds 75 percent of Am...</td>\n",
              "      <td>[2779]</td>\n",
              "      <td>('Discover Thomson Reuters', 'By Reuters Staff...</td>\n",
              "    </tr>\n",
              "    <tr>\n",
              "      <th>538</th>\n",
              "      <td>[1, 8, 18, 4, 24, 25, 33, 29, 31, 4, 13, 23, 1...</td>\n",
              "      <td>https://www.huffpost.com/entry/muslim-teen-dis...</td>\n",
              "      <td>huffpost</td>\n",
              "      <td>sport</td>\n",
              "      <td>left</td>\n",
              "      <td>32</td>\n",
              "      <td>1</td>\n",
              "      <td>Non-biased</td>\n",
              "      <td>Entirely factual</td>\n",
              "      <td>HuffPost is part of Verizon Media. We and our ...</td>\n",
              "      <td>[5004]</td>\n",
              "      <td>('', '', \"Despite a pandemic, one-sided presid...</td>\n",
              "    </tr>\n",
              "    <tr>\n",
              "      <th>573</th>\n",
              "      <td>[1, 3, 7, 13, 23, 6, 16, 26, 23, 4, 16, 27, 5,...</td>\n",
              "      <td>https://www.alternet.org/2019/09/everything-yo...</td>\n",
              "      <td>alternet</td>\n",
              "      <td>sport</td>\n",
              "      <td>left</td>\n",
              "      <td>34</td>\n",
              "      <td>1</td>\n",
              "      <td>Biased</td>\n",
              "      <td>Expresses writer’s opinion</td>\n",
              "      <td>Since 1983, Kim Karsh has helped baseball team...</td>\n",
              "      <td>[3372]</td>\n",
              "      <td>('Chinese state media outlets have been bursti...</td>\n",
              "    </tr>\n",
              "    <tr>\n",
              "      <th>11</th>\n",
              "      <td>[1, 19, 16, 13, 4, 6, 18, 17, 4, 26, 7, 3, 12,...</td>\n",
              "      <td>https://www.nbcnews.com/news/world/wave-vaccin...</td>\n",
              "      <td>msnbc</td>\n",
              "      <td>vaccines</td>\n",
              "      <td>left</td>\n",
              "      <td>1</td>\n",
              "      <td>1</td>\n",
              "      <td>Biased</td>\n",
              "      <td>No agreement</td>\n",
              "      <td>LONDON — The coronavirus crosses borders witho...</td>\n",
              "      <td>[2871]</td>\n",
              "      <td>('', 'Profile', 'Sections', 'tv', 'Featured', ...</td>\n",
              "    </tr>\n",
              "  </tbody>\n",
              "</table>\n",
              "</div>\n",
              "      <button class=\"colab-df-convert\" onclick=\"convertToInteractive('df-69cb8655-f0c8-425c-9355-533fb420c09d')\"\n",
              "              title=\"Convert this dataframe to an interactive table.\"\n",
              "              style=\"display:none;\">\n",
              "        \n",
              "  <svg xmlns=\"http://www.w3.org/2000/svg\" height=\"24px\"viewBox=\"0 0 24 24\"\n",
              "       width=\"24px\">\n",
              "    <path d=\"M0 0h24v24H0V0z\" fill=\"none\"/>\n",
              "    <path d=\"M18.56 5.44l.94 2.06.94-2.06 2.06-.94-2.06-.94-.94-2.06-.94 2.06-2.06.94zm-11 1L8.5 8.5l.94-2.06 2.06-.94-2.06-.94L8.5 2.5l-.94 2.06-2.06.94zm10 10l.94 2.06.94-2.06 2.06-.94-2.06-.94-.94-2.06-.94 2.06-2.06.94z\"/><path d=\"M17.41 7.96l-1.37-1.37c-.4-.4-.92-.59-1.43-.59-.52 0-1.04.2-1.43.59L10.3 9.45l-7.72 7.72c-.78.78-.78 2.05 0 2.83L4 21.41c.39.39.9.59 1.41.59.51 0 1.02-.2 1.41-.59l7.78-7.78 2.81-2.81c.8-.78.8-2.07 0-2.86zM5.41 20L4 18.59l7.72-7.72 1.47 1.35L5.41 20z\"/>\n",
              "  </svg>\n",
              "      </button>\n",
              "      \n",
              "  <style>\n",
              "    .colab-df-container {\n",
              "      display:flex;\n",
              "      flex-wrap:wrap;\n",
              "      gap: 12px;\n",
              "    }\n",
              "\n",
              "    .colab-df-convert {\n",
              "      background-color: #E8F0FE;\n",
              "      border: none;\n",
              "      border-radius: 50%;\n",
              "      cursor: pointer;\n",
              "      display: none;\n",
              "      fill: #1967D2;\n",
              "      height: 32px;\n",
              "      padding: 0 0 0 0;\n",
              "      width: 32px;\n",
              "    }\n",
              "\n",
              "    .colab-df-convert:hover {\n",
              "      background-color: #E2EBFA;\n",
              "      box-shadow: 0px 1px 2px rgba(60, 64, 67, 0.3), 0px 1px 3px 1px rgba(60, 64, 67, 0.15);\n",
              "      fill: #174EA6;\n",
              "    }\n",
              "\n",
              "    [theme=dark] .colab-df-convert {\n",
              "      background-color: #3B4455;\n",
              "      fill: #D2E3FC;\n",
              "    }\n",
              "\n",
              "    [theme=dark] .colab-df-convert:hover {\n",
              "      background-color: #434B5C;\n",
              "      box-shadow: 0px 1px 3px 1px rgba(0, 0, 0, 0.15);\n",
              "      filter: drop-shadow(0px 1px 2px rgba(0, 0, 0, 0.3));\n",
              "      fill: #FFFFFF;\n",
              "    }\n",
              "  </style>\n",
              "\n",
              "      <script>\n",
              "        const buttonEl =\n",
              "          document.querySelector('#df-69cb8655-f0c8-425c-9355-533fb420c09d button.colab-df-convert');\n",
              "        buttonEl.style.display =\n",
              "          google.colab.kernel.accessAllowed ? 'block' : 'none';\n",
              "\n",
              "        async function convertToInteractive(key) {\n",
              "          const element = document.querySelector('#df-69cb8655-f0c8-425c-9355-533fb420c09d');\n",
              "          const dataTable =\n",
              "            await google.colab.kernel.invokeFunction('convertToInteractive',\n",
              "                                                     [key], {});\n",
              "          if (!dataTable) return;\n",
              "\n",
              "          const docLinkHtml = 'Like what you see? Visit the ' +\n",
              "            '<a target=\"_blank\" href=https://colab.research.google.com/notebooks/data_table.ipynb>data table notebook</a>'\n",
              "            + ' to learn more about interactive tables.';\n",
              "          element.innerHTML = '';\n",
              "          dataTable['output_type'] = 'display_data';\n",
              "          await google.colab.output.renderOutput(dataTable, element);\n",
              "          const docLink = document.createElement('div');\n",
              "          docLink.innerHTML = docLinkHtml;\n",
              "          element.appendChild(docLink);\n",
              "        }\n",
              "      </script>\n",
              "    </div>\n",
              "  </div>\n",
              "  "
            ]
          },
          "metadata": {},
          "execution_count": 940
        }
      ],
      "source": [
        "def convert_words_to_freq(data, vocab):\n",
        "\n",
        "  for index, row in data.iterrows():\n",
        "    \n",
        "    sentence = tf.constant(row['sentence'])\n",
        "    biased_words = tf.constant(row['biased_words4'])\n",
        "\n",
        "    sentence_ided = vocab_table.lookup(sentence).numpy()\n",
        "    \n",
        "    biased_words_ided = vocab_table.lookup(biased_words).numpy() if len(biased_words) > 0 else []\n",
        "    \n",
        "    data.at[index, 'sentence'] = sentence_ided\n",
        "    data.at[index, 'biased_words4'] = biased_words_ided\n",
        "\n",
        "\n",
        "  return data\n",
        "\n",
        "train_df_copy = convert_words_to_freq(train_df_copy, vocab_table)\n",
        "train_df_copy.head(5)"
      ]
    },
    {
      "cell_type": "markdown",
      "source": [
        "### 2.5 - One-hot encoding para features categóricas"
      ],
      "metadata": {
        "id": "28mGJnjWQC82"
      }
    },
    {
      "cell_type": "code",
      "source": [
        "def cats_to_one_hot(data,column_names):\n",
        "  for col in column_names:\n",
        "    df_encoded = pd.get_dummies(df[col], prefix=col)\n",
        "    cat_col_index = data.columns.get_loc(col)\n",
        "    data = pd.concat([data.iloc[:,:cat_col_index], df_encoded, data.iloc[:,cat_col_index+1:]],axis=1)\n",
        "    \n",
        "\n",
        "  return data"
      ],
      "metadata": {
        "id": "ItB9GETSQB7v"
      },
      "execution_count": 941,
      "outputs": []
    },
    {
      "cell_type": "code",
      "source": [
        "train_df_copy = cats_to_one_hot(train_df_copy, column_names=['topic','outlet','type','Label_bias','Label_opinion'])\n",
        "train_df_copy.head(3)"
      ],
      "metadata": {
        "colab": {
          "base_uri": "https://localhost:8080/",
          "height": 549
        },
        "id": "hQ7UUyZpSsUs",
        "outputId": "9917ae9d-7299-4dc6-c319-7a058da591fe"
      },
      "execution_count": 942,
      "outputs": [
        {
          "output_type": "execute_result",
          "data": {
            "text/plain": [
              "                                              sentence  \\\n",
              "129  [1, 3, 4, 5, 6, 7, 8, 9, 4, 10, 3, 11, 6, 12, ...   \n",
              "684  [1, 3, 4, 28, 6, 7, 7, 4, 12, 17, 7, 17, 3, 5,...   \n",
              "538  [1, 8, 18, 4, 24, 25, 33, 29, 31, 4, 13, 23, 1...   \n",
              "\n",
              "                                             news_link  outlet_alternet  \\\n",
              "129  https://www.breitbart.com/politics/2020/01/15/...                0   \n",
              "684  https://www.breitbart.com/politics/2019/01/15/...                0   \n",
              "538  https://www.huffpost.com/entry/muslim-teen-dis...                0   \n",
              "\n",
              "     outlet_breitbart  outlet_federalist  outlet_fox-news  outlet_huffpost  \\\n",
              "129                 1                  0                0                0   \n",
              "684                 1                  0                0                0   \n",
              "538                 0                  0                0                1   \n",
              "\n",
              "     outlet_msnbc  outlet_reuters  outlet_usa-today  ...  Label_bias_Biased  \\\n",
              "129             0               0                 0  ...                  0   \n",
              "684             0               0                 0  ...                  0   \n",
              "538             0               0                 0  ...                  0   \n",
              "\n",
              "     Label_bias_No agreement  Label_bias_Non-biased  \\\n",
              "129                        0                      1   \n",
              "684                        0                      1   \n",
              "538                        0                      1   \n",
              "\n",
              "     Label_opinion_Entirely factual  Label_opinion_Expresses writer’s opinion  \\\n",
              "129                               1                                         0   \n",
              "684                               1                                         0   \n",
              "538                               1                                         0   \n",
              "\n",
              "     Label_opinion_No agreement  \\\n",
              "129                           0   \n",
              "684                           0   \n",
              "538                           0   \n",
              "\n",
              "     Label_opinion_Somewhat factual but also opinionated  \\\n",
              "129                                                  0     \n",
              "684                                                  0     \n",
              "538                                                  0     \n",
              "\n",
              "                                               article  biased_words4  \\\n",
              "129  A solid majority of student loan borrowers in ...             []   \n",
              "684  A poll released Tuesday finds 75 percent of Am...         [2779]   \n",
              "538  HuffPost is part of Verizon Media. We and our ...         [5004]   \n",
              "\n",
              "                                          full_article  \n",
              "129  ('ProPublica is a Pulitzer Prize-winning inves...  \n",
              "684  ('Discover Thomson Reuters', 'By Reuters Staff...  \n",
              "538  ('', '', \"Despite a pandemic, one-sided presid...  \n",
              "\n",
              "[3 rows x 39 columns]"
            ],
            "text/html": [
              "\n",
              "  <div id=\"df-03e3efa8-9fb0-40e6-a337-98c6348ff7e5\">\n",
              "    <div class=\"colab-df-container\">\n",
              "      <div>\n",
              "<style scoped>\n",
              "    .dataframe tbody tr th:only-of-type {\n",
              "        vertical-align: middle;\n",
              "    }\n",
              "\n",
              "    .dataframe tbody tr th {\n",
              "        vertical-align: top;\n",
              "    }\n",
              "\n",
              "    .dataframe thead th {\n",
              "        text-align: right;\n",
              "    }\n",
              "</style>\n",
              "<table border=\"1\" class=\"dataframe\">\n",
              "  <thead>\n",
              "    <tr style=\"text-align: right;\">\n",
              "      <th></th>\n",
              "      <th>sentence</th>\n",
              "      <th>news_link</th>\n",
              "      <th>outlet_alternet</th>\n",
              "      <th>outlet_breitbart</th>\n",
              "      <th>outlet_federalist</th>\n",
              "      <th>outlet_fox-news</th>\n",
              "      <th>outlet_huffpost</th>\n",
              "      <th>outlet_msnbc</th>\n",
              "      <th>outlet_reuters</th>\n",
              "      <th>outlet_usa-today</th>\n",
              "      <th>...</th>\n",
              "      <th>Label_bias_Biased</th>\n",
              "      <th>Label_bias_No agreement</th>\n",
              "      <th>Label_bias_Non-biased</th>\n",
              "      <th>Label_opinion_Entirely factual</th>\n",
              "      <th>Label_opinion_Expresses writer’s opinion</th>\n",
              "      <th>Label_opinion_No agreement</th>\n",
              "      <th>Label_opinion_Somewhat factual but also opinionated</th>\n",
              "      <th>article</th>\n",
              "      <th>biased_words4</th>\n",
              "      <th>full_article</th>\n",
              "    </tr>\n",
              "  </thead>\n",
              "  <tbody>\n",
              "    <tr>\n",
              "      <th>129</th>\n",
              "      <td>[1, 3, 4, 5, 6, 7, 8, 9, 4, 10, 3, 11, 6, 12, ...</td>\n",
              "      <td>https://www.breitbart.com/politics/2020/01/15/...</td>\n",
              "      <td>0</td>\n",
              "      <td>1</td>\n",
              "      <td>0</td>\n",
              "      <td>0</td>\n",
              "      <td>0</td>\n",
              "      <td>0</td>\n",
              "      <td>0</td>\n",
              "      <td>0</td>\n",
              "      <td>...</td>\n",
              "      <td>0</td>\n",
              "      <td>0</td>\n",
              "      <td>1</td>\n",
              "      <td>1</td>\n",
              "      <td>0</td>\n",
              "      <td>0</td>\n",
              "      <td>0</td>\n",
              "      <td>A solid majority of student loan borrowers in ...</td>\n",
              "      <td>[]</td>\n",
              "      <td>('ProPublica is a Pulitzer Prize-winning inves...</td>\n",
              "    </tr>\n",
              "    <tr>\n",
              "      <th>684</th>\n",
              "      <td>[1, 3, 4, 28, 6, 7, 7, 4, 12, 17, 7, 17, 3, 5,...</td>\n",
              "      <td>https://www.breitbart.com/politics/2019/01/15/...</td>\n",
              "      <td>0</td>\n",
              "      <td>1</td>\n",
              "      <td>0</td>\n",
              "      <td>0</td>\n",
              "      <td>0</td>\n",
              "      <td>0</td>\n",
              "      <td>0</td>\n",
              "      <td>0</td>\n",
              "      <td>...</td>\n",
              "      <td>0</td>\n",
              "      <td>0</td>\n",
              "      <td>1</td>\n",
              "      <td>1</td>\n",
              "      <td>0</td>\n",
              "      <td>0</td>\n",
              "      <td>0</td>\n",
              "      <td>A poll released Tuesday finds 75 percent of Am...</td>\n",
              "      <td>[2779]</td>\n",
              "      <td>('Discover Thomson Reuters', 'By Reuters Staff...</td>\n",
              "    </tr>\n",
              "    <tr>\n",
              "      <th>538</th>\n",
              "      <td>[1, 8, 18, 4, 24, 25, 33, 29, 31, 4, 13, 23, 1...</td>\n",
              "      <td>https://www.huffpost.com/entry/muslim-teen-dis...</td>\n",
              "      <td>0</td>\n",
              "      <td>0</td>\n",
              "      <td>0</td>\n",
              "      <td>0</td>\n",
              "      <td>1</td>\n",
              "      <td>0</td>\n",
              "      <td>0</td>\n",
              "      <td>0</td>\n",
              "      <td>...</td>\n",
              "      <td>0</td>\n",
              "      <td>0</td>\n",
              "      <td>1</td>\n",
              "      <td>1</td>\n",
              "      <td>0</td>\n",
              "      <td>0</td>\n",
              "      <td>0</td>\n",
              "      <td>HuffPost is part of Verizon Media. We and our ...</td>\n",
              "      <td>[5004]</td>\n",
              "      <td>('', '', \"Despite a pandemic, one-sided presid...</td>\n",
              "    </tr>\n",
              "  </tbody>\n",
              "</table>\n",
              "<p>3 rows × 39 columns</p>\n",
              "</div>\n",
              "      <button class=\"colab-df-convert\" onclick=\"convertToInteractive('df-03e3efa8-9fb0-40e6-a337-98c6348ff7e5')\"\n",
              "              title=\"Convert this dataframe to an interactive table.\"\n",
              "              style=\"display:none;\">\n",
              "        \n",
              "  <svg xmlns=\"http://www.w3.org/2000/svg\" height=\"24px\"viewBox=\"0 0 24 24\"\n",
              "       width=\"24px\">\n",
              "    <path d=\"M0 0h24v24H0V0z\" fill=\"none\"/>\n",
              "    <path d=\"M18.56 5.44l.94 2.06.94-2.06 2.06-.94-2.06-.94-.94-2.06-.94 2.06-2.06.94zm-11 1L8.5 8.5l.94-2.06 2.06-.94-2.06-.94L8.5 2.5l-.94 2.06-2.06.94zm10 10l.94 2.06.94-2.06 2.06-.94-2.06-.94-.94-2.06-.94 2.06-2.06.94z\"/><path d=\"M17.41 7.96l-1.37-1.37c-.4-.4-.92-.59-1.43-.59-.52 0-1.04.2-1.43.59L10.3 9.45l-7.72 7.72c-.78.78-.78 2.05 0 2.83L4 21.41c.39.39.9.59 1.41.59.51 0 1.02-.2 1.41-.59l7.78-7.78 2.81-2.81c.8-.78.8-2.07 0-2.86zM5.41 20L4 18.59l7.72-7.72 1.47 1.35L5.41 20z\"/>\n",
              "  </svg>\n",
              "      </button>\n",
              "      \n",
              "  <style>\n",
              "    .colab-df-container {\n",
              "      display:flex;\n",
              "      flex-wrap:wrap;\n",
              "      gap: 12px;\n",
              "    }\n",
              "\n",
              "    .colab-df-convert {\n",
              "      background-color: #E8F0FE;\n",
              "      border: none;\n",
              "      border-radius: 50%;\n",
              "      cursor: pointer;\n",
              "      display: none;\n",
              "      fill: #1967D2;\n",
              "      height: 32px;\n",
              "      padding: 0 0 0 0;\n",
              "      width: 32px;\n",
              "    }\n",
              "\n",
              "    .colab-df-convert:hover {\n",
              "      background-color: #E2EBFA;\n",
              "      box-shadow: 0px 1px 2px rgba(60, 64, 67, 0.3), 0px 1px 3px 1px rgba(60, 64, 67, 0.15);\n",
              "      fill: #174EA6;\n",
              "    }\n",
              "\n",
              "    [theme=dark] .colab-df-convert {\n",
              "      background-color: #3B4455;\n",
              "      fill: #D2E3FC;\n",
              "    }\n",
              "\n",
              "    [theme=dark] .colab-df-convert:hover {\n",
              "      background-color: #434B5C;\n",
              "      box-shadow: 0px 1px 3px 1px rgba(0, 0, 0, 0.15);\n",
              "      filter: drop-shadow(0px 1px 2px rgba(0, 0, 0, 0.3));\n",
              "      fill: #FFFFFF;\n",
              "    }\n",
              "  </style>\n",
              "\n",
              "      <script>\n",
              "        const buttonEl =\n",
              "          document.querySelector('#df-03e3efa8-9fb0-40e6-a337-98c6348ff7e5 button.colab-df-convert');\n",
              "        buttonEl.style.display =\n",
              "          google.colab.kernel.accessAllowed ? 'block' : 'none';\n",
              "\n",
              "        async function convertToInteractive(key) {\n",
              "          const element = document.querySelector('#df-03e3efa8-9fb0-40e6-a337-98c6348ff7e5');\n",
              "          const dataTable =\n",
              "            await google.colab.kernel.invokeFunction('convertToInteractive',\n",
              "                                                     [key], {});\n",
              "          if (!dataTable) return;\n",
              "\n",
              "          const docLinkHtml = 'Like what you see? Visit the ' +\n",
              "            '<a target=\"_blank\" href=https://colab.research.google.com/notebooks/data_table.ipynb>data table notebook</a>'\n",
              "            + ' to learn more about interactive tables.';\n",
              "          element.innerHTML = '';\n",
              "          dataTable['output_type'] = 'display_data';\n",
              "          await google.colab.output.renderOutput(dataTable, element);\n",
              "          const docLink = document.createElement('div');\n",
              "          docLink.innerHTML = docLinkHtml;\n",
              "          element.appendChild(docLink);\n",
              "        }\n",
              "      </script>\n",
              "    </div>\n",
              "  </div>\n",
              "  "
            ]
          },
          "metadata": {},
          "execution_count": 942
        }
      ]
    },
    {
      "cell_type": "markdown",
      "source": [
        "### 2.6 - Limpando features"
      ],
      "metadata": {
        "id": "hu0eDi-4UE47"
      }
    },
    {
      "cell_type": "code",
      "source": [
        "def drop_columns(data, column_names):\n",
        "  return data.drop(column_names,axis=1)"
      ],
      "metadata": {
        "id": "nufVpqv2Udwn"
      },
      "execution_count": 943,
      "outputs": []
    },
    {
      "cell_type": "code",
      "source": [
        "train_df_copy = drop_columns(train_df_copy,column_names=['news_link','group_id','article','full_article'])\n",
        "train_df_copy.head(1)"
      ],
      "metadata": {
        "colab": {
          "base_uri": "https://localhost:8080/",
          "height": 278
        },
        "id": "GmFBOZxZXBAJ",
        "outputId": "0e11fe75-5c70-4133-feea-b8c29d53304a"
      },
      "execution_count": 944,
      "outputs": [
        {
          "output_type": "execute_result",
          "data": {
            "text/plain": [
              "                                              sentence  outlet_alternet  \\\n",
              "129  [1, 3, 4, 5, 6, 7, 8, 9, 4, 10, 3, 11, 6, 12, ...                0   \n",
              "\n",
              "     outlet_breitbart  outlet_federalist  outlet_fox-news  outlet_huffpost  \\\n",
              "129                 1                  0                0                0   \n",
              "\n",
              "     outlet_msnbc  outlet_reuters  outlet_usa-today  topic_abortion  ...  \\\n",
              "129             0               0                 0               0  ...   \n",
              "\n",
              "     type_right  num_sent  Label_bias_Biased  Label_bias_No agreement  \\\n",
              "129           1       1.0                  0                        0   \n",
              "\n",
              "     Label_bias_Non-biased  Label_opinion_Entirely factual  \\\n",
              "129                      1                               1   \n",
              "\n",
              "     Label_opinion_Expresses writer’s opinion  Label_opinion_No agreement  \\\n",
              "129                                         0                           0   \n",
              "\n",
              "     Label_opinion_Somewhat factual but also opinionated  biased_words4  \n",
              "129                                                  0               []  \n",
              "\n",
              "[1 rows x 35 columns]"
            ],
            "text/html": [
              "\n",
              "  <div id=\"df-6557dabb-7fca-4fbd-a70e-decc70e7deb9\">\n",
              "    <div class=\"colab-df-container\">\n",
              "      <div>\n",
              "<style scoped>\n",
              "    .dataframe tbody tr th:only-of-type {\n",
              "        vertical-align: middle;\n",
              "    }\n",
              "\n",
              "    .dataframe tbody tr th {\n",
              "        vertical-align: top;\n",
              "    }\n",
              "\n",
              "    .dataframe thead th {\n",
              "        text-align: right;\n",
              "    }\n",
              "</style>\n",
              "<table border=\"1\" class=\"dataframe\">\n",
              "  <thead>\n",
              "    <tr style=\"text-align: right;\">\n",
              "      <th></th>\n",
              "      <th>sentence</th>\n",
              "      <th>outlet_alternet</th>\n",
              "      <th>outlet_breitbart</th>\n",
              "      <th>outlet_federalist</th>\n",
              "      <th>outlet_fox-news</th>\n",
              "      <th>outlet_huffpost</th>\n",
              "      <th>outlet_msnbc</th>\n",
              "      <th>outlet_reuters</th>\n",
              "      <th>outlet_usa-today</th>\n",
              "      <th>topic_abortion</th>\n",
              "      <th>...</th>\n",
              "      <th>type_right</th>\n",
              "      <th>num_sent</th>\n",
              "      <th>Label_bias_Biased</th>\n",
              "      <th>Label_bias_No agreement</th>\n",
              "      <th>Label_bias_Non-biased</th>\n",
              "      <th>Label_opinion_Entirely factual</th>\n",
              "      <th>Label_opinion_Expresses writer’s opinion</th>\n",
              "      <th>Label_opinion_No agreement</th>\n",
              "      <th>Label_opinion_Somewhat factual but also opinionated</th>\n",
              "      <th>biased_words4</th>\n",
              "    </tr>\n",
              "  </thead>\n",
              "  <tbody>\n",
              "    <tr>\n",
              "      <th>129</th>\n",
              "      <td>[1, 3, 4, 5, 6, 7, 8, 9, 4, 10, 3, 11, 6, 12, ...</td>\n",
              "      <td>0</td>\n",
              "      <td>1</td>\n",
              "      <td>0</td>\n",
              "      <td>0</td>\n",
              "      <td>0</td>\n",
              "      <td>0</td>\n",
              "      <td>0</td>\n",
              "      <td>0</td>\n",
              "      <td>0</td>\n",
              "      <td>...</td>\n",
              "      <td>1</td>\n",
              "      <td>1.0</td>\n",
              "      <td>0</td>\n",
              "      <td>0</td>\n",
              "      <td>1</td>\n",
              "      <td>1</td>\n",
              "      <td>0</td>\n",
              "      <td>0</td>\n",
              "      <td>0</td>\n",
              "      <td>[]</td>\n",
              "    </tr>\n",
              "  </tbody>\n",
              "</table>\n",
              "<p>1 rows × 35 columns</p>\n",
              "</div>\n",
              "      <button class=\"colab-df-convert\" onclick=\"convertToInteractive('df-6557dabb-7fca-4fbd-a70e-decc70e7deb9')\"\n",
              "              title=\"Convert this dataframe to an interactive table.\"\n",
              "              style=\"display:none;\">\n",
              "        \n",
              "  <svg xmlns=\"http://www.w3.org/2000/svg\" height=\"24px\"viewBox=\"0 0 24 24\"\n",
              "       width=\"24px\">\n",
              "    <path d=\"M0 0h24v24H0V0z\" fill=\"none\"/>\n",
              "    <path d=\"M18.56 5.44l.94 2.06.94-2.06 2.06-.94-2.06-.94-.94-2.06-.94 2.06-2.06.94zm-11 1L8.5 8.5l.94-2.06 2.06-.94-2.06-.94L8.5 2.5l-.94 2.06-2.06.94zm10 10l.94 2.06.94-2.06 2.06-.94-2.06-.94-.94-2.06-.94 2.06-2.06.94z\"/><path d=\"M17.41 7.96l-1.37-1.37c-.4-.4-.92-.59-1.43-.59-.52 0-1.04.2-1.43.59L10.3 9.45l-7.72 7.72c-.78.78-.78 2.05 0 2.83L4 21.41c.39.39.9.59 1.41.59.51 0 1.02-.2 1.41-.59l7.78-7.78 2.81-2.81c.8-.78.8-2.07 0-2.86zM5.41 20L4 18.59l7.72-7.72 1.47 1.35L5.41 20z\"/>\n",
              "  </svg>\n",
              "      </button>\n",
              "      \n",
              "  <style>\n",
              "    .colab-df-container {\n",
              "      display:flex;\n",
              "      flex-wrap:wrap;\n",
              "      gap: 12px;\n",
              "    }\n",
              "\n",
              "    .colab-df-convert {\n",
              "      background-color: #E8F0FE;\n",
              "      border: none;\n",
              "      border-radius: 50%;\n",
              "      cursor: pointer;\n",
              "      display: none;\n",
              "      fill: #1967D2;\n",
              "      height: 32px;\n",
              "      padding: 0 0 0 0;\n",
              "      width: 32px;\n",
              "    }\n",
              "\n",
              "    .colab-df-convert:hover {\n",
              "      background-color: #E2EBFA;\n",
              "      box-shadow: 0px 1px 2px rgba(60, 64, 67, 0.3), 0px 1px 3px 1px rgba(60, 64, 67, 0.15);\n",
              "      fill: #174EA6;\n",
              "    }\n",
              "\n",
              "    [theme=dark] .colab-df-convert {\n",
              "      background-color: #3B4455;\n",
              "      fill: #D2E3FC;\n",
              "    }\n",
              "\n",
              "    [theme=dark] .colab-df-convert:hover {\n",
              "      background-color: #434B5C;\n",
              "      box-shadow: 0px 1px 3px 1px rgba(0, 0, 0, 0.15);\n",
              "      filter: drop-shadow(0px 1px 2px rgba(0, 0, 0, 0.3));\n",
              "      fill: #FFFFFF;\n",
              "    }\n",
              "  </style>\n",
              "\n",
              "      <script>\n",
              "        const buttonEl =\n",
              "          document.querySelector('#df-6557dabb-7fca-4fbd-a70e-decc70e7deb9 button.colab-df-convert');\n",
              "        buttonEl.style.display =\n",
              "          google.colab.kernel.accessAllowed ? 'block' : 'none';\n",
              "\n",
              "        async function convertToInteractive(key) {\n",
              "          const element = document.querySelector('#df-6557dabb-7fca-4fbd-a70e-decc70e7deb9');\n",
              "          const dataTable =\n",
              "            await google.colab.kernel.invokeFunction('convertToInteractive',\n",
              "                                                     [key], {});\n",
              "          if (!dataTable) return;\n",
              "\n",
              "          const docLinkHtml = 'Like what you see? Visit the ' +\n",
              "            '<a target=\"_blank\" href=https://colab.research.google.com/notebooks/data_table.ipynb>data table notebook</a>'\n",
              "            + ' to learn more about interactive tables.';\n",
              "          element.innerHTML = '';\n",
              "          dataTable['output_type'] = 'display_data';\n",
              "          await google.colab.output.renderOutput(dataTable, element);\n",
              "          const docLink = document.createElement('div');\n",
              "          docLink.innerHTML = docLinkHtml;\n",
              "          element.appendChild(docLink);\n",
              "        }\n",
              "      </script>\n",
              "    </div>\n",
              "  </div>\n",
              "  "
            ]
          },
          "metadata": {},
          "execution_count": 944
        }
      ]
    },
    {
      "cell_type": "markdown",
      "source": [
        "### 2.8 - Compilando pipeline de pré-processamento"
      ],
      "metadata": {
        "id": "PSOuFsrwcT3t"
      }
    },
    {
      "cell_type": "code",
      "source": [
        "class VocabularyConversionTransformer(BaseEstimator,TransformerMixin):\n",
        "  def __init__(self):\n",
        "    self.vocab_table = None\n",
        "\n",
        "  def fit(self, X, y=None):\n",
        "    self.vocab_table = create_vocabulary(X)\n",
        "    return self\n",
        "  \n",
        "  def transform(self,X,y=None):\n",
        "    return convert_words_to_freq(X,vocab_table=self.vocab_table)"
      ],
      "metadata": {
        "id": "pED3BesynKbf"
      },
      "execution_count": 945,
      "outputs": []
    },
    {
      "cell_type": "code",
      "source": [
        "def preprocess(data,stemmer_flag=False,stemmer_type=None):\n",
        "  \n",
        "  one_hot_columns = ['topic','outlet','type','Label_bias','Label_opinion']\n",
        "  drop_columns = ['news_link','group_id','article','full_article']\n",
        "\n",
        "  preprocess_pipeline = ([\n",
        "      ('Tokenização (sentenças)', FunctionTransformer(preprocess_basic_text,kw_args={'col':'sentence'})),\n",
        "      #('Tokenização (biased_words)', FunctionTransformer(preprocess_basic_text,kw_args={'col':'biased_words4'})),\n",
        "      #('Stemming', FunctionTransformer(apply_stemmer_for_all, kw_args={'cols':['sentence','biased_words4'],\n",
        "      #                                                                'stemmer_flag': stemmer_flag, \n",
        "      #                                                                'stemmer_type': stemmer_type\n",
        "      #                                                                })),\n",
        "      #('Adding SOS and Padding', add_padding_and_sos),\n",
        "      #('Converting words to its integer rep', VocabularyConversionTransformer()),\n",
        "      #('One-hot-encoding', FunctionTransformer(cats_to_one_hot,kw_args={'column_names':one_hot_columns})),\n",
        "      #('Dropping features', FunctionTransformer(cats_to_one_hot,kw_args={'column_names':drop_columns})),\n",
        "  ])\n",
        "\n",
        "  pipeline = Pipeline(preprocess_pipeline)\n",
        "\n",
        "  return pipeline.transform(data)"
      ],
      "metadata": {
        "id": "FX_bDiJUcF91"
      },
      "execution_count": 946,
      "outputs": []
    },
    {
      "cell_type": "code",
      "source": [
        "data = preprocess(df.copy())"
      ],
      "metadata": {
        "colab": {
          "base_uri": "https://localhost:8080/",
          "height": 323
        },
        "id": "PBRClwvPcTB0",
        "outputId": "5c09e20c-6a75-4340-b76d-ed234da24aa4"
      },
      "execution_count": 947,
      "outputs": [
        {
          "output_type": "error",
          "ename": "AttributeError",
          "evalue": "ignored",
          "traceback": [
            "\u001b[0;31m---------------------------------------------------------------------------\u001b[0m",
            "\u001b[0;31mAttributeError\u001b[0m                            Traceback (most recent call last)",
            "\u001b[0;32m<ipython-input-947-dec566a05199>\u001b[0m in \u001b[0;36m<cell line: 1>\u001b[0;34m()\u001b[0m\n\u001b[0;32m----> 1\u001b[0;31m \u001b[0mdata\u001b[0m \u001b[0;34m=\u001b[0m \u001b[0mpreprocess\u001b[0m\u001b[0;34m(\u001b[0m\u001b[0mdf\u001b[0m\u001b[0;34m.\u001b[0m\u001b[0mcopy\u001b[0m\u001b[0;34m(\u001b[0m\u001b[0;34m)\u001b[0m\u001b[0;34m)\u001b[0m\u001b[0;34m\u001b[0m\u001b[0;34m\u001b[0m\u001b[0m\n\u001b[0m",
            "\u001b[0;32m<ipython-input-946-ef33dc8ae436>\u001b[0m in \u001b[0;36mpreprocess\u001b[0;34m(data, stemmer_flag, stemmer_type)\u001b[0m\n\u001b[1;32m     19\u001b[0m   \u001b[0mpipeline\u001b[0m \u001b[0;34m=\u001b[0m \u001b[0mPipeline\u001b[0m\u001b[0;34m(\u001b[0m\u001b[0mpreprocess_pipeline\u001b[0m\u001b[0;34m)\u001b[0m\u001b[0;34m\u001b[0m\u001b[0;34m\u001b[0m\u001b[0m\n\u001b[1;32m     20\u001b[0m \u001b[0;34m\u001b[0m\u001b[0m\n\u001b[0;32m---> 21\u001b[0;31m   \u001b[0;32mreturn\u001b[0m \u001b[0mpipeline\u001b[0m\u001b[0;34m.\u001b[0m\u001b[0mtransform\u001b[0m\u001b[0;34m(\u001b[0m\u001b[0mdata\u001b[0m\u001b[0;34m)\u001b[0m\u001b[0;34m\u001b[0m\u001b[0;34m\u001b[0m\u001b[0m\n\u001b[0m",
            "\u001b[0;32m/usr/local/lib/python3.10/dist-packages/sklearn/pipeline.py\u001b[0m in \u001b[0;36mtransform\u001b[0;34m(self, X)\u001b[0m\n\u001b[1;32m    656\u001b[0m         \u001b[0mXt\u001b[0m \u001b[0;34m=\u001b[0m \u001b[0mX\u001b[0m\u001b[0;34m\u001b[0m\u001b[0;34m\u001b[0m\u001b[0m\n\u001b[1;32m    657\u001b[0m         \u001b[0;32mfor\u001b[0m \u001b[0m_\u001b[0m\u001b[0;34m,\u001b[0m \u001b[0m_\u001b[0m\u001b[0;34m,\u001b[0m \u001b[0mtransform\u001b[0m \u001b[0;32min\u001b[0m \u001b[0mself\u001b[0m\u001b[0;34m.\u001b[0m\u001b[0m_iter\u001b[0m\u001b[0;34m(\u001b[0m\u001b[0;34m)\u001b[0m\u001b[0;34m:\u001b[0m\u001b[0;34m\u001b[0m\u001b[0;34m\u001b[0m\u001b[0m\n\u001b[0;32m--> 658\u001b[0;31m             \u001b[0mXt\u001b[0m \u001b[0;34m=\u001b[0m \u001b[0mtransform\u001b[0m\u001b[0;34m.\u001b[0m\u001b[0mtransform\u001b[0m\u001b[0;34m(\u001b[0m\u001b[0mXt\u001b[0m\u001b[0;34m)\u001b[0m\u001b[0;34m\u001b[0m\u001b[0;34m\u001b[0m\u001b[0m\n\u001b[0m\u001b[1;32m    659\u001b[0m         \u001b[0;32mreturn\u001b[0m \u001b[0mXt\u001b[0m\u001b[0;34m\u001b[0m\u001b[0;34m\u001b[0m\u001b[0m\n\u001b[1;32m    660\u001b[0m \u001b[0;34m\u001b[0m\u001b[0m\n",
            "\u001b[0;32m/usr/local/lib/python3.10/dist-packages/sklearn/utils/_set_output.py\u001b[0m in \u001b[0;36mwrapped\u001b[0;34m(self, X, *args, **kwargs)\u001b[0m\n\u001b[1;32m    138\u001b[0m     \u001b[0;34m@\u001b[0m\u001b[0mwraps\u001b[0m\u001b[0;34m(\u001b[0m\u001b[0mf\u001b[0m\u001b[0;34m)\u001b[0m\u001b[0;34m\u001b[0m\u001b[0;34m\u001b[0m\u001b[0m\n\u001b[1;32m    139\u001b[0m     \u001b[0;32mdef\u001b[0m \u001b[0mwrapped\u001b[0m\u001b[0;34m(\u001b[0m\u001b[0mself\u001b[0m\u001b[0;34m,\u001b[0m \u001b[0mX\u001b[0m\u001b[0;34m,\u001b[0m \u001b[0;34m*\u001b[0m\u001b[0margs\u001b[0m\u001b[0;34m,\u001b[0m \u001b[0;34m**\u001b[0m\u001b[0mkwargs\u001b[0m\u001b[0;34m)\u001b[0m\u001b[0;34m:\u001b[0m\u001b[0;34m\u001b[0m\u001b[0;34m\u001b[0m\u001b[0m\n\u001b[0;32m--> 140\u001b[0;31m         \u001b[0mdata_to_wrap\u001b[0m \u001b[0;34m=\u001b[0m \u001b[0mf\u001b[0m\u001b[0;34m(\u001b[0m\u001b[0mself\u001b[0m\u001b[0;34m,\u001b[0m \u001b[0mX\u001b[0m\u001b[0;34m,\u001b[0m \u001b[0;34m*\u001b[0m\u001b[0margs\u001b[0m\u001b[0;34m,\u001b[0m \u001b[0;34m**\u001b[0m\u001b[0mkwargs\u001b[0m\u001b[0;34m)\u001b[0m\u001b[0;34m\u001b[0m\u001b[0;34m\u001b[0m\u001b[0m\n\u001b[0m\u001b[1;32m    141\u001b[0m         \u001b[0;32mif\u001b[0m \u001b[0misinstance\u001b[0m\u001b[0;34m(\u001b[0m\u001b[0mdata_to_wrap\u001b[0m\u001b[0;34m,\u001b[0m \u001b[0mtuple\u001b[0m\u001b[0;34m)\u001b[0m\u001b[0;34m:\u001b[0m\u001b[0;34m\u001b[0m\u001b[0;34m\u001b[0m\u001b[0m\n\u001b[1;32m    142\u001b[0m             \u001b[0;31m# only wrap the first output for cross decomposition\u001b[0m\u001b[0;34m\u001b[0m\u001b[0;34m\u001b[0m\u001b[0m\n",
            "\u001b[0;32m/usr/local/lib/python3.10/dist-packages/sklearn/preprocessing/_function_transformer.py\u001b[0m in \u001b[0;36mtransform\u001b[0;34m(self, X)\u001b[0m\n\u001b[1;32m    236\u001b[0m         \"\"\"\n\u001b[1;32m    237\u001b[0m         \u001b[0mX\u001b[0m \u001b[0;34m=\u001b[0m \u001b[0mself\u001b[0m\u001b[0;34m.\u001b[0m\u001b[0m_check_input\u001b[0m\u001b[0;34m(\u001b[0m\u001b[0mX\u001b[0m\u001b[0;34m,\u001b[0m \u001b[0mreset\u001b[0m\u001b[0;34m=\u001b[0m\u001b[0;32mFalse\u001b[0m\u001b[0;34m)\u001b[0m\u001b[0;34m\u001b[0m\u001b[0;34m\u001b[0m\u001b[0m\n\u001b[0;32m--> 238\u001b[0;31m         \u001b[0;32mreturn\u001b[0m \u001b[0mself\u001b[0m\u001b[0;34m.\u001b[0m\u001b[0m_transform\u001b[0m\u001b[0;34m(\u001b[0m\u001b[0mX\u001b[0m\u001b[0;34m,\u001b[0m \u001b[0mfunc\u001b[0m\u001b[0;34m=\u001b[0m\u001b[0mself\u001b[0m\u001b[0;34m.\u001b[0m\u001b[0mfunc\u001b[0m\u001b[0;34m,\u001b[0m \u001b[0mkw_args\u001b[0m\u001b[0;34m=\u001b[0m\u001b[0mself\u001b[0m\u001b[0;34m.\u001b[0m\u001b[0mkw_args\u001b[0m\u001b[0;34m)\u001b[0m\u001b[0;34m\u001b[0m\u001b[0;34m\u001b[0m\u001b[0m\n\u001b[0m\u001b[1;32m    239\u001b[0m \u001b[0;34m\u001b[0m\u001b[0m\n\u001b[1;32m    240\u001b[0m     \u001b[0;32mdef\u001b[0m \u001b[0minverse_transform\u001b[0m\u001b[0;34m(\u001b[0m\u001b[0mself\u001b[0m\u001b[0;34m,\u001b[0m \u001b[0mX\u001b[0m\u001b[0;34m)\u001b[0m\u001b[0;34m:\u001b[0m\u001b[0;34m\u001b[0m\u001b[0;34m\u001b[0m\u001b[0m\n",
            "\u001b[0;32m/usr/local/lib/python3.10/dist-packages/sklearn/preprocessing/_function_transformer.py\u001b[0m in \u001b[0;36m_transform\u001b[0;34m(self, X, func, kw_args)\u001b[0m\n\u001b[1;32m    308\u001b[0m             \u001b[0mfunc\u001b[0m \u001b[0;34m=\u001b[0m \u001b[0m_identity\u001b[0m\u001b[0;34m\u001b[0m\u001b[0;34m\u001b[0m\u001b[0m\n\u001b[1;32m    309\u001b[0m \u001b[0;34m\u001b[0m\u001b[0m\n\u001b[0;32m--> 310\u001b[0;31m         \u001b[0;32mreturn\u001b[0m \u001b[0mfunc\u001b[0m\u001b[0;34m(\u001b[0m\u001b[0mX\u001b[0m\u001b[0;34m,\u001b[0m \u001b[0;34m**\u001b[0m\u001b[0;34m(\u001b[0m\u001b[0mkw_args\u001b[0m \u001b[0;32mif\u001b[0m \u001b[0mkw_args\u001b[0m \u001b[0;32melse\u001b[0m \u001b[0;34m{\u001b[0m\u001b[0;34m}\u001b[0m\u001b[0;34m)\u001b[0m\u001b[0;34m)\u001b[0m\u001b[0;34m\u001b[0m\u001b[0;34m\u001b[0m\u001b[0m\n\u001b[0m\u001b[1;32m    311\u001b[0m \u001b[0;34m\u001b[0m\u001b[0m\n\u001b[1;32m    312\u001b[0m     \u001b[0;32mdef\u001b[0m \u001b[0m__sklearn_is_fitted__\u001b[0m\u001b[0;34m(\u001b[0m\u001b[0mself\u001b[0m\u001b[0;34m)\u001b[0m\u001b[0;34m:\u001b[0m\u001b[0;34m\u001b[0m\u001b[0;34m\u001b[0m\u001b[0m\n",
            "\u001b[0;32m<ipython-input-927-ea39bfcbb2ce>\u001b[0m in \u001b[0;36mpreprocess_basic_text\u001b[0;34m(data, col)\u001b[0m\n\u001b[1;32m     16\u001b[0m     \u001b[0;32mfor\u001b[0m \u001b[0ms\u001b[0m \u001b[0;32min\u001b[0m \u001b[0mdata\u001b[0m\u001b[0;34m[\u001b[0m\u001b[0mcol\u001b[0m\u001b[0;34m]\u001b[0m\u001b[0;34m:\u001b[0m\u001b[0;34m\u001b[0m\u001b[0;34m\u001b[0m\u001b[0m\n\u001b[1;32m     17\u001b[0m         \u001b[0;31m# Remove acentos e põe tudo para lower case\u001b[0m\u001b[0;34m\u001b[0m\u001b[0;34m\u001b[0m\u001b[0m\n\u001b[0;32m---> 18\u001b[0;31m         \u001b[0ms\u001b[0m \u001b[0;34m=\u001b[0m \u001b[0munidecode\u001b[0m\u001b[0;34m(\u001b[0m\u001b[0ms\u001b[0m\u001b[0;34m)\u001b[0m\u001b[0;34m.\u001b[0m\u001b[0mlower\u001b[0m\u001b[0;34m(\u001b[0m\u001b[0;34m)\u001b[0m\u001b[0;34m\u001b[0m\u001b[0;34m\u001b[0m\u001b[0m\n\u001b[0m\u001b[1;32m     19\u001b[0m         \u001b[0mtokens\u001b[0m \u001b[0;34m=\u001b[0m \u001b[0mword_tokenize\u001b[0m\u001b[0;34m(\u001b[0m\u001b[0ms\u001b[0m\u001b[0;34m,\u001b[0m\u001b[0mlanguage\u001b[0m\u001b[0;34m=\u001b[0m\u001b[0;34m\"english\"\u001b[0m\u001b[0;34m)\u001b[0m\u001b[0;34m\u001b[0m\u001b[0;34m\u001b[0m\u001b[0m\n\u001b[1;32m     20\u001b[0m \u001b[0;34m\u001b[0m\u001b[0m\n",
            "\u001b[0;32m/usr/local/lib/python3.10/dist-packages/unidecode/__init__.py\u001b[0m in \u001b[0;36munidecode_expect_ascii\u001b[0;34m(string, errors, replace_str)\u001b[0m\n\u001b[1;32m     58\u001b[0m \u001b[0;34m\u001b[0m\u001b[0m\n\u001b[1;32m     59\u001b[0m     \u001b[0;32mtry\u001b[0m\u001b[0;34m:\u001b[0m\u001b[0;34m\u001b[0m\u001b[0;34m\u001b[0m\u001b[0m\n\u001b[0;32m---> 60\u001b[0;31m         \u001b[0mbytestring\u001b[0m \u001b[0;34m=\u001b[0m \u001b[0mstring\u001b[0m\u001b[0;34m.\u001b[0m\u001b[0mencode\u001b[0m\u001b[0;34m(\u001b[0m\u001b[0;34m'ASCII'\u001b[0m\u001b[0;34m)\u001b[0m\u001b[0;34m\u001b[0m\u001b[0;34m\u001b[0m\u001b[0m\n\u001b[0m\u001b[1;32m     61\u001b[0m     \u001b[0;32mexcept\u001b[0m \u001b[0mUnicodeEncodeError\u001b[0m\u001b[0;34m:\u001b[0m\u001b[0;34m\u001b[0m\u001b[0;34m\u001b[0m\u001b[0m\n\u001b[1;32m     62\u001b[0m         \u001b[0;32mpass\u001b[0m\u001b[0;34m\u001b[0m\u001b[0;34m\u001b[0m\u001b[0m\n",
            "\u001b[0;31mAttributeError\u001b[0m: 'list' object has no attribute 'encode'"
          ]
        }
      ]
    },
    {
      "cell_type": "code",
      "source": [],
      "metadata": {
        "id": "2pJFcpohcMsX"
      },
      "execution_count": null,
      "outputs": []
    }
  ],
  "metadata": {
    "kernelspec": {
      "display_name": "Python 3",
      "language": "python",
      "name": "python3"
    },
    "language_info": {
      "codemirror_mode": {
        "name": "ipython",
        "version": 3
      },
      "file_extension": ".py",
      "mimetype": "text/x-python",
      "name": "python",
      "nbconvert_exporter": "python",
      "pygments_lexer": "ipython3",
      "version": "3.8.10"
    },
    "orig_nbformat": 4,
    "colab": {
      "provenance": []
    }
  },
  "nbformat": 4,
  "nbformat_minor": 0
}