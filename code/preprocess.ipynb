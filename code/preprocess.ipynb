{
  "cells": [
    {
      "attachments": {},
      "cell_type": "markdown",
      "metadata": {
        "id": "rvGwydOHnxrH"
      },
      "source": [
        "# Pré-Processamento"
      ]
    },
    {
      "cell_type": "code",
      "execution_count": 101,
      "metadata": {
        "colab": {
          "base_uri": "https://localhost:8080/"
        },
        "id": "iKkxFUWTn6-5",
        "outputId": "61bd2040-e223-4d01-c007-53502d11169a"
      },
      "outputs": [
        {
          "name": "stdout",
          "output_type": "stream",
          "text": [
            "/home/ruasgar/.local/lib/python3.8/site-packages/pkg_resources/__init__.py:123: PkgResourcesDeprecationWarning: 0.23ubuntu1 is an invalid version and will not be supported in a future release\n",
            "  warnings.warn(\n",
            "/home/ruasgar/.local/lib/python3.8/site-packages/pkg_resources/__init__.py:123: PkgResourcesDeprecationWarning: 1.13.1-unknown is an invalid version and will not be supported in a future release\n",
            "  warnings.warn(\n",
            "Requirement already satisfied: unidecode in /home/ruasgar/.local/lib/python3.8/site-packages (1.3.6)\n"
          ]
        }
      ],
      "source": [
        "!pip install unidecode"
      ]
    },
    {
      "cell_type": "code",
      "execution_count": 1,
      "metadata": {
        "colab": {
          "base_uri": "https://localhost:8080/"
        },
        "id": "9ySTH8jKnxrK",
        "outputId": "0e6b33a3-5b52-4aff-f79b-e5523c8064ec"
      },
      "outputs": [
        {
          "name": "stderr",
          "output_type": "stream",
          "text": [
            "2023-06-13 18:31:37.569635: I tensorflow/tsl/cuda/cudart_stub.cc:28] Could not find cuda drivers on your machine, GPU will not be used.\n",
            "2023-06-13 18:31:38.016019: I tensorflow/tsl/cuda/cudart_stub.cc:28] Could not find cuda drivers on your machine, GPU will not be used.\n",
            "2023-06-13 18:31:38.017885: I tensorflow/core/platform/cpu_feature_guard.cc:182] This TensorFlow binary is optimized to use available CPU instructions in performance-critical operations.\n",
            "To enable the following instructions: AVX2 FMA, in other operations, rebuild TensorFlow with the appropriate compiler flags.\n",
            "2023-06-13 18:31:39.984265: W tensorflow/compiler/tf2tensorrt/utils/py_utils.cc:38] TF-TRT Warning: Could not find TensorRT\n",
            "[nltk_data] Downloading package stopwords to\n",
            "[nltk_data]     /home/ruasgar/nltk_data...\n",
            "[nltk_data]   Package stopwords is already up-to-date!\n",
            "[nltk_data] Downloading package punkt to /home/ruasgar/nltk_data...\n",
            "[nltk_data]   Package punkt is already up-to-date!\n"
          ]
        },
        {
          "data": {
            "text/plain": [
              "True"
            ]
          },
          "execution_count": 1,
          "metadata": {},
          "output_type": "execute_result"
        }
      ],
      "source": [
        "import string\n",
        "import re\n",
        "import nltk\n",
        "import ast\n",
        "import pandas as pd\n",
        "import numpy as np\n",
        "import tensorflow as tf\n",
        "from unidecode import unidecode\n",
        "from nltk.corpus import stopwords\n",
        "from nltk.tokenize import word_tokenize\n",
        "from nltk.stem import PorterStemmer, LancasterStemmer, WordNetLemmatizer\n",
        "from collections import Counter\n",
        "from sklearn.model_selection import StratifiedShuffleSplit\n",
        "from sklearn.pipeline import Pipeline\n",
        "from sklearn.preprocessing import FunctionTransformer\n",
        "from sklearn.base import BaseEstimator, TransformerMixin\n",
        "\n",
        "nltk.download('stopwords')\n",
        "nltk.download('punkt')"
      ]
    },
    {
      "cell_type": "code",
      "execution_count": 103,
      "metadata": {
        "id": "c1auSdJjnxrO"
      },
      "outputs": [],
      "source": [
        "df = pd.read_csv(\"../data/full_articles_dataset.csv\",converters={'biased_words4':ast.literal_eval})"
      ]
    },
    {
      "cell_type": "code",
      "execution_count": 104,
      "metadata": {
        "colab": {
          "base_uri": "https://localhost:8080/"
        },
        "id": "wU1iXOXxnxrO",
        "outputId": "72ecd4ca-96c4-44bf-ccef-1358041cf1cb"
      },
      "outputs": [
        {
          "data": {
            "text/plain": [
              "Index(['sentence', 'news_link', 'outlet', 'topic', 'type', 'group_id',\n",
              "       'num_sent', 'Label_bias', 'Label_opinion', 'article', 'biased_words4',\n",
              "       'full_article'],\n",
              "      dtype='object')"
            ]
          },
          "execution_count": 104,
          "metadata": {},
          "output_type": "execute_result"
        }
      ],
      "source": [
        "df.columns"
      ]
    },
    {
      "attachments": {},
      "cell_type": "markdown",
      "metadata": {
        "id": "i87WgYR5nxrP"
      },
      "source": [
        "## 1 - Features Importantes\n",
        "- Label_bias (categórica): Indica se o texto foi classificado como enviesado, não-enviesado ou se não foi possível atingir um consenso quanto a classificação.\n",
        "- Biased_words(vetor): Indica as palavras marcadas como \"denunciantes\" da presença de viés.\n",
        "- Topic(categórica): Indica o assunto do texto, dentro das categorias\n",
        "- Type: Denota o posicionamento do viés, separados como esquerda, centro ou direita.\n",
        "- Outlet: Portal de origem da notícia"
      ]
    },
    {
      "cell_type": "code",
      "execution_count": 105,
      "metadata": {},
      "outputs": [
        {
          "data": {
            "text/plain": [
              "array(['Biased', 'Non-biased', 'No agreement'], dtype=object)"
            ]
          },
          "execution_count": 105,
          "metadata": {},
          "output_type": "execute_result"
        }
      ],
      "source": [
        "df['Label_bias'].unique()"
      ]
    },
    {
      "cell_type": "code",
      "execution_count": 106,
      "metadata": {},
      "outputs": [
        {
          "data": {
            "text/plain": [
              "array(['elections-2020', 'sport', 'immigration', 'environment',\n",
              "       'student-debt', 'vaccines', 'abortion', 'white-nationalism',\n",
              "       'coronavirus', 'trump-presidency', 'middle-class', 'gender',\n",
              "       'gun-control', 'international-politics-and-world-news'],\n",
              "      dtype=object)"
            ]
          },
          "execution_count": 106,
          "metadata": {},
          "output_type": "execute_result"
        }
      ],
      "source": [
        "df['topic'].unique()"
      ]
    },
    {
      "cell_type": "code",
      "execution_count": 107,
      "metadata": {},
      "outputs": [
        {
          "data": {
            "text/plain": [
              "array(['center', 'left', 'right'], dtype=object)"
            ]
          },
          "execution_count": 107,
          "metadata": {},
          "output_type": "execute_result"
        }
      ],
      "source": [
        "df['type'].unique()"
      ]
    },
    {
      "attachments": {},
      "cell_type": "markdown",
      "metadata": {
        "id": "Bi7I8bprnxrP"
      },
      "source": [
        "## 2 - Pré-Processamento"
      ]
    },
    {
      "attachments": {},
      "cell_type": "markdown",
      "metadata": {},
      "source": [
        "*Observação*: as funções relativas a entradas textuais são testadas individualmente com a coluna 'sentence'. Essa feature traz a frase na qual os participantes da pesquisa viram um viés.\n",
        "\n",
        "Quando formos realizar os treinos e a validação, utilizaremos todo o texto que compõe o documento analisado. Se mostrar-se interessante, podemos averiguar a performance reduzindo o corpus a, justamente, essas sentenças. "
      ]
    },
    {
      "attachments": {},
      "cell_type": "markdown",
      "metadata": {
        "id": "8jhbot7NnxrP"
      },
      "source": [
        "### 2.1 - Básico textual (remoção de stopwords, filtro de expressões com números, etc)"
      ]
    },
    {
      "attachments": {},
      "cell_type": "markdown",
      "metadata": {
        "id": "ZIl3QssXnxrQ"
      },
      "source": [
        "- A priori, vamos considerar como tokens todas as palavras que:\n",
        "    - tenham mais do que 3 letras;\n",
        "    - não possuam números;\n",
        "    - não sejam siglas (como U.S.) nem que tenham um símbolo diferente de letra pós ou precedido por uma (como é o caso de separação entre palavras ao pular linha, e.g. \"fari-\");\n",
        "    - não estejam nas stopwords do inglês.\n",
        "\n",
        "- Uma decisão importante, especialmente no contexto de viés, é exclusão das das aspas. Isso pode ocorrer tanto de forma a ironizar acontecimentos como a corroborar algum conhecimento com argumento de autoridade enviesado, mas é algo que acreditamos estar diretamente relacionado ao conteúdo da frase, independetemente da grafia ao redor. Afinal, queremos tentar identificar a intenção. Seria interessante, para um próximo trabalho, tentar considerar as aspas e o que estivesse sob seus limites como algum tipo de incentivo ou demérito.\n",
        "\n",
        "- Mediante a escolha do usuário, aplicaremos um stemmer(Porter/Lancaster) ou um lemmatizer. Também podemos simplesmente não aplicar nenhum."
      ]
    },
    {
      "cell_type": "code",
      "execution_count": 108,
      "metadata": {
        "colab": {
          "base_uri": "https://localhost:8080/"
        },
        "id": "ufcufOOonxrQ",
        "outputId": "7394f544-8fc2-4b52-9847-40a35b98f3e9"
      },
      "outputs": [
        {
          "data": {
            "text/plain": [
              "0    [youtube, making, clear, birtherism, platform,...\n",
              "1    [increasingly, bitter, dispute, american, wome...\n",
              "2    [may, humanitarian, crisis, driving, vulnerabl...\n",
              "3    [professor, teaches, climate, change, classes,...\n",
              "4    [world, antidoping, agency, tuesday, said, rus...\n",
              "Name: sentence, dtype: object"
            ]
          },
          "execution_count": 108,
          "metadata": {},
          "output_type": "execute_result"
        }
      ],
      "source": [
        "digit_pattern = r'\\d+(\\.\\d+)?'\n",
        "solo_quotations_pattern = pattern = r\"^(?:' '|\\\\\" \"|\\`\\`)$\"\n",
        "\n",
        "remove_quotation = r\"'\\b|\\b'\\s|\\s'\\b|\\\"\\b|\\b\\\"\\s|\\s\\\"\\b|``\\b|\\b``\\s|\\s``\\b\" # como em \"America is Great\"\n",
        "remove_symbols_only = r'\\b[^\\w\\s]+\\b' # como em '--'\n",
        "remove_symbols_if_aside = r'\\b[^\\w\\s]|[^\\w\\s]\\b' # como em 'dog-'\n",
        "\n",
        "remove_patterns = remove_quotation,remove_symbols_if_aside, remove_symbols_only\n",
        "\n",
        "stop_words = set(stopwords.words('english')) # talvez o set deixe mais rápido\n",
        "\n",
        "def preprocess_basic_text(data,columns):\n",
        "\n",
        "    for col in columns:\n",
        "\n",
        "       prepped_texts = []\n",
        "\n",
        "       for doc in data[col]:\n",
        "\n",
        "            if type(doc) == list:\n",
        "              doc = ','.join(doc)\n",
        "            # Remove acentos e põe tudo para lower case\n",
        "            doc = unidecode(doc).lower()\n",
        "            tokens = word_tokenize(doc,language=\"english\")\n",
        "\n",
        "            tokens = [\n",
        "                re.sub('|'.join(remove_patterns),'',t)\n",
        "                for t in tokens\n",
        "                if not bool(re.search(digit_pattern,t))\n",
        "                and t not in string.punctuation\n",
        "                and t not in stop_words\n",
        "            ]\n",
        "\n",
        "            tokens = [\n",
        "                t for t in tokens\n",
        "                if not bool(re.match(solo_quotations_pattern,t))\n",
        "                and len(t) >= 3\n",
        "             ]\n",
        "\n",
        "            prepped_texts.append(tokens)\n",
        "\n",
        "       data[col] = prepped_texts\n",
        "\n",
        "    return data\n",
        "\n",
        "df_copy = df.copy()\n",
        "df_copy = preprocess_basic_text(df_copy,['sentence'])\n",
        "df_copy['sentence'].head()"
      ]
    },
    {
      "attachments": {},
      "cell_type": "markdown",
      "metadata": {
        "id": "5dgVKAMqnxrR"
      },
      "source": [
        "### 2.2 - Stemmers\n",
        "\n",
        "- Temos o objetivo de avaliar como diferentes estratégias de stemming afetam os resultados do treinamento. A função a seguir visa abstrair esse passo para um etapa separada de pré-processamento.\n",
        "- Serão testados os stemmer de Porter e de Lancaster, além da lematização via WordNet. Vamos também obter os resultados do modelo quando utilizados sem qualquer stemmer."
      ]
    },
    {
      "cell_type": "code",
      "execution_count": 109,
      "metadata": {
        "id": "4xM7KssbnxrR"
      },
      "outputs": [],
      "source": [
        "def apply_stemmer_individual(sentence, stemmer_type:str):\n",
        "\n",
        "    # Função a ser executada para cada sentença, com expectativa de uso em algum filtro, por exemplo\n",
        "\n",
        "    stemmer = {}\n",
        "    lemmatizer = {}\n",
        "\n",
        "    if stemmer_type == \"Porter\":\n",
        "        stemmer = PorterStemmer()\n",
        "        return [stemmer.stem(token) for token in sentence]\n",
        "\n",
        "    elif stemmer_type == \"Lancaster\":\n",
        "        stemmer = LancasterStemmer()\n",
        "        return [stemmer.stem(token) for token in sentence]\n",
        "\n",
        "    else:  # \"Wordnet\":\n",
        "        lemmatizer = WordNetLemmatizer()\n",
        "        return [lemmatizer.stem(token) for token in sentence]"
      ]
    },
    {
      "cell_type": "code",
      "execution_count": 110,
      "metadata": {
        "colab": {
          "base_uri": "https://localhost:8080/"
        },
        "id": "KgjPdj9rnxrS",
        "outputId": "6e7bdbdd-6318-4b89-a7f9-47723c6ebe3d"
      },
      "outputs": [
        {
          "data": {
            "text/plain": [
              "0    [youtub, make, clear, birther, platform, year,...\n",
              "1    [increasingli, bitter, disput, american, women...\n",
              "2    [may, humanitarian, crisi, drive, vulner, peop...\n",
              "3    [professor, teach, climat, chang, class, subje...\n",
              "4    [world, antidop, agenc, tuesday, said, russian...\n",
              "Name: sentence, dtype: object"
            ]
          },
          "execution_count": 110,
          "metadata": {},
          "output_type": "execute_result"
        }
      ],
      "source": [
        "df_copy['sentence'] = df_copy['sentence'].apply(lambda x: apply_stemmer_individual(x,\"Porter\"))\n",
        "df_copy['sentence'].head()"
      ]
    },
    {
      "cell_type": "code",
      "execution_count": 111,
      "metadata": {
        "id": "glvQTh33ftLq"
      },
      "outputs": [],
      "source": [
        "# generalizando a aplicação pra todas as instâncias\n",
        "def apply_stemmer_for_all(data,columns,stemmer_flag=False,stemmer_type=None):\n",
        "\n",
        "  if stemmer_flag == False:\n",
        "    return data\n",
        "\n",
        "  for col in columns:\n",
        "    data[col] = data[col].apply(lambda x: apply_stemmer_individual(x,stemmer_type))\n",
        "  return data"
      ]
    },
    {
      "attachments": {},
      "cell_type": "markdown",
      "metadata": {
        "id": "KOOeFWainxrT"
      },
      "source": [
        "### 2.3 - Encoding (palavras)\n",
        "\n",
        "- Para representar as palavras, vamos criar um encoding com base na frequência apresentada no corpus.\n",
        "- Utilizaremos alguns números para representar determinadas semânticas:\n",
        "  - padding(\"pad\"), necessário para deixar todas as entradas com mesmo tamanho, terá o valor 0.\n",
        "  - start-of-sequence(\"sos\"), usado para identificar o ínicio de cada sentença, terá o número 1\n",
        "  - unknown, para marcar palavras desconhecidas, terá o número 2"
      ]
    },
    {
      "cell_type": "code",
      "execution_count": 112,
      "metadata": {
        "id": "p2aNLT_LEAaX"
      },
      "outputs": [],
      "source": [
        "SOS = \"<sos>\"\n",
        "PADDING = \"<pad>\"\n",
        "UNKNOWN = \"<ukn>\""
      ]
    },
    {
      "cell_type": "code",
      "execution_count": 113,
      "metadata": {
        "id": "IzA2U6fi3NYb"
      },
      "outputs": [],
      "source": [
        "def add_padding_and_sos(data, columns):\n",
        "\n",
        "\n",
        "    for col in columns:\n",
        "        max_length = max(len(seq) for seq in data[col])\n",
        "        for index,row in data.iterrows():\n",
        "            document = [SOS] + row[col]\n",
        "            paddings = (max_length - len(row[col])) * [PADDING]\n",
        "            document += paddings\n",
        "            data.at[index,col] = document\n",
        "\n",
        "    return data"
      ]
    },
    {
      "cell_type": "code",
      "execution_count": 114,
      "metadata": {},
      "outputs": [],
      "source": [
        "df_copy = add_padding_and_sos(df_copy, ['sentence'])"
      ]
    },
    {
      "cell_type": "code",
      "execution_count": 115,
      "metadata": {
        "colab": {
          "base_uri": "https://localhost:8080/"
        },
        "id": "bwR2dRIFHVq9",
        "outputId": "47f6b5e7-a5d1-4fe7-b699-0beb0bf7738a"
      },
      "outputs": [
        {
          "name": "stdout",
          "output_type": "stream",
          "text": [
            "['<sos>', 'even', 'though', 'thunberg', 'capabl', 'thing', 'mani', 'right', 'refus', 'read', 'understand', 'scientif', 'evid', 'rightwing', 'argu', 'thunberg', 'fellow', 'youth', 'activist', 'think', '<pad>', '<pad>', '<pad>', '<pad>', '<pad>', '<pad>', '<pad>', '<pad>', '<pad>', '<pad>', '<pad>', '<pad>', '<pad>', '<pad>', '<pad>', '<pad>', '<pad>', '<pad>', '<pad>', '<pad>', '<pad>', '<pad>', '<pad>', '<pad>', '<pad>', '<pad>', '<pad>', '<pad>', '<pad>', '<pad>', '<pad>', '<pad>', '<pad>', '<pad>', '<pad>']\n"
          ]
        }
      ],
      "source": [
        "print(df_copy.loc[190,'sentence'])"
      ]
    },
    {
      "attachments": {},
      "cell_type": "markdown",
      "metadata": {
        "id": "212Rr3J3Ka06"
      },
      "source": [
        "- Construindo o vocabulário com base na frequência de aparecimento.\n",
        "  - *Obs*: note a colocação de determinadas tags logo no ínicio"
      ]
    },
    {
      "cell_type": "code",
      "execution_count": 116,
      "metadata": {
        "id": "-qkd_GWhnxrT"
      },
      "outputs": [],
      "source": [
        "def create_vocabulary(data, columns):\n",
        "  \"\"\" Retorna uma lookup table (StaticVocabularyTable) \"\"\"\n",
        "\n",
        "  vocab = Counter()\n",
        "  for col in columns:\n",
        "      for document in data[col]:\n",
        "          vocab.update(document)\n",
        "\n",
        "  words = tf.constant([PADDING] +\n",
        "                      [SOS] +\n",
        "                      [UNKNOWN] +\n",
        "                      [word for word in vocab.keys() if word != PADDING and word != SOS]\n",
        "  )\n",
        "  words_ids = tf.range(len(vocab)+1, dtype=tf.int64) # +1 porque unknown é o único não mapeado\n",
        "  vocab_init = tf.lookup.KeyValueTensorInitializer(words,words_ids)\n",
        "  num_oov_buckets = 5000 # bucket para palavras desconhecidas\n",
        "  vocab_table = tf.lookup.StaticVocabularyTable(vocab_init,num_oov_buckets)\n",
        "\n",
        "  return vocab_table"
      ]
    },
    {
      "attachments": {},
      "cell_type": "markdown",
      "metadata": {
        "id": "9aSx7Sx-Ph93"
      },
      "source": [
        "- Demonstração de como estão os encodings de algumas palavras."
      ]
    },
    {
      "cell_type": "code",
      "execution_count": 117,
      "metadata": {
        "colab": {
          "base_uri": "https://localhost:8080/"
        },
        "id": "9ALwPlNXIq83",
        "outputId": "d8c9daac-3953-4517-bd3c-33cde28ccd1a"
      },
      "outputs": [
        {
          "data": {
            "text/plain": [
              "<tf.Tensor: shape=(1, 3), dtype=int64, numpy=array([[2390,   97,  558]])>"
            ]
          },
          "execution_count": 117,
          "metadata": {},
          "output_type": "execute_result"
        }
      ],
      "source": [
        "vocab_table = create_vocabulary(df_copy, columns=['sentence'])\n",
        "vocab_table.lookup(tf.constant([b'nice trump move'.split(b' ')]))"
      ]
    },
    {
      "attachments": {},
      "cell_type": "markdown",
      "metadata": {
        "id": "vcuvVw23nxrT"
      },
      "source": [
        "- Convertendo os tokens para o índice na tabela."
      ]
    },
    {
      "cell_type": "code",
      "execution_count": 118,
      "metadata": {
        "colab": {
          "base_uri": "https://localhost:8080/"
        },
        "id": "yS398UOqnxrT",
        "outputId": "fd7e00df-f53f-401d-a6dd-f9cfe5ad8e0b"
      },
      "outputs": [],
      "source": [
        "def convert_words_to_freq(data, vocab, columns):\n",
        "\n",
        "  for index, row in data.iterrows():\n",
        "\n",
        "    for col in columns:\n",
        "      doc = tf.constant(row[col])\n",
        "      doc_ided = vocab_table.lookup(doc).numpy() if len (doc) > 0 else []\n",
        "      data.at[index, col] = doc_ided\n",
        "\n",
        "  return data"
      ]
    },
    {
      "cell_type": "code",
      "execution_count": 119,
      "metadata": {},
      "outputs": [
        {
          "data": {
            "text/html": [
              "<div>\n",
              "<style scoped>\n",
              "    .dataframe tbody tr th:only-of-type {\n",
              "        vertical-align: middle;\n",
              "    }\n",
              "\n",
              "    .dataframe tbody tr th {\n",
              "        vertical-align: top;\n",
              "    }\n",
              "\n",
              "    .dataframe thead th {\n",
              "        text-align: right;\n",
              "    }\n",
              "</style>\n",
              "<table border=\"1\" class=\"dataframe\">\n",
              "  <thead>\n",
              "    <tr style=\"text-align: right;\">\n",
              "      <th></th>\n",
              "      <th>sentence</th>\n",
              "      <th>news_link</th>\n",
              "      <th>outlet</th>\n",
              "      <th>topic</th>\n",
              "      <th>type</th>\n",
              "      <th>group_id</th>\n",
              "      <th>num_sent</th>\n",
              "      <th>Label_bias</th>\n",
              "      <th>Label_opinion</th>\n",
              "      <th>article</th>\n",
              "      <th>biased_words4</th>\n",
              "      <th>full_article</th>\n",
              "    </tr>\n",
              "  </thead>\n",
              "  <tbody>\n",
              "    <tr>\n",
              "      <th>0</th>\n",
              "      <td>[1, 3, 4, 5, 6, 7, 8, 9, 10, 11, 12, 13, 14, 1...</td>\n",
              "      <td>https://eu.usatoday.com/story/tech/2020/02/03/...</td>\n",
              "      <td>usa-today</td>\n",
              "      <td>elections-2020</td>\n",
              "      <td>center</td>\n",
              "      <td>1</td>\n",
              "      <td>1</td>\n",
              "      <td>Biased</td>\n",
              "      <td>Somewhat factual but also opinionated</td>\n",
              "      <td>YouTube says no ‘deepfakes’ or ‘birther’ video...</td>\n",
              "      <td>[belated, birtherism]</td>\n",
              "      <td>('YouTube is making clear there will be no “bi...</td>\n",
              "    </tr>\n",
              "    <tr>\n",
              "      <th>1</th>\n",
              "      <td>[1, 18, 19, 20, 21, 22, 23, 24, 25, 24, 26, 27...</td>\n",
              "      <td>https://www.nbcnews.com/news/sports/women-s-te...</td>\n",
              "      <td>msnbc</td>\n",
              "      <td>sport</td>\n",
              "      <td>left</td>\n",
              "      <td>1</td>\n",
              "      <td>1</td>\n",
              "      <td>Non-biased</td>\n",
              "      <td>Entirely factual</td>\n",
              "      <td>FRISCO, Texas — The increasingly bitter disput...</td>\n",
              "      <td>[bitter]</td>\n",
              "      <td>('', 'Profile', 'Sections', 'tv', 'Featured', ...</td>\n",
              "    </tr>\n",
              "  </tbody>\n",
              "</table>\n",
              "</div>"
            ],
            "text/plain": [
              "                                            sentence   \n",
              "0  [1, 3, 4, 5, 6, 7, 8, 9, 10, 11, 12, 13, 14, 1...  \\\n",
              "1  [1, 18, 19, 20, 21, 22, 23, 24, 25, 24, 26, 27...   \n",
              "\n",
              "                                           news_link     outlet   \n",
              "0  https://eu.usatoday.com/story/tech/2020/02/03/...  usa-today  \\\n",
              "1  https://www.nbcnews.com/news/sports/women-s-te...      msnbc   \n",
              "\n",
              "            topic    type  group_id  num_sent  Label_bias   \n",
              "0  elections-2020  center         1         1      Biased  \\\n",
              "1           sport    left         1         1  Non-biased   \n",
              "\n",
              "                           Label_opinion   \n",
              "0  Somewhat factual but also opinionated  \\\n",
              "1                       Entirely factual   \n",
              "\n",
              "                                             article          biased_words4   \n",
              "0  YouTube says no ‘deepfakes’ or ‘birther’ video...  [belated, birtherism]  \\\n",
              "1  FRISCO, Texas — The increasingly bitter disput...               [bitter]   \n",
              "\n",
              "                                        full_article  \n",
              "0  ('YouTube is making clear there will be no “bi...  \n",
              "1  ('', 'Profile', 'Sections', 'tv', 'Featured', ...  "
            ]
          },
          "execution_count": 119,
          "metadata": {},
          "output_type": "execute_result"
        }
      ],
      "source": [
        "df_copy = convert_words_to_freq(df_copy, vocab_table, ['sentence'])\n",
        "df_copy.head(2)"
      ]
    },
    {
      "attachments": {},
      "cell_type": "markdown",
      "metadata": {
        "id": "28mGJnjWQC82"
      },
      "source": [
        "### 2.4 - One-hot encoding para features categóricas"
      ]
    },
    {
      "cell_type": "code",
      "execution_count": 120,
      "metadata": {
        "id": "ItB9GETSQB7v"
      },
      "outputs": [],
      "source": [
        "def cats_to_one_hot(data,column_names):\n",
        "  for col in column_names:\n",
        "    df_encoded = pd.get_dummies(df[col], prefix=col)\n",
        "    cat_col_index = data.columns.get_loc(col)\n",
        "    data = pd.concat([data.iloc[:,:cat_col_index], df_encoded, data.iloc[:,cat_col_index+1:]],axis=1)\n",
        "  return data"
      ]
    },
    {
      "cell_type": "code",
      "execution_count": 121,
      "metadata": {
        "colab": {
          "base_uri": "https://localhost:8080/"
        },
        "id": "hQ7UUyZpSsUs",
        "outputId": "cf1f97d5-15fc-4865-ad9b-e99287eff3f2"
      },
      "outputs": [
        {
          "data": {
            "text/html": [
              "<div>\n",
              "<style scoped>\n",
              "    .dataframe tbody tr th:only-of-type {\n",
              "        vertical-align: middle;\n",
              "    }\n",
              "\n",
              "    .dataframe tbody tr th {\n",
              "        vertical-align: top;\n",
              "    }\n",
              "\n",
              "    .dataframe thead th {\n",
              "        text-align: right;\n",
              "    }\n",
              "</style>\n",
              "<table border=\"1\" class=\"dataframe\">\n",
              "  <thead>\n",
              "    <tr style=\"text-align: right;\">\n",
              "      <th></th>\n",
              "      <th>sentence</th>\n",
              "      <th>news_link</th>\n",
              "      <th>outlet_alternet</th>\n",
              "      <th>outlet_breitbart</th>\n",
              "      <th>outlet_federalist</th>\n",
              "      <th>outlet_fox-news</th>\n",
              "      <th>outlet_huffpost</th>\n",
              "      <th>outlet_msnbc</th>\n",
              "      <th>outlet_reuters</th>\n",
              "      <th>outlet_usa-today</th>\n",
              "      <th>...</th>\n",
              "      <th>group_id</th>\n",
              "      <th>num_sent</th>\n",
              "      <th>Label_bias</th>\n",
              "      <th>Label_opinion_Entirely factual</th>\n",
              "      <th>Label_opinion_Expresses writer’s opinion</th>\n",
              "      <th>Label_opinion_No agreement</th>\n",
              "      <th>Label_opinion_Somewhat factual but also opinionated</th>\n",
              "      <th>article</th>\n",
              "      <th>biased_words4</th>\n",
              "      <th>full_article</th>\n",
              "    </tr>\n",
              "  </thead>\n",
              "  <tbody>\n",
              "    <tr>\n",
              "      <th>0</th>\n",
              "      <td>[1, 3, 4, 5, 6, 7, 8, 9, 10, 11, 12, 13, 14, 1...</td>\n",
              "      <td>https://eu.usatoday.com/story/tech/2020/02/03/...</td>\n",
              "      <td>False</td>\n",
              "      <td>False</td>\n",
              "      <td>False</td>\n",
              "      <td>False</td>\n",
              "      <td>False</td>\n",
              "      <td>False</td>\n",
              "      <td>False</td>\n",
              "      <td>True</td>\n",
              "      <td>...</td>\n",
              "      <td>1</td>\n",
              "      <td>1</td>\n",
              "      <td>Biased</td>\n",
              "      <td>False</td>\n",
              "      <td>False</td>\n",
              "      <td>False</td>\n",
              "      <td>True</td>\n",
              "      <td>YouTube says no ‘deepfakes’ or ‘birther’ video...</td>\n",
              "      <td>[belated, birtherism]</td>\n",
              "      <td>('YouTube is making clear there will be no “bi...</td>\n",
              "    </tr>\n",
              "    <tr>\n",
              "      <th>1</th>\n",
              "      <td>[1, 18, 19, 20, 21, 22, 23, 24, 25, 24, 26, 27...</td>\n",
              "      <td>https://www.nbcnews.com/news/sports/women-s-te...</td>\n",
              "      <td>False</td>\n",
              "      <td>False</td>\n",
              "      <td>False</td>\n",
              "      <td>False</td>\n",
              "      <td>False</td>\n",
              "      <td>True</td>\n",
              "      <td>False</td>\n",
              "      <td>False</td>\n",
              "      <td>...</td>\n",
              "      <td>1</td>\n",
              "      <td>1</td>\n",
              "      <td>Non-biased</td>\n",
              "      <td>True</td>\n",
              "      <td>False</td>\n",
              "      <td>False</td>\n",
              "      <td>False</td>\n",
              "      <td>FRISCO, Texas — The increasingly bitter disput...</td>\n",
              "      <td>[bitter]</td>\n",
              "      <td>('', 'Profile', 'Sections', 'tv', 'Featured', ...</td>\n",
              "    </tr>\n",
              "    <tr>\n",
              "      <th>2</th>\n",
              "      <td>[1, 41, 42, 43, 44, 45, 46, 47, 48, 49, 50, 51...</td>\n",
              "      <td>https://www.alternet.org/2019/01/here-are-5-of...</td>\n",
              "      <td>True</td>\n",
              "      <td>False</td>\n",
              "      <td>False</td>\n",
              "      <td>False</td>\n",
              "      <td>False</td>\n",
              "      <td>False</td>\n",
              "      <td>False</td>\n",
              "      <td>False</td>\n",
              "      <td>...</td>\n",
              "      <td>1</td>\n",
              "      <td>1</td>\n",
              "      <td>Biased</td>\n",
              "      <td>False</td>\n",
              "      <td>True</td>\n",
              "      <td>False</td>\n",
              "      <td>False</td>\n",
              "      <td>Speaking to the country for the first time fro...</td>\n",
              "      <td>[crisis]</td>\n",
              "      <td>('Speaking to the country for the first time f...</td>\n",
              "    </tr>\n",
              "  </tbody>\n",
              "</table>\n",
              "<p>3 rows × 37 columns</p>\n",
              "</div>"
            ],
            "text/plain": [
              "                                            sentence   \n",
              "0  [1, 3, 4, 5, 6, 7, 8, 9, 10, 11, 12, 13, 14, 1...  \\\n",
              "1  [1, 18, 19, 20, 21, 22, 23, 24, 25, 24, 26, 27...   \n",
              "2  [1, 41, 42, 43, 44, 45, 46, 47, 48, 49, 50, 51...   \n",
              "\n",
              "                                           news_link  outlet_alternet   \n",
              "0  https://eu.usatoday.com/story/tech/2020/02/03/...            False  \\\n",
              "1  https://www.nbcnews.com/news/sports/women-s-te...            False   \n",
              "2  https://www.alternet.org/2019/01/here-are-5-of...             True   \n",
              "\n",
              "   outlet_breitbart  outlet_federalist  outlet_fox-news  outlet_huffpost   \n",
              "0             False              False            False            False  \\\n",
              "1             False              False            False            False   \n",
              "2             False              False            False            False   \n",
              "\n",
              "   outlet_msnbc  outlet_reuters  outlet_usa-today  ...  group_id  num_sent   \n",
              "0         False           False              True  ...         1         1  \\\n",
              "1          True           False             False  ...         1         1   \n",
              "2         False           False             False  ...         1         1   \n",
              "\n",
              "   Label_bias  Label_opinion_Entirely factual   \n",
              "0      Biased                           False  \\\n",
              "1  Non-biased                            True   \n",
              "2      Biased                           False   \n",
              "\n",
              "   Label_opinion_Expresses writer’s opinion  Label_opinion_No agreement   \n",
              "0                                     False                       False  \\\n",
              "1                                     False                       False   \n",
              "2                                      True                       False   \n",
              "\n",
              "   Label_opinion_Somewhat factual but also opinionated   \n",
              "0                                               True    \\\n",
              "1                                              False     \n",
              "2                                              False     \n",
              "\n",
              "                                             article          biased_words4   \n",
              "0  YouTube says no ‘deepfakes’ or ‘birther’ video...  [belated, birtherism]  \\\n",
              "1  FRISCO, Texas — The increasingly bitter disput...               [bitter]   \n",
              "2  Speaking to the country for the first time fro...               [crisis]   \n",
              "\n",
              "                                        full_article  \n",
              "0  ('YouTube is making clear there will be no “bi...  \n",
              "1  ('', 'Profile', 'Sections', 'tv', 'Featured', ...  \n",
              "2  ('Speaking to the country for the first time f...  \n",
              "\n",
              "[3 rows x 37 columns]"
            ]
          },
          "execution_count": 121,
          "metadata": {},
          "output_type": "execute_result"
        }
      ],
      "source": [
        "df_copy = cats_to_one_hot(df_copy, column_names=['topic','outlet','type','Label_opinion'])\n",
        "df_copy.head(3)"
      ]
    },
    {
      "attachments": {},
      "cell_type": "markdown",
      "metadata": {
        "id": "hu0eDi-4UE47"
      },
      "source": [
        "### 2.5 - Limpando features"
      ]
    },
    {
      "cell_type": "code",
      "execution_count": 122,
      "metadata": {
        "id": "nufVpqv2Udwn"
      },
      "outputs": [],
      "source": [
        "def drop_columns(data, column_names):\n",
        "  return data.drop(column_names,axis=1)"
      ]
    },
    {
      "cell_type": "code",
      "execution_count": 123,
      "metadata": {
        "colab": {
          "base_uri": "https://localhost:8080/"
        },
        "id": "GmFBOZxZXBAJ",
        "outputId": "eb6b7298-abef-47cb-cd1e-924e1f2177d7"
      },
      "outputs": [
        {
          "data": {
            "text/plain": [
              "(1414, 34)"
            ]
          },
          "execution_count": 123,
          "metadata": {},
          "output_type": "execute_result"
        }
      ],
      "source": [
        "df_copy = drop_columns(df_copy,column_names=['news_link','group_id','article'])\n",
        "df_copy.head(1)\n",
        "df_copy.shape"
      ]
    },
    {
      "attachments": {},
      "cell_type": "markdown",
      "metadata": {
        "id": "PSOuFsrwcT3t"
      },
      "source": [
        "### 2.6 - Compilando pipeline de pré-processamento"
      ]
    },
    {
      "cell_type": "code",
      "execution_count": 124,
      "metadata": {},
      "outputs": [],
      "source": [
        "# criando vocabulário separadamente para ter acesso a seu tamanho\n",
        "#vocab = create_vocabulary(df.copy(),['full_article'])"
      ]
    },
    {
      "cell_type": "code",
      "execution_count": 125,
      "metadata": {
        "id": "pED3BesynKbf"
      },
      "outputs": [],
      "source": [
        "class VocabularyConversionTransformer(BaseEstimator,TransformerMixin):\n",
        "  def __init__(self,vocab_columns, columns_to_be_converted):\n",
        "    self.vocab_table = None\n",
        "    self.columns_to_be_converted = columns_to_be_converted\n",
        "    self.vocab_columns = vocab_columns\n",
        "\n",
        "  def fit(self, X, y=None):\n",
        "    self.vocab_table = create_vocabulary(X,self.vocab_columns)\n",
        "    return self\n",
        "\n",
        "  def transform(self,X,y=None):\n",
        "    return convert_words_to_freq(X,columns=self.columns_to_be_converted,vocab=self.vocab_table)\n",
        "    \n",
        "  def get_vocabulary(self):\n",
        "    return self.vocab_table\n",
        "  "
      ]
    },
    {
      "cell_type": "code",
      "execution_count": 133,
      "metadata": {
        "id": "FX_bDiJUcF91"
      },
      "outputs": [],
      "source": [
        "def preprocess(data,stemmer_flag=False,stemmer_type=None):\n",
        "\n",
        "  one_hot_columns = ['topic','outlet','type']\n",
        "  columns_to_drop = ['news_link','group_id', 'Label_opinion']\n",
        "  text_columns = ['full_article']\n",
        "\n",
        "  preprocess_pipeline = [\n",
        "      ('Tokenização', FunctionTransformer(preprocess_basic_text,kw_args={'columns': text_columns})),\n",
        "      ('Stemming', FunctionTransformer(apply_stemmer_for_all, kw_args={'columns':text_columns,\n",
        "                                                                      'stemmer_flag': stemmer_flag,\n",
        "                                                                      'stemmer_type': stemmer_type\n",
        "                                                                      })),\n",
        "      ('SOS/Padding Addition', FunctionTransformer(add_padding_and_sos, kw_args={'columns':text_columns})),\n",
        "      ('Vocab Creation and Word-Int Conversion', VocabularyConversionTransformer(vocab_columns=text_columns,columns_to_be_converted=text_columns)),\n",
        "      ('One-hot-encoding', FunctionTransformer(cats_to_one_hot,kw_args={'column_names':one_hot_columns})),\n",
        "      ('Dropping features', FunctionTransformer(drop_columns,kw_args={'column_names':columns_to_drop})),\n",
        "  ]\n",
        "\n",
        "  pipeline = Pipeline(preprocess_pipeline)\n",
        "\n",
        "  data = pipeline.fit_transform(data)\n",
        "\n",
        "  vocab = pipeline.named_steps['Vocab Creation and Word-Int Conversion'].get_vocabulary()\n",
        "\n",
        "  return data, vocab"
      ]
    },
    {
      "cell_type": "code",
      "execution_count": 129,
      "metadata": {
        "id": "PBRClwvPcTB0"
      },
      "outputs": [],
      "source": [
        "data, vocab = preprocess(df.copy(),True,stemmer_type=\"Porter\")"
      ]
    },
    {
      "cell_type": "code",
      "execution_count": 130,
      "metadata": {
        "colab": {
          "base_uri": "https://localhost:8080/"
        },
        "id": "P9c9t39p9YWs",
        "outputId": "bad03c53-e224-467e-8ce8-48a60cfe9f93"
      },
      "outputs": [
        {
          "data": {
            "text/plain": [
              "(1414, 35)"
            ]
          },
          "execution_count": 130,
          "metadata": {},
          "output_type": "execute_result"
        }
      ],
      "source": [
        "data.shape"
      ]
    },
    {
      "cell_type": "code",
      "execution_count": 131,
      "metadata": {},
      "outputs": [
        {
          "data": {
            "text/plain": [
              "Index(['sentence', 'outlet_alternet', 'outlet_breitbart', 'outlet_federalist',\n",
              "       'outlet_fox-news', 'outlet_huffpost', 'outlet_msnbc', 'outlet_reuters',\n",
              "       'outlet_usa-today', 'topic_abortion', 'topic_coronavirus',\n",
              "       'topic_elections-2020', 'topic_environment', 'topic_gender',\n",
              "       'topic_gun-control', 'topic_immigration',\n",
              "       'topic_international-politics-and-world-news', 'topic_middle-class',\n",
              "       'topic_sport', 'topic_student-debt', 'topic_trump-presidency',\n",
              "       'topic_vaccines', 'topic_white-nationalism', 'type_center', 'type_left',\n",
              "       'type_right', 'num_sent', 'Label_bias',\n",
              "       'Label_opinion_Entirely factual',\n",
              "       'Label_opinion_Expresses writer’s opinion',\n",
              "       'Label_opinion_No agreement',\n",
              "       'Label_opinion_Somewhat factual but also opinionated', 'article',\n",
              "       'biased_words4', 'full_article'],\n",
              "      dtype='object')"
            ]
          },
          "execution_count": 131,
          "metadata": {},
          "output_type": "execute_result"
        }
      ],
      "source": [
        "data.columns"
      ]
    },
    {
      "attachments": {},
      "cell_type": "markdown",
      "metadata": {
        "id": "rKHlDGUvKR9S"
      },
      "source": [
        "### 2.7 - Salvando dataset final\n"
      ]
    },
    {
      "cell_type": "code",
      "execution_count": 134,
      "metadata": {
        "colab": {
          "base_uri": "https://localhost:8080/",
          "height": 592
        },
        "id": "EEWE1g73KaVx",
        "outputId": "8501473e-d373-426b-c659-846c37bd9786"
      },
      "outputs": [],
      "source": [
        "data.to_csv('../data/final_dataset.csv')"
      ]
    }
  ],
  "metadata": {
    "colab": {
      "collapsed_sections": [
        "8jhbot7NnxrP",
        "5dgVKAMqnxrR",
        "KOOeFWainxrT",
        "28mGJnjWQC82",
        "hu0eDi-4UE47"
      ],
      "provenance": []
    },
    "kernelspec": {
      "display_name": "Python 3",
      "language": "python",
      "name": "python3"
    },
    "language_info": {
      "codemirror_mode": {
        "name": "ipython",
        "version": 3
      },
      "file_extension": ".py",
      "mimetype": "text/x-python",
      "name": "python",
      "nbconvert_exporter": "python",
      "pygments_lexer": "ipython3",
      "version": "3.8.10"
    },
    "orig_nbformat": 4
  },
  "nbformat": 4,
  "nbformat_minor": 0
}
