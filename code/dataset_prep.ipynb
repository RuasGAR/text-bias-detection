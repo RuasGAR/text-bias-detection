{
  "cells": [
    {
      "cell_type": "code",
      "execution_count": 1,
      "metadata": {
        "id": "_wI4b_54pQ2u"
      },
      "outputs": [],
      "source": [
        "#!pip install grequests"
      ]
    },
    {
      "cell_type": "code",
      "execution_count": 2,
      "metadata": {
        "id": "pTQgk-wlt_FN"
      },
      "outputs": [],
      "source": [
        "import pandas as pd\n",
        "import numpy as np\n",
        "import os\n",
        "import warnings\n",
        "warnings.filterwarnings(\"ignore\", category=DeprecationWarning, module=\"grequests\")\n",
        "os.environ['GEVENT_SUPPORT'] = 'True'\n",
        "#import grequests\n",
        "import requests\n",
        "from bs4 import BeautifulSoup\n",
        "import json\n",
        "import concurrent.futures\n",
        "import urllib3\n",
        "import time"
      ]
    },
    {
      "cell_type": "code",
      "execution_count": 3,
      "metadata": {
        "id": "4dxeqw4UuJsV"
      },
      "outputs": [],
      "source": [
        "####### INUTIL #############\n",
        "#pd.read_csv(\"annotators.csv\")"
      ]
    },
    {
      "cell_type": "code",
      "execution_count": 4,
      "metadata": {
        "id": "5GT-obs3vQmf"
      },
      "outputs": [],
      "source": [
        "#pd.read_excel(\"annotations.xlsx\")"
      ]
    },
    {
      "cell_type": "code",
      "execution_count": null,
      "metadata": {
        "id": "7NerWLAsvE56"
      },
      "outputs": [],
      "source": [
        "df = pd.read_excel(\"labeled_dataset.xlsx\").drop([\"Unnamed: 0\"], axis = 1)"
      ]
    },
    {
      "cell_type": "code",
      "execution_count": 6,
      "metadata": {
        "id": "ciFOfoYGN1BD"
      },
      "outputs": [],
      "source": [
        "df.dropna(subset=['news_link'], inplace=True)"
      ]
    },
    {
      "cell_type": "code",
      "execution_count": null,
      "metadata": {
        "id": "eQfovzDUwO-Z"
      },
      "outputs": [],
      "source": [
        "df.columns"
      ]
    },
    {
      "cell_type": "code",
      "execution_count": null,
      "metadata": {
        "id": "aXYlBU2tN4LD"
      },
      "outputs": [],
      "source": [
        "df.shape"
      ]
    },
    {
      "cell_type": "code",
      "execution_count": null,
      "metadata": {
        "id": "82PrNtCbxpda"
      },
      "outputs": [],
      "source": [
        "df['type'].unique()"
      ]
    },
    {
      "cell_type": "code",
      "execution_count": null,
      "metadata": {
        "id": "oVZXk5MMyY_8"
      },
      "outputs": [],
      "source": [
        "df['topic'].unique()"
      ]
    },
    {
      "cell_type": "code",
      "execution_count": 11,
      "metadata": {
        "id": "MOMXmdSagEIM"
      },
      "outputs": [],
      "source": [
        "def get_news_batch(urls):\n",
        "    results = []\n",
        "    \n",
        "    with concurrent.futures.ThreadPoolExecutor() as executor:\n",
        "        futures = [executor.submit(get_news, i, url) for i, url in enumerate(urls)]\n",
        "        \n",
        "        for future in concurrent.futures.as_completed(futures):\n",
        "            result = future.result()\n",
        "            results.append(result)\n",
        "    \n",
        "    return dict(results)"
      ]
    },
    {
      "cell_type": "code",
      "execution_count": 12,
      "metadata": {
        "id": "ptEfUo6KsSM9"
      },
      "outputs": [],
      "source": [
        "def get_news(index, url):\n",
        "    try:\n",
        "        http = urllib3.PoolManager()\n",
        "        response = http.request(\"GET\", url)\n",
        "    except:\n",
        "        #time.sleep(1)\n",
        "        return (index, (\"ERRO - 1\"))\n",
        "        #return get_news(index, url)\n",
        "\n",
        "    if response.status != 200:\n",
        "      # Trata a resposta de erro\n",
        "      if response.status == 429:\n",
        "        time.sleep(3)\n",
        "        return get_news(index, url)\n",
        "      \n",
        "      soup = BeautifulSoup(response.read(), \"html.parser\")\n",
        "      error_message = soup.get_text()\n",
        "      return (index, (f\"ERRO - request: {response.status}\"))\n",
        "    \n",
        "    soup = BeautifulSoup(response.read(), \"html.parser\")\n",
        "    paragrafos = soup.find_all(\"p\")\n",
        "    \n",
        "    texto_paragrafos = []\n",
        "    \n",
        "    try:\n",
        "        for paragrafo in paragrafos:\n",
        "            texto_paragrafos.append(paragrafo.get_text())\n",
        "    except:\n",
        "        texto_paragrafos.append(\"ERRO - 2\")\n",
        "\n",
        "    if len(texto_paragrafos) == 0 :\n",
        "      soup = BeautifulSoup(response.data, \"html.parser\")\n",
        "      paragrafos = soup.find_all(\"p\")\n",
        "      \n",
        "      texto_paragrafos = []\n",
        "      \n",
        "      try:\n",
        "          for paragrafo in paragrafos:\n",
        "              texto_paragrafos.append(paragrafo.get_text())\n",
        "      except:\n",
        "          texto_paragrafos.append(\"ERRO - 3\")\n",
        "\n",
        "    \n",
        "    return (index, tuple(texto_paragrafos))\n"
      ]
    },
    {
      "cell_type": "code",
      "execution_count": null,
      "metadata": {
        "id": "gvMyXrBhtp32"
      },
      "outputs": [],
      "source": [
        "urls = df[\"news_link\"].tolist()\n",
        "dict_news_text = get_news_batch(urls)"
      ]
    },
    {
      "cell_type": "code",
      "execution_count": null,
      "metadata": {
        "id": "7CcjjxCQtrPX"
      },
      "outputs": [],
      "source": [
        "len(urls)"
      ]
    },
    {
      "cell_type": "code",
      "execution_count": null,
      "metadata": {
        "id": "YeS9axR8uBZr"
      },
      "outputs": [],
      "source": [
        "len(dict_news_text.keys())"
      ]
    },
    {
      "cell_type": "code",
      "execution_count": 16,
      "metadata": {
        "id": "2l-yHoEsuJ-S"
      },
      "outputs": [],
      "source": [
        "dict_news_series = pd.Series(dict_news_text)"
      ]
    },
    {
      "cell_type": "code",
      "execution_count": 17,
      "metadata": {
        "id": "CMpRVicWubiq"
      },
      "outputs": [],
      "source": [
        "df['full_article'] = dict_news_series"
      ]
    },
    {
      "cell_type": "markdown",
      "metadata": {
        "id": "i2Il12IXDrnA"
      },
      "source": [
        "Problematicos:"
      ]
    },
    {
      "cell_type": "code",
      "execution_count": 18,
      "metadata": {
        "id": "wUfilf0TuhKY"
      },
      "outputs": [],
      "source": [
        "#zerados = df.loc[df['full_article'].apply(len) == 0]\n"
      ]
    },
    {
      "cell_type": "code",
      "execution_count": 19,
      "metadata": {
        "id": "kKvAgVQ7uh-R"
      },
      "outputs": [],
      "source": [
        "errados_1 = df.loc[df['full_article'].apply(lambda x: 'ERRO - 1' in str(x))]"
      ]
    },
    {
      "cell_type": "code",
      "execution_count": null,
      "metadata": {
        "id": "1cF_70tiH5L5"
      },
      "outputs": [],
      "source": [
        "errados_1.shape"
      ]
    },
    {
      "cell_type": "code",
      "execution_count": null,
      "metadata": {
        "id": "UAocKxiHMhRZ"
      },
      "outputs": [],
      "source": [
        "errados_1"
      ]
    },
    {
      "cell_type": "code",
      "execution_count": 34,
      "metadata": {
        "id": "K_m8pJQeD2cL"
      },
      "outputs": [],
      "source": [
        "errados_2 = df.loc[df['full_article'].apply(lambda x: 'ERRO - 2' in str(x))]"
      ]
    },
    {
      "cell_type": "code",
      "execution_count": null,
      "metadata": {
        "id": "uWF8zAQMIOdZ"
      },
      "outputs": [],
      "source": [
        "errados_2.shape"
      ]
    },
    {
      "cell_type": "code",
      "execution_count": 36,
      "metadata": {
        "id": "e5ju3N5Xd-eN"
      },
      "outputs": [],
      "source": [
        "errados_request = df.loc[df['full_article'].apply(lambda x: 'ERRO - request' in str(x))]"
      ]
    },
    {
      "cell_type": "code",
      "execution_count": null,
      "metadata": {
        "id": "EF7qrAwTiJWx"
      },
      "outputs": [],
      "source": [
        "errados_request.shape"
      ]
    },
    {
      "cell_type": "code",
      "execution_count": null,
      "metadata": {
        "id": "LTicAXTgI_W-"
      },
      "outputs": [],
      "source": [
        "errados_request[['news_link', 'full_article']]"
      ]
    },
    {
      "cell_type": "code",
      "execution_count": null,
      "metadata": {
        "id": "M0AG8yYCJMZ-"
      },
      "outputs": [],
      "source": [
        "df_exploded = errados_request.explode(\"full_article\")\n",
        "valores_unicos = df_exploded[\"full_article\"].unique()\n",
        "del df_exploded\n",
        "valores_unicos"
      ]
    },
    {
      "cell_type": "code",
      "execution_count": 48,
      "metadata": {
        "id": "CkBwT9bNlDhr"
      },
      "outputs": [],
      "source": [
        "merged = df.merge(errados_request, how='left', indicator=True)\n",
        "filtered_df = merged[merged['_merge'] == 'left_only'].drop(columns='_merge')\n",
        "\n",
        "filtered_df = filtered_df.merge(errados_1, how= 'left', indicator = True)\n",
        "filtered_df = filtered_df[filtered_df['_merge'] == 'left_only'].drop(columns='_merge')"
      ]
    },
    {
      "cell_type": "code",
      "execution_count": 62,
      "metadata": {
        "id": "B5sSQHUIp2zt"
      },
      "outputs": [],
      "source": [
        "filtered_df.dropna(subset = ['full_article'], inplace = True)"
      ]
    },
    {
      "cell_type": "code",
      "source": [
        "filtered_df.to_csv(\"final_dataset.csv\", index = False)"
      ],
      "metadata": {
        "id": "bo-NlaW-OEn1"
      },
      "execution_count": 67,
      "outputs": []
    }
  ],
  "metadata": {
    "colab": {
      "provenance": [],
      "authorship_tag": "ABX9TyO2lJ3O1q6TP8ntJRH93k8+"
    },
    "kernelspec": {
      "display_name": "Python 3",
      "name": "python3"
    },
    "language_info": {
      "name": "python"
    }
  },
  "nbformat": 4,
  "nbformat_minor": 0
}