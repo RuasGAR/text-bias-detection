{
  "cells": [
    {
      "cell_type": "code",
      "execution_count": 18,
      "metadata": {
        "id": "_wI4b_54pQ2u"
      },
      "outputs": [],
      "source": [
        "#!pip install grequests\n",
        "#!pip install openpyxl  "
      ]
    },
    {
      "cell_type": "code",
      "execution_count": 19,
      "metadata": {
        "id": "pTQgk-wlt_FN"
      },
      "outputs": [],
      "source": [
        "import pandas as pd\n",
        "import numpy as np\n",
        "import os\n",
        "import warnings\n",
        "warnings.filterwarnings(\"ignore\", category=DeprecationWarning, module=\"grequests\")\n",
        "os.environ['GEVENT_SUPPORT'] = 'True'\n",
        "#import grequests\n",
        "import requests\n",
        "from bs4 import BeautifulSoup\n",
        "import json\n",
        "import concurrent.futures\n",
        "import urllib3\n",
        "import time"
      ]
    },
    {
      "cell_type": "code",
      "execution_count": 20,
      "metadata": {
        "id": "4dxeqw4UuJsV"
      },
      "outputs": [],
      "source": [
        "####### INUTIL #############\n",
        "#pd.read_csv(\"annotators.csv\")"
      ]
    },
    {
      "cell_type": "code",
      "execution_count": 21,
      "metadata": {
        "id": "5GT-obs3vQmf"
      },
      "outputs": [],
      "source": [
        "#pd.read_excel(\"annotations.xlsx\")"
      ]
    },
    {
      "cell_type": "code",
      "execution_count": 22,
      "metadata": {
        "id": "7NerWLAsvE56"
      },
      "outputs": [
        {
          "name": "stderr",
          "output_type": "stream",
          "text": [
            "/home/ruasgar/.local/lib/python3.8/site-packages/openpyxl/worksheet/_reader.py:329: UserWarning: Unknown extension is not supported and will be removed\n",
            "  warn(msg)\n"
          ]
        }
      ],
      "source": [
        "df = pd.read_excel(\"../data/labeled_dataset.xlsx\").drop([\"Unnamed: 0\"], axis = 1)"
      ]
    },
    {
      "cell_type": "code",
      "execution_count": 23,
      "metadata": {
        "id": "ciFOfoYGN1BD"
      },
      "outputs": [],
      "source": [
        "df.dropna(subset=['news_link'], inplace=True)"
      ]
    },
    {
      "cell_type": "code",
      "execution_count": 24,
      "metadata": {
        "id": "eQfovzDUwO-Z"
      },
      "outputs": [
        {
          "data": {
            "text/plain": [
              "Index(['sentence', 'news_link', 'outlet', 'topic', 'type', 'group_id',\n",
              "       'num_sent', 'Label_bias', 'Label_opinion', 'article', 'biased_words4'],\n",
              "      dtype='object')"
            ]
          },
          "execution_count": 24,
          "metadata": {},
          "output_type": "execute_result"
        }
      ],
      "source": [
        "df.columns"
      ]
    },
    {
      "cell_type": "code",
      "execution_count": 25,
      "metadata": {
        "id": "aXYlBU2tN4LD"
      },
      "outputs": [
        {
          "data": {
            "text/plain": [
              "(1681, 11)"
            ]
          },
          "execution_count": 25,
          "metadata": {},
          "output_type": "execute_result"
        }
      ],
      "source": [
        "df.shape"
      ]
    },
    {
      "cell_type": "code",
      "execution_count": 26,
      "metadata": {
        "id": "82PrNtCbxpda"
      },
      "outputs": [
        {
          "data": {
            "text/plain": [
              "array(['center', 'left', 'right'], dtype=object)"
            ]
          },
          "execution_count": 26,
          "metadata": {},
          "output_type": "execute_result"
        }
      ],
      "source": [
        "df['type'].unique()"
      ]
    },
    {
      "cell_type": "code",
      "execution_count": 27,
      "metadata": {
        "id": "oVZXk5MMyY_8"
      },
      "outputs": [
        {
          "data": {
            "text/plain": [
              "array(['elections-2020', 'sport', 'immigration', 'environment',\n",
              "       'abortion', 'student-debt', 'vaccines', 'white-nationalism',\n",
              "       'coronavirus', 'trump-presidency', 'middle-class', 'gender',\n",
              "       'international-politics-and-world-news', 'gun-control'],\n",
              "      dtype=object)"
            ]
          },
          "execution_count": 27,
          "metadata": {},
          "output_type": "execute_result"
        }
      ],
      "source": [
        "df['topic'].unique()"
      ]
    },
    {
      "cell_type": "code",
      "execution_count": 28,
      "metadata": {
        "id": "ptEfUo6KsSM9"
      },
      "outputs": [],
      "source": [
        "def get_news(index, url):\n",
        "    try:\n",
        "        http = urllib3.PoolManager()\n",
        "        response = http.request(\"GET\", url)\n",
        "    except:\n",
        "        #time.sleep(1)\n",
        "        return (index, (\"ERRO - 1\"))\n",
        "        #return get_news(index, url)\n",
        "\n",
        "    if response.status != 200:\n",
        "      # Trata a resposta de erro\n",
        "      if response.status == 429:\n",
        "        time.sleep(3)\n",
        "        return get_news(index, url)\n",
        "      \n",
        "      soup = BeautifulSoup(response.read(), \"html.parser\")\n",
        "      error_message = soup.get_text()\n",
        "      return (index, (f\"ERRO - request: {response.status}\"))\n",
        "    \n",
        "    soup = BeautifulSoup(response.read(), \"html.parser\")\n",
        "    paragrafos = soup.find_all(\"p\")\n",
        "    \n",
        "    texto_paragrafos = []\n",
        "    \n",
        "    try:\n",
        "        for paragrafo in paragrafos:\n",
        "            texto_paragrafos.append(paragrafo.get_text())\n",
        "    except:\n",
        "        texto_paragrafos.append(\"ERRO - 2\")\n",
        "\n",
        "    if len(texto_paragrafos) == 0 :\n",
        "      soup = BeautifulSoup(response.data, \"html.parser\")\n",
        "      paragrafos = soup.find_all(\"p\")\n",
        "      \n",
        "      texto_paragrafos = []\n",
        "      \n",
        "      try:\n",
        "          for paragrafo in paragrafos:\n",
        "              texto_paragrafos.append(paragrafo.get_text())\n",
        "      except:\n",
        "          texto_paragrafos.append(\"ERRO - 3\")\n",
        "\n",
        "    \n",
        "    return (index, tuple(texto_paragrafos))\n"
      ]
    },
    {
      "cell_type": "code",
      "execution_count": 29,
      "metadata": {
        "id": "MOMXmdSagEIM"
      },
      "outputs": [],
      "source": [
        "def get_news_batch(urls):\n",
        "    results = []\n",
        "    \n",
        "    with concurrent.futures.ThreadPoolExecutor() as executor:\n",
        "        futures = [executor.submit(get_news, i, url) for i, url in enumerate(urls)]\n",
        "        \n",
        "        for future in concurrent.futures.as_completed(futures):\n",
        "            result = future.result()\n",
        "            results.append(result)\n",
        "    \n",
        "    return dict(results)"
      ]
    },
    {
      "cell_type": "code",
      "execution_count": 30,
      "metadata": {
        "id": "gvMyXrBhtp32"
      },
      "outputs": [],
      "source": [
        "urls = df[\"news_link\"].tolist()\n",
        "dict_news_text = get_news_batch(urls)"
      ]
    },
    {
      "cell_type": "code",
      "execution_count": 31,
      "metadata": {
        "id": "7CcjjxCQtrPX"
      },
      "outputs": [
        {
          "data": {
            "text/plain": [
              "1681"
            ]
          },
          "execution_count": 31,
          "metadata": {},
          "output_type": "execute_result"
        }
      ],
      "source": [
        "len(urls)"
      ]
    },
    {
      "cell_type": "code",
      "execution_count": 32,
      "metadata": {
        "id": "YeS9axR8uBZr"
      },
      "outputs": [
        {
          "data": {
            "text/plain": [
              "1681"
            ]
          },
          "execution_count": 32,
          "metadata": {},
          "output_type": "execute_result"
        }
      ],
      "source": [
        "len(dict_news_text.keys())"
      ]
    },
    {
      "cell_type": "code",
      "execution_count": 33,
      "metadata": {
        "id": "2l-yHoEsuJ-S"
      },
      "outputs": [],
      "source": [
        "dict_news_series = pd.Series(dict_news_text)"
      ]
    },
    {
      "cell_type": "code",
      "execution_count": 34,
      "metadata": {
        "id": "CMpRVicWubiq"
      },
      "outputs": [],
      "source": [
        "df['full_article'] = dict_news_series"
      ]
    },
    {
      "attachments": {},
      "cell_type": "markdown",
      "metadata": {
        "id": "i2Il12IXDrnA"
      },
      "source": [
        "Problematicos:"
      ]
    },
    {
      "cell_type": "code",
      "execution_count": 35,
      "metadata": {
        "id": "wUfilf0TuhKY"
      },
      "outputs": [],
      "source": [
        "#zerados = df.loc[df['full_article'].apply(len) == 0]\n"
      ]
    },
    {
      "cell_type": "code",
      "execution_count": 36,
      "metadata": {
        "id": "kKvAgVQ7uh-R"
      },
      "outputs": [],
      "source": [
        "errados_1 = df.loc[df['full_article'].apply(lambda x: 'ERRO - 1' in str(x))]"
      ]
    },
    {
      "cell_type": "code",
      "execution_count": 37,
      "metadata": {
        "id": "1cF_70tiH5L5"
      },
      "outputs": [
        {
          "data": {
            "text/plain": [
              "(7, 12)"
            ]
          },
          "execution_count": 37,
          "metadata": {},
          "output_type": "execute_result"
        }
      ],
      "source": [
        "errados_1.shape"
      ]
    },
    {
      "cell_type": "code",
      "execution_count": 38,
      "metadata": {
        "id": "UAocKxiHMhRZ"
      },
      "outputs": [
        {
          "data": {
            "text/html": [
              "<div>\n",
              "<style scoped>\n",
              "    .dataframe tbody tr th:only-of-type {\n",
              "        vertical-align: middle;\n",
              "    }\n",
              "\n",
              "    .dataframe tbody tr th {\n",
              "        vertical-align: top;\n",
              "    }\n",
              "\n",
              "    .dataframe thead th {\n",
              "        text-align: right;\n",
              "    }\n",
              "</style>\n",
              "<table border=\"1\" class=\"dataframe\">\n",
              "  <thead>\n",
              "    <tr style=\"text-align: right;\">\n",
              "      <th></th>\n",
              "      <th>sentence</th>\n",
              "      <th>news_link</th>\n",
              "      <th>outlet</th>\n",
              "      <th>topic</th>\n",
              "      <th>type</th>\n",
              "      <th>group_id</th>\n",
              "      <th>num_sent</th>\n",
              "      <th>Label_bias</th>\n",
              "      <th>Label_opinion</th>\n",
              "      <th>article</th>\n",
              "      <th>biased_words4</th>\n",
              "      <th>full_article</th>\n",
              "    </tr>\n",
              "  </thead>\n",
              "  <tbody>\n",
              "    <tr>\n",
              "      <th>922</th>\n",
              "      <td>An avowed white supremacist pleaded guilty on ...</td>\n",
              "      <td>https://eu.usatoday.com/story/news/nation/2020...</td>\n",
              "      <td>usa-today</td>\n",
              "      <td>white-nationalism</td>\n",
              "      <td>center</td>\n",
              "      <td>47</td>\n",
              "      <td>1</td>\n",
              "      <td>No agreement</td>\n",
              "      <td>Entirely factual</td>\n",
              "      <td>NaN</td>\n",
              "      <td>[]</td>\n",
              "      <td>ERRO - 1</td>\n",
              "    </tr>\n",
              "    <tr>\n",
              "      <th>1002</th>\n",
              "      <td>Malinowski, a Democrat representing New Jersey...</td>\n",
              "      <td>https://www.breitbart.com/politics/2020/04/09/...</td>\n",
              "      <td>breitbart</td>\n",
              "      <td>coronavirus</td>\n",
              "      <td>right</td>\n",
              "      <td>51</td>\n",
              "      <td>1</td>\n",
              "      <td>Non-biased</td>\n",
              "      <td>Entirely factual</td>\n",
              "      <td>Rep. Tom Malinowski (D-NJ) reportedly said on ...</td>\n",
              "      <td>[]</td>\n",
              "      <td>ERRO - 1</td>\n",
              "    </tr>\n",
              "    <tr>\n",
              "      <th>1058</th>\n",
              "      <td>Part of the reason billionaires can swoop in a...</td>\n",
              "      <td>https://www.nbcnews.com/think/opinion/jeff-bez...</td>\n",
              "      <td>msnbc</td>\n",
              "      <td>middle-class</td>\n",
              "      <td>left</td>\n",
              "      <td>53</td>\n",
              "      <td>1</td>\n",
              "      <td>Biased</td>\n",
              "      <td>Expresses writer’s opinion</td>\n",
              "      <td>On Feb. 17, Amazon CEO and occasional richest-...</td>\n",
              "      <td>['swoop', 'saviors', 'failed']</td>\n",
              "      <td>ERRO - 1</td>\n",
              "    </tr>\n",
              "    <tr>\n",
              "      <th>1223</th>\n",
              "      <td>Background checks required to buy firearms hav...</td>\n",
              "      <td>https://eu.usatoday.com/story/money/2020/04/02...</td>\n",
              "      <td>usa-today</td>\n",
              "      <td>gun-control</td>\n",
              "      <td>center</td>\n",
              "      <td>62</td>\n",
              "      <td>1</td>\n",
              "      <td>Non-biased</td>\n",
              "      <td>Somewhat factual but also opinionated</td>\n",
              "      <td>NaN</td>\n",
              "      <td>[]</td>\n",
              "      <td>ERRO - 1</td>\n",
              "    </tr>\n",
              "    <tr>\n",
              "      <th>1484</th>\n",
              "      <td>In a bizarre and unexpected twist, pop super s...</td>\n",
              "      <td>https://www.breitbart.com/entertainment/2020/0...</td>\n",
              "      <td>breitbart</td>\n",
              "      <td>gender</td>\n",
              "      <td>right</td>\n",
              "      <td>75</td>\n",
              "      <td>1</td>\n",
              "      <td>Biased</td>\n",
              "      <td>Somewhat factual but also opinionated</td>\n",
              "      <td>In a bizarre and unexpected twist, pop super s...</td>\n",
              "      <td>['smeared', 'bizarre', 'unexpected', 'twist', ...</td>\n",
              "      <td>ERRO - 1</td>\n",
              "    </tr>\n",
              "    <tr>\n",
              "      <th>1517</th>\n",
              "      <td>John William King, 44, a white supremacist who...</td>\n",
              "      <td>https://eu.usatoday.com/story/news/nation/2019...</td>\n",
              "      <td>usa-today</td>\n",
              "      <td>white-nationalism</td>\n",
              "      <td>center</td>\n",
              "      <td>76</td>\n",
              "      <td>1</td>\n",
              "      <td>Non-biased</td>\n",
              "      <td>Somewhat factual but also opinionated</td>\n",
              "      <td>Texas executes white supremacist convicted in ...</td>\n",
              "      <td>['gruesome']</td>\n",
              "      <td>ERRO - 1</td>\n",
              "    </tr>\n",
              "    <tr>\n",
              "      <th>1567</th>\n",
              "      <td>The Republicans’ corporate tax cuts also magni...</td>\n",
              "      <td>https://www.nbcnews.com/business/economy/trump...</td>\n",
              "      <td>msnbc</td>\n",
              "      <td>middle-class</td>\n",
              "      <td>left</td>\n",
              "      <td>79</td>\n",
              "      <td>1</td>\n",
              "      <td>Biased</td>\n",
              "      <td>Expresses writer’s opinion</td>\n",
              "      <td>Get breaking news alerts and special reports. ...</td>\n",
              "      <td>['economic', 'inequality', 'magnified']</td>\n",
              "      <td>ERRO - 1</td>\n",
              "    </tr>\n",
              "  </tbody>\n",
              "</table>\n",
              "</div>"
            ],
            "text/plain": [
              "                                               sentence   \n",
              "922   An avowed white supremacist pleaded guilty on ...  \\\n",
              "1002  Malinowski, a Democrat representing New Jersey...   \n",
              "1058  Part of the reason billionaires can swoop in a...   \n",
              "1223  Background checks required to buy firearms hav...   \n",
              "1484  In a bizarre and unexpected twist, pop super s...   \n",
              "1517  John William King, 44, a white supremacist who...   \n",
              "1567  The Republicans’ corporate tax cuts also magni...   \n",
              "\n",
              "                                              news_link     outlet   \n",
              "922   https://eu.usatoday.com/story/news/nation/2020...  usa-today  \\\n",
              "1002  https://www.breitbart.com/politics/2020/04/09/...  breitbart   \n",
              "1058  https://www.nbcnews.com/think/opinion/jeff-bez...      msnbc   \n",
              "1223  https://eu.usatoday.com/story/money/2020/04/02...  usa-today   \n",
              "1484  https://www.breitbart.com/entertainment/2020/0...  breitbart   \n",
              "1517  https://eu.usatoday.com/story/news/nation/2019...  usa-today   \n",
              "1567  https://www.nbcnews.com/business/economy/trump...      msnbc   \n",
              "\n",
              "                  topic    type  group_id  num_sent    Label_bias   \n",
              "922   white-nationalism  center        47         1  No agreement  \\\n",
              "1002        coronavirus   right        51         1    Non-biased   \n",
              "1058       middle-class    left        53         1        Biased   \n",
              "1223        gun-control  center        62         1    Non-biased   \n",
              "1484             gender   right        75         1        Biased   \n",
              "1517  white-nationalism  center        76         1    Non-biased   \n",
              "1567       middle-class    left        79         1        Biased   \n",
              "\n",
              "                              Label_opinion   \n",
              "922                        Entirely factual  \\\n",
              "1002                       Entirely factual   \n",
              "1058             Expresses writer’s opinion   \n",
              "1223  Somewhat factual but also opinionated   \n",
              "1484  Somewhat factual but also opinionated   \n",
              "1517  Somewhat factual but also opinionated   \n",
              "1567             Expresses writer’s opinion   \n",
              "\n",
              "                                                article   \n",
              "922                                                 NaN  \\\n",
              "1002  Rep. Tom Malinowski (D-NJ) reportedly said on ...   \n",
              "1058  On Feb. 17, Amazon CEO and occasional richest-...   \n",
              "1223                                                NaN   \n",
              "1484  In a bizarre and unexpected twist, pop super s...   \n",
              "1517  Texas executes white supremacist convicted in ...   \n",
              "1567  Get breaking news alerts and special reports. ...   \n",
              "\n",
              "                                          biased_words4 full_article  \n",
              "922                                                  []     ERRO - 1  \n",
              "1002                                                 []     ERRO - 1  \n",
              "1058                     ['swoop', 'saviors', 'failed']     ERRO - 1  \n",
              "1223                                                 []     ERRO - 1  \n",
              "1484  ['smeared', 'bizarre', 'unexpected', 'twist', ...     ERRO - 1  \n",
              "1517                                       ['gruesome']     ERRO - 1  \n",
              "1567            ['economic', 'inequality', 'magnified']     ERRO - 1  "
            ]
          },
          "execution_count": 38,
          "metadata": {},
          "output_type": "execute_result"
        }
      ],
      "source": [
        "errados_1"
      ]
    },
    {
      "cell_type": "code",
      "execution_count": 39,
      "metadata": {
        "id": "K_m8pJQeD2cL"
      },
      "outputs": [],
      "source": [
        "errados_2 = df.loc[df['full_article'].apply(lambda x: 'ERRO - 2' in str(x))]"
      ]
    },
    {
      "cell_type": "code",
      "execution_count": 40,
      "metadata": {
        "id": "uWF8zAQMIOdZ"
      },
      "outputs": [
        {
          "data": {
            "text/plain": [
              "(0, 12)"
            ]
          },
          "execution_count": 40,
          "metadata": {},
          "output_type": "execute_result"
        }
      ],
      "source": [
        "errados_2.shape"
      ]
    },
    {
      "cell_type": "code",
      "execution_count": 41,
      "metadata": {
        "id": "e5ju3N5Xd-eN"
      },
      "outputs": [],
      "source": [
        "errados_request = df.loc[df['full_article'].apply(lambda x: 'ERRO - request' in str(x))]"
      ]
    },
    {
      "cell_type": "code",
      "execution_count": 42,
      "metadata": {
        "id": "EF7qrAwTiJWx"
      },
      "outputs": [
        {
          "data": {
            "text/plain": [
              "(241, 12)"
            ]
          },
          "execution_count": 42,
          "metadata": {},
          "output_type": "execute_result"
        }
      ],
      "source": [
        "errados_request.shape"
      ]
    },
    {
      "cell_type": "code",
      "execution_count": 43,
      "metadata": {
        "id": "LTicAXTgI_W-"
      },
      "outputs": [
        {
          "data": {
            "text/html": [
              "<div>\n",
              "<style scoped>\n",
              "    .dataframe tbody tr th:only-of-type {\n",
              "        vertical-align: middle;\n",
              "    }\n",
              "\n",
              "    .dataframe tbody tr th {\n",
              "        vertical-align: top;\n",
              "    }\n",
              "\n",
              "    .dataframe thead th {\n",
              "        text-align: right;\n",
              "    }\n",
              "</style>\n",
              "<table border=\"1\" class=\"dataframe\">\n",
              "  <thead>\n",
              "    <tr style=\"text-align: right;\">\n",
              "      <th></th>\n",
              "      <th>news_link</th>\n",
              "      <th>full_article</th>\n",
              "    </tr>\n",
              "  </thead>\n",
              "  <tbody>\n",
              "    <tr>\n",
              "      <th>4</th>\n",
              "      <td>https://thefederalist.com/2020/03/11/woman-who...</td>\n",
              "      <td>ERRO - request: 403</td>\n",
              "    </tr>\n",
              "    <tr>\n",
              "      <th>25</th>\n",
              "      <td>https://thefederalist.com/2020/05/28/hannah-ga...</td>\n",
              "      <td>ERRO - request: 404</td>\n",
              "    </tr>\n",
              "    <tr>\n",
              "      <th>27</th>\n",
              "      <td>https://www.reuters.com/article/us-mississippi...</td>\n",
              "      <td>ERRO - request: 403</td>\n",
              "    </tr>\n",
              "    <tr>\n",
              "      <th>37</th>\n",
              "      <td>https://www.breitbart.com/politics/2017/04/12/...</td>\n",
              "      <td>ERRO - request: 404</td>\n",
              "    </tr>\n",
              "    <tr>\n",
              "      <th>39</th>\n",
              "      <td>https://www.reuters.com/article/us-davos-meeti...</td>\n",
              "      <td>ERRO - request: 403</td>\n",
              "    </tr>\n",
              "    <tr>\n",
              "      <th>...</th>\n",
              "      <td>...</td>\n",
              "      <td>...</td>\n",
              "    </tr>\n",
              "    <tr>\n",
              "      <th>1658</th>\n",
              "      <td>https://www.reuters.com/article/us-usa-white-n...</td>\n",
              "      <td>ERRO - request: 403</td>\n",
              "    </tr>\n",
              "    <tr>\n",
              "      <th>1660</th>\n",
              "      <td>https://www.nbcnews.com/politics/2020-election...</td>\n",
              "      <td>ERRO - request: 403</td>\n",
              "    </tr>\n",
              "    <tr>\n",
              "      <th>1667</th>\n",
              "      <td>https://eu.usatoday.com/story/news/politics/20...</td>\n",
              "      <td>ERRO - request: 403</td>\n",
              "    </tr>\n",
              "    <tr>\n",
              "      <th>1668</th>\n",
              "      <td>https://www.usatoday.com/videos/news/nation/20...</td>\n",
              "      <td>ERRO - request: 403</td>\n",
              "    </tr>\n",
              "    <tr>\n",
              "      <th>1669</th>\n",
              "      <td>https://eu.usatoday.com/story/money/2020/02/04...</td>\n",
              "      <td>ERRO - request: 403</td>\n",
              "    </tr>\n",
              "  </tbody>\n",
              "</table>\n",
              "<p>241 rows × 2 columns</p>\n",
              "</div>"
            ],
            "text/plain": [
              "                                              news_link         full_article\n",
              "4     https://thefederalist.com/2020/03/11/woman-who...  ERRO - request: 403\n",
              "25    https://thefederalist.com/2020/05/28/hannah-ga...  ERRO - request: 404\n",
              "27    https://www.reuters.com/article/us-mississippi...  ERRO - request: 403\n",
              "37    https://www.breitbart.com/politics/2017/04/12/...  ERRO - request: 404\n",
              "39    https://www.reuters.com/article/us-davos-meeti...  ERRO - request: 403\n",
              "...                                                 ...                  ...\n",
              "1658  https://www.reuters.com/article/us-usa-white-n...  ERRO - request: 403\n",
              "1660  https://www.nbcnews.com/politics/2020-election...  ERRO - request: 403\n",
              "1667  https://eu.usatoday.com/story/news/politics/20...  ERRO - request: 403\n",
              "1668  https://www.usatoday.com/videos/news/nation/20...  ERRO - request: 403\n",
              "1669  https://eu.usatoday.com/story/money/2020/02/04...  ERRO - request: 403\n",
              "\n",
              "[241 rows x 2 columns]"
            ]
          },
          "execution_count": 43,
          "metadata": {},
          "output_type": "execute_result"
        }
      ],
      "source": [
        "errados_request[['news_link', 'full_article']]"
      ]
    },
    {
      "cell_type": "code",
      "execution_count": 44,
      "metadata": {
        "id": "M0AG8yYCJMZ-"
      },
      "outputs": [
        {
          "data": {
            "text/plain": [
              "array(['ERRO - request: 403', 'ERRO - request: 404',\n",
              "       'ERRO - request: 410'], dtype=object)"
            ]
          },
          "execution_count": 44,
          "metadata": {},
          "output_type": "execute_result"
        }
      ],
      "source": [
        "df_exploded = errados_request.explode(\"full_article\")\n",
        "valores_unicos = df_exploded[\"full_article\"].unique()\n",
        "del df_exploded\n",
        "valores_unicos"
      ]
    },
    {
      "cell_type": "code",
      "execution_count": 45,
      "metadata": {
        "id": "CkBwT9bNlDhr"
      },
      "outputs": [],
      "source": [
        "merged = df.merge(errados_request, how='left', indicator=True)\n",
        "filtered_df = merged[merged['_merge'] == 'left_only'].drop(columns='_merge')\n",
        "\n",
        "filtered_df = filtered_df.merge(errados_1, how= 'left', indicator = True)\n",
        "filtered_df = filtered_df[filtered_df['_merge'] == 'left_only'].drop(columns='_merge')"
      ]
    },
    {
      "cell_type": "code",
      "execution_count": 46,
      "metadata": {
        "id": "B5sSQHUIp2zt"
      },
      "outputs": [],
      "source": [
        "filtered_df.dropna(subset = ['full_article'], inplace = True)"
      ]
    },
    {
      "cell_type": "code",
      "execution_count": 47,
      "metadata": {
        "id": "bo-NlaW-OEn1"
      },
      "outputs": [],
      "source": [
        "filtered_df.to_csv(\"../data/final_dataset.csv\", index = False)"
      ]
    }
  ],
  "metadata": {
    "colab": {
      "authorship_tag": "ABX9TyO2lJ3O1q6TP8ntJRH93k8+",
      "provenance": []
    },
    "kernelspec": {
      "display_name": "Python 3",
      "name": "python3"
    },
    "language_info": {
      "codemirror_mode": {
        "name": "ipython",
        "version": 3
      },
      "file_extension": ".py",
      "mimetype": "text/x-python",
      "name": "python",
      "nbconvert_exporter": "python",
      "pygments_lexer": "ipython3",
      "version": "3.8.10"
    }
  },
  "nbformat": 4,
  "nbformat_minor": 0
}
