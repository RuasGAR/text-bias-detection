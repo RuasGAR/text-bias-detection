{
  "cells": [
    {
      "cell_type": "code",
      "execution_count": 46,
      "metadata": {
        "id": "_wI4b_54pQ2u"
      },
      "outputs": [
        {
          "name": "stdout",
          "output_type": "stream",
          "text": [
            "Requirement already satisfied: openpyxl in c:\\users\\heliomar\\desktop\\clustering\\lib\\site-packages (3.1.2)\n",
            "Requirement already satisfied: et-xmlfile in c:\\users\\heliomar\\desktop\\clustering\\lib\\site-packages (from openpyxl) (1.1.0)\n"
          ]
        },
        {
          "name": "stderr",
          "output_type": "stream",
          "text": [
            "\n",
            "[notice] A new release of pip available: 22.3.1 -> 23.1.2\n",
            "[notice] To update, run: python.exe -m pip install --upgrade pip\n"
          ]
        }
      ],
      "source": [
        "#!pip install grequests\n",
        "!pip install openpyxl  "
      ]
    },
    {
      "cell_type": "code",
      "execution_count": 47,
      "metadata": {
        "id": "pTQgk-wlt_FN"
      },
      "outputs": [],
      "source": [
        "import pandas as pd\n",
        "import numpy as np\n",
        "import os\n",
        "import warnings\n",
        "warnings.filterwarnings(\"ignore\", category=DeprecationWarning, module=\"grequests\")\n",
        "os.environ['GEVENT_SUPPORT'] = 'True'\n",
        "#import grequests\n",
        "import requests\n",
        "from bs4 import BeautifulSoup\n",
        "import json\n",
        "import concurrent.futures\n",
        "import urllib3\n",
        "import time"
      ]
    },
    {
      "cell_type": "code",
      "execution_count": 48,
      "metadata": {
        "id": "7NerWLAsvE56"
      },
      "outputs": [
        {
          "name": "stderr",
          "output_type": "stream",
          "text": [
            "c:\\Users\\Heliomar\\Desktop\\clustering\\lib\\site-packages\\openpyxl\\worksheet\\_reader.py:329: UserWarning: Unknown extension is not supported and will be removed\n",
            "  warn(msg)\n"
          ]
        }
      ],
      "source": [
        "df = pd.read_excel(\"../data/labeled_dataset.xlsx\").drop([\"Unnamed: 0\"], axis = 1)"
      ]
    },
    {
      "cell_type": "code",
      "execution_count": 49,
      "metadata": {
        "id": "eQfovzDUwO-Z"
      },
      "outputs": [
        {
          "data": {
            "text/plain": [
              "Index(['sentence', 'news_link', 'outlet', 'topic', 'type', 'group_id',\n",
              "       'num_sent', 'Label_bias', 'Label_opinion', 'article', 'biased_words4'],\n",
              "      dtype='object')"
            ]
          },
          "execution_count": 49,
          "metadata": {},
          "output_type": "execute_result"
        }
      ],
      "source": [
        "df.columns"
      ]
    },
    {
      "cell_type": "code",
      "execution_count": 50,
      "metadata": {
        "id": "aXYlBU2tN4LD"
      },
      "outputs": [
        {
          "data": {
            "text/plain": [
              "(1700, 11)"
            ]
          },
          "execution_count": 50,
          "metadata": {},
          "output_type": "execute_result"
        }
      ],
      "source": [
        "df.shape"
      ]
    },
    {
      "cell_type": "code",
      "execution_count": 51,
      "metadata": {
        "id": "82PrNtCbxpda"
      },
      "outputs": [
        {
          "data": {
            "text/plain": [
              "array(['center', 'left', 'right'], dtype=object)"
            ]
          },
          "execution_count": 51,
          "metadata": {},
          "output_type": "execute_result"
        }
      ],
      "source": [
        "df['type'].unique()"
      ]
    },
    {
      "cell_type": "code",
      "execution_count": 52,
      "metadata": {
        "id": "oVZXk5MMyY_8"
      },
      "outputs": [
        {
          "data": {
            "text/plain": [
              "array(['elections-2020', 'sport', 'immigration', 'environment',\n",
              "       'abortion', 'student-debt', 'vaccines', 'white-nationalism',\n",
              "       'coronavirus', 'trump-presidency', 'middle-class', 'gender',\n",
              "       'international-politics-and-world-news', 'gun-control'],\n",
              "      dtype=object)"
            ]
          },
          "execution_count": 52,
          "metadata": {},
          "output_type": "execute_result"
        }
      ],
      "source": [
        "df['topic'].unique()"
      ]
    },
    {
      "cell_type": "code",
      "execution_count": 54,
      "metadata": {},
      "outputs": [],
      "source": [
        "import time\n",
        "import urllib3\n",
        "from bs4 import BeautifulSoup\n",
        "\n",
        "def get_news(index, url):\n",
        "    try:\n",
        "        http = urllib3.PoolManager()\n",
        "        response = http.request(\"GET\", url)\n",
        "    except Exception as e:\n",
        "        return (index, (\"ERRO - 1: \" + str(e)))\n",
        "    \n",
        "    if response.status != 200:\n",
        "        # Trata a resposta de erro\n",
        "        if response.status == 429:\n",
        "            time.sleep(3)\n",
        "            return get_news(index, url)\n",
        "        \n",
        "        return (index, (f\"ERRO - request: {response.status}\"))\n",
        "    \n",
        "    soup = BeautifulSoup(response.data, \"html.parser\")\n",
        "    paragrafos = soup.find_all(\"p\")\n",
        "    \n",
        "    texto_paragrafos = []\n",
        "    \n",
        "    try:\n",
        "        for paragrafo in paragrafos:\n",
        "            texto_paragrafos.append(paragrafo.get_text())\n",
        "    except Exception as e:\n",
        "        return (index, (\"ERRO - 2: \" + str(e)))\n",
        "    \n",
        "    if len(texto_paragrafos) == 0:\n",
        "        soup = BeautifulSoup(response.data, \"html.parser\")\n",
        "        paragrafos = soup.find_all(\"p\")\n",
        "        \n",
        "        try:\n",
        "            for paragrafo in paragrafos:\n",
        "                texto_paragrafos.append(paragrafo.get_text())\n",
        "        except Exception as e:\n",
        "            return (index, (\"ERRO - 3: \" + str(e)))\n",
        "    \n",
        "    return (index, tuple(texto_paragrafos))\n",
        "\n",
        "\n",
        "\n",
        "# def get_news_batch(urls):\n",
        "#     results = []\n",
        "\n",
        "#     with concurrent.futures.ThreadPoolExecutor() as executor:\n",
        "#         futures = [executor.submit(get_news, i, url) for i, url in enumerate(urls)]\n",
        "\n",
        "#         for future in concurrent.futures.as_completed(futures):\n",
        "#             result = future.result()\n",
        "#             results.append(result)\n",
        "\n",
        "#     return dict(results)\n",
        "\n",
        "\n",
        "def get_news_batch(urls):\n",
        "    results = []\n",
        "\n",
        "    with concurrent.futures.ThreadPoolExecutor() as executor:\n",
        "        futures = []\n",
        "        \n",
        "        for i, url in enumerate(urls):\n",
        "            if pd.isnull(df.at[i, 'article']):\n",
        "                future = executor.submit(get_news, i, url)\n",
        "                futures.append(future)\n",
        "        \n",
        "        for future in concurrent.futures.as_completed(futures):\n",
        "            result = future.result()\n",
        "            results.append(result)\n",
        "\n",
        "    return dict(results)\n",
        "\n",
        "\n",
        "# Crie uma lista de URLs a partir da coluna \"link\"\n",
        "urls = df['news_link'].tolist()\n",
        "\n",
        "# Verifique se a coluna \"article\" está vazia e a coluna \"link\" não está vazia\n",
        "empty_article_mask = df['article'].isnull()\n",
        "empty_link_mask = df['news_link'].isnull()\n",
        "rows_to_delete = df[empty_article_mask & empty_link_mask].index\n",
        "\n",
        "# Exclua as linhas correspondentes\n",
        "df = df.drop(rows_to_delete)\n",
        "\n",
        "# Obtenha os textos das notícias para preencher a coluna \"article\"\n",
        "articles_dict = get_news_batch(urls)\n",
        "\n",
        "# Preencha a coluna \"article\" com os textos obtidos\n",
        "for i, article_text in articles_dict.items():\n",
        "    df.at[i, 'article'] = article_text"
      ]
    },
    {
      "cell_type": "code",
      "execution_count": 55,
      "metadata": {},
      "outputs": [
        {
          "data": {
            "text/html": [
              "<div>\n",
              "<style scoped>\n",
              "    .dataframe tbody tr th:only-of-type {\n",
              "        vertical-align: middle;\n",
              "    }\n",
              "\n",
              "    .dataframe tbody tr th {\n",
              "        vertical-align: top;\n",
              "    }\n",
              "\n",
              "    .dataframe thead th {\n",
              "        text-align: right;\n",
              "    }\n",
              "</style>\n",
              "<table border=\"1\" class=\"dataframe\">\n",
              "  <thead>\n",
              "    <tr style=\"text-align: right;\">\n",
              "      <th></th>\n",
              "      <th>sentence</th>\n",
              "      <th>news_link</th>\n",
              "      <th>outlet</th>\n",
              "      <th>topic</th>\n",
              "      <th>type</th>\n",
              "      <th>group_id</th>\n",
              "      <th>num_sent</th>\n",
              "      <th>Label_bias</th>\n",
              "      <th>Label_opinion</th>\n",
              "      <th>article</th>\n",
              "      <th>biased_words4</th>\n",
              "    </tr>\n",
              "  </thead>\n",
              "  <tbody>\n",
              "    <tr>\n",
              "      <th>0</th>\n",
              "      <td>YouTube is making clear there will be no “birt...</td>\n",
              "      <td>https://eu.usatoday.com/story/tech/2020/02/03/...</td>\n",
              "      <td>usa-today</td>\n",
              "      <td>elections-2020</td>\n",
              "      <td>center</td>\n",
              "      <td>1.0</td>\n",
              "      <td>1.0</td>\n",
              "      <td>Biased</td>\n",
              "      <td>Somewhat factual but also opinionated</td>\n",
              "      <td>YouTube says no ‘deepfakes’ or ‘birther’ video...</td>\n",
              "      <td>['belated', 'birtherism']</td>\n",
              "    </tr>\n",
              "    <tr>\n",
              "      <th>1</th>\n",
              "      <td>The increasingly bitter dispute between Americ...</td>\n",
              "      <td>https://www.nbcnews.com/news/sports/women-s-te...</td>\n",
              "      <td>msnbc</td>\n",
              "      <td>sport</td>\n",
              "      <td>left</td>\n",
              "      <td>1.0</td>\n",
              "      <td>1.0</td>\n",
              "      <td>Non-biased</td>\n",
              "      <td>Entirely factual</td>\n",
              "      <td>FRISCO, Texas — The increasingly bitter disput...</td>\n",
              "      <td>['bitter']</td>\n",
              "    </tr>\n",
              "    <tr>\n",
              "      <th>2</th>\n",
              "      <td>So while there may be a humanitarian crisis dr...</td>\n",
              "      <td>https://www.alternet.org/2019/01/here-are-5-of...</td>\n",
              "      <td>alternet</td>\n",
              "      <td>immigration</td>\n",
              "      <td>left</td>\n",
              "      <td>1.0</td>\n",
              "      <td>1.0</td>\n",
              "      <td>Biased</td>\n",
              "      <td>Expresses writer’s opinion</td>\n",
              "      <td>Speaking to the country for the first time fro...</td>\n",
              "      <td>['crisis']</td>\n",
              "    </tr>\n",
              "    <tr>\n",
              "      <th>3</th>\n",
              "      <td>A professor who teaches climate change classes...</td>\n",
              "      <td>https://www.breitbart.com/politics/2019/05/09/...</td>\n",
              "      <td>breitbart</td>\n",
              "      <td>environment</td>\n",
              "      <td>right</td>\n",
              "      <td>1.0</td>\n",
              "      <td>1.0</td>\n",
              "      <td>Non-biased</td>\n",
              "      <td>No agreement</td>\n",
              "      <td>A professor who teaches climate change classes...</td>\n",
              "      <td>['legitimate']</td>\n",
              "    </tr>\n",
              "    <tr>\n",
              "      <th>4</th>\n",
              "      <td>Looking around the United States, there is nev...</td>\n",
              "      <td>https://thefederalist.com/2020/03/11/woman-who...</td>\n",
              "      <td>federalist</td>\n",
              "      <td>abortion</td>\n",
              "      <td>right</td>\n",
              "      <td>1.0</td>\n",
              "      <td>1.0</td>\n",
              "      <td>Biased</td>\n",
              "      <td>Somewhat factual but also opinionated</td>\n",
              "      <td>The left has a thing for taking babies hostage...</td>\n",
              "      <td>['killing', 'never', 'developing', 'humans', '...</td>\n",
              "    </tr>\n",
              "    <tr>\n",
              "      <th>...</th>\n",
              "      <td>...</td>\n",
              "      <td>...</td>\n",
              "      <td>...</td>\n",
              "      <td>...</td>\n",
              "      <td>...</td>\n",
              "      <td>...</td>\n",
              "      <td>...</td>\n",
              "      <td>...</td>\n",
              "      <td>...</td>\n",
              "      <td>...</td>\n",
              "      <td>...</td>\n",
              "    </tr>\n",
              "    <tr>\n",
              "      <th>1695</th>\n",
              "      <td>In every case legislators are being swarmed by...</td>\n",
              "      <td>https://www.alternet.org/2019/04/republicans-w...</td>\n",
              "      <td>alternet</td>\n",
              "      <td>gender</td>\n",
              "      <td>left</td>\n",
              "      <td>85.0</td>\n",
              "      <td>1.0</td>\n",
              "      <td>Biased</td>\n",
              "      <td>Expresses writer’s opinion</td>\n",
              "      <td>There are many reasons that Republicans and co...</td>\n",
              "      <td>['deceit', 'hysteria', 'swarmed', 'right-wing']</td>\n",
              "    </tr>\n",
              "    <tr>\n",
              "      <th>1696</th>\n",
              "      <td>Polls show the transgender ideology is deeply ...</td>\n",
              "      <td>https://www.breitbart.com/politics/2019/02/21/...</td>\n",
              "      <td>breitbart</td>\n",
              "      <td>gender</td>\n",
              "      <td>right</td>\n",
              "      <td>85.0</td>\n",
              "      <td>1.0</td>\n",
              "      <td>Biased</td>\n",
              "      <td>Somewhat factual but also opinionated</td>\n",
              "      <td>A man’s penis becomes a female penis once a ma...</td>\n",
              "      <td>['ideology', 'unpopular']</td>\n",
              "    </tr>\n",
              "    <tr>\n",
              "      <th>1697</th>\n",
              "      <td>Democrats and Republicans stood and applauded ...</td>\n",
              "      <td>https://eu.usatoday.com/story/news/politics/20...</td>\n",
              "      <td>usa-today</td>\n",
              "      <td>gender</td>\n",
              "      <td>center</td>\n",
              "      <td>85.0</td>\n",
              "      <td>1.0</td>\n",
              "      <td>Non-biased</td>\n",
              "      <td>Entirely factual</td>\n",
              "      <td>(WASHINGTON – New Mexico Rep. Debra Haaland go...</td>\n",
              "      <td>['saluted']</td>\n",
              "    </tr>\n",
              "    <tr>\n",
              "      <th>1698</th>\n",
              "      <td>As a self-described Democratic socialist, Sen....</td>\n",
              "      <td>https://www.foxnews.com/politics/how-did-berni...</td>\n",
              "      <td>fox-news</td>\n",
              "      <td>middle-class</td>\n",
              "      <td>right</td>\n",
              "      <td>85.0</td>\n",
              "      <td>1.0</td>\n",
              "      <td>Non-biased</td>\n",
              "      <td>Entirely factual</td>\n",
              "      <td>As a self-described Democratic socialist, Sen....</td>\n",
              "      <td>['outspoken']</td>\n",
              "    </tr>\n",
              "    <tr>\n",
              "      <th>1699</th>\n",
              "      <td>During the segment, Colbert also bemoaned the ...</td>\n",
              "      <td>https://www.breitbart.com/entertainment/2018/1...</td>\n",
              "      <td>breitbart</td>\n",
              "      <td>white-nationalism</td>\n",
              "      <td>right</td>\n",
              "      <td>85.0</td>\n",
              "      <td>1.0</td>\n",
              "      <td>Non-biased</td>\n",
              "      <td>No agreement</td>\n",
              "      <td>CBS Late Show host Stephen Colbert claimed on ...</td>\n",
              "      <td>['bemoaned']</td>\n",
              "    </tr>\n",
              "  </tbody>\n",
              "</table>\n",
              "<p>1700 rows × 11 columns</p>\n",
              "</div>"
            ],
            "text/plain": [
              "                                               sentence  \\\n",
              "0     YouTube is making clear there will be no “birt...   \n",
              "1     The increasingly bitter dispute between Americ...   \n",
              "2     So while there may be a humanitarian crisis dr...   \n",
              "3     A professor who teaches climate change classes...   \n",
              "4     Looking around the United States, there is nev...   \n",
              "...                                                 ...   \n",
              "1695  In every case legislators are being swarmed by...   \n",
              "1696  Polls show the transgender ideology is deeply ...   \n",
              "1697  Democrats and Republicans stood and applauded ...   \n",
              "1698  As a self-described Democratic socialist, Sen....   \n",
              "1699  During the segment, Colbert also bemoaned the ...   \n",
              "\n",
              "                                              news_link      outlet  \\\n",
              "0     https://eu.usatoday.com/story/tech/2020/02/03/...   usa-today   \n",
              "1     https://www.nbcnews.com/news/sports/women-s-te...       msnbc   \n",
              "2     https://www.alternet.org/2019/01/here-are-5-of...    alternet   \n",
              "3     https://www.breitbart.com/politics/2019/05/09/...   breitbart   \n",
              "4     https://thefederalist.com/2020/03/11/woman-who...  federalist   \n",
              "...                                                 ...         ...   \n",
              "1695  https://www.alternet.org/2019/04/republicans-w...    alternet   \n",
              "1696  https://www.breitbart.com/politics/2019/02/21/...   breitbart   \n",
              "1697  https://eu.usatoday.com/story/news/politics/20...   usa-today   \n",
              "1698  https://www.foxnews.com/politics/how-did-berni...    fox-news   \n",
              "1699  https://www.breitbart.com/entertainment/2018/1...   breitbart   \n",
              "\n",
              "                  topic    type  group_id  num_sent  Label_bias  \\\n",
              "0        elections-2020  center       1.0       1.0      Biased   \n",
              "1                 sport    left       1.0       1.0  Non-biased   \n",
              "2           immigration    left       1.0       1.0      Biased   \n",
              "3           environment   right       1.0       1.0  Non-biased   \n",
              "4              abortion   right       1.0       1.0      Biased   \n",
              "...                 ...     ...       ...       ...         ...   \n",
              "1695             gender    left      85.0       1.0      Biased   \n",
              "1696             gender   right      85.0       1.0      Biased   \n",
              "1697             gender  center      85.0       1.0  Non-biased   \n",
              "1698       middle-class   right      85.0       1.0  Non-biased   \n",
              "1699  white-nationalism   right      85.0       1.0  Non-biased   \n",
              "\n",
              "                              Label_opinion  \\\n",
              "0     Somewhat factual but also opinionated   \n",
              "1                          Entirely factual   \n",
              "2                Expresses writer’s opinion   \n",
              "3                              No agreement   \n",
              "4     Somewhat factual but also opinionated   \n",
              "...                                     ...   \n",
              "1695             Expresses writer’s opinion   \n",
              "1696  Somewhat factual but also opinionated   \n",
              "1697                       Entirely factual   \n",
              "1698                       Entirely factual   \n",
              "1699                           No agreement   \n",
              "\n",
              "                                                article  \\\n",
              "0     YouTube says no ‘deepfakes’ or ‘birther’ video...   \n",
              "1     FRISCO, Texas — The increasingly bitter disput...   \n",
              "2     Speaking to the country for the first time fro...   \n",
              "3     A professor who teaches climate change classes...   \n",
              "4     The left has a thing for taking babies hostage...   \n",
              "...                                                 ...   \n",
              "1695  There are many reasons that Republicans and co...   \n",
              "1696  A man’s penis becomes a female penis once a ma...   \n",
              "1697  (WASHINGTON – New Mexico Rep. Debra Haaland go...   \n",
              "1698  As a self-described Democratic socialist, Sen....   \n",
              "1699  CBS Late Show host Stephen Colbert claimed on ...   \n",
              "\n",
              "                                          biased_words4  \n",
              "0                             ['belated', 'birtherism']  \n",
              "1                                            ['bitter']  \n",
              "2                                            ['crisis']  \n",
              "3                                        ['legitimate']  \n",
              "4     ['killing', 'never', 'developing', 'humans', '...  \n",
              "...                                                 ...  \n",
              "1695    ['deceit', 'hysteria', 'swarmed', 'right-wing']  \n",
              "1696                          ['ideology', 'unpopular']  \n",
              "1697                                        ['saluted']  \n",
              "1698                                      ['outspoken']  \n",
              "1699                                       ['bemoaned']  \n",
              "\n",
              "[1700 rows x 11 columns]"
            ]
          },
          "execution_count": 55,
          "metadata": {},
          "output_type": "execute_result"
        }
      ],
      "source": [
        "df"
      ]
    },
    {
      "attachments": {},
      "cell_type": "markdown",
      "metadata": {
        "id": "i2Il12IXDrnA"
      },
      "source": [
        "Problematicos:"
      ]
    },
    {
      "cell_type": "code",
      "execution_count": null,
      "metadata": {
        "id": "wUfilf0TuhKY"
      },
      "outputs": [],
      "source": [
        "#zerados = df.loc[df['full_article'].apply(len) == 0]\n"
      ]
    },
    {
      "cell_type": "code",
      "execution_count": 57,
      "metadata": {
        "id": "kKvAgVQ7uh-R"
      },
      "outputs": [],
      "source": [
        "errados_1 = df.loc[df['article'].apply(lambda x: 'ERRO - 1' in str(x))]"
      ]
    },
    {
      "cell_type": "code",
      "execution_count": 58,
      "metadata": {
        "id": "1cF_70tiH5L5"
      },
      "outputs": [
        {
          "data": {
            "text/plain": [
              "(7, 11)"
            ]
          },
          "execution_count": 58,
          "metadata": {},
          "output_type": "execute_result"
        }
      ],
      "source": [
        "errados_1.shape"
      ]
    },
    {
      "cell_type": "code",
      "execution_count": 59,
      "metadata": {
        "id": "UAocKxiHMhRZ"
      },
      "outputs": [
        {
          "data": {
            "text/html": [
              "<div>\n",
              "<style scoped>\n",
              "    .dataframe tbody tr th:only-of-type {\n",
              "        vertical-align: middle;\n",
              "    }\n",
              "\n",
              "    .dataframe tbody tr th {\n",
              "        vertical-align: top;\n",
              "    }\n",
              "\n",
              "    .dataframe thead th {\n",
              "        text-align: right;\n",
              "    }\n",
              "</style>\n",
              "<table border=\"1\" class=\"dataframe\">\n",
              "  <thead>\n",
              "    <tr style=\"text-align: right;\">\n",
              "      <th></th>\n",
              "      <th>sentence</th>\n",
              "      <th>news_link</th>\n",
              "      <th>outlet</th>\n",
              "      <th>topic</th>\n",
              "      <th>type</th>\n",
              "      <th>group_id</th>\n",
              "      <th>num_sent</th>\n",
              "      <th>Label_bias</th>\n",
              "      <th>Label_opinion</th>\n",
              "      <th>article</th>\n",
              "      <th>biased_words4</th>\n",
              "    </tr>\n",
              "  </thead>\n",
              "  <tbody>\n",
              "    <tr>\n",
              "      <th>937</th>\n",
              "      <td>A former North Korean diplomat who staged a hi...</td>\n",
              "      <td>http://feeds.reuters.com/~r/Reuters/worldNews/...</td>\n",
              "      <td>reuters</td>\n",
              "      <td>international-politics-and-world-news</td>\n",
              "      <td>center</td>\n",
              "      <td>47.0</td>\n",
              "      <td>1.0</td>\n",
              "      <td>Non-biased</td>\n",
              "      <td>Entirely factual</td>\n",
              "      <td>ERRO - 1: HTTPConnectionPool(host='feeds.reute...</td>\n",
              "      <td>[]</td>\n",
              "    </tr>\n",
              "    <tr>\n",
              "      <th>1017</th>\n",
              "      <td>In the past Putin has warmly welcomed home Rus...</td>\n",
              "      <td>http://feeds.reuters.com/~r/Reuters/worldNews/...</td>\n",
              "      <td>reuters</td>\n",
              "      <td>international-politics-and-world-news</td>\n",
              "      <td>center</td>\n",
              "      <td>51.0</td>\n",
              "      <td>1.0</td>\n",
              "      <td>Biased</td>\n",
              "      <td>No agreement</td>\n",
              "      <td>ERRO - 1: HTTPConnectionPool(host='feeds.reute...</td>\n",
              "      <td>['warmly']</td>\n",
              "    </tr>\n",
              "    <tr>\n",
              "      <th>1073</th>\n",
              "      <td>Russia killed civilians in air strikes in Syri...</td>\n",
              "      <td>http://feeds.reuters.com/~r/Reuters/worldNews/...</td>\n",
              "      <td>reuters</td>\n",
              "      <td>international-politics-and-world-news</td>\n",
              "      <td>center</td>\n",
              "      <td>54.0</td>\n",
              "      <td>1.0</td>\n",
              "      <td>Non-biased</td>\n",
              "      <td>Entirely factual</td>\n",
              "      <td>ERRO - 1: HTTPConnectionPool(host='feeds.reute...</td>\n",
              "      <td>[]</td>\n",
              "    </tr>\n",
              "    <tr>\n",
              "      <th>1238</th>\n",
              "      <td>Other European countries have also said they w...</td>\n",
              "      <td>http://feeds.reuters.com/~r/reuters/topNews/~3...</td>\n",
              "      <td>reuters</td>\n",
              "      <td>international-politics-and-world-news</td>\n",
              "      <td>center</td>\n",
              "      <td>62.0</td>\n",
              "      <td>1.0</td>\n",
              "      <td>Non-biased</td>\n",
              "      <td>Entirely factual</td>\n",
              "      <td>ERRO - 1: HTTPConnectionPool(host='feeds.reute...</td>\n",
              "      <td>[]</td>\n",
              "    </tr>\n",
              "    <tr>\n",
              "      <th>1502</th>\n",
              "      <td>European states are trying to accelerate a pla...</td>\n",
              "      <td>http://feeds.reuters.com/~r/reuters/topNews/~3...</td>\n",
              "      <td>reuters</td>\n",
              "      <td>international-politics-and-world-news</td>\n",
              "      <td>center</td>\n",
              "      <td>76.0</td>\n",
              "      <td>1.0</td>\n",
              "      <td>Non-biased</td>\n",
              "      <td>Entirely factual</td>\n",
              "      <td>ERRO - 1: HTTPConnectionPool(host='feeds.reute...</td>\n",
              "      <td>[]</td>\n",
              "    </tr>\n",
              "    <tr>\n",
              "      <th>1535</th>\n",
              "      <td>If confirmed to have fled, Jo Song Gil would b...</td>\n",
              "      <td>http://feeds.reuters.com/~r/Reuters/worldNews/...</td>\n",
              "      <td>reuters</td>\n",
              "      <td>international-politics-and-world-news</td>\n",
              "      <td>center</td>\n",
              "      <td>77.0</td>\n",
              "      <td>1.0</td>\n",
              "      <td>Biased</td>\n",
              "      <td>Somewhat factual but also opinionated</td>\n",
              "      <td>ERRO - 1: HTTPConnectionPool(host='feeds.reute...</td>\n",
              "      <td>['oppressive', 'impoverished']</td>\n",
              "    </tr>\n",
              "    <tr>\n",
              "      <th>1585</th>\n",
              "      <td>Paul Whelan, the former U.S. Marine held in Mo...</td>\n",
              "      <td>http://feeds.reuters.com/~r/Reuters/worldNews/...</td>\n",
              "      <td>reuters</td>\n",
              "      <td>international-politics-and-world-news</td>\n",
              "      <td>center</td>\n",
              "      <td>80.0</td>\n",
              "      <td>1.0</td>\n",
              "      <td>Non-biased</td>\n",
              "      <td>Entirely factual</td>\n",
              "      <td>ERRO - 1: HTTPConnectionPool(host='feeds.reute...</td>\n",
              "      <td>[]</td>\n",
              "    </tr>\n",
              "  </tbody>\n",
              "</table>\n",
              "</div>"
            ],
            "text/plain": [
              "                                               sentence  \\\n",
              "937   A former North Korean diplomat who staged a hi...   \n",
              "1017  In the past Putin has warmly welcomed home Rus...   \n",
              "1073  Russia killed civilians in air strikes in Syri...   \n",
              "1238  Other European countries have also said they w...   \n",
              "1502  European states are trying to accelerate a pla...   \n",
              "1535  If confirmed to have fled, Jo Song Gil would b...   \n",
              "1585  Paul Whelan, the former U.S. Marine held in Mo...   \n",
              "\n",
              "                                              news_link   outlet  \\\n",
              "937   http://feeds.reuters.com/~r/Reuters/worldNews/...  reuters   \n",
              "1017  http://feeds.reuters.com/~r/Reuters/worldNews/...  reuters   \n",
              "1073  http://feeds.reuters.com/~r/Reuters/worldNews/...  reuters   \n",
              "1238  http://feeds.reuters.com/~r/reuters/topNews/~3...  reuters   \n",
              "1502  http://feeds.reuters.com/~r/reuters/topNews/~3...  reuters   \n",
              "1535  http://feeds.reuters.com/~r/Reuters/worldNews/...  reuters   \n",
              "1585  http://feeds.reuters.com/~r/Reuters/worldNews/...  reuters   \n",
              "\n",
              "                                      topic    type  group_id  num_sent  \\\n",
              "937   international-politics-and-world-news  center      47.0       1.0   \n",
              "1017  international-politics-and-world-news  center      51.0       1.0   \n",
              "1073  international-politics-and-world-news  center      54.0       1.0   \n",
              "1238  international-politics-and-world-news  center      62.0       1.0   \n",
              "1502  international-politics-and-world-news  center      76.0       1.0   \n",
              "1535  international-politics-and-world-news  center      77.0       1.0   \n",
              "1585  international-politics-and-world-news  center      80.0       1.0   \n",
              "\n",
              "      Label_bias                          Label_opinion  \\\n",
              "937   Non-biased                       Entirely factual   \n",
              "1017      Biased                           No agreement   \n",
              "1073  Non-biased                       Entirely factual   \n",
              "1238  Non-biased                       Entirely factual   \n",
              "1502  Non-biased                       Entirely factual   \n",
              "1535      Biased  Somewhat factual but also opinionated   \n",
              "1585  Non-biased                       Entirely factual   \n",
              "\n",
              "                                                article  \\\n",
              "937   ERRO - 1: HTTPConnectionPool(host='feeds.reute...   \n",
              "1017  ERRO - 1: HTTPConnectionPool(host='feeds.reute...   \n",
              "1073  ERRO - 1: HTTPConnectionPool(host='feeds.reute...   \n",
              "1238  ERRO - 1: HTTPConnectionPool(host='feeds.reute...   \n",
              "1502  ERRO - 1: HTTPConnectionPool(host='feeds.reute...   \n",
              "1535  ERRO - 1: HTTPConnectionPool(host='feeds.reute...   \n",
              "1585  ERRO - 1: HTTPConnectionPool(host='feeds.reute...   \n",
              "\n",
              "                       biased_words4  \n",
              "937                               []  \n",
              "1017                      ['warmly']  \n",
              "1073                              []  \n",
              "1238                              []  \n",
              "1502                              []  \n",
              "1535  ['oppressive', 'impoverished']  \n",
              "1585                              []  "
            ]
          },
          "execution_count": 59,
          "metadata": {},
          "output_type": "execute_result"
        }
      ],
      "source": [
        "errados_1"
      ]
    },
    {
      "cell_type": "code",
      "execution_count": 60,
      "metadata": {
        "id": "K_m8pJQeD2cL"
      },
      "outputs": [],
      "source": [
        "errados_2 = df.loc[df['article'].apply(lambda x: 'ERRO - 2' in str(x))]"
      ]
    },
    {
      "cell_type": "code",
      "execution_count": 61,
      "metadata": {
        "id": "uWF8zAQMIOdZ"
      },
      "outputs": [
        {
          "data": {
            "text/plain": [
              "(0, 11)"
            ]
          },
          "execution_count": 61,
          "metadata": {},
          "output_type": "execute_result"
        }
      ],
      "source": [
        "errados_2.shape"
      ]
    },
    {
      "cell_type": "code",
      "execution_count": 62,
      "metadata": {
        "id": "e5ju3N5Xd-eN"
      },
      "outputs": [],
      "source": [
        "errados_request = df.loc[df['article'].apply(lambda x: 'ERRO - request' in str(x))]"
      ]
    },
    {
      "cell_type": "code",
      "execution_count": 64,
      "metadata": {
        "id": "EF7qrAwTiJWx"
      },
      "outputs": [
        {
          "data": {
            "text/plain": [
              "(3, 11)"
            ]
          },
          "execution_count": 64,
          "metadata": {},
          "output_type": "execute_result"
        }
      ],
      "source": [
        "errados_request.shape"
      ]
    },
    {
      "cell_type": "code",
      "execution_count": 66,
      "metadata": {
        "id": "LTicAXTgI_W-"
      },
      "outputs": [
        {
          "data": {
            "text/html": [
              "<div>\n",
              "<style scoped>\n",
              "    .dataframe tbody tr th:only-of-type {\n",
              "        vertical-align: middle;\n",
              "    }\n",
              "\n",
              "    .dataframe tbody tr th {\n",
              "        vertical-align: top;\n",
              "    }\n",
              "\n",
              "    .dataframe thead th {\n",
              "        text-align: right;\n",
              "    }\n",
              "</style>\n",
              "<table border=\"1\" class=\"dataframe\">\n",
              "  <thead>\n",
              "    <tr style=\"text-align: right;\">\n",
              "      <th></th>\n",
              "      <th>news_link</th>\n",
              "      <th>article</th>\n",
              "    </tr>\n",
              "  </thead>\n",
              "  <tbody>\n",
              "    <tr>\n",
              "      <th>160</th>\n",
              "      <td>https://www.msn.com/en-gb/news/world/procter-a...</td>\n",
              "      <td>ERRO - request: 410</td>\n",
              "    </tr>\n",
              "    <tr>\n",
              "      <th>913</th>\n",
              "      <td>https://www.msn.com/en-us/news/other/families-...</td>\n",
              "      <td>ERRO - request: 404</td>\n",
              "    </tr>\n",
              "    <tr>\n",
              "      <th>1319</th>\n",
              "      <td>https://www.msn.com/en-us/news/other/families-...</td>\n",
              "      <td>ERRO - request: 404</td>\n",
              "    </tr>\n",
              "  </tbody>\n",
              "</table>\n",
              "</div>"
            ],
            "text/plain": [
              "                                              news_link              article\n",
              "160   https://www.msn.com/en-gb/news/world/procter-a...  ERRO - request: 410\n",
              "913   https://www.msn.com/en-us/news/other/families-...  ERRO - request: 404\n",
              "1319  https://www.msn.com/en-us/news/other/families-...  ERRO - request: 404"
            ]
          },
          "execution_count": 66,
          "metadata": {},
          "output_type": "execute_result"
        }
      ],
      "source": [
        "errados_request[['news_link', 'article']]"
      ]
    },
    {
      "cell_type": "code",
      "execution_count": 68,
      "metadata": {
        "id": "M0AG8yYCJMZ-"
      },
      "outputs": [
        {
          "data": {
            "text/plain": [
              "array(['ERRO - request: 410', 'ERRO - request: 404'], dtype=object)"
            ]
          },
          "execution_count": 68,
          "metadata": {},
          "output_type": "execute_result"
        }
      ],
      "source": [
        "df_exploded = errados_request.explode(\"article\")\n",
        "valores_unicos = df_exploded[\"article\"].unique()\n",
        "del df_exploded\n",
        "valores_unicos"
      ]
    },
    {
      "cell_type": "code",
      "execution_count": 69,
      "metadata": {
        "id": "CkBwT9bNlDhr"
      },
      "outputs": [],
      "source": [
        "merged = df.merge(errados_request, how='left', indicator=True)\n",
        "filtered_df = merged[merged['_merge'] == 'left_only'].drop(columns='_merge')\n",
        "\n",
        "filtered_df = filtered_df.merge(errados_1, how= 'left', indicator = True)\n",
        "filtered_df = filtered_df[filtered_df['_merge'] == 'left_only'].drop(columns='_merge')"
      ]
    },
    {
      "cell_type": "code",
      "execution_count": 71,
      "metadata": {},
      "outputs": [
        {
          "data": {
            "text/html": [
              "<div>\n",
              "<style scoped>\n",
              "    .dataframe tbody tr th:only-of-type {\n",
              "        vertical-align: middle;\n",
              "    }\n",
              "\n",
              "    .dataframe tbody tr th {\n",
              "        vertical-align: top;\n",
              "    }\n",
              "\n",
              "    .dataframe thead th {\n",
              "        text-align: right;\n",
              "    }\n",
              "</style>\n",
              "<table border=\"1\" class=\"dataframe\">\n",
              "  <thead>\n",
              "    <tr style=\"text-align: right;\">\n",
              "      <th></th>\n",
              "      <th>sentence</th>\n",
              "      <th>news_link</th>\n",
              "      <th>outlet</th>\n",
              "      <th>topic</th>\n",
              "      <th>type</th>\n",
              "      <th>group_id</th>\n",
              "      <th>num_sent</th>\n",
              "      <th>Label_bias</th>\n",
              "      <th>Label_opinion</th>\n",
              "      <th>article</th>\n",
              "      <th>biased_words4</th>\n",
              "    </tr>\n",
              "  </thead>\n",
              "  <tbody>\n",
              "    <tr>\n",
              "      <th>0</th>\n",
              "      <td>YouTube is making clear there will be no “birt...</td>\n",
              "      <td>https://eu.usatoday.com/story/tech/2020/02/03/...</td>\n",
              "      <td>usa-today</td>\n",
              "      <td>elections-2020</td>\n",
              "      <td>center</td>\n",
              "      <td>1.0</td>\n",
              "      <td>1.0</td>\n",
              "      <td>Biased</td>\n",
              "      <td>Somewhat factual but also opinionated</td>\n",
              "      <td>YouTube says no ‘deepfakes’ or ‘birther’ video...</td>\n",
              "      <td>['belated', 'birtherism']</td>\n",
              "    </tr>\n",
              "    <tr>\n",
              "      <th>1</th>\n",
              "      <td>The increasingly bitter dispute between Americ...</td>\n",
              "      <td>https://www.nbcnews.com/news/sports/women-s-te...</td>\n",
              "      <td>msnbc</td>\n",
              "      <td>sport</td>\n",
              "      <td>left</td>\n",
              "      <td>1.0</td>\n",
              "      <td>1.0</td>\n",
              "      <td>Non-biased</td>\n",
              "      <td>Entirely factual</td>\n",
              "      <td>FRISCO, Texas — The increasingly bitter disput...</td>\n",
              "      <td>['bitter']</td>\n",
              "    </tr>\n",
              "    <tr>\n",
              "      <th>2</th>\n",
              "      <td>So while there may be a humanitarian crisis dr...</td>\n",
              "      <td>https://www.alternet.org/2019/01/here-are-5-of...</td>\n",
              "      <td>alternet</td>\n",
              "      <td>immigration</td>\n",
              "      <td>left</td>\n",
              "      <td>1.0</td>\n",
              "      <td>1.0</td>\n",
              "      <td>Biased</td>\n",
              "      <td>Expresses writer’s opinion</td>\n",
              "      <td>Speaking to the country for the first time fro...</td>\n",
              "      <td>['crisis']</td>\n",
              "    </tr>\n",
              "    <tr>\n",
              "      <th>3</th>\n",
              "      <td>A professor who teaches climate change classes...</td>\n",
              "      <td>https://www.breitbart.com/politics/2019/05/09/...</td>\n",
              "      <td>breitbart</td>\n",
              "      <td>environment</td>\n",
              "      <td>right</td>\n",
              "      <td>1.0</td>\n",
              "      <td>1.0</td>\n",
              "      <td>Non-biased</td>\n",
              "      <td>No agreement</td>\n",
              "      <td>A professor who teaches climate change classes...</td>\n",
              "      <td>['legitimate']</td>\n",
              "    </tr>\n",
              "    <tr>\n",
              "      <th>4</th>\n",
              "      <td>Looking around the United States, there is nev...</td>\n",
              "      <td>https://thefederalist.com/2020/03/11/woman-who...</td>\n",
              "      <td>federalist</td>\n",
              "      <td>abortion</td>\n",
              "      <td>right</td>\n",
              "      <td>1.0</td>\n",
              "      <td>1.0</td>\n",
              "      <td>Biased</td>\n",
              "      <td>Somewhat factual but also opinionated</td>\n",
              "      <td>The left has a thing for taking babies hostage...</td>\n",
              "      <td>['killing', 'never', 'developing', 'humans', '...</td>\n",
              "    </tr>\n",
              "    <tr>\n",
              "      <th>...</th>\n",
              "      <td>...</td>\n",
              "      <td>...</td>\n",
              "      <td>...</td>\n",
              "      <td>...</td>\n",
              "      <td>...</td>\n",
              "      <td>...</td>\n",
              "      <td>...</td>\n",
              "      <td>...</td>\n",
              "      <td>...</td>\n",
              "      <td>...</td>\n",
              "      <td>...</td>\n",
              "    </tr>\n",
              "    <tr>\n",
              "      <th>1692</th>\n",
              "      <td>In every case legislators are being swarmed by...</td>\n",
              "      <td>https://www.alternet.org/2019/04/republicans-w...</td>\n",
              "      <td>alternet</td>\n",
              "      <td>gender</td>\n",
              "      <td>left</td>\n",
              "      <td>85.0</td>\n",
              "      <td>1.0</td>\n",
              "      <td>Biased</td>\n",
              "      <td>Expresses writer’s opinion</td>\n",
              "      <td>There are many reasons that Republicans and co...</td>\n",
              "      <td>['deceit', 'hysteria', 'swarmed', 'right-wing']</td>\n",
              "    </tr>\n",
              "    <tr>\n",
              "      <th>1693</th>\n",
              "      <td>Polls show the transgender ideology is deeply ...</td>\n",
              "      <td>https://www.breitbart.com/politics/2019/02/21/...</td>\n",
              "      <td>breitbart</td>\n",
              "      <td>gender</td>\n",
              "      <td>right</td>\n",
              "      <td>85.0</td>\n",
              "      <td>1.0</td>\n",
              "      <td>Biased</td>\n",
              "      <td>Somewhat factual but also opinionated</td>\n",
              "      <td>A man’s penis becomes a female penis once a ma...</td>\n",
              "      <td>['ideology', 'unpopular']</td>\n",
              "    </tr>\n",
              "    <tr>\n",
              "      <th>1694</th>\n",
              "      <td>Democrats and Republicans stood and applauded ...</td>\n",
              "      <td>https://eu.usatoday.com/story/news/politics/20...</td>\n",
              "      <td>usa-today</td>\n",
              "      <td>gender</td>\n",
              "      <td>center</td>\n",
              "      <td>85.0</td>\n",
              "      <td>1.0</td>\n",
              "      <td>Non-biased</td>\n",
              "      <td>Entirely factual</td>\n",
              "      <td>(WASHINGTON – New Mexico Rep. Debra Haaland go...</td>\n",
              "      <td>['saluted']</td>\n",
              "    </tr>\n",
              "    <tr>\n",
              "      <th>1695</th>\n",
              "      <td>As a self-described Democratic socialist, Sen....</td>\n",
              "      <td>https://www.foxnews.com/politics/how-did-berni...</td>\n",
              "      <td>fox-news</td>\n",
              "      <td>middle-class</td>\n",
              "      <td>right</td>\n",
              "      <td>85.0</td>\n",
              "      <td>1.0</td>\n",
              "      <td>Non-biased</td>\n",
              "      <td>Entirely factual</td>\n",
              "      <td>As a self-described Democratic socialist, Sen....</td>\n",
              "      <td>['outspoken']</td>\n",
              "    </tr>\n",
              "    <tr>\n",
              "      <th>1696</th>\n",
              "      <td>During the segment, Colbert also bemoaned the ...</td>\n",
              "      <td>https://www.breitbart.com/entertainment/2018/1...</td>\n",
              "      <td>breitbart</td>\n",
              "      <td>white-nationalism</td>\n",
              "      <td>right</td>\n",
              "      <td>85.0</td>\n",
              "      <td>1.0</td>\n",
              "      <td>Non-biased</td>\n",
              "      <td>No agreement</td>\n",
              "      <td>CBS Late Show host Stephen Colbert claimed on ...</td>\n",
              "      <td>['bemoaned']</td>\n",
              "    </tr>\n",
              "  </tbody>\n",
              "</table>\n",
              "<p>1690 rows × 11 columns</p>\n",
              "</div>"
            ],
            "text/plain": [
              "                                               sentence  \\\n",
              "0     YouTube is making clear there will be no “birt...   \n",
              "1     The increasingly bitter dispute between Americ...   \n",
              "2     So while there may be a humanitarian crisis dr...   \n",
              "3     A professor who teaches climate change classes...   \n",
              "4     Looking around the United States, there is nev...   \n",
              "...                                                 ...   \n",
              "1692  In every case legislators are being swarmed by...   \n",
              "1693  Polls show the transgender ideology is deeply ...   \n",
              "1694  Democrats and Republicans stood and applauded ...   \n",
              "1695  As a self-described Democratic socialist, Sen....   \n",
              "1696  During the segment, Colbert also bemoaned the ...   \n",
              "\n",
              "                                              news_link      outlet  \\\n",
              "0     https://eu.usatoday.com/story/tech/2020/02/03/...   usa-today   \n",
              "1     https://www.nbcnews.com/news/sports/women-s-te...       msnbc   \n",
              "2     https://www.alternet.org/2019/01/here-are-5-of...    alternet   \n",
              "3     https://www.breitbart.com/politics/2019/05/09/...   breitbart   \n",
              "4     https://thefederalist.com/2020/03/11/woman-who...  federalist   \n",
              "...                                                 ...         ...   \n",
              "1692  https://www.alternet.org/2019/04/republicans-w...    alternet   \n",
              "1693  https://www.breitbart.com/politics/2019/02/21/...   breitbart   \n",
              "1694  https://eu.usatoday.com/story/news/politics/20...   usa-today   \n",
              "1695  https://www.foxnews.com/politics/how-did-berni...    fox-news   \n",
              "1696  https://www.breitbart.com/entertainment/2018/1...   breitbart   \n",
              "\n",
              "                  topic    type  group_id  num_sent  Label_bias  \\\n",
              "0        elections-2020  center       1.0       1.0      Biased   \n",
              "1                 sport    left       1.0       1.0  Non-biased   \n",
              "2           immigration    left       1.0       1.0      Biased   \n",
              "3           environment   right       1.0       1.0  Non-biased   \n",
              "4              abortion   right       1.0       1.0      Biased   \n",
              "...                 ...     ...       ...       ...         ...   \n",
              "1692             gender    left      85.0       1.0      Biased   \n",
              "1693             gender   right      85.0       1.0      Biased   \n",
              "1694             gender  center      85.0       1.0  Non-biased   \n",
              "1695       middle-class   right      85.0       1.0  Non-biased   \n",
              "1696  white-nationalism   right      85.0       1.0  Non-biased   \n",
              "\n",
              "                              Label_opinion  \\\n",
              "0     Somewhat factual but also opinionated   \n",
              "1                          Entirely factual   \n",
              "2                Expresses writer’s opinion   \n",
              "3                              No agreement   \n",
              "4     Somewhat factual but also opinionated   \n",
              "...                                     ...   \n",
              "1692             Expresses writer’s opinion   \n",
              "1693  Somewhat factual but also opinionated   \n",
              "1694                       Entirely factual   \n",
              "1695                       Entirely factual   \n",
              "1696                           No agreement   \n",
              "\n",
              "                                                article  \\\n",
              "0     YouTube says no ‘deepfakes’ or ‘birther’ video...   \n",
              "1     FRISCO, Texas — The increasingly bitter disput...   \n",
              "2     Speaking to the country for the first time fro...   \n",
              "3     A professor who teaches climate change classes...   \n",
              "4     The left has a thing for taking babies hostage...   \n",
              "...                                                 ...   \n",
              "1692  There are many reasons that Republicans and co...   \n",
              "1693  A man’s penis becomes a female penis once a ma...   \n",
              "1694  (WASHINGTON – New Mexico Rep. Debra Haaland go...   \n",
              "1695  As a self-described Democratic socialist, Sen....   \n",
              "1696  CBS Late Show host Stephen Colbert claimed on ...   \n",
              "\n",
              "                                          biased_words4  \n",
              "0                             ['belated', 'birtherism']  \n",
              "1                                            ['bitter']  \n",
              "2                                            ['crisis']  \n",
              "3                                        ['legitimate']  \n",
              "4     ['killing', 'never', 'developing', 'humans', '...  \n",
              "...                                                 ...  \n",
              "1692    ['deceit', 'hysteria', 'swarmed', 'right-wing']  \n",
              "1693                          ['ideology', 'unpopular']  \n",
              "1694                                        ['saluted']  \n",
              "1695                                      ['outspoken']  \n",
              "1696                                       ['bemoaned']  \n",
              "\n",
              "[1690 rows x 11 columns]"
            ]
          },
          "execution_count": 71,
          "metadata": {},
          "output_type": "execute_result"
        }
      ],
      "source": [
        "filtered_df"
      ]
    },
    {
      "cell_type": "code",
      "execution_count": 72,
      "metadata": {},
      "outputs": [],
      "source": [
        "#filtered_df['article'] = filtered_df['article'].fillna(filtered_df['full_article'])"
      ]
    },
    {
      "cell_type": "code",
      "execution_count": 73,
      "metadata": {
        "id": "B5sSQHUIp2zt"
      },
      "outputs": [],
      "source": [
        "filtered_df.dropna(subset = ['article'], inplace = True)"
      ]
    },
    {
      "cell_type": "code",
      "execution_count": 74,
      "metadata": {},
      "outputs": [
        {
          "data": {
            "text/plain": [
              "(1690, 11)"
            ]
          },
          "execution_count": 74,
          "metadata": {},
          "output_type": "execute_result"
        }
      ],
      "source": [
        "filtered_df.shape"
      ]
    },
    {
      "cell_type": "code",
      "execution_count": 75,
      "metadata": {
        "id": "bo-NlaW-OEn1"
      },
      "outputs": [],
      "source": [
        "filtered_df.to_csv(\"../data/full_articles_dataset.csv\", index = False)"
      ]
    },
    {
      "cell_type": "code",
      "execution_count": null,
      "metadata": {},
      "outputs": [],
      "source": []
    }
  ],
  "metadata": {
    "colab": {
      "authorship_tag": "ABX9TyO2lJ3O1q6TP8ntJRH93k8+",
      "provenance": []
    },
    "kernelspec": {
      "display_name": "Python 3",
      "name": "python3"
    },
    "language_info": {
      "codemirror_mode": {
        "name": "ipython",
        "version": 3
      },
      "file_extension": ".py",
      "mimetype": "text/x-python",
      "name": "python",
      "nbconvert_exporter": "python",
      "pygments_lexer": "ipython3",
      "version": "3.10.0"
    }
  },
  "nbformat": 4,
  "nbformat_minor": 0
}
