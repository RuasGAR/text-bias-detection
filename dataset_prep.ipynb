{
  "cells": [
    {
      "cell_type": "code",
      "execution_count": 1,
      "metadata": {
        "id": "_wI4b_54pQ2u"
      },
      "outputs": [],
      "source": [
        "#!pip install grequests"
      ]
    },
    {
      "cell_type": "code",
      "execution_count": 2,
      "metadata": {
        "id": "pTQgk-wlt_FN"
      },
      "outputs": [],
      "source": [
        "import pandas as pd\n",
        "import numpy as np\n",
        "import os\n",
        "import warnings\n",
        "warnings.filterwarnings(\"ignore\", category=DeprecationWarning, module=\"grequests\")\n",
        "os.environ['GEVENT_SUPPORT'] = 'True'\n",
        "#import grequests\n",
        "import requests\n",
        "from bs4 import BeautifulSoup\n",
        "import json\n",
        "import concurrent.futures\n",
        "import urllib3\n",
        "import time"
      ]
    },
    {
      "cell_type": "code",
      "execution_count": 3,
      "metadata": {
        "id": "4dxeqw4UuJsV"
      },
      "outputs": [],
      "source": [
        "####### INUTIL #############\n",
        "#pd.read_csv(\"annotators.csv\")"
      ]
    },
    {
      "cell_type": "code",
      "execution_count": 4,
      "metadata": {
        "id": "5GT-obs3vQmf"
      },
      "outputs": [],
      "source": [
        "#pd.read_excel(\"annotations.xlsx\")"
      ]
    },
    {
      "cell_type": "code",
      "execution_count": 5,
      "metadata": {
        "colab": {
          "base_uri": "https://localhost:8080/"
        },
        "id": "7NerWLAsvE56",
        "outputId": "c87d0f19-bb3e-4e30-daa4-26a214676b37"
      },
      "outputs": [
        {
          "output_type": "stream",
          "name": "stderr",
          "text": [
            "/usr/local/lib/python3.10/dist-packages/openpyxl/worksheet/_reader.py:312: UserWarning: Unknown extension is not supported and will be removed\n",
            "  warn(msg)\n"
          ]
        }
      ],
      "source": [
        "df = pd.read_excel(\"labeled_dataset.xlsx\").drop([\"Unnamed: 0\"], axis = 1)"
      ]
    },
    {
      "cell_type": "code",
      "execution_count": 6,
      "metadata": {
        "id": "ciFOfoYGN1BD"
      },
      "outputs": [],
      "source": [
        "df.dropna(subset=['news_link'], inplace=True)"
      ]
    },
    {
      "cell_type": "code",
      "execution_count": 7,
      "metadata": {
        "id": "eQfovzDUwO-Z",
        "colab": {
          "base_uri": "https://localhost:8080/"
        },
        "outputId": "eef63776-16b1-401f-f536-54e5c7e33b7b"
      },
      "outputs": [
        {
          "output_type": "execute_result",
          "data": {
            "text/plain": [
              "Index(['sentence', 'news_link', 'outlet', 'topic', 'type', 'group_id',\n",
              "       'num_sent', 'Label_bias', 'Label_opinion', 'article', 'biased_words4'],\n",
              "      dtype='object')"
            ]
          },
          "metadata": {},
          "execution_count": 7
        }
      ],
      "source": [
        "df.columns"
      ]
    },
    {
      "cell_type": "code",
      "execution_count": 8,
      "metadata": {
        "id": "aXYlBU2tN4LD",
        "colab": {
          "base_uri": "https://localhost:8080/"
        },
        "outputId": "9b5b09e6-1531-415f-b4cc-36354a7bbfed"
      },
      "outputs": [
        {
          "output_type": "execute_result",
          "data": {
            "text/plain": [
              "(1681, 11)"
            ]
          },
          "metadata": {},
          "execution_count": 8
        }
      ],
      "source": [
        "df.shape"
      ]
    },
    {
      "cell_type": "code",
      "execution_count": 9,
      "metadata": {
        "id": "82PrNtCbxpda",
        "colab": {
          "base_uri": "https://localhost:8080/"
        },
        "outputId": "6edd73bf-005d-4a58-ad31-c7d4fb1dc327"
      },
      "outputs": [
        {
          "output_type": "execute_result",
          "data": {
            "text/plain": [
              "array(['center', 'left', 'right'], dtype=object)"
            ]
          },
          "metadata": {},
          "execution_count": 9
        }
      ],
      "source": [
        "df['type'].unique()"
      ]
    },
    {
      "cell_type": "code",
      "execution_count": 10,
      "metadata": {
        "id": "oVZXk5MMyY_8",
        "colab": {
          "base_uri": "https://localhost:8080/"
        },
        "outputId": "6a9daa56-2546-4496-fc4f-558850d9a23a"
      },
      "outputs": [
        {
          "output_type": "execute_result",
          "data": {
            "text/plain": [
              "array(['elections-2020', 'sport', 'immigration', 'environment',\n",
              "       'abortion', 'student-debt', 'vaccines', 'white-nationalism',\n",
              "       'coronavirus', 'trump-presidency', 'middle-class', 'gender',\n",
              "       'international-politics-and-world-news', 'gun-control'],\n",
              "      dtype=object)"
            ]
          },
          "metadata": {},
          "execution_count": 10
        }
      ],
      "source": [
        "df['topic'].unique()"
      ]
    },
    {
      "cell_type": "code",
      "execution_count": 11,
      "metadata": {
        "id": "MOMXmdSagEIM"
      },
      "outputs": [],
      "source": [
        "def get_news_batch(urls):\n",
        "    results = []\n",
        "    \n",
        "    with concurrent.futures.ThreadPoolExecutor() as executor:\n",
        "        futures = [executor.submit(get_news, i, url) for i, url in enumerate(urls)]\n",
        "        \n",
        "        for future in concurrent.futures.as_completed(futures):\n",
        "            result = future.result()\n",
        "            results.append(result)\n",
        "    \n",
        "    return dict(results)"
      ]
    },
    {
      "cell_type": "code",
      "execution_count": 12,
      "metadata": {
        "id": "ptEfUo6KsSM9"
      },
      "outputs": [],
      "source": [
        "def get_news(index, url):\n",
        "    try:\n",
        "        http = urllib3.PoolManager()\n",
        "        response = http.request(\"GET\", url)\n",
        "    except:\n",
        "        #time.sleep(1)\n",
        "        return (index, (\"ERRO - 1\"))\n",
        "        #return get_news(index, url)\n",
        "\n",
        "    if response.status != 200:\n",
        "      # Trata a resposta de erro\n",
        "      if response.status == 429:\n",
        "        time.sleep(3)\n",
        "        return get_news(index, url)\n",
        "      \n",
        "      soup = BeautifulSoup(response.read(), \"html.parser\")\n",
        "      error_message = soup.get_text()\n",
        "      return (index, (f\"ERRO - request: {response.status}\"))\n",
        "    \n",
        "    soup = BeautifulSoup(response.read(), \"html.parser\")\n",
        "    paragrafos = soup.find_all(\"p\")\n",
        "    \n",
        "    texto_paragrafos = []\n",
        "    \n",
        "    try:\n",
        "        for paragrafo in paragrafos:\n",
        "            texto_paragrafos.append(paragrafo.get_text())\n",
        "    except:\n",
        "        texto_paragrafos.append(\"ERRO - 2\")\n",
        "\n",
        "    if len(texto_paragrafos) == 0 :\n",
        "      soup = BeautifulSoup(response.data, \"html.parser\")\n",
        "      paragrafos = soup.find_all(\"p\")\n",
        "      \n",
        "      texto_paragrafos = []\n",
        "      \n",
        "      try:\n",
        "          for paragrafo in paragrafos:\n",
        "              texto_paragrafos.append(paragrafo.get_text())\n",
        "      except:\n",
        "          texto_paragrafos.append(\"ERRO - 3\")\n",
        "\n",
        "    \n",
        "    return (index, tuple(texto_paragrafos))\n"
      ]
    },
    {
      "cell_type": "code",
      "execution_count": 13,
      "metadata": {
        "id": "gvMyXrBhtp32",
        "colab": {
          "base_uri": "https://localhost:8080/"
        },
        "outputId": "c2125ea8-a6f4-4704-8398-958647cb4932"
      },
      "outputs": [
        {
          "output_type": "stream",
          "name": "stderr",
          "text": [
            "WARNING:urllib3.connectionpool:Retrying (Retry(total=2, connect=None, read=None, redirect=None, status=None)) after connection broken by 'NewConnectionError('<urllib3.connection.HTTPConnection object at 0x7f85fb6879a0>: Failed to establish a new connection: [Errno -2] Name or service not known')': /~r/Reuters/worldNews/~3/W6R1JElryi4/former-north-korean-diplomat-urges-missing-colleague-in-italy-to-go-to-south-korea-not-u-s-idUSKCN1OZ05R\n",
            "WARNING:urllib3.connectionpool:Retrying (Retry(total=1, connect=None, read=None, redirect=None, status=None)) after connection broken by 'NewConnectionError('<urllib3.connection.HTTPConnection object at 0x7f85fb477a00>: Failed to establish a new connection: [Errno -2] Name or service not known')': /~r/Reuters/worldNews/~3/W6R1JElryi4/former-north-korean-diplomat-urges-missing-colleague-in-italy-to-go-to-south-korea-not-u-s-idUSKCN1OZ05R\n",
            "WARNING:urllib3.connectionpool:Retrying (Retry(total=0, connect=None, read=None, redirect=None, status=None)) after connection broken by 'NewConnectionError('<urllib3.connection.HTTPConnection object at 0x7f85fbedceb0>: Failed to establish a new connection: [Errno -2] Name or service not known')': /~r/Reuters/worldNews/~3/W6R1JElryi4/former-north-korean-diplomat-urges-missing-colleague-in-italy-to-go-to-south-korea-not-u-s-idUSKCN1OZ05R\n",
            "WARNING:urllib3.connectionpool:Retrying (Retry(total=2, connect=None, read=None, redirect=None, status=None)) after connection broken by 'NewConnectionError('<urllib3.connection.HTTPConnection object at 0x7f860b530730>: Failed to establish a new connection: [Errno -2] Name or service not known')': /~r/Reuters/worldNews/~3/_DFT_KTkHxU/russian-woman-convicted-by-u-s-of-being-agent-returns-home-idUSKBN1X504A\n",
            "WARNING:urllib3.connectionpool:Retrying (Retry(total=1, connect=None, read=None, redirect=None, status=None)) after connection broken by 'NewConnectionError('<urllib3.connection.HTTPConnection object at 0x7f860b501cc0>: Failed to establish a new connection: [Errno -2] Name or service not known')': /~r/Reuters/worldNews/~3/_DFT_KTkHxU/russian-woman-convicted-by-u-s-of-being-agent-returns-home-idUSKBN1X504A\n",
            "WARNING:urllib3.connectionpool:Retrying (Retry(total=0, connect=None, read=None, redirect=None, status=None)) after connection broken by 'NewConnectionError('<urllib3.connection.HTTPConnection object at 0x7f85fbca0280>: Failed to establish a new connection: [Errno -2] Name or service not known')': /~r/Reuters/worldNews/~3/_DFT_KTkHxU/russian-woman-convicted-by-u-s-of-being-agent-returns-home-idUSKBN1X504A\n",
            "WARNING:urllib3.connectionpool:Retrying (Retry(total=2, connect=None, read=None, redirect=None, status=None)) after connection broken by 'NewConnectionError('<urllib3.connection.HTTPConnection object at 0x7f860800ce50>: Failed to establish a new connection: [Errno -2] Name or service not known')': /~r/Reuters/worldNews/~3/qFlQBxTkOgY/russia-turkey-may-have-committed-war-crimes-in-syria-u-n-says-idUSKBN20P1IR\n",
            "WARNING:urllib3.connectionpool:Retrying (Retry(total=1, connect=None, read=None, redirect=None, status=None)) after connection broken by 'NewConnectionError('<urllib3.connection.HTTPConnection object at 0x7f860800c100>: Failed to establish a new connection: [Errno -2] Name or service not known')': /~r/Reuters/worldNews/~3/qFlQBxTkOgY/russia-turkey-may-have-committed-war-crimes-in-syria-u-n-says-idUSKBN20P1IR\n",
            "WARNING:urllib3.connectionpool:Retrying (Retry(total=0, connect=None, read=None, redirect=None, status=None)) after connection broken by 'NewConnectionError('<urllib3.connection.HTTPConnection object at 0x7f85fb8a5870>: Failed to establish a new connection: [Errno -2] Name or service not known')': /~r/Reuters/worldNews/~3/qFlQBxTkOgY/russia-turkey-may-have-committed-war-crimes-in-syria-u-n-says-idUSKBN20P1IR\n",
            "WARNING:urllib3.connectionpool:Retrying (Retry(total=2, connect=None, read=None, redirect=None, status=None)) after connection broken by 'NewConnectionError('<urllib3.connection.HTTPConnection object at 0x7f85fbb68b80>: Failed to establish a new connection: [Errno -2] Name or service not known')': /~r/reuters/topNews/~3/6nQJrLE2CtU/denmark-to-strip-foreign-fighters-of-danish-citizenship-idUSKBN1WT1RN\n",
            "WARNING:urllib3.connectionpool:Retrying (Retry(total=1, connect=None, read=None, redirect=None, status=None)) after connection broken by 'NewConnectionError('<urllib3.connection.HTTPConnection object at 0x7f85fb9f0520>: Failed to establish a new connection: [Errno -2] Name or service not known')': /~r/reuters/topNews/~3/6nQJrLE2CtU/denmark-to-strip-foreign-fighters-of-danish-citizenship-idUSKBN1WT1RN\n",
            "WARNING:urllib3.connectionpool:Retrying (Retry(total=0, connect=None, read=None, redirect=None, status=None)) after connection broken by 'NewConnectionError('<urllib3.connection.HTTPConnection object at 0x7f85fb897c70>: Failed to establish a new connection: [Errno -2] Name or service not known')': /~r/reuters/topNews/~3/6nQJrLE2CtU/denmark-to-strip-foreign-fighters-of-danish-citizenship-idUSKBN1WT1RN\n",
            "WARNING:urllib3.connectionpool:Retrying (Retry(total=2, connect=None, read=None, redirect=None, status=None)) after connection broken by 'NewConnectionError('<urllib3.connection.HTTPConnection object at 0x7f85fbd2d5a0>: Failed to establish a new connection: [Errno -2] Name or service not known')': /~r/reuters/topNews/~3/6nQJrLE2CtU/denmark-to-strip-foreign-fighters-of-danish-citizenship-idUSKBN1WT1RN\n",
            "WARNING:urllib3.connectionpool:Retrying (Retry(total=1, connect=None, read=None, redirect=None, status=None)) after connection broken by 'NewConnectionError('<urllib3.connection.HTTPConnection object at 0x7f85fbd2dc60>: Failed to establish a new connection: [Errno -2] Name or service not known')': /~r/reuters/topNews/~3/6nQJrLE2CtU/denmark-to-strip-foreign-fighters-of-danish-citizenship-idUSKBN1WT1RN\n",
            "WARNING:urllib3.connectionpool:Retrying (Retry(total=0, connect=None, read=None, redirect=None, status=None)) after connection broken by 'NewConnectionError('<urllib3.connection.HTTPConnection object at 0x7f85fbd2db10>: Failed to establish a new connection: [Errno -2] Name or service not known')': /~r/reuters/topNews/~3/6nQJrLE2CtU/denmark-to-strip-foreign-fighters-of-danish-citizenship-idUSKBN1WT1RN\n",
            "WARNING:urllib3.connectionpool:Retrying (Retry(total=2, connect=None, read=None, redirect=None, status=None)) after connection broken by 'NewConnectionError('<urllib3.connection.HTTPConnection object at 0x7f860b389060>: Failed to establish a new connection: [Errno -2] Name or service not known')': /~r/Reuters/worldNews/~3/W6R1JElryi4/former-north-korean-diplomat-urges-missing-colleague-in-italy-to-go-to-south-korea-not-u-s-idUSKCN1OZ05R\n",
            "WARNING:urllib3.connectionpool:Retrying (Retry(total=1, connect=None, read=None, redirect=None, status=None)) after connection broken by 'NewConnectionError('<urllib3.connection.HTTPConnection object at 0x7f85fb012020>: Failed to establish a new connection: [Errno -2] Name or service not known')': /~r/Reuters/worldNews/~3/W6R1JElryi4/former-north-korean-diplomat-urges-missing-colleague-in-italy-to-go-to-south-korea-not-u-s-idUSKCN1OZ05R\n",
            "WARNING:urllib3.connectionpool:Retrying (Retry(total=0, connect=None, read=None, redirect=None, status=None)) after connection broken by 'NewConnectionError('<urllib3.connection.HTTPConnection object at 0x7f85fb932b30>: Failed to establish a new connection: [Errno -2] Name or service not known')': /~r/Reuters/worldNews/~3/W6R1JElryi4/former-north-korean-diplomat-urges-missing-colleague-in-italy-to-go-to-south-korea-not-u-s-idUSKCN1OZ05R\n",
            "WARNING:urllib3.connectionpool:Retrying (Retry(total=2, connect=None, read=None, redirect=None, status=None)) after connection broken by 'NewConnectionError('<urllib3.connection.HTTPConnection object at 0x7f860b389ab0>: Failed to establish a new connection: [Errno -2] Name or service not known')': /~r/Reuters/worldNews/~3/UZ6lsTlof2I/former-u-s-marine-held-for-spying-had-russian-contacts-with-military-backgrounds-idUSKCN1P41XF\n",
            "WARNING:urllib3.connectionpool:Retrying (Retry(total=1, connect=None, read=None, redirect=None, status=None)) after connection broken by 'NewConnectionError('<urllib3.connection.HTTPConnection object at 0x7f85faffcb20>: Failed to establish a new connection: [Errno -2] Name or service not known')': /~r/Reuters/worldNews/~3/UZ6lsTlof2I/former-u-s-marine-held-for-spying-had-russian-contacts-with-military-backgrounds-idUSKCN1P41XF\n",
            "WARNING:urllib3.connectionpool:Retrying (Retry(total=0, connect=None, read=None, redirect=None, status=None)) after connection broken by 'NewConnectionError('<urllib3.connection.HTTPConnection object at 0x7f85fb9f1ea0>: Failed to establish a new connection: [Errno -2] Name or service not known')': /~r/Reuters/worldNews/~3/UZ6lsTlof2I/former-u-s-marine-held-for-spying-had-russian-contacts-with-military-backgrounds-idUSKCN1P41XF\n"
          ]
        }
      ],
      "source": [
        "urls = df[\"news_link\"].tolist()\n",
        "dict_news_text = get_news_batch(urls)"
      ]
    },
    {
      "cell_type": "code",
      "execution_count": 14,
      "metadata": {
        "id": "7CcjjxCQtrPX",
        "colab": {
          "base_uri": "https://localhost:8080/"
        },
        "outputId": "2fd62707-2513-4596-c0f8-5346ab183124"
      },
      "outputs": [
        {
          "output_type": "execute_result",
          "data": {
            "text/plain": [
              "1681"
            ]
          },
          "metadata": {},
          "execution_count": 14
        }
      ],
      "source": [
        "len(urls)"
      ]
    },
    {
      "cell_type": "code",
      "execution_count": 15,
      "metadata": {
        "id": "YeS9axR8uBZr",
        "colab": {
          "base_uri": "https://localhost:8080/"
        },
        "outputId": "31122ab7-fcbd-4b73-98f6-2f9e60d3333d"
      },
      "outputs": [
        {
          "output_type": "execute_result",
          "data": {
            "text/plain": [
              "1681"
            ]
          },
          "metadata": {},
          "execution_count": 15
        }
      ],
      "source": [
        "len(dict_news_text.keys())"
      ]
    },
    {
      "cell_type": "code",
      "execution_count": 16,
      "metadata": {
        "id": "2l-yHoEsuJ-S"
      },
      "outputs": [],
      "source": [
        "dict_news_series = pd.Series(dict_news_text)"
      ]
    },
    {
      "cell_type": "code",
      "execution_count": 17,
      "metadata": {
        "id": "CMpRVicWubiq"
      },
      "outputs": [],
      "source": [
        "df['full_article'] = dict_news_series"
      ]
    },
    {
      "cell_type": "markdown",
      "metadata": {
        "id": "i2Il12IXDrnA"
      },
      "source": [
        "Problematicos:"
      ]
    },
    {
      "cell_type": "code",
      "execution_count": 18,
      "metadata": {
        "id": "wUfilf0TuhKY"
      },
      "outputs": [],
      "source": [
        "#zerados = df.loc[df['full_article'].apply(len) == 0]\n"
      ]
    },
    {
      "cell_type": "code",
      "execution_count": 19,
      "metadata": {
        "id": "kKvAgVQ7uh-R"
      },
      "outputs": [],
      "source": [
        "errados_1 = df.loc[df['full_article'].apply(lambda x: 'ERRO - 1' in str(x))]"
      ]
    },
    {
      "cell_type": "code",
      "execution_count": 20,
      "metadata": {
        "id": "1cF_70tiH5L5",
        "colab": {
          "base_uri": "https://localhost:8080/"
        },
        "outputId": "68b5a6b3-3228-42e1-b357-6d20e477a407"
      },
      "outputs": [
        {
          "output_type": "execute_result",
          "data": {
            "text/plain": [
              "(7, 12)"
            ]
          },
          "metadata": {},
          "execution_count": 20
        }
      ],
      "source": [
        "errados_1.shape"
      ]
    },
    {
      "cell_type": "code",
      "execution_count": 21,
      "metadata": {
        "id": "UAocKxiHMhRZ",
        "colab": {
          "base_uri": "https://localhost:8080/",
          "height": 836
        },
        "outputId": "00009188-9f21-46c6-f8e3-1a55b15c77f3"
      },
      "outputs": [
        {
          "output_type": "execute_result",
          "data": {
            "text/plain": [
              "                                               sentence  \\\n",
              "922   An avowed white supremacist pleaded guilty on ...   \n",
              "1002  Malinowski, a Democrat representing New Jersey...   \n",
              "1058  Part of the reason billionaires can swoop in a...   \n",
              "1223  Background checks required to buy firearms hav...   \n",
              "1484  In a bizarre and unexpected twist, pop super s...   \n",
              "1517  John William King, 44, a white supremacist who...   \n",
              "1567  The Republicans’ corporate tax cuts also magni...   \n",
              "\n",
              "                                              news_link     outlet  \\\n",
              "922   https://eu.usatoday.com/story/news/nation/2020...  usa-today   \n",
              "1002  https://www.breitbart.com/politics/2020/04/09/...  breitbart   \n",
              "1058  https://www.nbcnews.com/think/opinion/jeff-bez...      msnbc   \n",
              "1223  https://eu.usatoday.com/story/money/2020/04/02...  usa-today   \n",
              "1484  https://www.breitbart.com/entertainment/2020/0...  breitbart   \n",
              "1517  https://eu.usatoday.com/story/news/nation/2019...  usa-today   \n",
              "1567  https://www.nbcnews.com/business/economy/trump...      msnbc   \n",
              "\n",
              "                  topic    type  group_id  num_sent    Label_bias  \\\n",
              "922   white-nationalism  center        47         1  No agreement   \n",
              "1002        coronavirus   right        51         1    Non-biased   \n",
              "1058       middle-class    left        53         1        Biased   \n",
              "1223        gun-control  center        62         1    Non-biased   \n",
              "1484             gender   right        75         1        Biased   \n",
              "1517  white-nationalism  center        76         1    Non-biased   \n",
              "1567       middle-class    left        79         1        Biased   \n",
              "\n",
              "                              Label_opinion  \\\n",
              "922                        Entirely factual   \n",
              "1002                       Entirely factual   \n",
              "1058             Expresses writer’s opinion   \n",
              "1223  Somewhat factual but also opinionated   \n",
              "1484  Somewhat factual but also opinionated   \n",
              "1517  Somewhat factual but also opinionated   \n",
              "1567             Expresses writer’s opinion   \n",
              "\n",
              "                                                article  \\\n",
              "922                                                 NaN   \n",
              "1002  Rep. Tom Malinowski (D-NJ) reportedly said on ...   \n",
              "1058  On Feb. 17, Amazon CEO and occasional richest-...   \n",
              "1223                                                NaN   \n",
              "1484  In a bizarre and unexpected twist, pop super s...   \n",
              "1517  Texas executes white supremacist convicted in ...   \n",
              "1567  Get breaking news alerts and special reports. ...   \n",
              "\n",
              "                                          biased_words4 full_article  \n",
              "922                                                  []     ERRO - 1  \n",
              "1002                                                 []     ERRO - 1  \n",
              "1058                     ['swoop', 'saviors', 'failed']     ERRO - 1  \n",
              "1223                                                 []     ERRO - 1  \n",
              "1484  ['smeared', 'bizarre', 'unexpected', 'twist', ...     ERRO - 1  \n",
              "1517                                       ['gruesome']     ERRO - 1  \n",
              "1567            ['economic', 'inequality', 'magnified']     ERRO - 1  "
            ],
            "text/html": [
              "\n",
              "  <div id=\"df-f52d2a69-b1d2-413d-b645-15f9f72c41d2\">\n",
              "    <div class=\"colab-df-container\">\n",
              "      <div>\n",
              "<style scoped>\n",
              "    .dataframe tbody tr th:only-of-type {\n",
              "        vertical-align: middle;\n",
              "    }\n",
              "\n",
              "    .dataframe tbody tr th {\n",
              "        vertical-align: top;\n",
              "    }\n",
              "\n",
              "    .dataframe thead th {\n",
              "        text-align: right;\n",
              "    }\n",
              "</style>\n",
              "<table border=\"1\" class=\"dataframe\">\n",
              "  <thead>\n",
              "    <tr style=\"text-align: right;\">\n",
              "      <th></th>\n",
              "      <th>sentence</th>\n",
              "      <th>news_link</th>\n",
              "      <th>outlet</th>\n",
              "      <th>topic</th>\n",
              "      <th>type</th>\n",
              "      <th>group_id</th>\n",
              "      <th>num_sent</th>\n",
              "      <th>Label_bias</th>\n",
              "      <th>Label_opinion</th>\n",
              "      <th>article</th>\n",
              "      <th>biased_words4</th>\n",
              "      <th>full_article</th>\n",
              "    </tr>\n",
              "  </thead>\n",
              "  <tbody>\n",
              "    <tr>\n",
              "      <th>922</th>\n",
              "      <td>An avowed white supremacist pleaded guilty on ...</td>\n",
              "      <td>https://eu.usatoday.com/story/news/nation/2020...</td>\n",
              "      <td>usa-today</td>\n",
              "      <td>white-nationalism</td>\n",
              "      <td>center</td>\n",
              "      <td>47</td>\n",
              "      <td>1</td>\n",
              "      <td>No agreement</td>\n",
              "      <td>Entirely factual</td>\n",
              "      <td>NaN</td>\n",
              "      <td>[]</td>\n",
              "      <td>ERRO - 1</td>\n",
              "    </tr>\n",
              "    <tr>\n",
              "      <th>1002</th>\n",
              "      <td>Malinowski, a Democrat representing New Jersey...</td>\n",
              "      <td>https://www.breitbart.com/politics/2020/04/09/...</td>\n",
              "      <td>breitbart</td>\n",
              "      <td>coronavirus</td>\n",
              "      <td>right</td>\n",
              "      <td>51</td>\n",
              "      <td>1</td>\n",
              "      <td>Non-biased</td>\n",
              "      <td>Entirely factual</td>\n",
              "      <td>Rep. Tom Malinowski (D-NJ) reportedly said on ...</td>\n",
              "      <td>[]</td>\n",
              "      <td>ERRO - 1</td>\n",
              "    </tr>\n",
              "    <tr>\n",
              "      <th>1058</th>\n",
              "      <td>Part of the reason billionaires can swoop in a...</td>\n",
              "      <td>https://www.nbcnews.com/think/opinion/jeff-bez...</td>\n",
              "      <td>msnbc</td>\n",
              "      <td>middle-class</td>\n",
              "      <td>left</td>\n",
              "      <td>53</td>\n",
              "      <td>1</td>\n",
              "      <td>Biased</td>\n",
              "      <td>Expresses writer’s opinion</td>\n",
              "      <td>On Feb. 17, Amazon CEO and occasional richest-...</td>\n",
              "      <td>['swoop', 'saviors', 'failed']</td>\n",
              "      <td>ERRO - 1</td>\n",
              "    </tr>\n",
              "    <tr>\n",
              "      <th>1223</th>\n",
              "      <td>Background checks required to buy firearms hav...</td>\n",
              "      <td>https://eu.usatoday.com/story/money/2020/04/02...</td>\n",
              "      <td>usa-today</td>\n",
              "      <td>gun-control</td>\n",
              "      <td>center</td>\n",
              "      <td>62</td>\n",
              "      <td>1</td>\n",
              "      <td>Non-biased</td>\n",
              "      <td>Somewhat factual but also opinionated</td>\n",
              "      <td>NaN</td>\n",
              "      <td>[]</td>\n",
              "      <td>ERRO - 1</td>\n",
              "    </tr>\n",
              "    <tr>\n",
              "      <th>1484</th>\n",
              "      <td>In a bizarre and unexpected twist, pop super s...</td>\n",
              "      <td>https://www.breitbart.com/entertainment/2020/0...</td>\n",
              "      <td>breitbart</td>\n",
              "      <td>gender</td>\n",
              "      <td>right</td>\n",
              "      <td>75</td>\n",
              "      <td>1</td>\n",
              "      <td>Biased</td>\n",
              "      <td>Somewhat factual but also opinionated</td>\n",
              "      <td>In a bizarre and unexpected twist, pop super s...</td>\n",
              "      <td>['smeared', 'bizarre', 'unexpected', 'twist', ...</td>\n",
              "      <td>ERRO - 1</td>\n",
              "    </tr>\n",
              "    <tr>\n",
              "      <th>1517</th>\n",
              "      <td>John William King, 44, a white supremacist who...</td>\n",
              "      <td>https://eu.usatoday.com/story/news/nation/2019...</td>\n",
              "      <td>usa-today</td>\n",
              "      <td>white-nationalism</td>\n",
              "      <td>center</td>\n",
              "      <td>76</td>\n",
              "      <td>1</td>\n",
              "      <td>Non-biased</td>\n",
              "      <td>Somewhat factual but also opinionated</td>\n",
              "      <td>Texas executes white supremacist convicted in ...</td>\n",
              "      <td>['gruesome']</td>\n",
              "      <td>ERRO - 1</td>\n",
              "    </tr>\n",
              "    <tr>\n",
              "      <th>1567</th>\n",
              "      <td>The Republicans’ corporate tax cuts also magni...</td>\n",
              "      <td>https://www.nbcnews.com/business/economy/trump...</td>\n",
              "      <td>msnbc</td>\n",
              "      <td>middle-class</td>\n",
              "      <td>left</td>\n",
              "      <td>79</td>\n",
              "      <td>1</td>\n",
              "      <td>Biased</td>\n",
              "      <td>Expresses writer’s opinion</td>\n",
              "      <td>Get breaking news alerts and special reports. ...</td>\n",
              "      <td>['economic', 'inequality', 'magnified']</td>\n",
              "      <td>ERRO - 1</td>\n",
              "    </tr>\n",
              "  </tbody>\n",
              "</table>\n",
              "</div>\n",
              "      <button class=\"colab-df-convert\" onclick=\"convertToInteractive('df-f52d2a69-b1d2-413d-b645-15f9f72c41d2')\"\n",
              "              title=\"Convert this dataframe to an interactive table.\"\n",
              "              style=\"display:none;\">\n",
              "        \n",
              "  <svg xmlns=\"http://www.w3.org/2000/svg\" height=\"24px\"viewBox=\"0 0 24 24\"\n",
              "       width=\"24px\">\n",
              "    <path d=\"M0 0h24v24H0V0z\" fill=\"none\"/>\n",
              "    <path d=\"M18.56 5.44l.94 2.06.94-2.06 2.06-.94-2.06-.94-.94-2.06-.94 2.06-2.06.94zm-11 1L8.5 8.5l.94-2.06 2.06-.94-2.06-.94L8.5 2.5l-.94 2.06-2.06.94zm10 10l.94 2.06.94-2.06 2.06-.94-2.06-.94-.94-2.06-.94 2.06-2.06.94z\"/><path d=\"M17.41 7.96l-1.37-1.37c-.4-.4-.92-.59-1.43-.59-.52 0-1.04.2-1.43.59L10.3 9.45l-7.72 7.72c-.78.78-.78 2.05 0 2.83L4 21.41c.39.39.9.59 1.41.59.51 0 1.02-.2 1.41-.59l7.78-7.78 2.81-2.81c.8-.78.8-2.07 0-2.86zM5.41 20L4 18.59l7.72-7.72 1.47 1.35L5.41 20z\"/>\n",
              "  </svg>\n",
              "      </button>\n",
              "      \n",
              "  <style>\n",
              "    .colab-df-container {\n",
              "      display:flex;\n",
              "      flex-wrap:wrap;\n",
              "      gap: 12px;\n",
              "    }\n",
              "\n",
              "    .colab-df-convert {\n",
              "      background-color: #E8F0FE;\n",
              "      border: none;\n",
              "      border-radius: 50%;\n",
              "      cursor: pointer;\n",
              "      display: none;\n",
              "      fill: #1967D2;\n",
              "      height: 32px;\n",
              "      padding: 0 0 0 0;\n",
              "      width: 32px;\n",
              "    }\n",
              "\n",
              "    .colab-df-convert:hover {\n",
              "      background-color: #E2EBFA;\n",
              "      box-shadow: 0px 1px 2px rgba(60, 64, 67, 0.3), 0px 1px 3px 1px rgba(60, 64, 67, 0.15);\n",
              "      fill: #174EA6;\n",
              "    }\n",
              "\n",
              "    [theme=dark] .colab-df-convert {\n",
              "      background-color: #3B4455;\n",
              "      fill: #D2E3FC;\n",
              "    }\n",
              "\n",
              "    [theme=dark] .colab-df-convert:hover {\n",
              "      background-color: #434B5C;\n",
              "      box-shadow: 0px 1px 3px 1px rgba(0, 0, 0, 0.15);\n",
              "      filter: drop-shadow(0px 1px 2px rgba(0, 0, 0, 0.3));\n",
              "      fill: #FFFFFF;\n",
              "    }\n",
              "  </style>\n",
              "\n",
              "      <script>\n",
              "        const buttonEl =\n",
              "          document.querySelector('#df-f52d2a69-b1d2-413d-b645-15f9f72c41d2 button.colab-df-convert');\n",
              "        buttonEl.style.display =\n",
              "          google.colab.kernel.accessAllowed ? 'block' : 'none';\n",
              "\n",
              "        async function convertToInteractive(key) {\n",
              "          const element = document.querySelector('#df-f52d2a69-b1d2-413d-b645-15f9f72c41d2');\n",
              "          const dataTable =\n",
              "            await google.colab.kernel.invokeFunction('convertToInteractive',\n",
              "                                                     [key], {});\n",
              "          if (!dataTable) return;\n",
              "\n",
              "          const docLinkHtml = 'Like what you see? Visit the ' +\n",
              "            '<a target=\"_blank\" href=https://colab.research.google.com/notebooks/data_table.ipynb>data table notebook</a>'\n",
              "            + ' to learn more about interactive tables.';\n",
              "          element.innerHTML = '';\n",
              "          dataTable['output_type'] = 'display_data';\n",
              "          await google.colab.output.renderOutput(dataTable, element);\n",
              "          const docLink = document.createElement('div');\n",
              "          docLink.innerHTML = docLinkHtml;\n",
              "          element.appendChild(docLink);\n",
              "        }\n",
              "      </script>\n",
              "    </div>\n",
              "  </div>\n",
              "  "
            ]
          },
          "metadata": {},
          "execution_count": 21
        }
      ],
      "source": [
        "errados_1"
      ]
    },
    {
      "cell_type": "code",
      "execution_count": 34,
      "metadata": {
        "id": "K_m8pJQeD2cL"
      },
      "outputs": [],
      "source": [
        "errados_2 = df.loc[df['full_article'].apply(lambda x: 'ERRO - 2' in str(x))]"
      ]
    },
    {
      "cell_type": "code",
      "execution_count": 35,
      "metadata": {
        "id": "uWF8zAQMIOdZ",
        "colab": {
          "base_uri": "https://localhost:8080/"
        },
        "outputId": "b751ce48-de25-492b-e015-71d775b2b94a"
      },
      "outputs": [
        {
          "output_type": "execute_result",
          "data": {
            "text/plain": [
              "(0, 12)"
            ]
          },
          "metadata": {},
          "execution_count": 35
        }
      ],
      "source": [
        "errados_2.shape"
      ]
    },
    {
      "cell_type": "code",
      "execution_count": 36,
      "metadata": {
        "id": "e5ju3N5Xd-eN"
      },
      "outputs": [],
      "source": [
        "errados_request = df.loc[df['full_article'].apply(lambda x: 'ERRO - request' in str(x))]"
      ]
    },
    {
      "cell_type": "code",
      "execution_count": 37,
      "metadata": {
        "id": "EF7qrAwTiJWx",
        "colab": {
          "base_uri": "https://localhost:8080/"
        },
        "outputId": "d87506f7-6cd7-4fe8-c609-3b8de1fd6fd7"
      },
      "outputs": [
        {
          "output_type": "execute_result",
          "data": {
            "text/plain": [
              "(241, 12)"
            ]
          },
          "metadata": {},
          "execution_count": 37
        }
      ],
      "source": [
        "errados_request.shape"
      ]
    },
    {
      "cell_type": "code",
      "execution_count": 26,
      "metadata": {
        "id": "LTicAXTgI_W-",
        "colab": {
          "base_uri": "https://localhost:8080/",
          "height": 424
        },
        "outputId": "125f34ec-baef-468c-e433-d447f69be6e1"
      },
      "outputs": [
        {
          "output_type": "execute_result",
          "data": {
            "text/plain": [
              "                                              news_link         full_article\n",
              "4     https://thefederalist.com/2020/03/11/woman-who...  ERRO - request: 403\n",
              "25    https://thefederalist.com/2020/05/28/hannah-ga...  ERRO - request: 404\n",
              "27    https://www.reuters.com/article/us-mississippi...  ERRO - request: 403\n",
              "37    https://www.breitbart.com/politics/2017/04/12/...  ERRO - request: 404\n",
              "39    https://www.reuters.com/article/us-davos-meeti...  ERRO - request: 403\n",
              "...                                                 ...                  ...\n",
              "1658  https://www.reuters.com/article/us-usa-white-n...  ERRO - request: 403\n",
              "1660  https://www.nbcnews.com/politics/2020-election...  ERRO - request: 403\n",
              "1667  https://eu.usatoday.com/story/news/politics/20...  ERRO - request: 403\n",
              "1668  https://www.usatoday.com/videos/news/nation/20...  ERRO - request: 403\n",
              "1669  https://eu.usatoday.com/story/money/2020/02/04...  ERRO - request: 403\n",
              "\n",
              "[241 rows x 2 columns]"
            ],
            "text/html": [
              "\n",
              "  <div id=\"df-08e16f51-5a2d-4938-82be-1081257ad507\">\n",
              "    <div class=\"colab-df-container\">\n",
              "      <div>\n",
              "<style scoped>\n",
              "    .dataframe tbody tr th:only-of-type {\n",
              "        vertical-align: middle;\n",
              "    }\n",
              "\n",
              "    .dataframe tbody tr th {\n",
              "        vertical-align: top;\n",
              "    }\n",
              "\n",
              "    .dataframe thead th {\n",
              "        text-align: right;\n",
              "    }\n",
              "</style>\n",
              "<table border=\"1\" class=\"dataframe\">\n",
              "  <thead>\n",
              "    <tr style=\"text-align: right;\">\n",
              "      <th></th>\n",
              "      <th>news_link</th>\n",
              "      <th>full_article</th>\n",
              "    </tr>\n",
              "  </thead>\n",
              "  <tbody>\n",
              "    <tr>\n",
              "      <th>4</th>\n",
              "      <td>https://thefederalist.com/2020/03/11/woman-who...</td>\n",
              "      <td>ERRO - request: 403</td>\n",
              "    </tr>\n",
              "    <tr>\n",
              "      <th>25</th>\n",
              "      <td>https://thefederalist.com/2020/05/28/hannah-ga...</td>\n",
              "      <td>ERRO - request: 404</td>\n",
              "    </tr>\n",
              "    <tr>\n",
              "      <th>27</th>\n",
              "      <td>https://www.reuters.com/article/us-mississippi...</td>\n",
              "      <td>ERRO - request: 403</td>\n",
              "    </tr>\n",
              "    <tr>\n",
              "      <th>37</th>\n",
              "      <td>https://www.breitbart.com/politics/2017/04/12/...</td>\n",
              "      <td>ERRO - request: 404</td>\n",
              "    </tr>\n",
              "    <tr>\n",
              "      <th>39</th>\n",
              "      <td>https://www.reuters.com/article/us-davos-meeti...</td>\n",
              "      <td>ERRO - request: 403</td>\n",
              "    </tr>\n",
              "    <tr>\n",
              "      <th>...</th>\n",
              "      <td>...</td>\n",
              "      <td>...</td>\n",
              "    </tr>\n",
              "    <tr>\n",
              "      <th>1658</th>\n",
              "      <td>https://www.reuters.com/article/us-usa-white-n...</td>\n",
              "      <td>ERRO - request: 403</td>\n",
              "    </tr>\n",
              "    <tr>\n",
              "      <th>1660</th>\n",
              "      <td>https://www.nbcnews.com/politics/2020-election...</td>\n",
              "      <td>ERRO - request: 403</td>\n",
              "    </tr>\n",
              "    <tr>\n",
              "      <th>1667</th>\n",
              "      <td>https://eu.usatoday.com/story/news/politics/20...</td>\n",
              "      <td>ERRO - request: 403</td>\n",
              "    </tr>\n",
              "    <tr>\n",
              "      <th>1668</th>\n",
              "      <td>https://www.usatoday.com/videos/news/nation/20...</td>\n",
              "      <td>ERRO - request: 403</td>\n",
              "    </tr>\n",
              "    <tr>\n",
              "      <th>1669</th>\n",
              "      <td>https://eu.usatoday.com/story/money/2020/02/04...</td>\n",
              "      <td>ERRO - request: 403</td>\n",
              "    </tr>\n",
              "  </tbody>\n",
              "</table>\n",
              "<p>241 rows × 2 columns</p>\n",
              "</div>\n",
              "      <button class=\"colab-df-convert\" onclick=\"convertToInteractive('df-08e16f51-5a2d-4938-82be-1081257ad507')\"\n",
              "              title=\"Convert this dataframe to an interactive table.\"\n",
              "              style=\"display:none;\">\n",
              "        \n",
              "  <svg xmlns=\"http://www.w3.org/2000/svg\" height=\"24px\"viewBox=\"0 0 24 24\"\n",
              "       width=\"24px\">\n",
              "    <path d=\"M0 0h24v24H0V0z\" fill=\"none\"/>\n",
              "    <path d=\"M18.56 5.44l.94 2.06.94-2.06 2.06-.94-2.06-.94-.94-2.06-.94 2.06-2.06.94zm-11 1L8.5 8.5l.94-2.06 2.06-.94-2.06-.94L8.5 2.5l-.94 2.06-2.06.94zm10 10l.94 2.06.94-2.06 2.06-.94-2.06-.94-.94-2.06-.94 2.06-2.06.94z\"/><path d=\"M17.41 7.96l-1.37-1.37c-.4-.4-.92-.59-1.43-.59-.52 0-1.04.2-1.43.59L10.3 9.45l-7.72 7.72c-.78.78-.78 2.05 0 2.83L4 21.41c.39.39.9.59 1.41.59.51 0 1.02-.2 1.41-.59l7.78-7.78 2.81-2.81c.8-.78.8-2.07 0-2.86zM5.41 20L4 18.59l7.72-7.72 1.47 1.35L5.41 20z\"/>\n",
              "  </svg>\n",
              "      </button>\n",
              "      \n",
              "  <style>\n",
              "    .colab-df-container {\n",
              "      display:flex;\n",
              "      flex-wrap:wrap;\n",
              "      gap: 12px;\n",
              "    }\n",
              "\n",
              "    .colab-df-convert {\n",
              "      background-color: #E8F0FE;\n",
              "      border: none;\n",
              "      border-radius: 50%;\n",
              "      cursor: pointer;\n",
              "      display: none;\n",
              "      fill: #1967D2;\n",
              "      height: 32px;\n",
              "      padding: 0 0 0 0;\n",
              "      width: 32px;\n",
              "    }\n",
              "\n",
              "    .colab-df-convert:hover {\n",
              "      background-color: #E2EBFA;\n",
              "      box-shadow: 0px 1px 2px rgba(60, 64, 67, 0.3), 0px 1px 3px 1px rgba(60, 64, 67, 0.15);\n",
              "      fill: #174EA6;\n",
              "    }\n",
              "\n",
              "    [theme=dark] .colab-df-convert {\n",
              "      background-color: #3B4455;\n",
              "      fill: #D2E3FC;\n",
              "    }\n",
              "\n",
              "    [theme=dark] .colab-df-convert:hover {\n",
              "      background-color: #434B5C;\n",
              "      box-shadow: 0px 1px 3px 1px rgba(0, 0, 0, 0.15);\n",
              "      filter: drop-shadow(0px 1px 2px rgba(0, 0, 0, 0.3));\n",
              "      fill: #FFFFFF;\n",
              "    }\n",
              "  </style>\n",
              "\n",
              "      <script>\n",
              "        const buttonEl =\n",
              "          document.querySelector('#df-08e16f51-5a2d-4938-82be-1081257ad507 button.colab-df-convert');\n",
              "        buttonEl.style.display =\n",
              "          google.colab.kernel.accessAllowed ? 'block' : 'none';\n",
              "\n",
              "        async function convertToInteractive(key) {\n",
              "          const element = document.querySelector('#df-08e16f51-5a2d-4938-82be-1081257ad507');\n",
              "          const dataTable =\n",
              "            await google.colab.kernel.invokeFunction('convertToInteractive',\n",
              "                                                     [key], {});\n",
              "          if (!dataTable) return;\n",
              "\n",
              "          const docLinkHtml = 'Like what you see? Visit the ' +\n",
              "            '<a target=\"_blank\" href=https://colab.research.google.com/notebooks/data_table.ipynb>data table notebook</a>'\n",
              "            + ' to learn more about interactive tables.';\n",
              "          element.innerHTML = '';\n",
              "          dataTable['output_type'] = 'display_data';\n",
              "          await google.colab.output.renderOutput(dataTable, element);\n",
              "          const docLink = document.createElement('div');\n",
              "          docLink.innerHTML = docLinkHtml;\n",
              "          element.appendChild(docLink);\n",
              "        }\n",
              "      </script>\n",
              "    </div>\n",
              "  </div>\n",
              "  "
            ]
          },
          "metadata": {},
          "execution_count": 26
        }
      ],
      "source": [
        "errados_request[['news_link', 'full_article']]"
      ]
    },
    {
      "cell_type": "code",
      "execution_count": 27,
      "metadata": {
        "id": "M0AG8yYCJMZ-",
        "colab": {
          "base_uri": "https://localhost:8080/"
        },
        "outputId": "32585a98-452f-4b8d-81e7-159fad1d8ab4"
      },
      "outputs": [
        {
          "output_type": "execute_result",
          "data": {
            "text/plain": [
              "array(['ERRO - request: 403', 'ERRO - request: 404',\n",
              "       'ERRO - request: 410'], dtype=object)"
            ]
          },
          "metadata": {},
          "execution_count": 27
        }
      ],
      "source": [
        "df_exploded = errados_request.explode(\"full_article\")\n",
        "valores_unicos = df_exploded[\"full_article\"].unique()\n",
        "del df_exploded\n",
        "valores_unicos"
      ]
    },
    {
      "cell_type": "code",
      "execution_count": 48,
      "metadata": {
        "id": "CkBwT9bNlDhr"
      },
      "outputs": [],
      "source": [
        "merged = df.merge(errados_request, how='left', indicator=True)\n",
        "filtered_df = merged[merged['_merge'] == 'left_only'].drop(columns='_merge')\n",
        "\n",
        "filtered_df = filtered_df.merge(errados_1, how= 'left', indicator = True)\n",
        "filtered_df = filtered_df[filtered_df['_merge'] == 'left_only'].drop(columns='_merge')"
      ]
    },
    {
      "cell_type": "code",
      "execution_count": 62,
      "metadata": {
        "id": "B5sSQHUIp2zt"
      },
      "outputs": [],
      "source": [
        "filtered_df.dropna(subset = ['full_article'], inplace = True)"
      ]
    },
    {
      "cell_type": "code",
      "source": [
        "filtered_df.to_csv(\"final_dataset.csv\", index = False)"
      ],
      "metadata": {
        "id": "bo-NlaW-OEn1"
      },
      "execution_count": 67,
      "outputs": []
    },
    {
      "cell_type": "code",
      "source": [],
      "metadata": {
        "id": "TJtHhF41Tvph"
      },
      "execution_count": null,
      "outputs": []
    }
  ],
  "metadata": {
    "colab": {
      "provenance": [],
      "authorship_tag": "ABX9TyMUFmRaAgi7JCocYowzpatk"
    },
    "kernelspec": {
      "display_name": "Python 3",
      "name": "python3"
    },
    "language_info": {
      "name": "python"
    }
  },
  "nbformat": 4,
  "nbformat_minor": 0
}