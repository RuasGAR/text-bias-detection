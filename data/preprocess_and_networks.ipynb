{
  "cells": [
    {
      "cell_type": "markdown",
      "metadata": {
        "id": "rvGwydOHnxrH"
      },
      "source": [
        "# Pré-Processamento"
      ]
    },
    {
      "cell_type": "code",
      "execution_count": null,
      "metadata": {
        "id": "iKkxFUWTn6-5"
      },
      "outputs": [],
      "source": [
        "!pip install unidecode"
      ]
    },
    {
      "cell_type": "code",
      "execution_count": null,
      "metadata": {
        "id": "9ySTH8jKnxrK"
      },
      "outputs": [],
      "source": [
        "import string\n",
        "import re\n",
        "import nltk\n",
        "import ast\n",
        "import pickle\n",
        "import pandas as pd\n",
        "import numpy as np\n",
        "import tensorflow as tf\n",
        "from unidecode import unidecode\n",
        "from nltk.corpus import stopwords\n",
        "from nltk.tokenize import word_tokenize\n",
        "from nltk.stem import PorterStemmer, LancasterStemmer, WordNetLemmatizer\n",
        "from collections import Counter\n",
        "from sklearn.pipeline import Pipeline\n",
        "from sklearn.preprocessing import FunctionTransformer\n",
        "from sklearn.base import BaseEstimator, TransformerMixin\n",
        "\n",
        "nltk.download('stopwords')\n",
        "nltk.download('punkt')"
      ]
    },
    {
      "cell_type": "code",
      "execution_count": null,
      "metadata": {
        "id": "c1auSdJjnxrO"
      },
      "outputs": [],
      "source": [
        "df = pd.read_csv(\"data/full_articles_dataset.csv\",converters={'biased_words4':ast.literal_eval})"
      ]
    },
    {
      "cell_type": "code",
      "execution_count": null,
      "metadata": {
        "id": "wU1iXOXxnxrO"
      },
      "outputs": [],
      "source": [
        "df.columns"
      ]
    },
    {
      "cell_type": "markdown",
      "metadata": {
        "id": "i87WgYR5nxrP"
      },
      "source": [
        "## 1 - Features Importantes\n",
        "- Label_bias (categórica): Indica se o texto foi classificado como enviesado, não-enviesado ou se não foi possível atingir um consenso quanto a classificação.\n",
        "- Biased_words(vetor): Indica as palavras marcadas como \"denunciantes\" da presença de viés.\n",
        "- Topic(categórica): Indica o assunto do texto, dentro das categorias\n",
        "- Type: Denota o posicionamento do viés, separados como esquerda, centro ou direita.\n",
        "- Outlet: Portal de origem da notícia"
      ]
    },
    {
      "cell_type": "code",
      "execution_count": null,
      "metadata": {
        "id": "o6df6CPQS5EB"
      },
      "outputs": [],
      "source": [
        "df['Label_bias'].unique()"
      ]
    },
    {
      "cell_type": "code",
      "execution_count": null,
      "metadata": {
        "id": "tcm8CjQ5S5ED"
      },
      "outputs": [],
      "source": [
        "df['topic'].unique()"
      ]
    },
    {
      "cell_type": "code",
      "execution_count": null,
      "metadata": {
        "id": "TyDHSi42S5EF"
      },
      "outputs": [],
      "source": [
        "df['type'].unique()"
      ]
    },
    {
      "cell_type": "markdown",
      "metadata": {
        "id": "Bi7I8bprnxrP"
      },
      "source": [
        "## 2 - Pré-Processamento"
      ]
    },
    {
      "cell_type": "markdown",
      "metadata": {
        "id": "Ml8I9f5xS5EH"
      },
      "source": [
        "*Observação*: as funções relativas a entradas textuais são testadas individualmente com a coluna 'sentence'. Essa feature traz a frase na qual os participantes da pesquisa viram um viés.\n",
        "\n",
        "Quando formos realizar os treinos e a validação, utilizaremos todo o texto que compõe o documento analisado. Se mostrar-se interessante, podemos averiguar a performance reduzindo o corpus a, justamente, essas sentenças."
      ]
    },
    {
      "cell_type": "markdown",
      "metadata": {
        "id": "8jhbot7NnxrP"
      },
      "source": [
        "### 2.1 - Básico textual (remoção de stopwords, filtro de expressões com números, etc)"
      ]
    },
    {
      "cell_type": "markdown",
      "metadata": {
        "id": "ZIl3QssXnxrQ"
      },
      "source": [
        "- A priori, vamos considerar como tokens todas as palavras que:\n",
        "    - tenham mais do que 3 letras;\n",
        "    - não possuam números;\n",
        "    - não sejam siglas (como U.S.) nem que tenham um símbolo diferente de letra pós ou precedido por uma (como é o caso de separação entre palavras ao pular linha, e.g. \"fari-\");\n",
        "    - não estejam nas stopwords do inglês.\n",
        "\n",
        "- Uma decisão importante, especialmente no contexto de viés, é exclusão das das aspas. Isso pode ocorrer tanto de forma a ironizar acontecimentos como a corroborar algum conhecimento com argumento de autoridade enviesado, mas é algo que acreditamos estar diretamente relacionado ao conteúdo da frase, independetemente da grafia ao redor. Afinal, queremos tentar identificar a intenção. Seria interessante, para um próximo trabalho, tentar considerar as aspas e o que estivesse sob seus limites como algum tipo de incentivo ou demérito.\n",
        "\n",
        "- Mediante a escolha do usuário, aplicaremos um stemmer(Porter/Lancaster) ou um lemmatizer. Também podemos simplesmente não aplicar nenhum."
      ]
    },
    {
      "cell_type": "code",
      "execution_count": null,
      "metadata": {
        "id": "ufcufOOonxrQ"
      },
      "outputs": [],
      "source": [
        "digit_pattern = r'\\d+(\\.\\d+)?'\n",
        "solo_quotations_pattern = pattern = r\"^(?:' '|\\\\\" \"|\\`\\`)$\"\n",
        "\n",
        "remove_quotation = r\"'\\b|\\b'\\s|\\s'\\b|\\\"\\b|\\b\\\"\\s|\\s\\\"\\b|``\\b|\\b``\\s|\\s``\\b\" # como em \"America is Great\"\n",
        "remove_symbols_only = r'\\b[^\\w\\s]+\\b' # como em '--'\n",
        "remove_symbols_if_aside = r'\\b[^\\w\\s]|[^\\w\\s]\\b' # como em 'dog-'\n",
        "\n",
        "remove_patterns = remove_quotation,remove_symbols_if_aside, remove_symbols_only\n",
        "\n",
        "stop_words = set(stopwords.words('english')) # talvez o set deixe mais rápido\n",
        "\n",
        "def preprocess_basic_text(data,columns):\n",
        "\n",
        "    for col in columns:\n",
        "\n",
        "       prepped_texts = []\n",
        "\n",
        "       for doc in data[col]:\n",
        "\n",
        "            if type(doc) == list:\n",
        "              doc = ','.join(doc)\n",
        "            # Remove acentos e põe tudo para lower case\n",
        "            doc = unidecode(doc).lower()\n",
        "            tokens = word_tokenize(doc,language=\"english\")\n",
        "\n",
        "            tokens = [\n",
        "                re.sub('|'.join(remove_patterns),'',t)\n",
        "                for t in tokens\n",
        "                if not bool(re.search(digit_pattern,t))\n",
        "                and t not in string.punctuation\n",
        "                and t not in stop_words\n",
        "            ]\n",
        "\n",
        "            tokens = [\n",
        "                t for t in tokens\n",
        "                if not bool(re.match(solo_quotations_pattern,t))\n",
        "                and len(t) >= 3\n",
        "             ]\n",
        "\n",
        "            prepped_texts.append(tokens)\n",
        "\n",
        "       data[col] = prepped_texts\n",
        "\n",
        "    return data\n",
        "\n",
        "df_copy = df.copy()\n",
        "df_copy = preprocess_basic_text(df_copy,['sentence'])\n",
        "df_copy['sentence'].head()"
      ]
    },
    {
      "cell_type": "markdown",
      "metadata": {
        "id": "5dgVKAMqnxrR"
      },
      "source": [
        "### 2.2 - Stemmers\n",
        "\n",
        "- Temos o objetivo de avaliar como diferentes estratégias de stemming afetam os resultados do treinamento. A função a seguir visa abstrair esse passo para um etapa separada de pré-processamento.\n",
        "- Serão testados os stemmer de Porter e de Lancaster, além da lematização via WordNet. Vamos também obter os resultados do modelo quando utilizados sem qualquer stemmer."
      ]
    },
    {
      "cell_type": "code",
      "execution_count": null,
      "metadata": {
        "id": "4xM7KssbnxrR"
      },
      "outputs": [],
      "source": [
        "def apply_stemmer_individual(sentence, stemmer_type:str):\n",
        "\n",
        "    # Função a ser executada para cada sentença, com expectativa de uso em algum filtro, por exemplo\n",
        "\n",
        "    stemmer = {}\n",
        "    lemmatizer = {}\n",
        "\n",
        "    if stemmer_type == \"Porter\":\n",
        "        stemmer = PorterStemmer()\n",
        "        return [stemmer.stem(token) for token in sentence]\n",
        "\n",
        "    elif stemmer_type == \"Lancaster\":\n",
        "        stemmer = LancasterStemmer()\n",
        "        return [stemmer.stem(token) for token in sentence]\n",
        "\n",
        "    else:  # \"Wordnet\":\n",
        "        lemmatizer = WordNetLemmatizer()\n",
        "        return [lemmatizer.stem(token) for token in sentence]"
      ]
    },
    {
      "cell_type": "code",
      "execution_count": null,
      "metadata": {
        "id": "KgjPdj9rnxrS"
      },
      "outputs": [],
      "source": [
        "df_copy['sentence'] = df_copy['sentence'].apply(lambda x: apply_stemmer_individual(x,\"Porter\"))\n",
        "df_copy['sentence'].head()"
      ]
    },
    {
      "cell_type": "code",
      "execution_count": null,
      "metadata": {
        "id": "glvQTh33ftLq"
      },
      "outputs": [],
      "source": [
        "# generalizando a aplicação pra todas as instâncias\n",
        "def apply_stemmer_for_all(data,columns,stemmer_flag=False,stemmer_type=None):\n",
        "\n",
        "  if stemmer_flag == False:\n",
        "    return data\n",
        "\n",
        "  for col in columns:\n",
        "    data[col] = data[col].apply(lambda x: apply_stemmer_individual(x,stemmer_type))\n",
        "  return data"
      ]
    },
    {
      "cell_type": "markdown",
      "metadata": {
        "id": "KOOeFWainxrT"
      },
      "source": [
        "### 2.3 - Encoding (palavras)\n",
        "\n",
        "- Para representar as palavras, vamos criar um encoding com base na frequência apresentada no corpus.\n",
        "- Utilizaremos alguns números para representar determinadas semânticas:\n",
        "  - padding(\"pad\"), necessário para deixar todas as entradas com mesmo tamanho, terá o valor 0.\n",
        "  - start-of-sequence(\"sos\"), usado para identificar o ínicio de cada sentença, terá o número 1\n",
        "  - unknown, para marcar palavras desconhecidas, terá o número 2"
      ]
    },
    {
      "cell_type": "code",
      "execution_count": null,
      "metadata": {
        "id": "p2aNLT_LEAaX"
      },
      "outputs": [],
      "source": [
        "SOS = \"<sos>\"\n",
        "PADDING = \"<pad>\"\n",
        "UNKNOWN = \"<ukn>\""
      ]
    },
    {
      "cell_type": "code",
      "execution_count": null,
      "metadata": {
        "id": "IzA2U6fi3NYb"
      },
      "outputs": [],
      "source": [
        "def add_padding_and_sos(data, columns):\n",
        "\n",
        "\n",
        "    for col in columns:\n",
        "        max_length = max(len(seq) for seq in data[col])\n",
        "        for index,row in data.iterrows():\n",
        "            document = [SOS] + row[col]\n",
        "            paddings = (max_length - len(row[col])) * [PADDING]\n",
        "            document += paddings\n",
        "            data.at[index,col] = document\n",
        "\n",
        "    return data"
      ]
    },
    {
      "cell_type": "code",
      "execution_count": null,
      "metadata": {
        "id": "6VU2BO9tS5EQ"
      },
      "outputs": [],
      "source": [
        "df_copy = add_padding_and_sos(df_copy, ['sentence'])"
      ]
    },
    {
      "cell_type": "code",
      "execution_count": null,
      "metadata": {
        "id": "bwR2dRIFHVq9"
      },
      "outputs": [],
      "source": [
        "print(df_copy.loc[190,'sentence'])"
      ]
    },
    {
      "cell_type": "markdown",
      "metadata": {
        "id": "212Rr3J3Ka06"
      },
      "source": [
        "- Construindo o vocabulário com base na frequência de aparecimento.\n",
        "  - *Obs*: note a colocação de determinadas tags logo no ínicio"
      ]
    },
    {
      "cell_type": "code",
      "execution_count": null,
      "metadata": {
        "id": "-qkd_GWhnxrT"
      },
      "outputs": [],
      "source": [
        "def create_vocabulary(data, columns):\n",
        "  \"\"\" Retorna uma lookup table (StaticVocabularyTable) \"\"\"\n",
        "\n",
        "  vocab = Counter()\n",
        "  for col in columns:\n",
        "      for document in data[col]:\n",
        "          vocab.update(document)\n",
        "\n",
        "  words = tf.constant([PADDING] +\n",
        "                      [SOS] +\n",
        "                      [UNKNOWN] +\n",
        "                      [word for word in vocab.keys() if word != PADDING and word != SOS]\n",
        "  )\n",
        "  words_ids = tf.range(len(vocab)+1, dtype=tf.int64) # +1 porque unknown é o único não mapeado\n",
        "  vocab_init = tf.lookup.KeyValueTensorInitializer(words,words_ids)\n",
        "  num_oov_buckets = 10000 # bucket para palavras desconhecidas\n",
        "  vocab_table = tf.lookup.StaticVocabularyTable(vocab_init,num_oov_buckets)\n",
        "\n",
        "  return vocab_table"
      ]
    },
    {
      "cell_type": "markdown",
      "metadata": {
        "id": "9aSx7Sx-Ph93"
      },
      "source": [
        "- Demonstração de como estão os encodings de algumas palavras."
      ]
    },
    {
      "cell_type": "code",
      "execution_count": null,
      "metadata": {
        "id": "9ALwPlNXIq83"
      },
      "outputs": [],
      "source": [
        "vocab_table = create_vocabulary(df_copy, columns=['sentence'])\n",
        "vocab_table.lookup(tf.constant([b'nice trump move'.split(b' ')]))"
      ]
    },
    {
      "cell_type": "markdown",
      "metadata": {
        "id": "vcuvVw23nxrT"
      },
      "source": [
        "- Convertendo os tokens para o índice na tabela."
      ]
    },
    {
      "cell_type": "code",
      "execution_count": null,
      "metadata": {
        "id": "yS398UOqnxrT"
      },
      "outputs": [],
      "source": [
        "def convert_words_to_freq(data, vocab, columns):\n",
        "\n",
        "  for index, row in data.iterrows():\n",
        "\n",
        "    for col in columns:\n",
        "      doc = tf.constant(row[col])\n",
        "      doc_ided = vocab.lookup(doc).numpy() if len (doc) > 0 else []\n",
        "      data.at[index, col] = doc_ided\n",
        "\n",
        "  return data"
      ]
    },
    {
      "cell_type": "code",
      "execution_count": null,
      "metadata": {
        "id": "atMmSqdgS5EX"
      },
      "outputs": [],
      "source": [
        "df_copy = convert_words_to_freq(df_copy, vocab_table, ['sentence'])\n",
        "df_copy.head(2)"
      ]
    },
    {
      "cell_type": "markdown",
      "metadata": {
        "id": "28mGJnjWQC82"
      },
      "source": [
        "### 2.4 - One-hot encoding para features categóricas"
      ]
    },
    {
      "cell_type": "code",
      "execution_count": null,
      "metadata": {
        "id": "ItB9GETSQB7v"
      },
      "outputs": [],
      "source": [
        "def cats_to_one_hot(data,column_names):\n",
        "\n",
        "  df_encoded = pd.get_dummies(data[column_names]).astype(np.float32)\n",
        "  data = pd.concat([data,df_encoded],axis=1)\n",
        "\n",
        "  return data"
      ]
    },
    {
      "cell_type": "code",
      "execution_count": null,
      "metadata": {
        "id": "86Cs5Mi-S5EZ"
      },
      "outputs": [],
      "source": [
        "df_copy.loc[1,'sentence']"
      ]
    },
    {
      "cell_type": "code",
      "execution_count": null,
      "metadata": {
        "id": "hQ7UUyZpSsUs"
      },
      "outputs": [],
      "source": [
        "df_copy = cats_to_one_hot(df_copy, column_names=['topic','outlet','type','Label_opinion'])\n",
        "df_copy.head(3)"
      ]
    },
    {
      "cell_type": "markdown",
      "metadata": {
        "id": "hu0eDi-4UE47"
      },
      "source": [
        "### 2.5 - Limpando features"
      ]
    },
    {
      "cell_type": "code",
      "execution_count": null,
      "metadata": {
        "id": "nufVpqv2Udwn"
      },
      "outputs": [],
      "source": [
        "def drop_columns(data, column_names):\n",
        "  return data.drop(column_names,axis=1)"
      ]
    },
    {
      "cell_type": "code",
      "execution_count": null,
      "metadata": {
        "id": "GmFBOZxZXBAJ"
      },
      "outputs": [],
      "source": [
        "df_copy = drop_columns(df_copy,column_names=['news_link','group_id'])\n",
        "df_copy.head(1)\n",
        "df_copy.shape"
      ]
    },
    {
      "cell_type": "markdown",
      "metadata": {
        "id": "PSOuFsrwcT3t"
      },
      "source": [
        "### 2.7 - Compilando pipeline de pré-processamento"
      ]
    },
    {
      "cell_type": "code",
      "execution_count": null,
      "metadata": {
        "id": "pED3BesynKbf"
      },
      "outputs": [],
      "source": [
        "class VocabularyConversionTransformer(BaseEstimator,TransformerMixin):\n",
        "  def __init__(self,vocab_columns, columns_to_be_converted):\n",
        "    self.vocab_table = None\n",
        "    self.columns_to_be_converted = columns_to_be_converted\n",
        "    self.vocab_columns = vocab_columns\n",
        "\n",
        "  def fit(self, X, y=None):\n",
        "    self.vocab_table = create_vocabulary(X,self.vocab_columns)\n",
        "    return self\n",
        "\n",
        "  def transform(self,X,y=None):\n",
        "    return convert_words_to_freq(X,columns=self.columns_to_be_converted,vocab=self.vocab_table)\n",
        "\n",
        "  def get_vocabulary(self):\n",
        "    return self.vocab_table\n"
      ]
    },
    {
      "cell_type": "code",
      "execution_count": null,
      "metadata": {
        "id": "FX_bDiJUcF91"
      },
      "outputs": [],
      "source": [
        "def preprocess(data,stemmer_flag=False,stemmer_type=None):\n",
        "\n",
        "  one_hot_columns = ['topic','outlet','type','Label_bias']\n",
        "  columns_to_drop = ['news_link','group_id', 'Label_opinion','num_sent'] + one_hot_columns\n",
        "  vocab_columns = ['biased_words4']\n",
        "  text_columns = ['article', 'sentence', 'biased_words4']\n",
        "\n",
        "  preprocess_pipeline = [\n",
        "      ('Tokenização', FunctionTransformer(preprocess_basic_text,kw_args={'columns': text_columns})),\n",
        "      ('Stemming', FunctionTransformer(apply_stemmer_for_all, kw_args={'columns':text_columns,\n",
        "                                                                      'stemmer_flag': stemmer_flag,\n",
        "                                                                      'stemmer_type': stemmer_type\n",
        "                                                                      })),\n",
        "      ('SOS/Padding Addition', FunctionTransformer(add_padding_and_sos, kw_args={'columns':text_columns})),\n",
        "      ('Vocab Creation and Word-Int Conversion', VocabularyConversionTransformer(vocab_columns=vocab_columns,columns_to_be_converted=text_columns)),\n",
        "      ('One-hot-encoding', FunctionTransformer(cats_to_one_hot,kw_args={'column_names':one_hot_columns})),\n",
        "      ('Dropping features', FunctionTransformer(drop_columns,kw_args={'column_names':columns_to_drop})),\n",
        "  ]\n",
        "\n",
        "  pipeline = Pipeline(preprocess_pipeline)\n",
        "\n",
        "  data = pipeline.fit_transform(data)\n",
        "\n",
        "  vocab = pipeline.named_steps['Vocab Creation and Word-Int Conversion'].get_vocabulary()\n",
        "\n",
        "  return data, vocab"
      ]
    },
    {
      "cell_type": "code",
      "execution_count": null,
      "metadata": {
        "id": "PBRClwvPcTB0"
      },
      "outputs": [],
      "source": [
        "data, vocab = preprocess(df.copy(),True,stemmer_type=\"Porter\")"
      ]
    },
    {
      "cell_type": "code",
      "execution_count": null,
      "metadata": {
        "id": "rTzrVeIwS5Eg"
      },
      "outputs": [],
      "source": [
        "type(data['sentence'].iloc[0])"
      ]
    },
    {
      "cell_type": "markdown",
      "metadata": {
        "id": "rKHlDGUvKR9S"
      },
      "source": [
        "### 2.7 - Salvando dataset final (e vocabulário)\n"
      ]
    },
    {
      "cell_type": "code",
      "execution_count": null,
      "metadata": {
        "id": "jhR5tobHS5Ei"
      },
      "outputs": [],
      "source": [
        "\"\"\" def list_to_str(x):\n",
        "    str = np.array2string(x, separator=',').replace('\\n', '')\n",
        "    return str \"\"\""
      ]
    },
    {
      "cell_type": "code",
      "execution_count": null,
      "metadata": {
        "id": "Gh7HN6s1S5Ej"
      },
      "outputs": [],
      "source": [
        "\"\"\" # A lista presente na coluna \"article\" é muito grande, então para convertê-la corretamente\n",
        "# precisamos modificar uma configuração do Numpy\n",
        "import sys\n",
        "np.set_printoptions(threshold=sys.maxsize)\n",
        "\n",
        "data.article.apply(list_to_str)\n",
        "data.sentence.apply(list_to_str)\n",
        "data.biased_words4.apply(list_to_str) \"\"\""
      ]
    },
    {
      "cell_type": "code",
      "execution_count": null,
      "metadata": {
        "id": "EEWE1g73KaVx"
      },
      "outputs": [],
      "source": [
        "data.to_csv('data/final_dataset.csv', index=False)"
      ]
    },
    {
      "cell_type": "code",
      "execution_count": null,
      "metadata": {
        "id": "oWDbCEo9S5El"
      },
      "outputs": [],
      "source": [
        "keys = tf.constant(list(range(vocab.size())))\n",
        "keys = tf.strings.as_string(keys).numpy().tolist()\n",
        "values = [vocab.lookup(tf.constant(key)).numpy() for key in keys]\n",
        "\n",
        "vocab_dict = {key: value for key, value in zip(keys, values)}\n",
        "\n",
        "with open('data/vocabulary_table.pkl', 'wb') as f:\n",
        "    pickle.dump(vocab_dict, f)"
      ]
    },
    {
      "cell_type": "markdown",
      "metadata": {
        "id": "PWFBE9HsS5Em"
      },
      "source": [
        "# Redes Neurais\n",
        "\n",
        "Esse notebook tratará da implementação, do treino e da avaliação inicial de redes neurais recorrentes (especificamente de células LSTM) na busca pela solução do seguinte problema de classificação: identificação de de viés político em textos. O tamanho desses textos é algo a ser arbitrado e até mesmo utilizado como comparação: podemos utilizar somente as sentenças que foram marcadas por conter viés, ou mesmo o texto na íntegra da notícia."
      ]
    },
    {
      "cell_type": "code",
      "execution_count": null,
      "metadata": {
        "id": "TLyPuAjaS5En"
      },
      "outputs": [],
      "source": [
        "from sklearn.model_selection import train_test_split\n",
        "from tensorflow import keras"
      ]
    },
    {
      "cell_type": "markdown",
      "metadata": {
        "id": "06yTCGGXS5En"
      },
      "source": [
        "- Carregamento do dataset e do vocabulário, totalmente perfilados pelo notebook de pré-processamento."
      ]
    },
    {
      "cell_type": "markdown",
      "metadata": {
        "id": "G5SwM_WPS5Eo"
      },
      "source": [
        "## 1 - Separando o dataset"
      ]
    },
    {
      "cell_type": "code",
      "execution_count": null,
      "metadata": {
        "id": "iE3VcW22S5Eo"
      },
      "outputs": [],
      "source": [
        "label_columns = ['Label_bias_Biased','Label_bias_No agreement', 'Label_bias_Non-biased']\n",
        "labels = data[label_columns]\n",
        "features = data.drop(label_columns, axis=1)"
      ]
    },
    {
      "cell_type": "code",
      "execution_count": null,
      "metadata": {
        "id": "kYLTlKL2S5Ep"
      },
      "outputs": [],
      "source": [
        "def train_valid_test_split(features, labels):\n",
        "    \"\"\" Retorna uma lista de tuplas contendo os datasets de features e de labels para cada segmento (treino, validação, teste) \"\"\"\n",
        "\n",
        "    # Treino-val e Teste\n",
        "    X_train_val, X_test, y_train_val, y_test = train_test_split(features, labels, test_size=0.2,stratify=labels, random_state=104)\n",
        "    X_train, X_val, y_train, y_val = train_test_split(X_train_val, y_train_val, test_size=0.2, stratify=y_train_val)\n",
        "\n",
        "    return [(X_train, y_train), (X_val, y_val), (X_test, y_test)]"
      ]
    },
    {
      "cell_type": "code",
      "execution_count": null,
      "metadata": {
        "id": "e0GzQVrpS5Eq"
      },
      "outputs": [],
      "source": [
        "train, validation, test = train_valid_test_split(features,labels)\n",
        "\n",
        "train_df, train_labels = train\n",
        "validation_df, validation_labels = validation\n",
        "test_df, test_labels = test\n",
        "\n",
        "print(f\"Treino:{train_df.shape} ----- Validação: {validation_df.shape} ------ Teste: {test_df.shape}\")"
      ]
    },
    {
      "cell_type": "markdown",
      "metadata": {
        "id": "4hmbzZazS5Er"
      },
      "source": [
        "## 2 - Estruturando arquitetura da rede neural"
      ]
    },
    {
      "cell_type": "markdown",
      "metadata": {
        "id": "Ji2135nwS5Er"
      },
      "source": [
        "- Vamos criar uma camada de embeddings. No caso atual, só conseguimos utilizar uma feature do tipo texto por vez, tendo em vista que o embedding é treinado junto da rede como um todo. Uma das ideias futuras seria utilizar um modelo pré-treinado com o vocabulário reduzido ao nosso, mas para alguns testes, essa arquitetura será interessante."
      ]
    },
    {
      "cell_type": "markdown",
      "metadata": {
        "id": "PrM22VptS5Es"
      },
      "source": [
        "### 2.1 - Parte Textual (artigo)"
      ]
    },
    {
      "cell_type": "code",
      "execution_count": null,
      "metadata": {
        "id": "Mcia0UybS5Es"
      },
      "outputs": [],
      "source": [
        "embed_size = 64\n",
        "\n",
        "text_input_length = len(train_df.loc[1,'article'])\n",
        "text_input = keras.layers.Input(shape=(text_input_length,))\n",
        "embedding_layer = keras.layers.Embedding(input_dim=int(vocab_table.size())+5000,\n",
        "                                         output_dim=embed_size,\n",
        "                                         mask_zero=True)(text_input)\n",
        "\n",
        "#embedding_output = keras.layers.Bidirectional(keras.layers.LSTM(embed_size))(embedding_layer)\n",
        "embedding_output = keras.layers.LSTM(embed_size)(embedding_layer)\n"
      ]
    },
    {
      "cell_type": "markdown",
      "metadata": {
        "id": "lHz26uLdS5Eu"
      },
      "source": [
        "### 2.2 - Parte de Metadados"
      ]
    },
    {
      "cell_type": "code",
      "execution_count": null,
      "metadata": {
        "id": "xCDg-T1MS5Eu"
      },
      "outputs": [],
      "source": [
        "feature_input_length = len(train_df.columns) - 3\n",
        "feature_input = keras.layers.Input(shape=(feature_input_length,))"
      ]
    },
    {
      "cell_type": "code",
      "source": [
        "\n",
        "from tensorflow.keras.metrics import Precision, Recall\n",
        "import tensorflow as tf\n",
        "from sklearn.metrics import precision_score, recall_score\n",
        "\n",
        "\n",
        "from sklearn.metrics import precision_score, recall_score\n",
        "\n",
        "\n"
      ],
      "metadata": {
        "id": "NcLaoG3IJaTr"
      },
      "execution_count": null,
      "outputs": []
    },
    {
      "cell_type": "markdown",
      "metadata": {
        "id": "jtwAkJAoS5Ev"
      },
      "source": [
        "### 2.3 - Modelo final"
      ]
    },
    {
      "cell_type": "code",
      "execution_count": null,
      "metadata": {
        "id": "J3zXNE24S5Ew"
      },
      "outputs": [],
      "source": [
        "concatenated = keras.layers.concatenate([embedding_output,feature_input], axis=-1)\n",
        "reshaped = keras.layers.Reshape((-1, concatenated.shape[-1]))(concatenated)  # Add time dimension\n",
        "gru_layer1 = keras.layers.LSTM(128)(reshaped)\n",
        "dense = keras.layers.Dense(32, activation = 'relu')(gru_layer1)\n",
        "dropout = keras.layers.Dropout(0.6)(dense) ### adicionando uma camada de regularização para diminuir diferença entre treino e validaçao\n",
        "output = keras.layers.Dense(3, activation=\"softmax\")(dropout)\n",
        "\n",
        "model = tf.keras.Model(inputs=[text_input,feature_input], outputs=output)\n",
        "#model.compile(loss=\"categorical_crossentropy\",optimizer=\"adam\")\n",
        "model.compile(optimizer='adam',\n",
        "              loss='categorical_crossentropy',\n",
        "              metrics=['accuracy', Precision(class_id=0, name = 'prec_class0'),\n",
        "                       Precision(class_id=1, name = 'prec_class1'),\n",
        "                       Precision(class_id=2, name = 'prec_class2'),\n",
        "                       Recall(class_id=0, name = 'rec_class0'),\n",
        "                       Recall(class_id=1, name = 'rec_class1'),\n",
        "                       Recall(class_id=2, name = 'rec_class2')])"
      ]
    },
    {
      "cell_type": "markdown",
      "source": [
        "## Modelo Sequencial:"
      ],
      "metadata": {
        "id": "1sQkVz8LcrmO"
      }
    },
    {
      "cell_type": "code",
      "execution_count": null,
      "metadata": {
        "id": "YpYMa9dkS5Ex"
      },
      "outputs": [],
      "source": [
        "model.summary()"
      ]
    },
    {
      "cell_type": "markdown",
      "metadata": {
        "id": "Y_rzFxmBS5Ey"
      },
      "source": [
        "## 3 - Treinando a rede"
      ]
    },
    {
      "cell_type": "markdown",
      "metadata": {
        "id": "JfpXDDMLS5Ey"
      },
      "source": [
        "### 3.1 - Função auxiliar para fragmentar os inputs por tipo de feature"
      ]
    },
    {
      "cell_type": "code",
      "execution_count": null,
      "metadata": {
        "id": "OP-y337cS5E0"
      },
      "outputs": [],
      "source": [
        "def split_metadata_and_text_features(data,text_column):\n",
        "\n",
        "    \"\"\"\n",
        "        Realiza a separação entre as features de texto e de metadados.\n",
        "        O parâmetro \"text_column\" diz qual será a coluna textual que utilizaremos, dado que\n",
        "        atualmente, precisamos escolher somente uma.\n",
        "    \"\"\"\n",
        "\n",
        "    data = data.copy()\n",
        "\n",
        "    text_features = tf.constant(data[text_column].values.tolist())\n",
        "    metadata_features = data.drop(['article','sentence','biased_words4'],axis=1)\n",
        "\n",
        "    return [text_features, metadata_features]"
      ]
    },
    {
      "cell_type": "markdown",
      "metadata": {
        "id": "0lzOq4VTS5E1"
      },
      "source": [
        "### 3.2 - Callback para salvar modelo a cada epoch"
      ]
    },
    {
      "cell_type": "code",
      "execution_count": null,
      "metadata": {
        "id": "WzHdSPZgS5E2"
      },
      "outputs": [],
      "source": [
        "checkpoint_cb = keras.callbacks.ModelCheckpoint(\n",
        "    filepath=\"models/article_model.h5\",\n",
        "    monitor='val_loss',\n",
        "    save_best_only=True,\n",
        "    save_weights_only=True\n",
        ")"
      ]
    },
    {
      "cell_type": "markdown",
      "metadata": {
        "id": "D7geYdKWS5E3"
      },
      "source": [
        "### 3.3 - Treinamento efetivo"
      ]
    },
    {
      "cell_type": "code",
      "execution_count": null,
      "metadata": {
        "id": "pdWPhubKS5E4"
      },
      "outputs": [],
      "source": [
        "model_train_metrics = model.fit(split_metadata_and_text_features(train_df,'article'),\n",
        "          train_labels,\n",
        "          epochs=25,\n",
        "          validation_data=(split_metadata_and_text_features(validation_df,'article'), validation_labels),\n",
        "          batch_size=64,\n",
        "          callbacks=[checkpoint_cb]\n",
        ")"
      ]
    },
    {
      "cell_type": "markdown",
      "source": [
        "0 --> enviesado\n",
        "1 --> sem acordo\n",
        "2 --> sem vies"
      ],
      "metadata": {
        "id": "zdTENCfqVeGk"
      }
    },
    {
      "cell_type": "code",
      "source": [
        "import numpy as np\n",
        "import matplotlib.pyplot as plt\n",
        "\n",
        "# Extrair as métricas do treinamento\n",
        "accuracy = model_train_metrics.history['accuracy']\n",
        "val_accuracy = model_train_metrics.history['val_accuracy']\n",
        "prec_class0 = np.array(model_train_metrics.history['prec_class0'])\n",
        "prec_class1 = np.array(model_train_metrics.history['prec_class1'])\n",
        "prec_class2 = np.array(model_train_metrics.history['prec_class2'])\n",
        "rec_class0 = np.array(model_train_metrics.history['rec_class0'])\n",
        "rec_class1 = np.array(model_train_metrics.history['rec_class1'])\n",
        "rec_class2 = np.array(model_train_metrics.history['rec_class2'])\n",
        "val_prec_class0 = np.array(model_train_metrics.history['val_prec_class0'])\n",
        "val_prec_class1 = np.array(model_train_metrics.history['val_prec_class1'])\n",
        "val_prec_class2 = np.array(model_train_metrics.history['val_prec_class2'])\n",
        "val_rec_class0 = np.array(model_train_metrics.history['val_rec_class0'])\n",
        "val_rec_class1 = np.array(model_train_metrics.history['val_rec_class1'])\n",
        "val_rec_class2 = np.array(model_train_metrics.history['val_rec_class2'])\n",
        "\n",
        "# Calcular o F1-score para cada classe\n",
        "f1_class0 = 2 * (prec_class0 * rec_class0) / (prec_class0 + rec_class0 + 1e-15)\n",
        "f1_class1 = 2 * (prec_class1 * rec_class1) / (prec_class1 + rec_class1 + 1e-15)\n",
        "f1_class2 = 2 * (prec_class2 * rec_class2) / (prec_class2 + rec_class2 + 1e-15)\n",
        "val_f1_class0 = 2 * (val_prec_class0 * val_rec_class0) / (val_prec_class0 + val_rec_class0 + 1e-15)\n",
        "val_f1_class1 = 2 * (val_prec_class1 * val_rec_class1) / (val_prec_class1 + val_rec_class1 + 1e-15)\n",
        "val_f1_class2 = 2 * (val_prec_class2 * val_rec_class2) / (val_prec_class2 + val_rec_class2 + 1e-15)\n",
        "\n",
        "# Criar subplots para os gráficos\n",
        "fig, axs = plt.subplots(3, sharex=True, figsize=(8, 12))\n",
        "\n",
        "# Gráfico de accuracy\n",
        "axs[0].plot(accuracy, label='Train Accuracy', linewidth=2)\n",
        "axs[0].plot(val_accuracy, label='Validation Accuracy', linewidth=2, linestyle='--')\n",
        "axs[0].set_ylabel('Accuracy')\n",
        "axs[0].legend()\n",
        "\n",
        "# Gráfico de precision para cada classe\n",
        "axs[1].plot(prec_class0, label='Train Precision - Class 0', linewidth=2)\n",
        "axs[1].plot(prec_class1, label='Train Precision - Class 1', linewidth=2)\n",
        "axs[1].plot(prec_class2, label='Train Precision - Class 2', linewidth=2)\n",
        "axs[1].plot(val_prec_class0, label='Validation Precision - Class 0', linewidth=2, linestyle='--')\n",
        "axs[1].plot(val_prec_class1, label='Validation Precision - Class 1', linewidth=2, linestyle='--')\n",
        "axs[1].plot(val_prec_class2, label='Validation Precision - Class 2', linewidth=2, linestyle='--')\n",
        "axs[1].set_ylabel('Precision')\n",
        "axs[1].legend()\n",
        "\n",
        "# Gráfico de recall para cada classe\n",
        "axs[2].plot(rec_class0, label='Train Recall - Class 0', linewidth=2)\n",
        "axs[2].plot(rec_class1, label='Train Recall - Class 1', linewidth=2)\n",
        "axs[2].plot(rec_class2, label='Train Recall - Class 2', linewidth=2)\n",
        "axs[2].plot(val_rec_class0, label='Validation Recall - Class 0', linewidth=2, linestyle='--')\n",
        "axs[2].plot(val_rec_class1, label='Validation Recall - Class 1', linewidth=2, linestyle='--')\n",
        "axs[2].plot(val_rec_class2, label='Validation Recall - Class 2', linewidth=2, linestyle='--')\n",
        "axs[2].set_xlabel('Epoch')\n",
        "axs[2].set_ylabel('Recall')\n",
        "axs[2].legend()\n",
        "\n",
        "# Ajustar o layout\n",
        "plt.tight_layout()\n",
        "\n",
        "# Exibir os gráficos\n",
        "plt.show()\n",
        "\n",
        "# Imprimir os valores de F1-score para cada classe\n",
        "print('F1-score - Class 0:', f1_class0[-1])\n",
        "print('F1-score - Class 1:', f1_class1[-1])\n",
        "print('F1-score - Class 2:', f1_class2[-1])\n",
        "print('Validation F1-score - Class 0:', val_f1_class0[-1])\n",
        "print('Validation F1-score - Class 1:', val_f1_class1[-1])\n",
        "print('Validation F1-score - Class 2:', val_f1_class2[-1])\n",
        "\n"
      ],
      "metadata": {
        "id": "JaQLHOzTWYIs"
      },
      "execution_count": null,
      "outputs": []
    },
    {
      "cell_type": "markdown",
      "source": [
        "### 3.4 Teste do Modelo"
      ],
      "metadata": {
        "id": "9KYWXXAXE1BP"
      }
    },
    {
      "cell_type": "code",
      "source": [
        "import numpy as np\n",
        "import matplotlib.pyplot as plt\n",
        "\n",
        "# Calcular as métricas no conjunto de teste\n",
        "test_loss, test_accuracy, test_precision_class0, test_precision_class1, test_precision_class2, test_recall_class0, test_recall_class1, test_recall_class2 = model.evaluate(split_metadata_and_text_features(test_df, 'article'), test_labels)\n"
      ],
      "metadata": {
        "id": "vc8gnyTVe4ct"
      },
      "execution_count": null,
      "outputs": []
    },
    {
      "cell_type": "code",
      "source": [
        "import numpy as np\n",
        "import matplotlib.pyplot as plt\n",
        "\n",
        "# Calcular o F1-score para cada classe no conjunto de teste\n",
        "test_f1_class0 = 2 * (test_precision_class0 * test_recall_class0) / (test_precision_class0 + test_recall_class0 + 1e-15)\n",
        "test_f1_class1 = 2 * (test_precision_class1 * test_recall_class1) / (test_precision_class1 + test_recall_class1 + 1e-15)\n",
        "test_f1_class2 = 2 * (test_precision_class2 * test_recall_class2) / (test_precision_class2 + test_recall_class2 + 1e-15)\n",
        "\n",
        "# Preparar os dados para o gráfico de barras\n",
        "metricas = ['Acurácia']\n",
        "classes = ['Classe \"Com Viés\"', 'Classe \"Sem Acordo\"', 'Classe \"Sem Viés\"']\n",
        "valores_acuracia = [test_accuracy]\n",
        "valores_precisao = [test_precision_class0, test_precision_class1, test_precision_class2]\n",
        "valores_revocacao = [test_recall_class0, test_recall_class1, test_recall_class2]\n",
        "valores_f1 = [test_f1_class0, test_f1_class1, test_f1_class2]\n",
        "\n",
        "# Criar o gráfico de barras para acurácia\n",
        "plt.figure(figsize=(6, 4))\n",
        "plt.bar(metricas, valores_acuracia, color='gray')\n",
        "plt.ylim(0, 1)\n",
        "plt.ylabel('Valor')\n",
        "plt.title('Acurácia no Conjunto de Teste')\n",
        "plt.legend()\n",
        "\n",
        "# Exibir o gráfico de barras de acurácia\n",
        "plt.show()\n",
        "\n",
        "# Criar o gráfico de barras para precisão\n",
        "plt.figure(figsize=(6, 4))\n",
        "plt.bar(classes, valores_precisao, color=['lightgray', 'gray', 'darkgray'])\n",
        "plt.ylim(0, 1)\n",
        "plt.ylabel('Valor')\n",
        "plt.title('Precisão no Conjunto de Teste - Artigo Completo')\n",
        "plt.legend()\n",
        "\n",
        "# Exibir o gráfico de barras de precisão\n",
        "plt.show()\n",
        "\n",
        "# Criar o gráfico de barras para revocação\n",
        "plt.figure(figsize=(6, 4))\n",
        "plt.bar(classes, valores_revocacao, color=['lightgray', 'gray', 'darkgray'])\n",
        "plt.ylim(0, 1)\n",
        "plt.ylabel('Valor')\n",
        "plt.title('Revocação no Conjunto de Teste - Artigo Completo')\n",
        "plt.legend()\n",
        "\n",
        "# Exibir o gráfico de barras de revocação\n",
        "plt.show()\n",
        "\n",
        "# Criar o gráfico de barras para F1-score\n",
        "plt.figure(figsize=(6, 4))\n",
        "plt.bar(classes, valores_f1, color=['lightgray', 'gray', 'darkgray'])\n",
        "plt.ylim(0, 1)\n",
        "plt.ylabel('Valor')\n",
        "plt.title('F1-score no Conjunto de Teste - Artigo Completo')\n",
        "plt.legend()\n",
        "\n",
        "# Exibir o gráfico de barras de F1-score\n",
        "plt.show()\n"
      ],
      "metadata": {
        "id": "ptVxALF-Xhcs"
      },
      "execution_count": null,
      "outputs": []
    },
    {
      "cell_type": "markdown",
      "source": [
        "# Usando a coluna sentence"
      ],
      "metadata": {
        "id": "sfvMM-UQM8cJ"
      }
    },
    {
      "cell_type": "code",
      "source": [
        "embed_size = 64\n",
        "\n",
        "text_input_length = len(train_df.loc[1,'sentence'])\n",
        "text_input = keras.layers.Input(shape=(text_input_length,))\n",
        "embedding_layer = keras.layers.Embedding(input_dim=int(vocab_table.size())+5000,\n",
        "                                         output_dim=embed_size,\n",
        "                                         mask_zero=True)(text_input)\n",
        "\n",
        "#embedding_output = keras.layers.Bidirectional(keras.layers.LSTM(embed_size))(embedding_layer)\n",
        "embedding_output = keras.layers.LSTM(embed_size)(embedding_layer)\n",
        "feature_input_length = len(train_df.columns) - 3\n",
        "feature_input = keras.layers.Input(shape=(feature_input_length,))\n",
        "\n",
        "concatenated = keras.layers.concatenate([embedding_output,feature_input], axis=-1)\n",
        "reshaped = keras.layers.Reshape((-1, concatenated.shape[-1]))(concatenated)  # Add time dimension\n",
        "gru_layer1 = keras.layers.LSTM(128)(reshaped)\n",
        "dense = keras.layers.Dense(32, activation = 'relu')(gru_layer1)\n",
        "dropout = keras.layers.Dropout(0.6)(dense) ### adicionando uma camada de regularização para diminuir diferença entre treino e validaçao\n",
        "output = keras.layers.Dense(3, activation=\"softmax\")(dropout)\n",
        "\n",
        "model2 = tf.keras.Model(inputs=[text_input,feature_input], outputs=output)\n",
        "#model.compile(loss=\"categorical_crossentropy\",optimizer=\"adam\")\n",
        "model2.compile(optimizer='adam',\n",
        "              loss='categorical_crossentropy',\n",
        "              metrics=['accuracy', Precision(class_id=0, name = 'prec_class0'),\n",
        "                       Precision(class_id=1, name = 'prec_class1'),\n",
        "                       Precision(class_id=2, name = 'prec_class2'),\n",
        "                       Recall(class_id=0, name = 'rec_class0'),\n",
        "                       Recall(class_id=1, name = 'rec_class1'),\n",
        "                       Recall(class_id=2, name = 'rec_class2')])\n",
        "\n",
        "checkpoint_cb = keras.callbacks.ModelCheckpoint(\n",
        "    filepath=\"models/sentence_model.h5\",\n",
        "    monitor='val_loss',\n",
        "    save_best_only=True,\n",
        "    save_weights_only=True\n",
        ")\n",
        "\n",
        "model2_train_metrics = model2.fit(split_metadata_and_text_features(train_df,'sentence'),\n",
        "          train_labels,\n",
        "          epochs=25,\n",
        "          validation_data=(split_metadata_and_text_features(validation_df,'sentence'), validation_labels),\n",
        "          batch_size=64,\n",
        "          callbacks=[checkpoint_cb]\n",
        ")"
      ],
      "metadata": {
        "id": "tWbmRK0TM-uA"
      },
      "execution_count": null,
      "outputs": []
    },
    {
      "cell_type": "code",
      "source": [
        "# Calcular as métricas no conjunto de teste\n",
        "test_loss, test_accuracy, test_precision_class0, test_precision_class1, test_precision_class2, test_recall_class0, test_recall_class1, test_recall_class2 = model2.evaluate(split_metadata_and_text_features(test_df, 'sentence'), test_labels)\n",
        "\n",
        "\n",
        "# Calcular o F1-score para cada classe no conjunto de teste\n",
        "test_f1_class0 = 2 * (test_precision_class0 * test_recall_class0) / (test_precision_class0 + test_recall_class0 + 1e-15)\n",
        "test_f1_class1 = 2 * (test_precision_class1 * test_recall_class1) / (test_precision_class1 + test_recall_class1 + 1e-15)\n",
        "test_f1_class2 = 2 * (test_precision_class2 * test_recall_class2) / (test_precision_class2 + test_recall_class2 + 1e-15)\n",
        "\n",
        "# Preparar os dados para o gráfico de barras\n",
        "metricas = ['Acurácia']\n",
        "classes = ['Classe \"Com Viés\"', 'Classe \"Sem Acordo\"', 'Classe \"Sem Viés\"']\n",
        "valores_acuracia = [test_accuracy]\n",
        "valores_precisao = [test_precision_class0, test_precision_class1, test_precision_class2]\n",
        "valores_revocacao = [test_recall_class0, test_recall_class1, test_recall_class2]\n",
        "valores_f1 = [test_f1_class0, test_f1_class1, test_f1_class2]\n",
        "\n",
        "# Criar o gráfico de barras para acurácia\n",
        "plt.figure(figsize=(6, 4))\n",
        "plt.bar(metricas, valores_acuracia, color='gray')\n",
        "plt.ylim(0, 1)\n",
        "plt.ylabel('Valor')\n",
        "plt.title('Acurácia no Conjunto de Teste')\n",
        "plt.legend()\n",
        "\n",
        "# Exibir o gráfico de barras de acurácia\n",
        "plt.show()\n",
        "\n",
        "# Criar o gráfico de barras para precisão\n",
        "plt.figure(figsize=(6, 4))\n",
        "plt.bar(classes, valores_precisao, color=['lightgray', 'gray', 'darkgray'])\n",
        "plt.ylim(0, 1)\n",
        "plt.ylabel('Valor')\n",
        "plt.title('Precisão no Conjunto de Teste - Sentenças')\n",
        "plt.legend()\n",
        "\n",
        "# Exibir o gráfico de barras de precisão\n",
        "plt.show()\n",
        "\n",
        "# Criar o gráfico de barras para revocação\n",
        "plt.figure(figsize=(6, 4))\n",
        "plt.bar(classes, valores_revocacao, color=['lightgray', 'gray', 'darkgray'])\n",
        "plt.ylim(0, 1)\n",
        "plt.ylabel('Valor')\n",
        "plt.title('Revocação no Conjunto de Teste - Sentenças')\n",
        "plt.legend()\n",
        "\n",
        "# Exibir o gráfico de barras de revocação\n",
        "plt.show()\n",
        "\n",
        "# Criar o gráfico de barras para F1-score\n",
        "plt.figure(figsize=(6, 4))\n",
        "plt.bar(classes, valores_f1, color=['lightgray', 'gray', 'darkgray'])\n",
        "plt.ylim(0, 1)\n",
        "plt.ylabel('Valor')\n",
        "plt.title('F1-score no Conjunto de Teste - Sentenças')\n",
        "plt.legend()\n",
        "\n",
        "# Exibir o gráfico de barras de F1-score\n",
        "plt.show()"
      ],
      "metadata": {
        "id": "Y3rnoggIasVo"
      },
      "execution_count": null,
      "outputs": []
    },
    {
      "cell_type": "markdown",
      "source": [
        "## Usando apenas a palavra com vies"
      ],
      "metadata": {
        "id": "tf455_D0OHVQ"
      }
    },
    {
      "cell_type": "code",
      "source": [
        "embed_size = 64\n",
        "\n",
        "text_input_length = len(train_df.loc[1,'biased_words4'])\n",
        "text_input = keras.layers.Input(shape=(text_input_length,))\n",
        "embedding_layer = keras.layers.Embedding(input_dim=int(vocab_table.size())+5000,\n",
        "                                         output_dim=embed_size,\n",
        "                                         mask_zero=True)(text_input)\n",
        "\n",
        "#embedding_output = keras.layers.Bidirectional(keras.layers.LSTM(embed_size))(embedding_layer)\n",
        "embedding_output = keras.layers.LSTM(embed_size)(embedding_layer)\n",
        "feature_input_length = len(train_df.columns) - 3\n",
        "feature_input = keras.layers.Input(shape=(feature_input_length,))\n",
        "\n",
        "concatenated = keras.layers.concatenate([embedding_output,feature_input], axis=-1)\n",
        "reshaped = keras.layers.Reshape((-1, concatenated.shape[-1]))(concatenated)  # Add time dimension\n",
        "gru_layer1 = keras.layers.LSTM(128)(reshaped)\n",
        "dense = keras.layers.Dense(32, activation = 'relu')(gru_layer1)\n",
        "dropout = keras.layers.Dropout(0.6)(dense) ### adicionando uma camada de regularização para diminuir diferença entre treino e validaçao\n",
        "output = keras.layers.Dense(3, activation=\"softmax\")(dropout)\n",
        "\n",
        "model3 = tf.keras.Model(inputs=[text_input,feature_input], outputs=output)\n",
        "#model.compile(loss=\"categorical_crossentropy\",optimizer=\"adam\")\n",
        "model3.compile(optimizer='adam',\n",
        "              loss='categorical_crossentropy',\n",
        "              metrics=['accuracy', Precision(class_id=0, name = 'prec_class0'),\n",
        "                       Precision(class_id=1, name = 'prec_class1'),\n",
        "                       Precision(class_id=2, name = 'prec_class2'),\n",
        "                       Recall(class_id=0, name = 'rec_class0'),\n",
        "                       Recall(class_id=1, name = 'rec_class1'),\n",
        "                       Recall(class_id=2, name = 'rec_class2')])\n",
        "\n",
        "checkpoint_cb = keras.callbacks.ModelCheckpoint(\n",
        "    filepath=\"models/biased_words4_model.h5\",\n",
        "    monitor='val_loss',\n",
        "    save_best_only=True,\n",
        "    save_weights_only=True\n",
        ")\n",
        "\n",
        "model3_train_metrics = model3.fit(split_metadata_and_text_features(train_df,'biased_words4'),\n",
        "          train_labels,\n",
        "          epochs=25,\n",
        "          validation_data=(split_metadata_and_text_features(validation_df,'biased_words4'), validation_labels),\n",
        "          batch_size=64,\n",
        "          callbacks=[checkpoint_cb]\n",
        ")"
      ],
      "metadata": {
        "id": "2E62TthYNMyO"
      },
      "execution_count": null,
      "outputs": []
    },
    {
      "cell_type": "code",
      "source": [
        "# Calcular as métricas no conjunto de teste\n",
        "test_loss, test_accuracy, test_precision_class0, test_precision_class1, test_precision_class2, test_recall_class0, test_recall_class1, test_recall_class2 = model3.evaluate(split_metadata_and_text_features(test_df, 'biased_words4'), test_labels)\n",
        "\n",
        "\n",
        "# Calcular o F1-score para cada classe no conjunto de teste\n",
        "test_f1_class0 = 2 * (test_precision_class0 * test_recall_class0) / (test_precision_class0 + test_recall_class0 + 1e-15)\n",
        "test_f1_class1 = 2 * (test_precision_class1 * test_recall_class1) / (test_precision_class1 + test_recall_class1 + 1e-15)\n",
        "test_f1_class2 = 2 * (test_precision_class2 * test_recall_class2) / (test_precision_class2 + test_recall_class2 + 1e-15)\n",
        "\n",
        "# Preparar os dados para o gráfico de barras\n",
        "metricas = ['Acurácia']\n",
        "classes = ['Classe \"Com Viés\"', 'Classe \"Sem Acordo\"', 'Classe \"Sem Viés\"']\n",
        "valores_acuracia = [test_accuracy]\n",
        "valores_precisao = [test_precision_class0, test_precision_class1, test_precision_class2]\n",
        "valores_revocacao = [test_recall_class0, test_recall_class1, test_recall_class2]\n",
        "valores_f1 = [test_f1_class0, test_f1_class1, test_f1_class2]\n",
        "\n",
        "# Criar o gráfico de barras para acurácia\n",
        "plt.figure(figsize=(6, 4))\n",
        "plt.bar(metricas, valores_acuracia, color='gray')\n",
        "plt.ylim(0, 1)\n",
        "plt.ylabel('Valor')\n",
        "plt.title('Acurácia no Conjunto de Teste')\n",
        "plt.legend()\n",
        "\n",
        "# Exibir o gráfico de barras de acurácia\n",
        "plt.show()\n",
        "\n",
        "# Criar o gráfico de barras para precisão\n",
        "plt.figure(figsize=(6, 4))\n",
        "plt.bar(classes, valores_precisao, color=['lightgray', 'gray', 'darkgray'])\n",
        "plt.ylim(0, 1)\n",
        "plt.ylabel('Valor')\n",
        "plt.title('Precisão no Conjunto de Teste - Palavras')\n",
        "plt.legend()\n",
        "\n",
        "# Exibir o gráfico de barras de precisão\n",
        "plt.show()\n",
        "\n",
        "# Criar o gráfico de barras para revocação\n",
        "plt.figure(figsize=(6, 4))\n",
        "plt.bar(classes, valores_revocacao, color=['lightgray', 'gray', 'darkgray'])\n",
        "plt.ylim(0, 1)\n",
        "plt.ylabel('Valor')\n",
        "plt.title('Revocação no Conjunto de Teste - Palavras')\n",
        "plt.legend()\n",
        "\n",
        "# Exibir o gráfico de barras de revocação\n",
        "plt.show()\n",
        "\n",
        "# Criar o gráfico de barras para F1-score\n",
        "plt.figure(figsize=(6, 4))\n",
        "plt.bar(classes, valores_f1, color=['lightgray', 'gray', 'darkgray'])\n",
        "plt.ylim(0, 1)\n",
        "plt.ylabel('Valor')\n",
        "plt.title('F1-score no Conjunto de Teste - Palavras')\n",
        "plt.legend()\n",
        "\n",
        "# Exibir o gráfico de barras de F1-score\n",
        "plt.show()"
      ],
      "metadata": {
        "id": "Q9jTCOK1b_G9"
      },
      "execution_count": null,
      "outputs": []
    }
  ],
  "metadata": {
    "colab": {
      "collapsed_sections": [
        "8jhbot7NnxrP",
        "5dgVKAMqnxrR",
        "KOOeFWainxrT",
        "28mGJnjWQC82",
        "hu0eDi-4UE47"
      ],
      "provenance": []
    },
    "kernelspec": {
      "display_name": "Python 3 (ipykernel)",
      "language": "python",
      "name": "python3"
    },
    "language_info": {
      "codemirror_mode": {
        "name": "ipython",
        "version": 3
      },
      "file_extension": ".py",
      "mimetype": "text/x-python",
      "name": "python",
      "nbconvert_exporter": "python",
      "pygments_lexer": "ipython3",
      "version": "3.8.10"
    }
  },
  "nbformat": 4,
  "nbformat_minor": 0
}