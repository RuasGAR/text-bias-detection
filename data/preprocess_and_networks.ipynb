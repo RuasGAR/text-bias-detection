{
  "cells": [
    {
      "cell_type": "markdown",
      "metadata": {
        "id": "rvGwydOHnxrH"
      },
      "source": [
        "# Pré-Processamento"
      ]
    },
    {
      "cell_type": "code",
      "execution_count": null,
      "metadata": {
        "colab": {
          "base_uri": "https://localhost:8080/"
        },
        "id": "iKkxFUWTn6-5",
        "outputId": "687d4f35-513a-4453-ee40-dceec89c955b"
      },
      "outputs": [
        {
          "output_type": "stream",
          "name": "stdout",
          "text": [
            "Looking in indexes: https://pypi.org/simple, https://us-python.pkg.dev/colab-wheels/public/simple/\n",
            "Requirement already satisfied: unidecode in /usr/local/lib/python3.10/dist-packages (1.3.6)\n"
          ]
        }
      ],
      "source": [
        "!pip install unidecode"
      ]
    },
    {
      "cell_type": "code",
      "execution_count": null,
      "metadata": {
        "colab": {
          "base_uri": "https://localhost:8080/"
        },
        "id": "9ySTH8jKnxrK",
        "outputId": "7c9d7a92-050e-44c4-b4ea-f7562b10a32e"
      },
      "outputs": [
        {
          "output_type": "stream",
          "name": "stderr",
          "text": [
            "[nltk_data] Downloading package stopwords to /root/nltk_data...\n",
            "[nltk_data]   Package stopwords is already up-to-date!\n",
            "[nltk_data] Downloading package punkt to /root/nltk_data...\n",
            "[nltk_data]   Package punkt is already up-to-date!\n"
          ]
        },
        {
          "output_type": "execute_result",
          "data": {
            "text/plain": [
              "True"
            ]
          },
          "metadata": {},
          "execution_count": 42
        }
      ],
      "source": [
        "import string\n",
        "import re\n",
        "import nltk\n",
        "import ast\n",
        "import pickle\n",
        "import pandas as pd\n",
        "import numpy as np\n",
        "import tensorflow as tf\n",
        "from unidecode import unidecode\n",
        "from nltk.corpus import stopwords\n",
        "from nltk.tokenize import word_tokenize\n",
        "from nltk.stem import PorterStemmer, LancasterStemmer, WordNetLemmatizer\n",
        "from collections import Counter\n",
        "from sklearn.pipeline import Pipeline\n",
        "from sklearn.preprocessing import FunctionTransformer\n",
        "from sklearn.base import BaseEstimator, TransformerMixin\n",
        "\n",
        "nltk.download('stopwords')\n",
        "nltk.download('punkt')"
      ]
    },
    {
      "cell_type": "code",
      "execution_count": null,
      "metadata": {
        "id": "c1auSdJjnxrO"
      },
      "outputs": [],
      "source": [
        "df = pd.read_csv(\"data/full_articles_dataset.csv\",converters={'biased_words4':ast.literal_eval})"
      ]
    },
    {
      "cell_type": "code",
      "execution_count": null,
      "metadata": {
        "colab": {
          "base_uri": "https://localhost:8080/"
        },
        "id": "wU1iXOXxnxrO",
        "outputId": "6fa13427-ee3d-4894-d4ca-16d9d5372377"
      },
      "outputs": [
        {
          "output_type": "execute_result",
          "data": {
            "text/plain": [
              "Index(['sentence', 'news_link', 'outlet', 'topic', 'type', 'group_id',\n",
              "       'num_sent', 'Label_bias', 'Label_opinion', 'article', 'biased_words4'],\n",
              "      dtype='object')"
            ]
          },
          "metadata": {},
          "execution_count": 44
        }
      ],
      "source": [
        "df.columns"
      ]
    },
    {
      "cell_type": "markdown",
      "metadata": {
        "id": "i87WgYR5nxrP"
      },
      "source": [
        "## 1 - Features Importantes\n",
        "- Label_bias (categórica): Indica se o texto foi classificado como enviesado, não-enviesado ou se não foi possível atingir um consenso quanto a classificação.\n",
        "- Biased_words(vetor): Indica as palavras marcadas como \"denunciantes\" da presença de viés.\n",
        "- Topic(categórica): Indica o assunto do texto, dentro das categorias\n",
        "- Type: Denota o posicionamento do viés, separados como esquerda, centro ou direita.\n",
        "- Outlet: Portal de origem da notícia"
      ]
    },
    {
      "cell_type": "code",
      "execution_count": null,
      "metadata": {
        "colab": {
          "base_uri": "https://localhost:8080/"
        },
        "id": "o6df6CPQS5EB",
        "outputId": "f653e9a9-3e50-409c-f2f1-14628b2909fe"
      },
      "outputs": [
        {
          "output_type": "execute_result",
          "data": {
            "text/plain": [
              "array(['Biased', 'Non-biased', 'No agreement'], dtype=object)"
            ]
          },
          "metadata": {},
          "execution_count": 45
        }
      ],
      "source": [
        "df['Label_bias'].unique()"
      ]
    },
    {
      "cell_type": "code",
      "execution_count": null,
      "metadata": {
        "colab": {
          "base_uri": "https://localhost:8080/"
        },
        "id": "tcm8CjQ5S5ED",
        "outputId": "ea35f82b-05a4-4b6f-f613-228578b8e49f"
      },
      "outputs": [
        {
          "output_type": "execute_result",
          "data": {
            "text/plain": [
              "array(['elections-2020', 'sport', 'immigration', 'environment',\n",
              "       'abortion', 'student-debt', 'vaccines', 'white-nationalism',\n",
              "       'coronavirus', 'trump-presidency', 'middle-class', 'gender',\n",
              "       'international-politics-and-world-news', 'gun-control'],\n",
              "      dtype=object)"
            ]
          },
          "metadata": {},
          "execution_count": 46
        }
      ],
      "source": [
        "df['topic'].unique()"
      ]
    },
    {
      "cell_type": "code",
      "execution_count": null,
      "metadata": {
        "colab": {
          "base_uri": "https://localhost:8080/"
        },
        "id": "TyDHSi42S5EF",
        "outputId": "c4aa368d-f0ae-40fd-e137-78bbbd131fb3"
      },
      "outputs": [
        {
          "output_type": "execute_result",
          "data": {
            "text/plain": [
              "array(['center', 'left', 'right'], dtype=object)"
            ]
          },
          "metadata": {},
          "execution_count": 47
        }
      ],
      "source": [
        "df['type'].unique()"
      ]
    },
    {
      "cell_type": "markdown",
      "metadata": {
        "id": "Bi7I8bprnxrP"
      },
      "source": [
        "## 2 - Pré-Processamento"
      ]
    },
    {
      "cell_type": "markdown",
      "metadata": {
        "id": "Ml8I9f5xS5EH"
      },
      "source": [
        "*Observação*: as funções relativas a entradas textuais são testadas individualmente com a coluna 'sentence'. Essa feature traz a frase na qual os participantes da pesquisa viram um viés.\n",
        "\n",
        "Quando formos realizar os treinos e a validação, utilizaremos todo o texto que compõe o documento analisado. Se mostrar-se interessante, podemos averiguar a performance reduzindo o corpus a, justamente, essas sentenças."
      ]
    },
    {
      "cell_type": "markdown",
      "metadata": {
        "id": "8jhbot7NnxrP"
      },
      "source": [
        "### 2.1 - Básico textual (remoção de stopwords, filtro de expressões com números, etc)"
      ]
    },
    {
      "cell_type": "markdown",
      "metadata": {
        "id": "ZIl3QssXnxrQ"
      },
      "source": [
        "- A priori, vamos considerar como tokens todas as palavras que:\n",
        "    - tenham mais do que 3 letras;\n",
        "    - não possuam números;\n",
        "    - não sejam siglas (como U.S.) nem que tenham um símbolo diferente de letra pós ou precedido por uma (como é o caso de separação entre palavras ao pular linha, e.g. \"fari-\");\n",
        "    - não estejam nas stopwords do inglês.\n",
        "\n",
        "- Uma decisão importante, especialmente no contexto de viés, é exclusão das das aspas. Isso pode ocorrer tanto de forma a ironizar acontecimentos como a corroborar algum conhecimento com argumento de autoridade enviesado, mas é algo que acreditamos estar diretamente relacionado ao conteúdo da frase, independetemente da grafia ao redor. Afinal, queremos tentar identificar a intenção. Seria interessante, para um próximo trabalho, tentar considerar as aspas e o que estivesse sob seus limites como algum tipo de incentivo ou demérito.\n",
        "\n",
        "- Mediante a escolha do usuário, aplicaremos um stemmer(Porter/Lancaster) ou um lemmatizer. Também podemos simplesmente não aplicar nenhum."
      ]
    },
    {
      "cell_type": "code",
      "execution_count": null,
      "metadata": {
        "colab": {
          "base_uri": "https://localhost:8080/"
        },
        "id": "ufcufOOonxrQ",
        "outputId": "ba08c40d-ca11-447d-fed9-dbeb8ee646a1"
      },
      "outputs": [
        {
          "output_type": "execute_result",
          "data": {
            "text/plain": [
              "0    [youtube, making, clear, birtherism, platform,...\n",
              "1    [increasingly, bitter, dispute, american, wome...\n",
              "2    [may, humanitarian, crisis, driving, vulnerabl...\n",
              "3    [professor, teaches, climate, change, classes,...\n",
              "4    [looking, around, united, states, never, enoug...\n",
              "Name: sentence, dtype: object"
            ]
          },
          "metadata": {},
          "execution_count": 48
        }
      ],
      "source": [
        "digit_pattern = r'\\d+(\\.\\d+)?'\n",
        "solo_quotations_pattern = pattern = r\"^(?:' '|\\\\\" \"|\\`\\`)$\"\n",
        "\n",
        "remove_quotation = r\"'\\b|\\b'\\s|\\s'\\b|\\\"\\b|\\b\\\"\\s|\\s\\\"\\b|``\\b|\\b``\\s|\\s``\\b\" # como em \"America is Great\"\n",
        "remove_symbols_only = r'\\b[^\\w\\s]+\\b' # como em '--'\n",
        "remove_symbols_if_aside = r'\\b[^\\w\\s]|[^\\w\\s]\\b' # como em 'dog-'\n",
        "\n",
        "remove_patterns = remove_quotation,remove_symbols_if_aside, remove_symbols_only\n",
        "\n",
        "stop_words = set(stopwords.words('english')) # talvez o set deixe mais rápido\n",
        "\n",
        "def preprocess_basic_text(data,columns):\n",
        "\n",
        "    for col in columns:\n",
        "\n",
        "       prepped_texts = []\n",
        "\n",
        "       for doc in data[col]:\n",
        "\n",
        "            if type(doc) == list:\n",
        "              doc = ','.join(doc)\n",
        "            # Remove acentos e põe tudo para lower case\n",
        "            doc = unidecode(doc).lower()\n",
        "            tokens = word_tokenize(doc,language=\"english\")\n",
        "\n",
        "            tokens = [\n",
        "                re.sub('|'.join(remove_patterns),'',t)\n",
        "                for t in tokens\n",
        "                if not bool(re.search(digit_pattern,t))\n",
        "                and t not in string.punctuation\n",
        "                and t not in stop_words\n",
        "            ]\n",
        "\n",
        "            tokens = [\n",
        "                t for t in tokens\n",
        "                if not bool(re.match(solo_quotations_pattern,t))\n",
        "                and len(t) >= 3\n",
        "             ]\n",
        "\n",
        "            prepped_texts.append(tokens)\n",
        "\n",
        "       data[col] = prepped_texts\n",
        "\n",
        "    return data\n",
        "\n",
        "df_copy = df.copy()\n",
        "df_copy = preprocess_basic_text(df_copy,['sentence'])\n",
        "df_copy['sentence'].head()"
      ]
    },
    {
      "cell_type": "markdown",
      "metadata": {
        "id": "5dgVKAMqnxrR"
      },
      "source": [
        "### 2.2 - Stemmers\n",
        "\n",
        "- Temos o objetivo de avaliar como diferentes estratégias de stemming afetam os resultados do treinamento. A função a seguir visa abstrair esse passo para um etapa separada de pré-processamento.\n",
        "- Serão testados os stemmer de Porter e de Lancaster, além da lematização via WordNet. Vamos também obter os resultados do modelo quando utilizados sem qualquer stemmer."
      ]
    },
    {
      "cell_type": "code",
      "execution_count": null,
      "metadata": {
        "id": "4xM7KssbnxrR"
      },
      "outputs": [],
      "source": [
        "def apply_stemmer_individual(sentence, stemmer_type:str):\n",
        "\n",
        "    # Função a ser executada para cada sentença, com expectativa de uso em algum filtro, por exemplo\n",
        "\n",
        "    stemmer = {}\n",
        "    lemmatizer = {}\n",
        "\n",
        "    if stemmer_type == \"Porter\":\n",
        "        stemmer = PorterStemmer()\n",
        "        return [stemmer.stem(token) for token in sentence]\n",
        "\n",
        "    elif stemmer_type == \"Lancaster\":\n",
        "        stemmer = LancasterStemmer()\n",
        "        return [stemmer.stem(token) for token in sentence]\n",
        "\n",
        "    else:  # \"Wordnet\":\n",
        "        lemmatizer = WordNetLemmatizer()\n",
        "        return [lemmatizer.stem(token) for token in sentence]"
      ]
    },
    {
      "cell_type": "code",
      "execution_count": null,
      "metadata": {
        "colab": {
          "base_uri": "https://localhost:8080/"
        },
        "id": "KgjPdj9rnxrS",
        "outputId": "c266d51e-e1ff-410d-9409-48308ceccb91"
      },
      "outputs": [
        {
          "output_type": "execute_result",
          "data": {
            "text/plain": [
              "0    [youtub, make, clear, birther, platform, year,...\n",
              "1    [increasingli, bitter, disput, american, women...\n",
              "2    [may, humanitarian, crisi, drive, vulner, peop...\n",
              "3    [professor, teach, climat, chang, class, subje...\n",
              "4    [look, around, unit, state, never, enough, wel...\n",
              "Name: sentence, dtype: object"
            ]
          },
          "metadata": {},
          "execution_count": 50
        }
      ],
      "source": [
        "df_copy['sentence'] = df_copy['sentence'].apply(lambda x: apply_stemmer_individual(x,\"Porter\"))\n",
        "df_copy['sentence'].head()"
      ]
    },
    {
      "cell_type": "code",
      "execution_count": null,
      "metadata": {
        "id": "glvQTh33ftLq"
      },
      "outputs": [],
      "source": [
        "# generalizando a aplicação pra todas as instâncias\n",
        "def apply_stemmer_for_all(data,columns,stemmer_flag=False,stemmer_type=None):\n",
        "\n",
        "  if stemmer_flag == False:\n",
        "    return data\n",
        "\n",
        "  for col in columns:\n",
        "    data[col] = data[col].apply(lambda x: apply_stemmer_individual(x,stemmer_type))\n",
        "  return data"
      ]
    },
    {
      "cell_type": "markdown",
      "metadata": {
        "id": "KOOeFWainxrT"
      },
      "source": [
        "### 2.3 - Encoding (palavras)\n",
        "\n",
        "- Para representar as palavras, vamos criar um encoding com base na frequência apresentada no corpus.\n",
        "- Utilizaremos alguns números para representar determinadas semânticas:\n",
        "  - padding(\"pad\"), necessário para deixar todas as entradas com mesmo tamanho, terá o valor 0.\n",
        "  - start-of-sequence(\"sos\"), usado para identificar o ínicio de cada sentença, terá o número 1\n",
        "  - unknown, para marcar palavras desconhecidas, terá o número 2"
      ]
    },
    {
      "cell_type": "code",
      "execution_count": null,
      "metadata": {
        "id": "p2aNLT_LEAaX"
      },
      "outputs": [],
      "source": [
        "SOS = \"<sos>\"\n",
        "PADDING = \"<pad>\"\n",
        "UNKNOWN = \"<ukn>\""
      ]
    },
    {
      "cell_type": "code",
      "execution_count": null,
      "metadata": {
        "id": "IzA2U6fi3NYb"
      },
      "outputs": [],
      "source": [
        "def add_padding_and_sos(data, columns):\n",
        "\n",
        "\n",
        "    for col in columns:\n",
        "        max_length = max(len(seq) for seq in data[col])\n",
        "        for index,row in data.iterrows():\n",
        "            document = [SOS] + row[col]\n",
        "            paddings = (max_length - len(row[col])) * [PADDING]\n",
        "            document += paddings\n",
        "            data.at[index,col] = document\n",
        "\n",
        "    return data"
      ]
    },
    {
      "cell_type": "code",
      "execution_count": null,
      "metadata": {
        "id": "6VU2BO9tS5EQ"
      },
      "outputs": [],
      "source": [
        "df_copy = add_padding_and_sos(df_copy, ['sentence'])"
      ]
    },
    {
      "cell_type": "code",
      "execution_count": null,
      "metadata": {
        "colab": {
          "base_uri": "https://localhost:8080/"
        },
        "id": "bwR2dRIFHVq9",
        "outputId": "593bc3e3-169a-4af3-e099-b20b8cacdd7e"
      },
      "outputs": [
        {
          "output_type": "stream",
          "name": "stdout",
          "text": [
            "['<sos>', 'rather', 'reduc', 'feder', 'subsidi', 'univers', 'place', 'leftist', 'institut', 'merci', 'free', 'market', 'obama', 'want', 'increas', 'amount', 'student', 'borrow', 'interest', 'govern', '<pad>', '<pad>', '<pad>', '<pad>', '<pad>', '<pad>', '<pad>', '<pad>', '<pad>', '<pad>', '<pad>', '<pad>', '<pad>', '<pad>', '<pad>', '<pad>', '<pad>', '<pad>', '<pad>', '<pad>', '<pad>', '<pad>', '<pad>', '<pad>', '<pad>', '<pad>', '<pad>', '<pad>', '<pad>', '<pad>', '<pad>', '<pad>', '<pad>', '<pad>', '<pad>']\n"
          ]
        }
      ],
      "source": [
        "print(df_copy.loc[190,'sentence'])"
      ]
    },
    {
      "cell_type": "markdown",
      "metadata": {
        "id": "212Rr3J3Ka06"
      },
      "source": [
        "- Construindo o vocabulário com base na frequência de aparecimento.\n",
        "  - *Obs*: note a colocação de determinadas tags logo no ínicio"
      ]
    },
    {
      "cell_type": "code",
      "execution_count": null,
      "metadata": {
        "id": "-qkd_GWhnxrT"
      },
      "outputs": [],
      "source": [
        "def create_vocabulary(data, columns):\n",
        "  \"\"\" Retorna uma lookup table (StaticVocabularyTable) \"\"\"\n",
        "\n",
        "  vocab = Counter()\n",
        "  for col in columns:\n",
        "      for document in data[col]:\n",
        "          vocab.update(document)\n",
        "\n",
        "  words = tf.constant([PADDING] +\n",
        "                      [SOS] +\n",
        "                      [UNKNOWN] +\n",
        "                      [word for word in vocab.keys() if word != PADDING and word != SOS]\n",
        "  )\n",
        "  words_ids = tf.range(len(vocab)+1, dtype=tf.int64) # +1 porque unknown é o único não mapeado\n",
        "  vocab_init = tf.lookup.KeyValueTensorInitializer(words,words_ids)\n",
        "  num_oov_buckets = 10000 # bucket para palavras desconhecidas\n",
        "  vocab_table = tf.lookup.StaticVocabularyTable(vocab_init,num_oov_buckets)\n",
        "\n",
        "  return vocab_table"
      ]
    },
    {
      "cell_type": "markdown",
      "metadata": {
        "id": "9aSx7Sx-Ph93"
      },
      "source": [
        "- Demonstração de como estão os encodings de algumas palavras."
      ]
    },
    {
      "cell_type": "code",
      "execution_count": null,
      "metadata": {
        "colab": {
          "base_uri": "https://localhost:8080/"
        },
        "id": "9ALwPlNXIq83",
        "outputId": "bbd03e4c-c7c2-4ebc-f809-7a31f0b6f2ee"
      },
      "outputs": [
        {
          "output_type": "execute_result",
          "data": {
            "text/plain": [
              "<tf.Tensor: shape=(1, 3), dtype=int64, numpy=array([[2628,  113,  635]])>"
            ]
          },
          "metadata": {},
          "execution_count": 57
        }
      ],
      "source": [
        "vocab_table = create_vocabulary(df_copy, columns=['sentence'])\n",
        "vocab_table.lookup(tf.constant([b'nice trump move'.split(b' ')]))"
      ]
    },
    {
      "cell_type": "markdown",
      "metadata": {
        "id": "vcuvVw23nxrT"
      },
      "source": [
        "- Convertendo os tokens para o índice na tabela."
      ]
    },
    {
      "cell_type": "code",
      "execution_count": null,
      "metadata": {
        "id": "yS398UOqnxrT"
      },
      "outputs": [],
      "source": [
        "def convert_words_to_freq(data, vocab, columns):\n",
        "\n",
        "  for index, row in data.iterrows():\n",
        "\n",
        "    for col in columns:\n",
        "      doc = tf.constant(row[col])\n",
        "      doc_ided = vocab.lookup(doc).numpy() if len (doc) > 0 else []\n",
        "      data.at[index, col] = doc_ided\n",
        "\n",
        "  return data"
      ]
    },
    {
      "cell_type": "code",
      "execution_count": null,
      "metadata": {
        "colab": {
          "base_uri": "https://localhost:8080/"
        },
        "id": "atMmSqdgS5EX",
        "outputId": "3d1da5e0-dc13-47db-c1f0-c7ba432c97d6"
      },
      "outputs": [
        {
          "output_type": "execute_result",
          "data": {
            "text/plain": [
              "                                            sentence  \\\n",
              "0  [1, 3, 4, 5, 6, 7, 8, 9, 10, 11, 12, 13, 14, 1...   \n",
              "1  [1, 18, 19, 20, 21, 22, 23, 24, 25, 24, 26, 27...   \n",
              "\n",
              "                                           news_link     outlet  \\\n",
              "0  https://eu.usatoday.com/story/tech/2020/02/03/...  usa-today   \n",
              "1  https://www.nbcnews.com/news/sports/women-s-te...      msnbc   \n",
              "\n",
              "            topic    type  group_id  num_sent  Label_bias  \\\n",
              "0  elections-2020  center       1.0       1.0      Biased   \n",
              "1           sport    left       1.0       1.0  Non-biased   \n",
              "\n",
              "                           Label_opinion  \\\n",
              "0  Somewhat factual but also opinionated   \n",
              "1                       Entirely factual   \n",
              "\n",
              "                                             article          biased_words4  \n",
              "0  YouTube says no ‘deepfakes’ or ‘birther’ video...  [belated, birtherism]  \n",
              "1  FRISCO, Texas — The increasingly bitter disput...               [bitter]  "
            ],
            "text/html": [
              "\n",
              "  <div id=\"df-6fdbd260-e354-45e1-9089-1e5c155d2766\">\n",
              "    <div class=\"colab-df-container\">\n",
              "      <div>\n",
              "<style scoped>\n",
              "    .dataframe tbody tr th:only-of-type {\n",
              "        vertical-align: middle;\n",
              "    }\n",
              "\n",
              "    .dataframe tbody tr th {\n",
              "        vertical-align: top;\n",
              "    }\n",
              "\n",
              "    .dataframe thead th {\n",
              "        text-align: right;\n",
              "    }\n",
              "</style>\n",
              "<table border=\"1\" class=\"dataframe\">\n",
              "  <thead>\n",
              "    <tr style=\"text-align: right;\">\n",
              "      <th></th>\n",
              "      <th>sentence</th>\n",
              "      <th>news_link</th>\n",
              "      <th>outlet</th>\n",
              "      <th>topic</th>\n",
              "      <th>type</th>\n",
              "      <th>group_id</th>\n",
              "      <th>num_sent</th>\n",
              "      <th>Label_bias</th>\n",
              "      <th>Label_opinion</th>\n",
              "      <th>article</th>\n",
              "      <th>biased_words4</th>\n",
              "    </tr>\n",
              "  </thead>\n",
              "  <tbody>\n",
              "    <tr>\n",
              "      <th>0</th>\n",
              "      <td>[1, 3, 4, 5, 6, 7, 8, 9, 10, 11, 12, 13, 14, 1...</td>\n",
              "      <td>https://eu.usatoday.com/story/tech/2020/02/03/...</td>\n",
              "      <td>usa-today</td>\n",
              "      <td>elections-2020</td>\n",
              "      <td>center</td>\n",
              "      <td>1.0</td>\n",
              "      <td>1.0</td>\n",
              "      <td>Biased</td>\n",
              "      <td>Somewhat factual but also opinionated</td>\n",
              "      <td>YouTube says no ‘deepfakes’ or ‘birther’ video...</td>\n",
              "      <td>[belated, birtherism]</td>\n",
              "    </tr>\n",
              "    <tr>\n",
              "      <th>1</th>\n",
              "      <td>[1, 18, 19, 20, 21, 22, 23, 24, 25, 24, 26, 27...</td>\n",
              "      <td>https://www.nbcnews.com/news/sports/women-s-te...</td>\n",
              "      <td>msnbc</td>\n",
              "      <td>sport</td>\n",
              "      <td>left</td>\n",
              "      <td>1.0</td>\n",
              "      <td>1.0</td>\n",
              "      <td>Non-biased</td>\n",
              "      <td>Entirely factual</td>\n",
              "      <td>FRISCO, Texas — The increasingly bitter disput...</td>\n",
              "      <td>[bitter]</td>\n",
              "    </tr>\n",
              "  </tbody>\n",
              "</table>\n",
              "</div>\n",
              "      <button class=\"colab-df-convert\" onclick=\"convertToInteractive('df-6fdbd260-e354-45e1-9089-1e5c155d2766')\"\n",
              "              title=\"Convert this dataframe to an interactive table.\"\n",
              "              style=\"display:none;\">\n",
              "        \n",
              "  <svg xmlns=\"http://www.w3.org/2000/svg\" height=\"24px\"viewBox=\"0 0 24 24\"\n",
              "       width=\"24px\">\n",
              "    <path d=\"M0 0h24v24H0V0z\" fill=\"none\"/>\n",
              "    <path d=\"M18.56 5.44l.94 2.06.94-2.06 2.06-.94-2.06-.94-.94-2.06-.94 2.06-2.06.94zm-11 1L8.5 8.5l.94-2.06 2.06-.94-2.06-.94L8.5 2.5l-.94 2.06-2.06.94zm10 10l.94 2.06.94-2.06 2.06-.94-2.06-.94-.94-2.06-.94 2.06-2.06.94z\"/><path d=\"M17.41 7.96l-1.37-1.37c-.4-.4-.92-.59-1.43-.59-.52 0-1.04.2-1.43.59L10.3 9.45l-7.72 7.72c-.78.78-.78 2.05 0 2.83L4 21.41c.39.39.9.59 1.41.59.51 0 1.02-.2 1.41-.59l7.78-7.78 2.81-2.81c.8-.78.8-2.07 0-2.86zM5.41 20L4 18.59l7.72-7.72 1.47 1.35L5.41 20z\"/>\n",
              "  </svg>\n",
              "      </button>\n",
              "      \n",
              "  <style>\n",
              "    .colab-df-container {\n",
              "      display:flex;\n",
              "      flex-wrap:wrap;\n",
              "      gap: 12px;\n",
              "    }\n",
              "\n",
              "    .colab-df-convert {\n",
              "      background-color: #E8F0FE;\n",
              "      border: none;\n",
              "      border-radius: 50%;\n",
              "      cursor: pointer;\n",
              "      display: none;\n",
              "      fill: #1967D2;\n",
              "      height: 32px;\n",
              "      padding: 0 0 0 0;\n",
              "      width: 32px;\n",
              "    }\n",
              "\n",
              "    .colab-df-convert:hover {\n",
              "      background-color: #E2EBFA;\n",
              "      box-shadow: 0px 1px 2px rgba(60, 64, 67, 0.3), 0px 1px 3px 1px rgba(60, 64, 67, 0.15);\n",
              "      fill: #174EA6;\n",
              "    }\n",
              "\n",
              "    [theme=dark] .colab-df-convert {\n",
              "      background-color: #3B4455;\n",
              "      fill: #D2E3FC;\n",
              "    }\n",
              "\n",
              "    [theme=dark] .colab-df-convert:hover {\n",
              "      background-color: #434B5C;\n",
              "      box-shadow: 0px 1px 3px 1px rgba(0, 0, 0, 0.15);\n",
              "      filter: drop-shadow(0px 1px 2px rgba(0, 0, 0, 0.3));\n",
              "      fill: #FFFFFF;\n",
              "    }\n",
              "  </style>\n",
              "\n",
              "      <script>\n",
              "        const buttonEl =\n",
              "          document.querySelector('#df-6fdbd260-e354-45e1-9089-1e5c155d2766 button.colab-df-convert');\n",
              "        buttonEl.style.display =\n",
              "          google.colab.kernel.accessAllowed ? 'block' : 'none';\n",
              "\n",
              "        async function convertToInteractive(key) {\n",
              "          const element = document.querySelector('#df-6fdbd260-e354-45e1-9089-1e5c155d2766');\n",
              "          const dataTable =\n",
              "            await google.colab.kernel.invokeFunction('convertToInteractive',\n",
              "                                                     [key], {});\n",
              "          if (!dataTable) return;\n",
              "\n",
              "          const docLinkHtml = 'Like what you see? Visit the ' +\n",
              "            '<a target=\"_blank\" href=https://colab.research.google.com/notebooks/data_table.ipynb>data table notebook</a>'\n",
              "            + ' to learn more about interactive tables.';\n",
              "          element.innerHTML = '';\n",
              "          dataTable['output_type'] = 'display_data';\n",
              "          await google.colab.output.renderOutput(dataTable, element);\n",
              "          const docLink = document.createElement('div');\n",
              "          docLink.innerHTML = docLinkHtml;\n",
              "          element.appendChild(docLink);\n",
              "        }\n",
              "      </script>\n",
              "    </div>\n",
              "  </div>\n",
              "  "
            ]
          },
          "metadata": {},
          "execution_count": 59
        }
      ],
      "source": [
        "df_copy = convert_words_to_freq(df_copy, vocab_table, ['sentence'])\n",
        "df_copy.head(2)"
      ]
    },
    {
      "cell_type": "markdown",
      "metadata": {
        "id": "28mGJnjWQC82"
      },
      "source": [
        "### 2.4 - One-hot encoding para features categóricas"
      ]
    },
    {
      "cell_type": "code",
      "execution_count": null,
      "metadata": {
        "id": "ItB9GETSQB7v"
      },
      "outputs": [],
      "source": [
        "def cats_to_one_hot(data,column_names):\n",
        "\n",
        "  df_encoded = pd.get_dummies(data[column_names]).astype(np.float32)\n",
        "  data = pd.concat([data,df_encoded],axis=1)\n",
        "\n",
        "  return data"
      ]
    },
    {
      "cell_type": "code",
      "execution_count": null,
      "metadata": {
        "colab": {
          "base_uri": "https://localhost:8080/"
        },
        "id": "86Cs5Mi-S5EZ",
        "outputId": "ca4acc7e-8fb5-4dd1-f2f5-78b38d4c77d4"
      },
      "outputs": [
        {
          "output_type": "execute_result",
          "data": {
            "text/plain": [
              "array([ 1, 18, 19, 20, 21, 22, 23, 24, 25, 24, 26, 27, 28, 29, 30, 31, 32,\n",
              "       33, 34, 35, 36, 37, 38, 39, 40,  0,  0,  0,  0,  0,  0,  0,  0,  0,\n",
              "        0,  0,  0,  0,  0,  0,  0,  0,  0,  0,  0,  0,  0,  0,  0,  0,  0,\n",
              "        0,  0,  0,  0])"
            ]
          },
          "metadata": {},
          "execution_count": 61
        }
      ],
      "source": [
        "df_copy.loc[1,'sentence']"
      ]
    },
    {
      "cell_type": "code",
      "execution_count": null,
      "metadata": {
        "colab": {
          "base_uri": "https://localhost:8080/"
        },
        "id": "hQ7UUyZpSsUs",
        "outputId": "04c14274-7e75-4f49-f589-8e82360c0df4"
      },
      "outputs": [
        {
          "output_type": "execute_result",
          "data": {
            "text/plain": [
              "                                            sentence  \\\n",
              "0  [1, 3, 4, 5, 6, 7, 8, 9, 10, 11, 12, 13, 14, 1...   \n",
              "1  [1, 18, 19, 20, 21, 22, 23, 24, 25, 24, 26, 27...   \n",
              "2  [1, 41, 42, 43, 44, 45, 46, 47, 48, 49, 50, 51...   \n",
              "\n",
              "                                           news_link     outlet  \\\n",
              "0  https://eu.usatoday.com/story/tech/2020/02/03/...  usa-today   \n",
              "1  https://www.nbcnews.com/news/sports/women-s-te...      msnbc   \n",
              "2  https://www.alternet.org/2019/01/here-are-5-of...   alternet   \n",
              "\n",
              "            topic    type  group_id  num_sent  Label_bias  \\\n",
              "0  elections-2020  center       1.0       1.0      Biased   \n",
              "1           sport    left       1.0       1.0  Non-biased   \n",
              "2     immigration    left       1.0       1.0      Biased   \n",
              "\n",
              "                           Label_opinion  \\\n",
              "0  Somewhat factual but also opinionated   \n",
              "1                       Entirely factual   \n",
              "2             Expresses writer’s opinion   \n",
              "\n",
              "                                             article  ... outlet_msnbc  \\\n",
              "0  YouTube says no ‘deepfakes’ or ‘birther’ video...  ...          0.0   \n",
              "1  FRISCO, Texas — The increasingly bitter disput...  ...          1.0   \n",
              "2  Speaking to the country for the first time fro...  ...          0.0   \n",
              "\n",
              "   outlet_reuters  outlet_usa-today  type_center  type_left  type_right  \\\n",
              "0             0.0               1.0          1.0        0.0         0.0   \n",
              "1             0.0               0.0          0.0        1.0         0.0   \n",
              "2             0.0               0.0          0.0        1.0         0.0   \n",
              "\n",
              "   Label_opinion_Entirely factual  Label_opinion_Expresses writer’s opinion  \\\n",
              "0                             0.0                                       0.0   \n",
              "1                             1.0                                       0.0   \n",
              "2                             0.0                                       1.0   \n",
              "\n",
              "   Label_opinion_No agreement  \\\n",
              "0                         0.0   \n",
              "1                         0.0   \n",
              "2                         0.0   \n",
              "\n",
              "   Label_opinion_Somewhat factual but also opinionated  \n",
              "0                                                1.0    \n",
              "1                                                0.0    \n",
              "2                                                0.0    \n",
              "\n",
              "[3 rows x 40 columns]"
            ],
            "text/html": [
              "\n",
              "  <div id=\"df-f983942d-034b-4043-b9d7-eb6b75c40864\">\n",
              "    <div class=\"colab-df-container\">\n",
              "      <div>\n",
              "<style scoped>\n",
              "    .dataframe tbody tr th:only-of-type {\n",
              "        vertical-align: middle;\n",
              "    }\n",
              "\n",
              "    .dataframe tbody tr th {\n",
              "        vertical-align: top;\n",
              "    }\n",
              "\n",
              "    .dataframe thead th {\n",
              "        text-align: right;\n",
              "    }\n",
              "</style>\n",
              "<table border=\"1\" class=\"dataframe\">\n",
              "  <thead>\n",
              "    <tr style=\"text-align: right;\">\n",
              "      <th></th>\n",
              "      <th>sentence</th>\n",
              "      <th>news_link</th>\n",
              "      <th>outlet</th>\n",
              "      <th>topic</th>\n",
              "      <th>type</th>\n",
              "      <th>group_id</th>\n",
              "      <th>num_sent</th>\n",
              "      <th>Label_bias</th>\n",
              "      <th>Label_opinion</th>\n",
              "      <th>article</th>\n",
              "      <th>...</th>\n",
              "      <th>outlet_msnbc</th>\n",
              "      <th>outlet_reuters</th>\n",
              "      <th>outlet_usa-today</th>\n",
              "      <th>type_center</th>\n",
              "      <th>type_left</th>\n",
              "      <th>type_right</th>\n",
              "      <th>Label_opinion_Entirely factual</th>\n",
              "      <th>Label_opinion_Expresses writer’s opinion</th>\n",
              "      <th>Label_opinion_No agreement</th>\n",
              "      <th>Label_opinion_Somewhat factual but also opinionated</th>\n",
              "    </tr>\n",
              "  </thead>\n",
              "  <tbody>\n",
              "    <tr>\n",
              "      <th>0</th>\n",
              "      <td>[1, 3, 4, 5, 6, 7, 8, 9, 10, 11, 12, 13, 14, 1...</td>\n",
              "      <td>https://eu.usatoday.com/story/tech/2020/02/03/...</td>\n",
              "      <td>usa-today</td>\n",
              "      <td>elections-2020</td>\n",
              "      <td>center</td>\n",
              "      <td>1.0</td>\n",
              "      <td>1.0</td>\n",
              "      <td>Biased</td>\n",
              "      <td>Somewhat factual but also opinionated</td>\n",
              "      <td>YouTube says no ‘deepfakes’ or ‘birther’ video...</td>\n",
              "      <td>...</td>\n",
              "      <td>0.0</td>\n",
              "      <td>0.0</td>\n",
              "      <td>1.0</td>\n",
              "      <td>1.0</td>\n",
              "      <td>0.0</td>\n",
              "      <td>0.0</td>\n",
              "      <td>0.0</td>\n",
              "      <td>0.0</td>\n",
              "      <td>0.0</td>\n",
              "      <td>1.0</td>\n",
              "    </tr>\n",
              "    <tr>\n",
              "      <th>1</th>\n",
              "      <td>[1, 18, 19, 20, 21, 22, 23, 24, 25, 24, 26, 27...</td>\n",
              "      <td>https://www.nbcnews.com/news/sports/women-s-te...</td>\n",
              "      <td>msnbc</td>\n",
              "      <td>sport</td>\n",
              "      <td>left</td>\n",
              "      <td>1.0</td>\n",
              "      <td>1.0</td>\n",
              "      <td>Non-biased</td>\n",
              "      <td>Entirely factual</td>\n",
              "      <td>FRISCO, Texas — The increasingly bitter disput...</td>\n",
              "      <td>...</td>\n",
              "      <td>1.0</td>\n",
              "      <td>0.0</td>\n",
              "      <td>0.0</td>\n",
              "      <td>0.0</td>\n",
              "      <td>1.0</td>\n",
              "      <td>0.0</td>\n",
              "      <td>1.0</td>\n",
              "      <td>0.0</td>\n",
              "      <td>0.0</td>\n",
              "      <td>0.0</td>\n",
              "    </tr>\n",
              "    <tr>\n",
              "      <th>2</th>\n",
              "      <td>[1, 41, 42, 43, 44, 45, 46, 47, 48, 49, 50, 51...</td>\n",
              "      <td>https://www.alternet.org/2019/01/here-are-5-of...</td>\n",
              "      <td>alternet</td>\n",
              "      <td>immigration</td>\n",
              "      <td>left</td>\n",
              "      <td>1.0</td>\n",
              "      <td>1.0</td>\n",
              "      <td>Biased</td>\n",
              "      <td>Expresses writer’s opinion</td>\n",
              "      <td>Speaking to the country for the first time fro...</td>\n",
              "      <td>...</td>\n",
              "      <td>0.0</td>\n",
              "      <td>0.0</td>\n",
              "      <td>0.0</td>\n",
              "      <td>0.0</td>\n",
              "      <td>1.0</td>\n",
              "      <td>0.0</td>\n",
              "      <td>0.0</td>\n",
              "      <td>1.0</td>\n",
              "      <td>0.0</td>\n",
              "      <td>0.0</td>\n",
              "    </tr>\n",
              "  </tbody>\n",
              "</table>\n",
              "<p>3 rows × 40 columns</p>\n",
              "</div>\n",
              "      <button class=\"colab-df-convert\" onclick=\"convertToInteractive('df-f983942d-034b-4043-b9d7-eb6b75c40864')\"\n",
              "              title=\"Convert this dataframe to an interactive table.\"\n",
              "              style=\"display:none;\">\n",
              "        \n",
              "  <svg xmlns=\"http://www.w3.org/2000/svg\" height=\"24px\"viewBox=\"0 0 24 24\"\n",
              "       width=\"24px\">\n",
              "    <path d=\"M0 0h24v24H0V0z\" fill=\"none\"/>\n",
              "    <path d=\"M18.56 5.44l.94 2.06.94-2.06 2.06-.94-2.06-.94-.94-2.06-.94 2.06-2.06.94zm-11 1L8.5 8.5l.94-2.06 2.06-.94-2.06-.94L8.5 2.5l-.94 2.06-2.06.94zm10 10l.94 2.06.94-2.06 2.06-.94-2.06-.94-.94-2.06-.94 2.06-2.06.94z\"/><path d=\"M17.41 7.96l-1.37-1.37c-.4-.4-.92-.59-1.43-.59-.52 0-1.04.2-1.43.59L10.3 9.45l-7.72 7.72c-.78.78-.78 2.05 0 2.83L4 21.41c.39.39.9.59 1.41.59.51 0 1.02-.2 1.41-.59l7.78-7.78 2.81-2.81c.8-.78.8-2.07 0-2.86zM5.41 20L4 18.59l7.72-7.72 1.47 1.35L5.41 20z\"/>\n",
              "  </svg>\n",
              "      </button>\n",
              "      \n",
              "  <style>\n",
              "    .colab-df-container {\n",
              "      display:flex;\n",
              "      flex-wrap:wrap;\n",
              "      gap: 12px;\n",
              "    }\n",
              "\n",
              "    .colab-df-convert {\n",
              "      background-color: #E8F0FE;\n",
              "      border: none;\n",
              "      border-radius: 50%;\n",
              "      cursor: pointer;\n",
              "      display: none;\n",
              "      fill: #1967D2;\n",
              "      height: 32px;\n",
              "      padding: 0 0 0 0;\n",
              "      width: 32px;\n",
              "    }\n",
              "\n",
              "    .colab-df-convert:hover {\n",
              "      background-color: #E2EBFA;\n",
              "      box-shadow: 0px 1px 2px rgba(60, 64, 67, 0.3), 0px 1px 3px 1px rgba(60, 64, 67, 0.15);\n",
              "      fill: #174EA6;\n",
              "    }\n",
              "\n",
              "    [theme=dark] .colab-df-convert {\n",
              "      background-color: #3B4455;\n",
              "      fill: #D2E3FC;\n",
              "    }\n",
              "\n",
              "    [theme=dark] .colab-df-convert:hover {\n",
              "      background-color: #434B5C;\n",
              "      box-shadow: 0px 1px 3px 1px rgba(0, 0, 0, 0.15);\n",
              "      filter: drop-shadow(0px 1px 2px rgba(0, 0, 0, 0.3));\n",
              "      fill: #FFFFFF;\n",
              "    }\n",
              "  </style>\n",
              "\n",
              "      <script>\n",
              "        const buttonEl =\n",
              "          document.querySelector('#df-f983942d-034b-4043-b9d7-eb6b75c40864 button.colab-df-convert');\n",
              "        buttonEl.style.display =\n",
              "          google.colab.kernel.accessAllowed ? 'block' : 'none';\n",
              "\n",
              "        async function convertToInteractive(key) {\n",
              "          const element = document.querySelector('#df-f983942d-034b-4043-b9d7-eb6b75c40864');\n",
              "          const dataTable =\n",
              "            await google.colab.kernel.invokeFunction('convertToInteractive',\n",
              "                                                     [key], {});\n",
              "          if (!dataTable) return;\n",
              "\n",
              "          const docLinkHtml = 'Like what you see? Visit the ' +\n",
              "            '<a target=\"_blank\" href=https://colab.research.google.com/notebooks/data_table.ipynb>data table notebook</a>'\n",
              "            + ' to learn more about interactive tables.';\n",
              "          element.innerHTML = '';\n",
              "          dataTable['output_type'] = 'display_data';\n",
              "          await google.colab.output.renderOutput(dataTable, element);\n",
              "          const docLink = document.createElement('div');\n",
              "          docLink.innerHTML = docLinkHtml;\n",
              "          element.appendChild(docLink);\n",
              "        }\n",
              "      </script>\n",
              "    </div>\n",
              "  </div>\n",
              "  "
            ]
          },
          "metadata": {},
          "execution_count": 62
        }
      ],
      "source": [
        "df_copy = cats_to_one_hot(df_copy, column_names=['topic','outlet','type','Label_opinion'])\n",
        "df_copy.head(3)"
      ]
    },
    {
      "cell_type": "markdown",
      "metadata": {
        "id": "hu0eDi-4UE47"
      },
      "source": [
        "### 2.5 - Limpando features"
      ]
    },
    {
      "cell_type": "code",
      "execution_count": null,
      "metadata": {
        "id": "nufVpqv2Udwn"
      },
      "outputs": [],
      "source": [
        "def drop_columns(data, column_names):\n",
        "  return data.drop(column_names,axis=1)"
      ]
    },
    {
      "cell_type": "code",
      "execution_count": null,
      "metadata": {
        "colab": {
          "base_uri": "https://localhost:8080/"
        },
        "id": "GmFBOZxZXBAJ",
        "outputId": "afe67ab9-9454-46b1-91f0-735c1ba666d3"
      },
      "outputs": [
        {
          "output_type": "execute_result",
          "data": {
            "text/plain": [
              "(1690, 38)"
            ]
          },
          "metadata": {},
          "execution_count": 64
        }
      ],
      "source": [
        "df_copy = drop_columns(df_copy,column_names=['news_link','group_id'])\n",
        "df_copy.head(1)\n",
        "df_copy.shape"
      ]
    },
    {
      "cell_type": "markdown",
      "metadata": {
        "id": "PSOuFsrwcT3t"
      },
      "source": [
        "### 2.7 - Compilando pipeline de pré-processamento"
      ]
    },
    {
      "cell_type": "code",
      "execution_count": null,
      "metadata": {
        "id": "pED3BesynKbf"
      },
      "outputs": [],
      "source": [
        "class VocabularyConversionTransformer(BaseEstimator,TransformerMixin):\n",
        "  def __init__(self,vocab_columns, columns_to_be_converted):\n",
        "    self.vocab_table = None\n",
        "    self.columns_to_be_converted = columns_to_be_converted\n",
        "    self.vocab_columns = vocab_columns\n",
        "\n",
        "  def fit(self, X, y=None):\n",
        "    self.vocab_table = create_vocabulary(X,self.vocab_columns)\n",
        "    return self\n",
        "\n",
        "  def transform(self,X,y=None):\n",
        "    return convert_words_to_freq(X,columns=self.columns_to_be_converted,vocab=self.vocab_table)\n",
        "\n",
        "  def get_vocabulary(self):\n",
        "    return self.vocab_table\n"
      ]
    },
    {
      "cell_type": "code",
      "execution_count": null,
      "metadata": {
        "id": "FX_bDiJUcF91"
      },
      "outputs": [],
      "source": [
        "def preprocess(data,stemmer_flag=False,stemmer_type=None):\n",
        "\n",
        "  one_hot_columns = ['topic','outlet','type','Label_bias']\n",
        "  columns_to_drop = ['news_link','group_id', 'Label_opinion','num_sent'] + one_hot_columns\n",
        "  vocab_columns = ['biased_words4']\n",
        "  text_columns = ['article', 'sentence', 'biased_words4']\n",
        "\n",
        "  preprocess_pipeline = [\n",
        "      ('Tokenização', FunctionTransformer(preprocess_basic_text,kw_args={'columns': text_columns})),\n",
        "      ('Stemming', FunctionTransformer(apply_stemmer_for_all, kw_args={'columns':text_columns,\n",
        "                                                                      'stemmer_flag': stemmer_flag,\n",
        "                                                                      'stemmer_type': stemmer_type\n",
        "                                                                      })),\n",
        "      ('SOS/Padding Addition', FunctionTransformer(add_padding_and_sos, kw_args={'columns':text_columns})),\n",
        "      ('Vocab Creation and Word-Int Conversion', VocabularyConversionTransformer(vocab_columns=vocab_columns,columns_to_be_converted=text_columns)),\n",
        "      ('One-hot-encoding', FunctionTransformer(cats_to_one_hot,kw_args={'column_names':one_hot_columns})),\n",
        "      ('Dropping features', FunctionTransformer(drop_columns,kw_args={'column_names':columns_to_drop})),\n",
        "  ]\n",
        "\n",
        "  pipeline = Pipeline(preprocess_pipeline)\n",
        "\n",
        "  data = pipeline.fit_transform(data)\n",
        "\n",
        "  vocab = pipeline.named_steps['Vocab Creation and Word-Int Conversion'].get_vocabulary()\n",
        "\n",
        "  return data, vocab"
      ]
    },
    {
      "cell_type": "code",
      "execution_count": null,
      "metadata": {
        "id": "PBRClwvPcTB0"
      },
      "outputs": [],
      "source": [
        "data, vocab = preprocess(df.copy(),True,stemmer_type=\"Porter\")"
      ]
    },
    {
      "cell_type": "code",
      "execution_count": null,
      "metadata": {
        "colab": {
          "base_uri": "https://localhost:8080/"
        },
        "id": "rTzrVeIwS5Eg",
        "outputId": "50199bcd-6181-45b3-9600-11e69b3a68b6"
      },
      "outputs": [
        {
          "output_type": "execute_result",
          "data": {
            "text/plain": [
              "numpy.ndarray"
            ]
          },
          "metadata": {},
          "execution_count": 68
        }
      ],
      "source": [
        "type(data['sentence'].iloc[0])"
      ]
    },
    {
      "cell_type": "markdown",
      "metadata": {
        "id": "rKHlDGUvKR9S"
      },
      "source": [
        "### 2.7 - Salvando dataset final (e vocabulário)\n"
      ]
    },
    {
      "cell_type": "code",
      "execution_count": null,
      "metadata": {
        "colab": {
          "base_uri": "https://localhost:8080/",
          "height": 35
        },
        "id": "jhR5tobHS5Ei",
        "outputId": "3a7c4916-ed97-4147-82f6-ae21d05373f5"
      },
      "outputs": [
        {
          "output_type": "execute_result",
          "data": {
            "text/plain": [
              "\" def list_to_str(x):\\n    str = np.array2string(x, separator=',').replace('\\n', '')\\n    return str \""
            ],
            "application/vnd.google.colaboratory.intrinsic+json": {
              "type": "string"
            }
          },
          "metadata": {},
          "execution_count": 69
        }
      ],
      "source": [
        "\"\"\" def list_to_str(x):\n",
        "    str = np.array2string(x, separator=',').replace('\\n', '')\n",
        "    return str \"\"\""
      ]
    },
    {
      "cell_type": "code",
      "execution_count": null,
      "metadata": {
        "colab": {
          "base_uri": "https://localhost:8080/",
          "height": 70
        },
        "id": "Gh7HN6s1S5Ej",
        "outputId": "5754b8c9-2dd7-447d-a0f1-f25bd8e9738f"
      },
      "outputs": [
        {
          "output_type": "execute_result",
          "data": {
            "text/plain": [
              "' # A lista presente na coluna \"article\" é muito grande, então para convertê-la corretamente\\n# precisamos modificar uma configuração do Numpy\\nimport sys\\nnp.set_printoptions(threshold=sys.maxsize)\\n\\ndata.article.apply(list_to_str)\\ndata.sentence.apply(list_to_str)\\ndata.biased_words4.apply(list_to_str) '"
            ],
            "application/vnd.google.colaboratory.intrinsic+json": {
              "type": "string"
            }
          },
          "metadata": {},
          "execution_count": 70
        }
      ],
      "source": [
        "\"\"\" # A lista presente na coluna \"article\" é muito grande, então para convertê-la corretamente\n",
        "# precisamos modificar uma configuração do Numpy\n",
        "import sys\n",
        "np.set_printoptions(threshold=sys.maxsize)\n",
        "\n",
        "data.article.apply(list_to_str)\n",
        "data.sentence.apply(list_to_str)\n",
        "data.biased_words4.apply(list_to_str) \"\"\""
      ]
    },
    {
      "cell_type": "code",
      "execution_count": null,
      "metadata": {
        "id": "EEWE1g73KaVx"
      },
      "outputs": [],
      "source": [
        "data.to_csv('data/final_dataset.csv', index=False)"
      ]
    },
    {
      "cell_type": "code",
      "execution_count": null,
      "metadata": {
        "id": "oWDbCEo9S5El"
      },
      "outputs": [],
      "source": [
        "keys = tf.constant(list(range(vocab.size())))\n",
        "keys = tf.strings.as_string(keys).numpy().tolist()\n",
        "values = [vocab.lookup(tf.constant(key)).numpy() for key in keys]\n",
        "\n",
        "vocab_dict = {key: value for key, value in zip(keys, values)}\n",
        "\n",
        "with open('data/vocabulary_table.pkl', 'wb') as f:\n",
        "    pickle.dump(vocab_dict, f)"
      ]
    },
    {
      "cell_type": "markdown",
      "metadata": {
        "id": "PWFBE9HsS5Em"
      },
      "source": [
        "# Redes Neurais\n",
        "\n",
        "Esse notebook tratará da implementação, do treino e da avaliação inicial de redes neurais recorrentes (especificamente de células LSTM) na busca pela solução do seguinte problema de classificação: identificação de de viés político em textos. O tamanho desses textos é algo a ser arbitrado e até mesmo utilizado como comparação: podemos utilizar somente as sentenças que foram marcadas por conter viés, ou mesmo o texto na íntegra da notícia."
      ]
    },
    {
      "cell_type": "code",
      "execution_count": null,
      "metadata": {
        "id": "TLyPuAjaS5En"
      },
      "outputs": [],
      "source": [
        "from sklearn.model_selection import train_test_split\n",
        "from tensorflow import keras"
      ]
    },
    {
      "cell_type": "markdown",
      "metadata": {
        "id": "06yTCGGXS5En"
      },
      "source": [
        "- Carregamento do dataset e do vocabulário, totalmente perfilados pelo notebook de pré-processamento."
      ]
    },
    {
      "cell_type": "markdown",
      "metadata": {
        "id": "G5SwM_WPS5Eo"
      },
      "source": [
        "## 1 - Separando o dataset"
      ]
    },
    {
      "cell_type": "code",
      "execution_count": null,
      "metadata": {
        "id": "iE3VcW22S5Eo"
      },
      "outputs": [],
      "source": [
        "label_columns = ['Label_bias_Biased','Label_bias_No agreement', 'Label_bias_Non-biased']\n",
        "labels = data[label_columns]\n",
        "features = data.drop(label_columns, axis=1)"
      ]
    },
    {
      "cell_type": "code",
      "execution_count": null,
      "metadata": {
        "id": "kYLTlKL2S5Ep"
      },
      "outputs": [],
      "source": [
        "def train_valid_test_split(features, labels):\n",
        "    \"\"\" Retorna uma lista de tuplas contendo os datasets de features e de labels para cada segmento (treino, validação, teste) \"\"\"\n",
        "\n",
        "    # Treino-val e Teste\n",
        "    X_train_val, X_test, y_train_val, y_test = train_test_split(features, labels, test_size=0.2,stratify=labels, random_state=104)\n",
        "    X_train, X_val, y_train, y_val = train_test_split(X_train_val, y_train_val, test_size=0.2, stratify=y_train_val)\n",
        "\n",
        "    return [(X_train, y_train), (X_val, y_val), (X_test, y_test)]"
      ]
    },
    {
      "cell_type": "code",
      "execution_count": null,
      "metadata": {
        "colab": {
          "base_uri": "https://localhost:8080/"
        },
        "id": "e0GzQVrpS5Eq",
        "outputId": "d57cd3b6-0a04-4ca7-c594-51d949570550"
      },
      "outputs": [
        {
          "output_type": "stream",
          "name": "stdout",
          "text": [
            "Treino:(1081, 28) ----- Validação: (271, 28) ------ Teste: (338, 28)\n"
          ]
        }
      ],
      "source": [
        "train, validation, test = train_valid_test_split(features,labels)\n",
        "\n",
        "train_df, train_labels = train\n",
        "validation_df, validation_labels = validation\n",
        "test_df, test_labels = test\n",
        "\n",
        "print(f\"Treino:{train_df.shape} ----- Validação: {validation_df.shape} ------ Teste: {test_df.shape}\")"
      ]
    },
    {
      "cell_type": "markdown",
      "metadata": {
        "id": "4hmbzZazS5Er"
      },
      "source": [
        "## 2 - Estruturando arquitetura da rede neural"
      ]
    },
    {
      "cell_type": "markdown",
      "metadata": {
        "id": "Ji2135nwS5Er"
      },
      "source": [
        "- Vamos criar uma camada de embeddings. No caso atual, só conseguimos utilizar uma feature do tipo texto por vez, tendo em vista que o embedding é treinado junto da rede como um todo. Uma das ideias futuras seria utilizar um modelo pré-treinado com o vocabulário reduzido ao nosso, mas para alguns testes, essa arquitetura será interessante."
      ]
    },
    {
      "cell_type": "markdown",
      "metadata": {
        "id": "PrM22VptS5Es"
      },
      "source": [
        "### 2.1 - Parte Textual (artigo)"
      ]
    },
    {
      "cell_type": "code",
      "execution_count": null,
      "metadata": {
        "id": "Mcia0UybS5Es"
      },
      "outputs": [],
      "source": [
        "embed_size = 64\n",
        "\n",
        "text_input_length = len(train_df.loc[1,'article'])\n",
        "text_input = keras.layers.Input(shape=(text_input_length,))\n",
        "embedding_layer = keras.layers.Embedding(input_dim=int(vocab_table.size())+5000,\n",
        "                                         output_dim=embed_size,\n",
        "                                         mask_zero=True)(text_input)\n",
        "\n",
        "#embedding_output = keras.layers.Bidirectional(keras.layers.LSTM(embed_size))(embedding_layer)\n",
        "embedding_output = keras.layers.LSTM(embed_size)(embedding_layer)\n"
      ]
    },
    {
      "cell_type": "markdown",
      "metadata": {
        "id": "lHz26uLdS5Eu"
      },
      "source": [
        "### 2.2 - Parte de Metadados"
      ]
    },
    {
      "cell_type": "code",
      "execution_count": null,
      "metadata": {
        "id": "xCDg-T1MS5Eu"
      },
      "outputs": [],
      "source": [
        "feature_input_length = len(train_df.columns) - 3\n",
        "feature_input = keras.layers.Input(shape=(feature_input_length,))"
      ]
    },
    {
      "cell_type": "code",
      "source": [
        "\n",
        "from tensorflow.keras.metrics import Precision, Recall\n",
        "import tensorflow as tf\n",
        "from sklearn.metrics import precision_score, recall_score\n",
        "\n",
        "\n",
        "from sklearn.metrics import precision_score, recall_score\n",
        "\n",
        "\n"
      ],
      "metadata": {
        "id": "NcLaoG3IJaTr"
      },
      "execution_count": null,
      "outputs": []
    },
    {
      "cell_type": "markdown",
      "metadata": {
        "id": "jtwAkJAoS5Ev"
      },
      "source": [
        "### 2.3 - Modelo final"
      ]
    },
    {
      "cell_type": "code",
      "execution_count": null,
      "metadata": {
        "id": "J3zXNE24S5Ew"
      },
      "outputs": [],
      "source": [
        "concatenated = keras.layers.concatenate([embedding_output,feature_input], axis=-1)\n",
        "reshaped = keras.layers.Reshape((-1, concatenated.shape[-1]))(concatenated)  # Add time dimension\n",
        "gru_layer1 = keras.layers.LSTM(128)(reshaped)\n",
        "dense = keras.layers.Dense(32, activation = 'relu')(gru_layer1)\n",
        "dropout = keras.layers.Dropout(0.6)(dense) ### adicionando uma camada de regularização para diminuir diferença entre treino e validaçao\n",
        "output = keras.layers.Dense(3, activation=\"softmax\")(dropout)\n",
        "\n",
        "model = tf.keras.Model(inputs=[text_input,feature_input], outputs=output)\n",
        "#model.compile(loss=\"categorical_crossentropy\",optimizer=\"adam\")\n",
        "model.compile(optimizer='adam',\n",
        "              loss='categorical_crossentropy',\n",
        "              metrics=['accuracy', Precision(class_id=0, name = 'prec_class0'),\n",
        "                       Precision(class_id=1, name = 'prec_class1'),\n",
        "                       Precision(class_id=2, name = 'prec_class2'),\n",
        "                       Recall(class_id=0, name = 'rec_class0'),\n",
        "                       Recall(class_id=1, name = 'rec_class1'),\n",
        "                       Recall(class_id=2, name = 'rec_class2')])"
      ]
    },
    {
      "cell_type": "markdown",
      "source": [
        "## Modelo Sequencial:"
      ],
      "metadata": {
        "id": "1sQkVz8LcrmO"
      }
    },
    {
      "cell_type": "code",
      "execution_count": null,
      "metadata": {
        "colab": {
          "base_uri": "https://localhost:8080/"
        },
        "id": "YpYMa9dkS5Ex",
        "outputId": "adbe6be0-bedb-409f-f0c1-02bbbb3930fc"
      },
      "outputs": [
        {
          "output_type": "stream",
          "name": "stdout",
          "text": [
            "Model: \"model_7\"\n",
            "__________________________________________________________________________________________________\n",
            " Layer (type)                   Output Shape         Param #     Connected to                     \n",
            "==================================================================================================\n",
            " input_17 (InputLayer)          [(None, 3000)]       0           []                               \n",
            "                                                                                                  \n",
            " embedding_8 (Embedding)        (None, 3000, 64)     1359296     ['input_17[0][0]']               \n",
            "                                                                                                  \n",
            " lstm_15 (LSTM)                 (None, 64)           33024       ['embedding_8[0][0]']            \n",
            "                                                                                                  \n",
            " input_18 (InputLayer)          [(None, 25)]         0           []                               \n",
            "                                                                                                  \n",
            " concatenate_7 (Concatenate)    (None, 89)           0           ['lstm_15[0][0]',                \n",
            "                                                                  'input_18[0][0]']               \n",
            "                                                                                                  \n",
            " reshape_7 (Reshape)            (None, 1, 89)        0           ['concatenate_7[0][0]']          \n",
            "                                                                                                  \n",
            " lstm_16 (LSTM)                 (None, 128)          111616      ['reshape_7[0][0]']              \n",
            "                                                                                                  \n",
            " dense_14 (Dense)               (None, 32)           4128        ['lstm_16[0][0]']                \n",
            "                                                                                                  \n",
            " dropout_7 (Dropout)            (None, 32)           0           ['dense_14[0][0]']               \n",
            "                                                                                                  \n",
            " dense_15 (Dense)               (None, 3)            99          ['dropout_7[0][0]']              \n",
            "                                                                                                  \n",
            "==================================================================================================\n",
            "Total params: 1,508,163\n",
            "Trainable params: 1,508,163\n",
            "Non-trainable params: 0\n",
            "__________________________________________________________________________________________________\n"
          ]
        }
      ],
      "source": [
        "model.summary()"
      ]
    },
    {
      "cell_type": "markdown",
      "metadata": {
        "id": "Y_rzFxmBS5Ey"
      },
      "source": [
        "## 3 - Treinando a rede"
      ]
    },
    {
      "cell_type": "markdown",
      "metadata": {
        "id": "JfpXDDMLS5Ey"
      },
      "source": [
        "### 3.1 - Função auxiliar para fragmentar os inputs por tipo de feature"
      ]
    },
    {
      "cell_type": "code",
      "execution_count": null,
      "metadata": {
        "id": "OP-y337cS5E0"
      },
      "outputs": [],
      "source": [
        "def split_metadata_and_text_features(data,text_column):\n",
        "\n",
        "    \"\"\"\n",
        "        Realiza a separação entre as features de texto e de metadados.\n",
        "        O parâmetro \"text_column\" diz qual será a coluna textual que utilizaremos, dado que\n",
        "        atualmente, precisamos escolher somente uma.\n",
        "    \"\"\"\n",
        "\n",
        "    data = data.copy()\n",
        "\n",
        "    text_features = tf.constant(data[text_column].values.tolist())\n",
        "    metadata_features = data.drop(['article','sentence','biased_words4'],axis=1)\n",
        "\n",
        "    return [text_features, metadata_features]"
      ]
    },
    {
      "cell_type": "markdown",
      "metadata": {
        "id": "0lzOq4VTS5E1"
      },
      "source": [
        "### 3.2 - Callback para salvar modelo a cada epoch"
      ]
    },
    {
      "cell_type": "code",
      "execution_count": null,
      "metadata": {
        "id": "WzHdSPZgS5E2"
      },
      "outputs": [],
      "source": [
        "checkpoint_cb = keras.callbacks.ModelCheckpoint(\n",
        "    filepath=\"models/article_model.h5\",\n",
        "    monitor='val_loss',\n",
        "    save_best_only=True,\n",
        "    save_weights_only=True\n",
        ")"
      ]
    },
    {
      "cell_type": "markdown",
      "metadata": {
        "id": "D7geYdKWS5E3"
      },
      "source": [
        "### 3.3 - Treinamento efetivo"
      ]
    },
    {
      "cell_type": "code",
      "execution_count": null,
      "metadata": {
        "colab": {
          "base_uri": "https://localhost:8080/"
        },
        "id": "pdWPhubKS5E4",
        "outputId": "4dc89b93-da6e-4d6f-fa5e-e27324701478"
      },
      "outputs": [
        {
          "output_type": "stream",
          "name": "stdout",
          "text": [
            "Epoch 1/25\n",
            "17/17 [==============================] - 50s 3s/step - loss: 1.0386 - accuracy: 0.5439 - prec_class0: 0.7600 - prec_class1: 0.0000e+00 - prec_class2: 0.0000e+00 - rec_class0: 0.0292 - rec_class1: 0.0000e+00 - rec_class2: 0.0000e+00 - val_loss: 0.9176 - val_accuracy: 0.6015 - val_prec_class0: 0.6645 - val_prec_class1: 0.0000e+00 - val_prec_class2: 0.0000e+00 - val_rec_class0: 0.6196 - val_rec_class1: 0.0000e+00 - val_rec_class2: 0.0000e+00\n",
            "Epoch 2/25\n",
            "17/17 [==============================] - 42s 3s/step - loss: 0.9015 - accuracy: 0.5967 - prec_class0: 0.6429 - prec_class1: 0.0000e+00 - prec_class2: 0.6522 - rec_class0: 0.6508 - rec_class1: 0.0000e+00 - rec_class2: 0.0893 - val_loss: 0.8946 - val_accuracy: 0.6384 - val_prec_class0: 0.6989 - val_prec_class1: 0.0000e+00 - val_prec_class2: 0.2500 - val_rec_class0: 0.3988 - val_rec_class1: 0.0000e+00 - val_rec_class2: 0.0119\n",
            "Epoch 3/25\n",
            "17/17 [==============================] - 43s 3s/step - loss: 0.8686 - accuracy: 0.6429 - prec_class0: 0.6900 - prec_class1: 0.0000e+00 - prec_class2: 0.6000 - rec_class0: 0.6369 - rec_class1: 0.0000e+00 - rec_class2: 0.1250 - val_loss: 0.8459 - val_accuracy: 0.6421 - val_prec_class0: 0.6590 - val_prec_class1: 0.0000e+00 - val_prec_class2: 0.5000 - val_rec_class0: 0.8773 - val_rec_class1: 0.0000e+00 - val_rec_class2: 0.1310\n",
            "Epoch 4/25\n",
            "17/17 [==============================] - 42s 2s/step - loss: 0.7963 - accuracy: 0.6623 - prec_class0: 0.7256 - prec_class1: 0.0000e+00 - prec_class2: 0.6885 - rec_class0: 0.7769 - rec_class1: 0.0000e+00 - rec_class2: 0.2500 - val_loss: 0.8568 - val_accuracy: 0.6384 - val_prec_class0: 0.6683 - val_prec_class1: 0.0000e+00 - val_prec_class2: 0.5476 - val_rec_class0: 0.8405 - val_rec_class1: 0.0000e+00 - val_rec_class2: 0.2738\n",
            "Epoch 5/25\n",
            "17/17 [==============================] - 42s 2s/step - loss: 0.6925 - accuracy: 0.6975 - prec_class0: 0.7911 - prec_class1: 0.0000e+00 - prec_class2: 0.6993 - rec_class0: 0.8508 - rec_class1: 0.0000e+00 - rec_class2: 0.2976 - val_loss: 0.9380 - val_accuracy: 0.6236 - val_prec_class0: 0.6818 - val_prec_class1: 0.0000e+00 - val_prec_class2: 0.6000 - val_rec_class0: 0.7362 - val_rec_class1: 0.0000e+00 - val_rec_class2: 0.3214\n",
            "Epoch 6/25\n",
            "17/17 [==============================] - 42s 2s/step - loss: 0.5889 - accuracy: 0.7604 - prec_class0: 0.8821 - prec_class1: 0.0000e+00 - prec_class2: 0.8122 - rec_class0: 0.8169 - rec_class1: 0.0000e+00 - rec_class2: 0.4375 - val_loss: 0.9768 - val_accuracy: 0.5978 - val_prec_class0: 0.6750 - val_prec_class1: 0.0000e+00 - val_prec_class2: 0.5397 - val_rec_class0: 0.6626 - val_rec_class1: 0.0000e+00 - val_rec_class2: 0.4048\n",
            "Epoch 7/25\n",
            "17/17 [==============================] - 42s 2s/step - loss: 0.5136 - accuracy: 0.7863 - prec_class0: 0.8906 - prec_class1: 0.0000e+00 - prec_class2: 0.7582 - rec_class0: 0.8769 - rec_class1: 0.0000e+00 - rec_class2: 0.5506 - val_loss: 1.1942 - val_accuracy: 0.5941 - val_prec_class0: 0.6845 - val_prec_class1: 0.0000e+00 - val_prec_class2: 0.5190 - val_rec_class0: 0.7055 - val_rec_class1: 0.0000e+00 - val_rec_class2: 0.4881\n",
            "Epoch 8/25\n",
            "17/17 [==============================] - 44s 3s/step - loss: 0.4248 - accuracy: 0.8316 - prec_class0: 0.9228 - prec_class1: 0.8182 - prec_class2: 0.8115 - rec_class0: 0.8831 - rec_class1: 0.0947 - rec_class2: 0.7560 - val_loss: 1.4091 - val_accuracy: 0.6015 - val_prec_class0: 0.6800 - val_prec_class1: 0.0000e+00 - val_prec_class2: 0.5205 - val_rec_class0: 0.7301 - val_rec_class1: 0.0000e+00 - val_rec_class2: 0.4524\n",
            "Epoch 9/25\n",
            "17/17 [==============================] - 42s 3s/step - loss: 0.3859 - accuracy: 0.8622 - prec_class0: 0.9273 - prec_class1: 0.7750 - prec_class2: 0.8717 - rec_class0: 0.8831 - rec_class1: 0.3263 - rec_class2: 0.7887 - val_loss: 1.3935 - val_accuracy: 0.5720 - val_prec_class0: 0.6608 - val_prec_class1: 0.1250 - val_prec_class2: 0.4872 - val_rec_class0: 0.6933 - val_rec_class1: 0.0833 - val_rec_class2: 0.4524\n",
            "Epoch 10/25\n",
            "17/17 [==============================] - 42s 2s/step - loss: 0.3291 - accuracy: 0.8760 - prec_class0: 0.9180 - prec_class1: 0.8088 - prec_class2: 0.8860 - rec_class0: 0.8954 - rec_class1: 0.5789 - rec_class2: 0.8095 - val_loss: 1.5270 - val_accuracy: 0.5867 - val_prec_class0: 0.6648 - val_prec_class1: 0.1176 - val_prec_class2: 0.5362 - val_rec_class0: 0.7301 - val_rec_class1: 0.0833 - val_rec_class2: 0.4405\n",
            "Epoch 11/25\n",
            "17/17 [==============================] - 42s 2s/step - loss: 0.3155 - accuracy: 0.8862 - prec_class0: 0.9239 - prec_class1: 0.7294 - prec_class2: 0.9189 - rec_class0: 0.8969 - rec_class1: 0.6526 - rec_class2: 0.8095 - val_loss: 1.6625 - val_accuracy: 0.5535 - val_prec_class0: 0.6901 - val_prec_class1: 0.1176 - val_prec_class2: 0.4369 - val_rec_class0: 0.6012 - val_rec_class1: 0.0833 - val_rec_class2: 0.5357\n",
            "Epoch 12/25\n",
            "17/17 [==============================] - 42s 2s/step - loss: 0.3328 - accuracy: 0.8853 - prec_class0: 0.9145 - prec_class1: 0.7470 - prec_class2: 0.9026 - rec_class0: 0.9046 - rec_class1: 0.6526 - rec_class2: 0.8274 - val_loss: 1.5991 - val_accuracy: 0.5904 - val_prec_class0: 0.6575 - val_prec_class1: 0.0833 - val_prec_class2: 0.5455 - val_rec_class0: 0.7301 - val_rec_class1: 0.0417 - val_rec_class2: 0.4286\n",
            "Epoch 13/25\n",
            "17/17 [==============================] - 42s 2s/step - loss: 0.2997 - accuracy: 0.8844 - prec_class0: 0.9167 - prec_class1: 0.7671 - prec_class2: 0.9247 - rec_class0: 0.8969 - rec_class1: 0.5895 - rec_class2: 0.8036 - val_loss: 1.7793 - val_accuracy: 0.5646 - val_prec_class0: 0.6550 - val_prec_class1: 0.0000e+00 - val_prec_class2: 0.4810 - val_rec_class0: 0.6871 - val_rec_class1: 0.0000e+00 - val_rec_class2: 0.4524\n",
            "Epoch 14/25\n",
            "17/17 [==============================] - 43s 2s/step - loss: 0.2770 - accuracy: 0.8853 - prec_class0: 0.9244 - prec_class1: 0.8906 - prec_class2: 0.9091 - rec_class0: 0.9031 - rec_class1: 0.6000 - rec_class2: 0.8333 - val_loss: 1.5058 - val_accuracy: 0.5535 - val_prec_class0: 0.6800 - val_prec_class1: 0.1176 - val_prec_class2: 0.4444 - val_rec_class0: 0.6258 - val_rec_class1: 0.0833 - val_rec_class2: 0.4762\n",
            "Epoch 15/25\n",
            "17/17 [==============================] - 42s 2s/step - loss: 0.2941 - accuracy: 0.8862 - prec_class0: 0.9031 - prec_class1: 0.8028 - prec_class2: 0.9567 - rec_class0: 0.9323 - rec_class1: 0.6000 - rec_class2: 0.7887 - val_loss: 2.0181 - val_accuracy: 0.5793 - val_prec_class0: 0.6629 - val_prec_class1: 0.0000e+00 - val_prec_class2: 0.4930 - val_rec_class0: 0.7239 - val_rec_class1: 0.0000e+00 - val_rec_class2: 0.4167\n",
            "Epoch 16/25\n",
            "17/17 [==============================] - 43s 2s/step - loss: 0.2832 - accuracy: 0.8927 - prec_class0: 0.9215 - prec_class1: 0.8228 - prec_class2: 0.9178 - rec_class0: 0.9031 - rec_class1: 0.6842 - rec_class2: 0.8304 - val_loss: 1.7909 - val_accuracy: 0.5424 - val_prec_class0: 0.6601 - val_prec_class1: 0.0000e+00 - val_prec_class2: 0.4105 - val_rec_class0: 0.6196 - val_rec_class1: 0.0000e+00 - val_rec_class2: 0.4643\n",
            "Epoch 17/25\n",
            "17/17 [==============================] - 42s 2s/step - loss: 0.2609 - accuracy: 0.8945 - prec_class0: 0.9233 - prec_class1: 0.8630 - prec_class2: 0.9300 - rec_class0: 0.9077 - rec_class1: 0.6632 - rec_class2: 0.8304 - val_loss: 2.2897 - val_accuracy: 0.5793 - val_prec_class0: 0.6611 - val_prec_class1: 0.0000e+00 - val_prec_class2: 0.5072 - val_rec_class0: 0.7301 - val_rec_class1: 0.0000e+00 - val_rec_class2: 0.4167\n",
            "Epoch 18/25\n",
            "17/17 [==============================] - 43s 2s/step - loss: 0.2507 - accuracy: 0.8992 - prec_class0: 0.9224 - prec_class1: 0.8533 - prec_class2: 0.9241 - rec_class0: 0.9138 - rec_class1: 0.6737 - rec_class2: 0.8333 - val_loss: 2.1298 - val_accuracy: 0.5646 - val_prec_class0: 0.6532 - val_prec_class1: 0.0000e+00 - val_prec_class2: 0.4684 - val_rec_class0: 0.6933 - val_rec_class1: 0.0000e+00 - val_rec_class2: 0.4405\n",
            "Epoch 19/25\n",
            "17/17 [==============================] - 42s 2s/step - loss: 0.2545 - accuracy: 0.8964 - prec_class0: 0.9125 - prec_class1: 0.8841 - prec_class2: 0.9373 - rec_class0: 0.9308 - rec_class1: 0.6421 - rec_class2: 0.8006 - val_loss: 2.0271 - val_accuracy: 0.5904 - val_prec_class0: 0.6667 - val_prec_class1: 0.0000e+00 - val_prec_class2: 0.5147 - val_rec_class0: 0.7485 - val_rec_class1: 0.0000e+00 - val_rec_class2: 0.4167\n",
            "Epoch 20/25\n",
            "17/17 [==============================] - 42s 2s/step - loss: 0.2435 - accuracy: 0.8945 - prec_class0: 0.9123 - prec_class1: 0.8889 - prec_class2: 0.9470 - rec_class0: 0.9277 - rec_class1: 0.6737 - rec_class2: 0.7976 - val_loss: 2.4008 - val_accuracy: 0.5720 - val_prec_class0: 0.6570 - val_prec_class1: 0.0000e+00 - val_prec_class2: 0.4557 - val_rec_class0: 0.6933 - val_rec_class1: 0.0000e+00 - val_rec_class2: 0.4286\n",
            "Epoch 21/25\n",
            "17/17 [==============================] - 44s 3s/step - loss: 0.2423 - accuracy: 0.9001 - prec_class0: 0.9219 - prec_class1: 0.9254 - prec_class2: 0.9576 - rec_class0: 0.9262 - rec_class1: 0.6526 - rec_class2: 0.8065 - val_loss: 2.4019 - val_accuracy: 0.5830 - val_prec_class0: 0.6667 - val_prec_class1: 0.0000e+00 - val_prec_class2: 0.4744 - val_rec_class0: 0.7239 - val_rec_class1: 0.0000e+00 - val_rec_class2: 0.4405\n",
            "Epoch 22/25\n",
            "17/17 [==============================] - 42s 2s/step - loss: 0.2470 - accuracy: 0.8862 - prec_class0: 0.9115 - prec_class1: 0.8592 - prec_class2: 0.9212 - rec_class0: 0.9031 - rec_class1: 0.6421 - rec_class2: 0.8006 - val_loss: 2.0700 - val_accuracy: 0.5572 - val_prec_class0: 0.6766 - val_prec_class1: 0.0000e+00 - val_prec_class2: 0.4578 - val_rec_class0: 0.6933 - val_rec_class1: 0.0000e+00 - val_rec_class2: 0.4524\n",
            "Epoch 23/25\n",
            "17/17 [==============================] - 44s 3s/step - loss: 0.2255 - accuracy: 0.8992 - prec_class0: 0.9160 - prec_class1: 0.8649 - prec_class2: 0.9441 - rec_class0: 0.9231 - rec_class1: 0.6737 - rec_class2: 0.8036 - val_loss: 2.4022 - val_accuracy: 0.5609 - val_prec_class0: 0.6770 - val_prec_class1: 0.0000e+00 - val_prec_class2: 0.4382 - val_rec_class0: 0.6687 - val_rec_class1: 0.0000e+00 - val_rec_class2: 0.4643\n",
            "Epoch 24/25\n",
            "17/17 [==============================] - 45s 3s/step - loss: 0.2297 - accuracy: 0.8908 - prec_class0: 0.9192 - prec_class1: 0.8000 - prec_class2: 0.9379 - rec_class0: 0.9277 - rec_class1: 0.6737 - rec_class2: 0.8095 - val_loss: 2.7295 - val_accuracy: 0.5720 - val_prec_class0: 0.6591 - val_prec_class1: 0.0000e+00 - val_prec_class2: 0.4737 - val_rec_class0: 0.7117 - val_rec_class1: 0.0000e+00 - val_rec_class2: 0.4286\n",
            "Epoch 25/25\n",
            "17/17 [==============================] - 42s 2s/step - loss: 0.2253 - accuracy: 0.8964 - prec_class0: 0.9067 - prec_class1: 0.8800 - prec_class2: 0.9604 - rec_class0: 0.9415 - rec_class1: 0.6947 - rec_class2: 0.7946 - val_loss: 2.2144 - val_accuracy: 0.5572 - val_prec_class0: 0.6772 - val_prec_class1: 0.0000e+00 - val_prec_class2: 0.4348 - val_rec_class0: 0.6564 - val_rec_class1: 0.0000e+00 - val_rec_class2: 0.4762\n"
          ]
        }
      ],
      "source": [
        "model_train_metrics = model.fit(split_metadata_and_text_features(train_df,'article'),\n",
        "          train_labels,\n",
        "          epochs=25,\n",
        "          validation_data=(split_metadata_and_text_features(validation_df,'article'), validation_labels),\n",
        "          batch_size=64,\n",
        "          callbacks=[checkpoint_cb]\n",
        ")"
      ]
    },
    {
      "cell_type": "markdown",
      "source": [
        "0 --> enviesado\n",
        "1 --> sem acordo\n",
        "2 --> sem vies"
      ],
      "metadata": {
        "id": "zdTENCfqVeGk"
      }
    },
    {
      "cell_type": "code",
      "source": [
        "import numpy as np\n",
        "import matplotlib.pyplot as plt\n",
        "\n",
        "# Extrair as métricas do treinamento\n",
        "accuracy = model_train_metrics.history['accuracy']\n",
        "val_accuracy = model_train_metrics.history['val_accuracy']\n",
        "prec_class0 = np.array(model_train_metrics.history['prec_class0'])\n",
        "prec_class1 = np.array(model_train_metrics.history['prec_class1'])\n",
        "prec_class2 = np.array(model_train_metrics.history['prec_class2'])\n",
        "rec_class0 = np.array(model_train_metrics.history['rec_class0'])\n",
        "rec_class1 = np.array(model_train_metrics.history['rec_class1'])\n",
        "rec_class2 = np.array(model_train_metrics.history['rec_class2'])\n",
        "val_prec_class0 = np.array(model_train_metrics.history['val_prec_class0'])\n",
        "val_prec_class1 = np.array(model_train_metrics.history['val_prec_class1'])\n",
        "val_prec_class2 = np.array(model_train_metrics.history['val_prec_class2'])\n",
        "val_rec_class0 = np.array(model_train_metrics.history['val_rec_class0'])\n",
        "val_rec_class1 = np.array(model_train_metrics.history['val_rec_class1'])\n",
        "val_rec_class2 = np.array(model_train_metrics.history['val_rec_class2'])\n",
        "\n",
        "# Calcular o F1-score para cada classe\n",
        "f1_class0 = 2 * (prec_class0 * rec_class0) / (prec_class0 + rec_class0 + 1e-15)\n",
        "f1_class1 = 2 * (prec_class1 * rec_class1) / (prec_class1 + rec_class1 + 1e-15)\n",
        "f1_class2 = 2 * (prec_class2 * rec_class2) / (prec_class2 + rec_class2 + 1e-15)\n",
        "val_f1_class0 = 2 * (val_prec_class0 * val_rec_class0) / (val_prec_class0 + val_rec_class0 + 1e-15)\n",
        "val_f1_class1 = 2 * (val_prec_class1 * val_rec_class1) / (val_prec_class1 + val_rec_class1 + 1e-15)\n",
        "val_f1_class2 = 2 * (val_prec_class2 * val_rec_class2) / (val_prec_class2 + val_rec_class2 + 1e-15)\n",
        "\n",
        "# Criar subplots para os gráficos\n",
        "fig, axs = plt.subplots(3, sharex=True, figsize=(8, 12))\n",
        "\n",
        "# Gráfico de accuracy\n",
        "axs[0].plot(accuracy, label='Train Accuracy', linewidth=2)\n",
        "axs[0].plot(val_accuracy, label='Validation Accuracy', linewidth=2, linestyle='--')\n",
        "axs[0].set_ylabel('Accuracy')\n",
        "axs[0].legend()\n",
        "\n",
        "# Gráfico de precision para cada classe\n",
        "axs[1].plot(prec_class0, label='Train Precision - Class 0', linewidth=2)\n",
        "axs[1].plot(prec_class1, label='Train Precision - Class 1', linewidth=2)\n",
        "axs[1].plot(prec_class2, label='Train Precision - Class 2', linewidth=2)\n",
        "axs[1].plot(val_prec_class0, label='Validation Precision - Class 0', linewidth=2, linestyle='--')\n",
        "axs[1].plot(val_prec_class1, label='Validation Precision - Class 1', linewidth=2, linestyle='--')\n",
        "axs[1].plot(val_prec_class2, label='Validation Precision - Class 2', linewidth=2, linestyle='--')\n",
        "axs[1].set_ylabel('Precision')\n",
        "axs[1].legend()\n",
        "\n",
        "# Gráfico de recall para cada classe\n",
        "axs[2].plot(rec_class0, label='Train Recall - Class 0', linewidth=2)\n",
        "axs[2].plot(rec_class1, label='Train Recall - Class 1', linewidth=2)\n",
        "axs[2].plot(rec_class2, label='Train Recall - Class 2', linewidth=2)\n",
        "axs[2].plot(val_rec_class0, label='Validation Recall - Class 0', linewidth=2, linestyle='--')\n",
        "axs[2].plot(val_rec_class1, label='Validation Recall - Class 1', linewidth=2, linestyle='--')\n",
        "axs[2].plot(val_rec_class2, label='Validation Recall - Class 2', linewidth=2, linestyle='--')\n",
        "axs[2].set_xlabel('Epoch')\n",
        "axs[2].set_ylabel('Recall')\n",
        "axs[2].legend()\n",
        "\n",
        "# Ajustar o layout\n",
        "plt.tight_layout()\n",
        "\n",
        "# Exibir os gráficos\n",
        "plt.show()\n",
        "\n",
        "# Imprimir os valores de F1-score para cada classe\n",
        "print('F1-score - Class 0:', f1_class0[-1])\n",
        "print('F1-score - Class 1:', f1_class1[-1])\n",
        "print('F1-score - Class 2:', f1_class2[-1])\n",
        "print('Validation F1-score - Class 0:', val_f1_class0[-1])\n",
        "print('Validation F1-score - Class 1:', val_f1_class1[-1])\n",
        "print('Validation F1-score - Class 2:', val_f1_class2[-1])\n",
        "\n"
      ],
      "metadata": {
        "id": "JaQLHOzTWYIs"
      },
      "execution_count": null,
      "outputs": []
    },
    {
      "cell_type": "markdown",
      "source": [
        "### 3.4 Teste do Modelo"
      ],
      "metadata": {
        "id": "9KYWXXAXE1BP"
      }
    },
    {
      "cell_type": "code",
      "source": [
        "import numpy as np\n",
        "import matplotlib.pyplot as plt\n",
        "\n",
        "# Calcular as métricas no conjunto de teste\n",
        "test_loss, test_accuracy, test_precision_class0, test_precision_class1, test_precision_class2, test_recall_class0, test_recall_class1, test_recall_class2 = model.evaluate(split_metadata_and_text_features(test_df, 'article'), test_labels)\n"
      ],
      "metadata": {
        "colab": {
          "base_uri": "https://localhost:8080/"
        },
        "id": "vc8gnyTVe4ct",
        "outputId": "e3431138-bfbb-4ce1-923b-4cf3d74bcbf0"
      },
      "execution_count": null,
      "outputs": [
        {
          "output_type": "stream",
          "name": "stdout",
          "text": [
            "11/11 [==============================] - 5s 493ms/step - loss: 2.1125 - accuracy: 0.5621 - prec_class0: 0.6888 - prec_class1: 0.1053 - prec_class2: 0.4312 - rec_class0: 0.6650 - rec_class1: 0.0667 - rec_class2: 0.4476\n"
          ]
        }
      ]
    },
    {
      "cell_type": "code",
      "source": [
        "import numpy as np\n",
        "import matplotlib.pyplot as plt\n",
        "\n",
        "# Calcular o F1-score para cada classe no conjunto de teste\n",
        "test_f1_class0 = 2 * (test_precision_class0 * test_recall_class0) / (test_precision_class0 + test_recall_class0 + 1e-15)\n",
        "test_f1_class1 = 2 * (test_precision_class1 * test_recall_class1) / (test_precision_class1 + test_recall_class1 + 1e-15)\n",
        "test_f1_class2 = 2 * (test_precision_class2 * test_recall_class2) / (test_precision_class2 + test_recall_class2 + 1e-15)\n",
        "\n",
        "# Preparar os dados para o gráfico de barras\n",
        "metricas = ['Acurácia']\n",
        "classes = ['Classe \"Com Viés\"', 'Classe \"Sem Acordo\"', 'Classe \"Sem Viés\"']\n",
        "valores_acuracia = [test_accuracy]\n",
        "valores_precisao = [test_precision_class0, test_precision_class1, test_precision_class2]\n",
        "valores_revocacao = [test_recall_class0, test_recall_class1, test_recall_class2]\n",
        "valores_f1 = [test_f1_class0, test_f1_class1, test_f1_class2]\n",
        "\n",
        "# Criar o gráfico de barras para acurácia\n",
        "plt.figure(figsize=(6, 4))\n",
        "plt.bar(metricas, valores_acuracia, color='gray')\n",
        "plt.ylim(0, 1)\n",
        "plt.ylabel('Valor')\n",
        "plt.title('Acurácia no Conjunto de Teste')\n",
        "plt.legend()\n",
        "\n",
        "# Exibir o gráfico de barras de acurácia\n",
        "plt.show()\n",
        "\n",
        "# Criar o gráfico de barras para precisão\n",
        "plt.figure(figsize=(6, 4))\n",
        "plt.bar(classes, valores_precisao, color=['lightgray', 'gray', 'darkgray'])\n",
        "plt.ylim(0, 1)\n",
        "plt.ylabel('Valor')\n",
        "plt.title('Precisão no Conjunto de Teste - Artigo Completo')\n",
        "plt.legend()\n",
        "\n",
        "# Exibir o gráfico de barras de precisão\n",
        "plt.show()\n",
        "\n",
        "# Criar o gráfico de barras para revocação\n",
        "plt.figure(figsize=(6, 4))\n",
        "plt.bar(classes, valores_revocacao, color=['lightgray', 'gray', 'darkgray'])\n",
        "plt.ylim(0, 1)\n",
        "plt.ylabel('Valor')\n",
        "plt.title('Revocação no Conjunto de Teste - Artigo Completo')\n",
        "plt.legend()\n",
        "\n",
        "# Exibir o gráfico de barras de revocação\n",
        "plt.show()\n",
        "\n",
        "# Criar o gráfico de barras para F1-score\n",
        "plt.figure(figsize=(6, 4))\n",
        "plt.bar(classes, valores_f1, color=['lightgray', 'gray', 'darkgray'])\n",
        "plt.ylim(0, 1)\n",
        "plt.ylabel('Valor')\n",
        "plt.title('F1-score no Conjunto de Teste - Artigo Completo')\n",
        "plt.legend()\n",
        "\n",
        "# Exibir o gráfico de barras de F1-score\n",
        "plt.show()\n"
      ],
      "metadata": {
        "colab": {
          "base_uri": "https://localhost:8080/",
          "height": 1000
        },
        "id": "ptVxALF-Xhcs",
        "outputId": "28344810-d38d-4e9c-d9e7-11ab6d69fb19"
      },
      "execution_count": null,
      "outputs": [
        {
          "output_type": "stream",
          "name": "stderr",
          "text": [
            "WARNING:matplotlib.legend:No artists with labels found to put in legend.  Note that artists whose label start with an underscore are ignored when legend() is called with no argument.\n"
          ]
        },
        {
          "output_type": "display_data",
          "data": {
            "text/plain": [
              "<Figure size 600x400 with 1 Axes>"
            ],
            "image/png": "[encoded data removed]"
          },
          "metadata": {}
        },
        {
          "output_type": "stream",
          "name": "stderr",
          "text": [
            "WARNING:matplotlib.legend:No artists with labels found to put in legend.  Note that artists whose label start with an underscore are ignored when legend() is called with no argument.\n"
          ]
        },
        {
          "output_type": "display_data",
          "data": {
            "text/plain": [
              "<Figure size 600x400 with 1 Axes>"
            ],
            "image/png": "[encoded data removed]"
          },
          "metadata": {}
        },
        {
          "output_type": "stream",
          "name": "stderr",
          "text": [
            "WARNING:matplotlib.legend:No artists with labels found to put in legend.  Note that artists whose label start with an underscore are ignored when legend() is called with no argument.\n"
          ]
        },
        {
          "output_type": "display_data",
          "data": {
            "text/plain": [
              "<Figure size 600x400 with 1 Axes>"
            ],
            "image/png": "[encoded data removed]"
          },
          "metadata": {}
        },
        {
          "output_type": "stream",
          "name": "stderr",
          "text": [
            "WARNING:matplotlib.legend:No artists with labels found to put in legend.  Note that artists whose label start with an underscore are ignored when legend() is called with no argument.\n"
          ]
        },
        {
          "output_type": "display_data",
          "data": {
            "text/plain": [
              "<Figure size 600x400 with 1 Axes>"
            ],
            "image/png": "[encoded data removed]"
          },
          "metadata": {}
        }
      ]
    },
    {
      "cell_type": "markdown",
      "source": [
        "# Usando a coluna sentence"
      ],
      "metadata": {
        "id": "sfvMM-UQM8cJ"
      }
    },
    {
      "cell_type": "code",
      "source": [
        "embed_size = 64\n",
        "\n",
        "text_input_length = len(train_df.loc[1,'sentence'])\n",
        "text_input = keras.layers.Input(shape=(text_input_length,))\n",
        "embedding_layer = keras.layers.Embedding(input_dim=int(vocab_table.size())+5000,\n",
        "                                         output_dim=embed_size,\n",
        "                                         mask_zero=True)(text_input)\n",
        "\n",
        "#embedding_output = keras.layers.Bidirectional(keras.layers.LSTM(embed_size))(embedding_layer)\n",
        "embedding_output = keras.layers.LSTM(embed_size)(embedding_layer)\n",
        "feature_input_length = len(train_df.columns) - 3\n",
        "feature_input = keras.layers.Input(shape=(feature_input_length,))\n",
        "\n",
        "concatenated = keras.layers.concatenate([embedding_output,feature_input], axis=-1)\n",
        "reshaped = keras.layers.Reshape((-1, concatenated.shape[-1]))(concatenated)  # Add time dimension\n",
        "gru_layer1 = keras.layers.LSTM(128)(reshaped)\n",
        "dense = keras.layers.Dense(32, activation = 'relu')(gru_layer1)\n",
        "dropout = keras.layers.Dropout(0.6)(dense) ### adicionando uma camada de regularização para diminuir diferença entre treino e validaçao\n",
        "output = keras.layers.Dense(3, activation=\"softmax\")(dropout)\n",
        "\n",
        "model2 = tf.keras.Model(inputs=[text_input,feature_input], outputs=output)\n",
        "#model.compile(loss=\"categorical_crossentropy\",optimizer=\"adam\")\n",
        "model2.compile(optimizer='adam',\n",
        "              loss='categorical_crossentropy',\n",
        "              metrics=['accuracy', Precision(class_id=0, name = 'prec_class0'),\n",
        "                       Precision(class_id=1, name = 'prec_class1'),\n",
        "                       Precision(class_id=2, name = 'prec_class2'),\n",
        "                       Recall(class_id=0, name = 'rec_class0'),\n",
        "                       Recall(class_id=1, name = 'rec_class1'),\n",
        "                       Recall(class_id=2, name = 'rec_class2')])\n",
        "\n",
        "checkpoint_cb = keras.callbacks.ModelCheckpoint(\n",
        "    filepath=\"models/sentence_model.h5\",\n",
        "    monitor='val_loss',\n",
        "    save_best_only=True,\n",
        "    save_weights_only=True\n",
        ")\n",
        "\n",
        "model2_train_metrics = model2.fit(split_metadata_and_text_features(train_df,'sentence'),\n",
        "          train_labels,\n",
        "          epochs=25,\n",
        "          validation_data=(split_metadata_and_text_features(validation_df,'sentence'), validation_labels),\n",
        "          batch_size=64,\n",
        "          callbacks=[checkpoint_cb]\n",
        ")"
      ],
      "metadata": {
        "colab": {
          "base_uri": "https://localhost:8080/"
        },
        "id": "tWbmRK0TM-uA",
        "outputId": "728fd489-ecea-405e-88f8-27e8aea120da"
      },
      "execution_count": null,
      "outputs": [
        {
          "output_type": "stream",
          "name": "stdout",
          "text": [
            "Epoch 1/25\n",
            "17/17 [==============================] - 9s 217ms/step - loss: 1.0245 - accuracy: 0.5819 - prec_class0: 0.7183 - prec_class1: 0.0000e+00 - prec_class2: 0.0000e+00 - rec_class0: 0.0785 - rec_class1: 0.0000e+00 - rec_class2: 0.0000e+00 - val_loss: 0.8899 - val_accuracy: 0.6015 - val_prec_class0: 0.6765 - val_prec_class1: 0.0000e+00 - val_prec_class2: 0.0000e+00 - val_rec_class0: 0.8466 - val_rec_class1: 0.0000e+00 - val_rec_class2: 0.0000e+00\n",
            "Epoch 2/25\n",
            "17/17 [==============================] - 1s 69ms/step - loss: 0.8905 - accuracy: 0.6059 - prec_class0: 0.6412 - prec_class1: 0.0000e+00 - prec_class2: 0.0000e+00 - rec_class0: 0.7862 - rec_class1: 0.0000e+00 - rec_class2: 0.0000e+00 - val_loss: 0.8477 - val_accuracy: 0.6052 - val_prec_class0: 0.6872 - val_prec_class1: 0.0000e+00 - val_prec_class2: 0.0000e+00 - val_rec_class0: 0.8896 - val_rec_class1: 0.0000e+00 - val_rec_class2: 0.0000e+00\n",
            "Epoch 3/25\n",
            "17/17 [==============================] - 1s 63ms/step - loss: 0.8079 - accuracy: 0.6309 - prec_class0: 0.6756 - prec_class1: 0.0000e+00 - prec_class2: 0.8000 - rec_class0: 0.8969 - rec_class1: 0.0000e+00 - rec_class2: 0.0238 - val_loss: 0.8111 - val_accuracy: 0.6863 - val_prec_class0: 0.6977 - val_prec_class1: 0.0000e+00 - val_prec_class2: 0.0000e+00 - val_rec_class0: 0.9202 - val_rec_class1: 0.0000e+00 - val_rec_class2: 0.0000e+00\n",
            "Epoch 4/25\n",
            "17/17 [==============================] - 1s 66ms/step - loss: 0.6076 - accuracy: 0.7613 - prec_class0: 0.8638 - prec_class1: 0.0000e+00 - prec_class2: 0.8611 - rec_class0: 0.9462 - rec_class1: 0.0000e+00 - rec_class2: 0.0923 - val_loss: 0.9029 - val_accuracy: 0.6605 - val_prec_class0: 0.7103 - val_prec_class1: 0.0000e+00 - val_prec_class2: 0.6757 - val_rec_class0: 0.6319 - val_rec_class1: 0.0000e+00 - val_rec_class2: 0.2976\n",
            "Epoch 5/25\n",
            "17/17 [==============================] - 1s 63ms/step - loss: 0.4295 - accuracy: 0.8649 - prec_class0: 0.9663 - prec_class1: 0.0000e+00 - prec_class2: 0.7544 - rec_class0: 0.9692 - rec_class1: 0.0000e+00 - rec_class2: 0.3839 - val_loss: 1.2531 - val_accuracy: 0.6236 - val_prec_class0: 0.6701 - val_prec_class1: 0.0000e+00 - val_prec_class2: 0.6078 - val_rec_class0: 0.7975 - val_rec_class1: 0.0000e+00 - val_rec_class2: 0.3690\n",
            "Epoch 6/25\n",
            "17/17 [==============================] - 1s 68ms/step - loss: 0.3067 - accuracy: 0.9047 - prec_class0: 0.9938 - prec_class1: 0.0000e+00 - prec_class2: 0.7787 - rec_class0: 0.9923 - rec_class1: 0.0000e+00 - rec_class2: 0.8065 - val_loss: 1.4852 - val_accuracy: 0.5830 - val_prec_class0: 0.6943 - val_prec_class1: 0.0000e+00 - val_prec_class2: 0.4286 - val_rec_class0: 0.6687 - val_rec_class1: 0.0000e+00 - val_rec_class2: 0.5000\n",
            "Epoch 7/25\n",
            "17/17 [==============================] - 1s 87ms/step - loss: 0.2559 - accuracy: 0.9056 - prec_class0: 0.9985 - prec_class1: 0.0000e+00 - prec_class2: 0.7764 - rec_class0: 0.9938 - rec_class1: 0.0000e+00 - rec_class2: 0.9405 - val_loss: 1.7048 - val_accuracy: 0.5756 - val_prec_class0: 0.6974 - val_prec_class1: 0.0000e+00 - val_prec_class2: 0.4196 - val_rec_class0: 0.6503 - val_rec_class1: 0.0000e+00 - val_rec_class2: 0.5595\n",
            "Epoch 8/25\n",
            "17/17 [==============================] - 1s 80ms/step - loss: 0.2519 - accuracy: 0.9075 - prec_class0: 0.9969 - prec_class1: 0.3333 - prec_class2: 0.7783 - rec_class0: 0.9985 - rec_class1: 0.0105 - rec_class2: 0.9405 - val_loss: 1.6840 - val_accuracy: 0.5941 - val_prec_class0: 0.7044 - val_prec_class1: 0.0000e+00 - val_prec_class2: 0.4393 - val_rec_class0: 0.6871 - val_rec_class1: 0.0000e+00 - val_rec_class2: 0.5595\n",
            "Epoch 9/25\n",
            "17/17 [==============================] - 1s 67ms/step - loss: 0.2320 - accuracy: 0.9084 - prec_class0: 0.9985 - prec_class1: 0.2500 - prec_class2: 0.7921 - rec_class0: 1.0000 - rec_class1: 0.0105 - rec_class2: 0.9524 - val_loss: 1.8507 - val_accuracy: 0.5830 - val_prec_class0: 0.7013 - val_prec_class1: 0.0000e+00 - val_prec_class2: 0.4298 - val_rec_class0: 0.6626 - val_rec_class1: 0.0000e+00 - val_rec_class2: 0.5833\n",
            "Epoch 10/25\n",
            "17/17 [==============================] - 1s 63ms/step - loss: 0.2158 - accuracy: 0.9056 - prec_class0: 1.0000 - prec_class1: 0.2500 - prec_class2: 0.7878 - rec_class0: 0.9954 - rec_class1: 0.0105 - rec_class2: 0.9613 - val_loss: 1.8456 - val_accuracy: 0.5756 - val_prec_class0: 0.6903 - val_prec_class1: 0.0000e+00 - val_prec_class2: 0.4286 - val_rec_class0: 0.6564 - val_rec_class1: 0.0000e+00 - val_rec_class2: 0.5714\n",
            "Epoch 11/25\n",
            "17/17 [==============================] - 1s 61ms/step - loss: 0.1884 - accuracy: 0.9130 - prec_class0: 0.9939 - prec_class1: 0.6667 - prec_class2: 0.8067 - rec_class0: 0.9985 - rec_class1: 0.1684 - rec_class2: 0.9315 - val_loss: 2.1007 - val_accuracy: 0.5129 - val_prec_class0: 0.7248 - val_prec_class1: 0.0000e+00 - val_prec_class2: 0.3774 - val_rec_class0: 0.4847 - val_rec_class1: 0.0000e+00 - val_rec_class2: 0.7143\n",
            "Epoch 12/25\n",
            "17/17 [==============================] - 1s 66ms/step - loss: 0.1257 - accuracy: 0.9491 - prec_class0: 0.9985 - prec_class1: 0.8305 - prec_class2: 0.8961 - rec_class0: 0.9969 - rec_class1: 0.5158 - rec_class2: 0.9494 - val_loss: 2.3143 - val_accuracy: 0.5240 - val_prec_class0: 0.6842 - val_prec_class1: 0.0000e+00 - val_prec_class2: 0.3750 - val_rec_class0: 0.5583 - val_rec_class1: 0.0000e+00 - val_rec_class2: 0.6071\n",
            "Epoch 13/25\n",
            "17/17 [==============================] - 1s 65ms/step - loss: 0.0679 - accuracy: 0.9833 - prec_class0: 0.9954 - prec_class1: 0.9875 - prec_class2: 0.9763 - rec_class0: 0.9938 - rec_class1: 0.8316 - rec_class2: 0.9792 - val_loss: 2.6164 - val_accuracy: 0.5387 - val_prec_class0: 0.6857 - val_prec_class1: 0.0000e+00 - val_prec_class2: 0.3876 - val_rec_class0: 0.5890 - val_rec_class1: 0.0000e+00 - val_rec_class2: 0.5952\n",
            "Epoch 14/25\n",
            "17/17 [==============================] - 1s 61ms/step - loss: 0.0387 - accuracy: 0.9870 - prec_class0: 0.9969 - prec_class1: 1.0000 - prec_class2: 0.9910 - rec_class0: 0.9985 - rec_class1: 0.9053 - rec_class2: 0.9881 - val_loss: 3.6384 - val_accuracy: 0.5018 - val_prec_class0: 0.6930 - val_prec_class1: 0.0000e+00 - val_prec_class2: 0.3800 - val_rec_class0: 0.4847 - val_rec_class1: 0.0000e+00 - val_rec_class2: 0.6786\n",
            "Epoch 15/25\n",
            "17/17 [==============================] - 1s 63ms/step - loss: 0.0600 - accuracy: 0.9833 - prec_class0: 1.0000 - prec_class1: 0.8878 - prec_class2: 0.9848 - rec_class0: 0.9985 - rec_class1: 0.9158 - rec_class2: 0.9673 - val_loss: 3.0207 - val_accuracy: 0.5166 - val_prec_class0: 0.6759 - val_prec_class1: 0.0000e+00 - val_prec_class2: 0.3925 - val_rec_class0: 0.6012 - val_rec_class1: 0.0000e+00 - val_rec_class2: 0.5000\n",
            "Epoch 16/25\n",
            "17/17 [==============================] - 1s 65ms/step - loss: 0.0644 - accuracy: 0.9806 - prec_class0: 0.9893 - prec_class1: 0.9670 - prec_class2: 0.9789 - rec_class0: 0.9938 - rec_class1: 0.9263 - rec_class2: 0.9673 - val_loss: 3.4229 - val_accuracy: 0.5830 - val_prec_class0: 0.6474 - val_prec_class1: 0.0000e+00 - val_prec_class2: 0.4375 - val_rec_class0: 0.7546 - val_rec_class1: 0.0000e+00 - val_rec_class2: 0.4167\n",
            "Epoch 17/25\n",
            "17/17 [==============================] - 1s 76ms/step - loss: 0.1230 - accuracy: 0.9732 - prec_class0: 0.9846 - prec_class1: 0.9888 - prec_class2: 0.9644 - rec_class0: 0.9831 - rec_class1: 0.9263 - rec_class2: 0.9673 - val_loss: 2.5701 - val_accuracy: 0.5092 - val_prec_class0: 0.7353 - val_prec_class1: 0.0000e+00 - val_prec_class2: 0.3827 - val_rec_class0: 0.4601 - val_rec_class1: 0.0000e+00 - val_rec_class2: 0.7381\n",
            "Epoch 18/25\n",
            "17/17 [==============================] - 2s 95ms/step - loss: 0.0418 - accuracy: 0.9907 - prec_class0: 0.9939 - prec_class1: 0.9789 - prec_class2: 0.9940 - rec_class0: 0.9969 - rec_class1: 0.9789 - rec_class2: 0.9792 - val_loss: 2.0832 - val_accuracy: 0.5720 - val_prec_class0: 0.6747 - val_prec_class1: 0.0000e+00 - val_prec_class2: 0.4300 - val_rec_class0: 0.6871 - val_rec_class1: 0.0000e+00 - val_rec_class2: 0.5119\n",
            "Epoch 19/25\n",
            "17/17 [==============================] - 1s 68ms/step - loss: 0.0332 - accuracy: 0.9935 - prec_class0: 0.9985 - prec_class1: 0.9886 - prec_class2: 0.9940 - rec_class0: 1.0000 - rec_class1: 0.9158 - rec_class2: 0.9911 - val_loss: 2.2810 - val_accuracy: 0.5572 - val_prec_class0: 0.6972 - val_prec_class1: 0.0000e+00 - val_prec_class2: 0.4194 - val_rec_class0: 0.6074 - val_rec_class1: 0.0000e+00 - val_rec_class2: 0.6190\n",
            "Epoch 20/25\n",
            "17/17 [==============================] - 1s 67ms/step - loss: 0.0195 - accuracy: 0.9954 - prec_class0: 0.9985 - prec_class1: 1.0000 - prec_class2: 1.0000 - rec_class0: 0.9969 - rec_class1: 0.9789 - rec_class2: 0.9970 - val_loss: 2.6818 - val_accuracy: 0.5498 - val_prec_class0: 0.6897 - val_prec_class1: 0.0000e+00 - val_prec_class2: 0.4068 - val_rec_class0: 0.6135 - val_rec_class1: 0.0000e+00 - val_rec_class2: 0.5714\n",
            "Epoch 21/25\n",
            "17/17 [==============================] - 1s 69ms/step - loss: 0.0155 - accuracy: 0.9954 - prec_class0: 0.9985 - prec_class1: 1.0000 - prec_class2: 1.0000 - rec_class0: 1.0000 - rec_class1: 0.9684 - rec_class2: 0.9940 - val_loss: 3.0084 - val_accuracy: 0.5461 - val_prec_class0: 0.6779 - val_prec_class1: 0.0000e+00 - val_prec_class2: 0.4071 - val_rec_class0: 0.6196 - val_rec_class1: 0.0000e+00 - val_rec_class2: 0.5476\n",
            "Epoch 22/25\n",
            "17/17 [==============================] - 1s 63ms/step - loss: 0.0135 - accuracy: 0.9944 - prec_class0: 0.9985 - prec_class1: 0.9891 - prec_class2: 1.0000 - rec_class0: 1.0000 - rec_class1: 0.9579 - rec_class2: 0.9940 - val_loss: 3.2574 - val_accuracy: 0.5498 - val_prec_class0: 0.6800 - val_prec_class1: 0.0000e+00 - val_prec_class2: 0.4123 - val_rec_class0: 0.6258 - val_rec_class1: 0.0000e+00 - val_rec_class2: 0.5595\n",
            "Epoch 23/25\n",
            "17/17 [==============================] - 1s 67ms/step - loss: 0.0193 - accuracy: 0.9898 - prec_class0: 0.9985 - prec_class1: 0.9889 - prec_class2: 1.0000 - rec_class0: 0.9969 - rec_class1: 0.9368 - rec_class2: 0.9881 - val_loss: 3.4593 - val_accuracy: 0.5498 - val_prec_class0: 0.6871 - val_prec_class1: 0.0000e+00 - val_prec_class2: 0.4103 - val_rec_class0: 0.6196 - val_rec_class1: 0.0000e+00 - val_rec_class2: 0.5714\n",
            "Epoch 24/25\n",
            "17/17 [==============================] - 1s 68ms/step - loss: 0.0144 - accuracy: 0.9935 - prec_class0: 0.9985 - prec_class1: 0.9890 - prec_class2: 1.0000 - rec_class0: 1.0000 - rec_class1: 0.9474 - rec_class2: 0.9940 - val_loss: 3.6511 - val_accuracy: 0.5572 - val_prec_class0: 0.6939 - val_prec_class1: 0.0000e+00 - val_prec_class2: 0.4188 - val_rec_class0: 0.6258 - val_rec_class1: 0.0000e+00 - val_rec_class2: 0.5833\n",
            "Epoch 25/25\n",
            "17/17 [==============================] - 1s 63ms/step - loss: 0.0098 - accuracy: 0.9972 - prec_class0: 0.9985 - prec_class1: 1.0000 - prec_class2: 1.0000 - rec_class0: 1.0000 - rec_class1: 0.9789 - rec_class2: 0.9970 - val_loss: 3.7627 - val_accuracy: 0.5572 - val_prec_class0: 0.6939 - val_prec_class1: 0.0000e+00 - val_prec_class2: 0.4153 - val_rec_class0: 0.6258 - val_rec_class1: 0.0000e+00 - val_rec_class2: 0.5833\n"
          ]
        }
      ]
    },
    {
      "cell_type": "code",
      "source": [
        "# Calcular as métricas no conjunto de teste\n",
        "test_loss, test_accuracy, test_precision_class0, test_precision_class1, test_precision_class2, test_recall_class0, test_recall_class1, test_recall_class2 = model2.evaluate(split_metadata_and_text_features(test_df, 'sentence'), test_labels)\n",
        "\n",
        "\n",
        "# Calcular o F1-score para cada classe no conjunto de teste\n",
        "test_f1_class0 = 2 * (test_precision_class0 * test_recall_class0) / (test_precision_class0 + test_recall_class0 + 1e-15)\n",
        "test_f1_class1 = 2 * (test_precision_class1 * test_recall_class1) / (test_precision_class1 + test_recall_class1 + 1e-15)\n",
        "test_f1_class2 = 2 * (test_precision_class2 * test_recall_class2) / (test_precision_class2 + test_recall_class2 + 1e-15)\n",
        "\n",
        "# Preparar os dados para o gráfico de barras\n",
        "metricas = ['Acurácia']\n",
        "classes = ['Classe \"Com Viés\"', 'Classe \"Sem Acordo\"', 'Classe \"Sem Viés\"']\n",
        "valores_acuracia = [test_accuracy]\n",
        "valores_precisao = [test_precision_class0, test_precision_class1, test_precision_class2]\n",
        "valores_revocacao = [test_recall_class0, test_recall_class1, test_recall_class2]\n",
        "valores_f1 = [test_f1_class0, test_f1_class1, test_f1_class2]\n",
        "\n",
        "# Criar o gráfico de barras para acurácia\n",
        "plt.figure(figsize=(6, 4))\n",
        "plt.bar(metricas, valores_acuracia, color='gray')\n",
        "plt.ylim(0, 1)\n",
        "plt.ylabel('Valor')\n",
        "plt.title('Acurácia no Conjunto de Teste')\n",
        "plt.legend()\n",
        "\n",
        "# Exibir o gráfico de barras de acurácia\n",
        "plt.show()\n",
        "\n",
        "# Criar o gráfico de barras para precisão\n",
        "plt.figure(figsize=(6, 4))\n",
        "plt.bar(classes, valores_precisao, color=['lightgray', 'gray', 'darkgray'])\n",
        "plt.ylim(0, 1)\n",
        "plt.ylabel('Valor')\n",
        "plt.title('Precisão no Conjunto de Teste - Sentenças')\n",
        "plt.legend()\n",
        "\n",
        "# Exibir o gráfico de barras de precisão\n",
        "plt.show()\n",
        "\n",
        "# Criar o gráfico de barras para revocação\n",
        "plt.figure(figsize=(6, 4))\n",
        "plt.bar(classes, valores_revocacao, color=['lightgray', 'gray', 'darkgray'])\n",
        "plt.ylim(0, 1)\n",
        "plt.ylabel('Valor')\n",
        "plt.title('Revocação no Conjunto de Teste - Sentenças')\n",
        "plt.legend()\n",
        "\n",
        "# Exibir o gráfico de barras de revocação\n",
        "plt.show()\n",
        "\n",
        "# Criar o gráfico de barras para F1-score\n",
        "plt.figure(figsize=(6, 4))\n",
        "plt.bar(classes, valores_f1, color=['lightgray', 'gray', 'darkgray'])\n",
        "plt.ylim(0, 1)\n",
        "plt.ylabel('Valor')\n",
        "plt.title('F1-score no Conjunto de Teste - Sentenças')\n",
        "plt.legend()\n",
        "\n",
        "# Exibir o gráfico de barras de F1-score\n",
        "plt.show()"
      ],
      "metadata": {
        "colab": {
          "base_uri": "https://localhost:8080/",
          "height": 1000
        },
        "id": "Y3rnoggIasVo",
        "outputId": "01a319a3-4a38-4fe0-ea20-1b19cfe9bbc5"
      },
      "execution_count": null,
      "outputs": [
        {
          "output_type": "stream",
          "name": "stdout",
          "text": [
            "11/11 [==============================] - 0s 12ms/step - loss: 4.0355 - accuracy: 0.5444 - prec_class0: 0.6854 - prec_class1: 0.0833 - prec_class2: 0.4122 - rec_class0: 0.6010 - rec_class1: 0.0333 - rec_class2: 0.5810\n"
          ]
        },
        {
          "output_type": "stream",
          "name": "stderr",
          "text": [
            "WARNING:matplotlib.legend:No artists with labels found to put in legend.  Note that artists whose label start with an underscore are ignored when legend() is called with no argument.\n"
          ]
        },
        {
          "output_type": "display_data",
          "data": {
            "text/plain": [
              "<Figure size 600x400 with 1 Axes>"
            ],
            "image/png": "[encoded data removed]"
          },
          "metadata": {}
        },
        {
          "output_type": "stream",
          "name": "stderr",
          "text": [
            "WARNING:matplotlib.legend:No artists with labels found to put in legend.  Note that artists whose label start with an underscore are ignored when legend() is called with no argument.\n"
          ]
        },
        {
          "output_type": "display_data",
          "data": {
            "text/plain": [
              "<Figure size 600x400 with 1 Axes>"
            ],
            "image/png": "[encoded data removed]"
          },
          "metadata": {}
        },
        {
          "output_type": "stream",
          "name": "stderr",
          "text": [
            "WARNING:matplotlib.legend:No artists with labels found to put in legend.  Note that artists whose label start with an underscore are ignored when legend() is called with no argument.\n"
          ]
        },
        {
          "output_type": "display_data",
          "data": {
            "text/plain": [
              "<Figure size 600x400 with 1 Axes>"
            ],
            "image/png": "[encoded data removed]"
          },
          "metadata": {}
        },
        {
          "output_type": "stream",
          "name": "stderr",
          "text": [
            "WARNING:matplotlib.legend:No artists with labels found to put in legend.  Note that artists whose label start with an underscore are ignored when legend() is called with no argument.\n"
          ]
        },
        {
          "output_type": "display_data",
          "data": {
            "text/plain": [
              "<Figure size 600x400 with 1 Axes>"
            ],
            "image/png": "[encoded data removed]"
          },
          "metadata": {}
        }
      ]
    },
    {
      "cell_type": "markdown",
      "source": [
        "## Usando apenas a palavra com vies"
      ],
      "metadata": {
        "id": "tf455_D0OHVQ"
      }
    },
    {
      "cell_type": "code",
      "source": [
        "embed_size = 64\n",
        "\n",
        "text_input_length = len(train_df.loc[1,'biased_words4'])\n",
        "text_input = keras.layers.Input(shape=(text_input_length,))\n",
        "embedding_layer = keras.layers.Embedding(input_dim=int(vocab_table.size())+5000,\n",
        "                                         output_dim=embed_size,\n",
        "                                         mask_zero=True)(text_input)\n",
        "\n",
        "#embedding_output = keras.layers.Bidirectional(keras.layers.LSTM(embed_size))(embedding_layer)\n",
        "embedding_output = keras.layers.LSTM(embed_size)(embedding_layer)\n",
        "feature_input_length = len(train_df.columns) - 3\n",
        "feature_input = keras.layers.Input(shape=(feature_input_length,))\n",
        "\n",
        "concatenated = keras.layers.concatenate([embedding_output,feature_input], axis=-1)\n",
        "reshaped = keras.layers.Reshape((-1, concatenated.shape[-1]))(concatenated)  # Add time dimension\n",
        "gru_layer1 = keras.layers.LSTM(128)(reshaped)\n",
        "dense = keras.layers.Dense(32, activation = 'relu')(gru_layer1)\n",
        "dropout = keras.layers.Dropout(0.6)(dense) ### adicionando uma camada de regularização para diminuir diferença entre treino e validaçao\n",
        "output = keras.layers.Dense(3, activation=\"softmax\")(dropout)\n",
        "\n",
        "model3 = tf.keras.Model(inputs=[text_input,feature_input], outputs=output)\n",
        "#model.compile(loss=\"categorical_crossentropy\",optimizer=\"adam\")\n",
        "model3.compile(optimizer='adam',\n",
        "              loss='categorical_crossentropy',\n",
        "              metrics=['accuracy', Precision(class_id=0, name = 'prec_class0'),\n",
        "                       Precision(class_id=1, name = 'prec_class1'),\n",
        "                       Precision(class_id=2, name = 'prec_class2'),\n",
        "                       Recall(class_id=0, name = 'rec_class0'),\n",
        "                       Recall(class_id=1, name = 'rec_class1'),\n",
        "                       Recall(class_id=2, name = 'rec_class2')])\n",
        "\n",
        "checkpoint_cb = keras.callbacks.ModelCheckpoint(\n",
        "    filepath=\"models/biased_words4_model.h5\",\n",
        "    monitor='val_loss',\n",
        "    save_best_only=True,\n",
        "    save_weights_only=True\n",
        ")\n",
        "\n",
        "model3_train_metrics = model3.fit(split_metadata_and_text_features(train_df,'biased_words4'),\n",
        "          train_labels,\n",
        "          epochs=25,\n",
        "          validation_data=(split_metadata_and_text_features(validation_df,'biased_words4'), validation_labels),\n",
        "          batch_size=64,\n",
        "          callbacks=[checkpoint_cb]\n",
        ")"
      ],
      "metadata": {
        "colab": {
          "base_uri": "https://localhost:8080/"
        },
        "id": "2E62TthYNMyO",
        "outputId": "1aa41461-896d-438d-82f7-dc916bf2a9b2"
      },
      "execution_count": null,
      "outputs": [
        {
          "output_type": "stream",
          "name": "stdout",
          "text": [
            "Epoch 1/25\n",
            "17/17 [==============================] - 8s 129ms/step - loss: 1.0223 - accuracy: 0.5883 - prec_class0: 0.7812 - prec_class1: 0.0000e+00 - prec_class2: 0.0000e+00 - rec_class0: 0.0385 - rec_class1: 0.0000e+00 - rec_class2: 0.0000e+00 - val_loss: 0.9422 - val_accuracy: 0.6052 - val_prec_class0: 0.8571 - val_prec_class1: 0.0000e+00 - val_prec_class2: 0.0000e+00 - val_rec_class0: 0.2209 - val_rec_class1: 0.0000e+00 - val_rec_class2: 0.0000e+00\n",
            "Epoch 2/25\n",
            "17/17 [==============================] - 0s 29ms/step - loss: 0.8696 - accuracy: 0.6170 - prec_class0: 0.6809 - prec_class1: 0.0000e+00 - prec_class2: 0.0000e+00 - rec_class0: 0.7092 - rec_class1: 0.0000e+00 - rec_class2: 0.0000e+00 - val_loss: 0.7865 - val_accuracy: 0.6015 - val_prec_class0: 0.6626 - val_prec_class1: 0.0000e+00 - val_prec_class2: 0.0000e+00 - val_rec_class0: 0.9877 - val_rec_class1: 0.0000e+00 - val_rec_class2: 0.0000e+00\n",
            "Epoch 3/25\n",
            "17/17 [==============================] - 0s 29ms/step - loss: 0.7499 - accuracy: 0.6540 - prec_class0: 0.7073 - prec_class1: 0.0000e+00 - prec_class2: 0.7857 - rec_class0: 0.9369 - rec_class1: 0.0000e+00 - rec_class2: 0.0327 - val_loss: 0.7324 - val_accuracy: 0.6900 - val_prec_class0: 0.7114 - val_prec_class1: 0.0000e+00 - val_prec_class2: 0.0000e+00 - val_rec_class0: 0.8773 - val_rec_class1: 0.0000e+00 - val_rec_class2: 0.0000e+00\n",
            "Epoch 4/25\n",
            "17/17 [==============================] - 0s 30ms/step - loss: 0.6943 - accuracy: 0.7058 - prec_class0: 0.7801 - prec_class1: 0.0000e+00 - prec_class2: 0.7683 - rec_class0: 0.8677 - rec_class1: 0.0000e+00 - rec_class2: 0.1875 - val_loss: 0.7034 - val_accuracy: 0.6974 - val_prec_class0: 0.7676 - val_prec_class1: 0.0000e+00 - val_prec_class2: 0.7381 - val_rec_class0: 0.8712 - val_rec_class1: 0.0000e+00 - val_rec_class2: 0.3690\n",
            "Epoch 5/25\n",
            "17/17 [==============================] - 0s 29ms/step - loss: 0.6056 - accuracy: 0.7743 - prec_class0: 0.8680 - prec_class1: 0.0000e+00 - prec_class2: 0.7528 - rec_class0: 0.8292 - rec_class1: 0.0000e+00 - rec_class2: 0.3988 - val_loss: 0.7029 - val_accuracy: 0.6937 - val_prec_class0: 0.7821 - val_prec_class1: 0.0000e+00 - val_prec_class2: 0.7857 - val_rec_class0: 0.8589 - val_rec_class1: 0.0000e+00 - val_rec_class2: 0.3929\n",
            "Epoch 6/25\n",
            "17/17 [==============================] - 0s 26ms/step - loss: 0.5148 - accuracy: 0.8113 - prec_class0: 0.9112 - prec_class1: 0.0000e+00 - prec_class2: 0.7627 - rec_class0: 0.9000 - rec_class1: 0.0000e+00 - rec_class2: 0.5357 - val_loss: 0.7097 - val_accuracy: 0.7122 - val_prec_class0: 0.7987 - val_prec_class1: 0.0000e+00 - val_prec_class2: 0.6765 - val_rec_class0: 0.7791 - val_rec_class1: 0.0000e+00 - val_rec_class2: 0.5476\n",
            "Epoch 7/25\n",
            "17/17 [==============================] - 0s 28ms/step - loss: 0.4161 - accuracy: 0.8594 - prec_class0: 0.9588 - prec_class1: 0.0000e+00 - prec_class2: 0.7804 - rec_class0: 0.9308 - rec_class1: 0.0000e+00 - rec_class2: 0.7827 - val_loss: 0.7914 - val_accuracy: 0.7048 - val_prec_class0: 0.7778 - val_prec_class1: 0.0000e+00 - val_prec_class2: 0.6353 - val_rec_class0: 0.7730 - val_rec_class1: 0.0000e+00 - val_rec_class2: 0.6429\n",
            "Epoch 8/25\n",
            "17/17 [==============================] - 0s 26ms/step - loss: 0.3790 - accuracy: 0.8696 - prec_class0: 0.9729 - prec_class1: 0.0000e+00 - prec_class2: 0.7546 - rec_class0: 0.9385 - rec_class1: 0.0000e+00 - rec_class2: 0.8601 - val_loss: 0.8680 - val_accuracy: 0.6827 - val_prec_class0: 0.7895 - val_prec_class1: 0.0000e+00 - val_prec_class2: 0.6022 - val_rec_class0: 0.7362 - val_rec_class1: 0.0000e+00 - val_rec_class2: 0.6667\n",
            "Epoch 9/25\n",
            "17/17 [==============================] - 0s 27ms/step - loss: 0.3317 - accuracy: 0.8742 - prec_class0: 0.9776 - prec_class1: 0.0000e+00 - prec_class2: 0.7736 - rec_class0: 0.9400 - rec_class1: 0.0000e+00 - rec_class2: 0.9256 - val_loss: 0.9586 - val_accuracy: 0.7011 - val_prec_class0: 0.7651 - val_prec_class1: 0.0000e+00 - val_prec_class2: 0.6023 - val_rec_class0: 0.7791 - val_rec_class1: 0.0000e+00 - val_rec_class2: 0.6310\n",
            "Epoch 10/25\n",
            "17/17 [==============================] - 0s 25ms/step - loss: 0.3404 - accuracy: 0.8770 - prec_class0: 0.9793 - prec_class1: 0.0000e+00 - prec_class2: 0.7690 - rec_class0: 0.9446 - rec_class1: 0.0000e+00 - rec_class2: 0.9018 - val_loss: 0.9295 - val_accuracy: 0.6827 - val_prec_class0: 0.7917 - val_prec_class1: 0.0000e+00 - val_prec_class2: 0.5481 - val_rec_class0: 0.6994 - val_rec_class1: 0.0000e+00 - val_rec_class2: 0.6786\n",
            "Epoch 11/25\n",
            "17/17 [==============================] - 0s 27ms/step - loss: 0.3026 - accuracy: 0.8797 - prec_class0: 0.9779 - prec_class1: 0.0000e+00 - prec_class2: 0.8053 - rec_class0: 0.9523 - rec_class1: 0.0000e+00 - rec_class2: 0.9107 - val_loss: 0.9777 - val_accuracy: 0.6863 - val_prec_class0: 0.7848 - val_prec_class1: 0.0000e+00 - val_prec_class2: 0.6044 - val_rec_class0: 0.7607 - val_rec_class1: 0.0000e+00 - val_rec_class2: 0.6548\n",
            "Epoch 12/25\n",
            "17/17 [==============================] - 0s 26ms/step - loss: 0.2838 - accuracy: 0.8788 - prec_class0: 0.9841 - prec_class1: 0.0000e+00 - prec_class2: 0.8217 - rec_class0: 0.9523 - rec_class1: 0.0000e+00 - rec_class2: 0.9464 - val_loss: 1.0677 - val_accuracy: 0.7048 - val_prec_class0: 0.7630 - val_prec_class1: 0.0000e+00 - val_prec_class2: 0.6234 - val_rec_class0: 0.8098 - val_rec_class1: 0.0000e+00 - val_rec_class2: 0.5714\n",
            "Epoch 13/25\n",
            "17/17 [==============================] - 0s 28ms/step - loss: 0.2855 - accuracy: 0.8899 - prec_class0: 0.9777 - prec_class1: 0.0000e+00 - prec_class2: 0.8736 - rec_class0: 0.9462 - rec_class1: 0.0000e+00 - rec_class2: 0.9464 - val_loss: 1.0620 - val_accuracy: 0.6863 - val_prec_class0: 0.7812 - val_prec_class1: 0.0000e+00 - val_prec_class2: 0.6000 - val_rec_class0: 0.7669 - val_rec_class1: 0.0000e+00 - val_rec_class2: 0.6429\n",
            "Epoch 14/25\n",
            "17/17 [==============================] - 1s 37ms/step - loss: 0.2590 - accuracy: 0.8908 - prec_class0: 0.9841 - prec_class1: 0.0000e+00 - prec_class2: 0.8587 - rec_class0: 0.9492 - rec_class1: 0.0000e+00 - rec_class2: 0.9405 - val_loss: 1.1395 - val_accuracy: 0.7011 - val_prec_class0: 0.7805 - val_prec_class1: 0.0000e+00 - val_prec_class2: 0.6047 - val_rec_class0: 0.7853 - val_rec_class1: 0.0000e+00 - val_rec_class2: 0.6190\n",
            "Epoch 15/25\n",
            "17/17 [==============================] - 1s 37ms/step - loss: 0.2500 - accuracy: 0.8927 - prec_class0: 0.9872 - prec_class1: 0.0000e+00 - prec_class2: 0.8676 - rec_class0: 0.9477 - rec_class1: 0.0000e+00 - rec_class2: 0.9554 - val_loss: 1.1361 - val_accuracy: 0.6900 - val_prec_class0: 0.7867 - val_prec_class1: 0.0000e+00 - val_prec_class2: 0.5851 - val_rec_class0: 0.7239 - val_rec_class1: 0.0000e+00 - val_rec_class2: 0.6548\n",
            "Epoch 16/25\n",
            "17/17 [==============================] - 1s 38ms/step - loss: 0.2475 - accuracy: 0.9075 - prec_class0: 0.9840 - prec_class1: 0.0000e+00 - prec_class2: 0.8785 - rec_class0: 0.9477 - rec_class1: 0.0000e+00 - rec_class2: 0.9464 - val_loss: 1.2009 - val_accuracy: 0.6900 - val_prec_class0: 0.7764 - val_prec_class1: 0.0000e+00 - val_prec_class2: 0.6118 - val_rec_class0: 0.7669 - val_rec_class1: 0.0000e+00 - val_rec_class2: 0.6190\n",
            "Epoch 17/25\n",
            "17/17 [==============================] - 1s 32ms/step - loss: 0.2456 - accuracy: 0.9149 - prec_class0: 0.9840 - prec_class1: 1.0000 - prec_class2: 0.8860 - rec_class0: 0.9462 - rec_class1: 0.0316 - rec_class2: 0.9256 - val_loss: 1.2103 - val_accuracy: 0.6827 - val_prec_class0: 0.7785 - val_prec_class1: 0.0000e+00 - val_prec_class2: 0.5789 - val_rec_class0: 0.7117 - val_rec_class1: 0.0000e+00 - val_rec_class2: 0.6548\n",
            "Epoch 18/25\n",
            "17/17 [==============================] - 0s 28ms/step - loss: 0.2324 - accuracy: 0.9158 - prec_class0: 0.9841 - prec_class1: 1.0000 - prec_class2: 0.8936 - rec_class0: 0.9492 - rec_class1: 0.0737 - rec_class2: 0.9494 - val_loss: 1.3152 - val_accuracy: 0.7048 - val_prec_class0: 0.7616 - val_prec_class1: 0.0000e+00 - val_prec_class2: 0.6125 - val_rec_class0: 0.8037 - val_rec_class1: 0.0000e+00 - val_rec_class2: 0.5833\n",
            "Epoch 19/25\n",
            "17/17 [==============================] - 0s 29ms/step - loss: 0.2219 - accuracy: 0.9278 - prec_class0: 0.9856 - prec_class1: 0.9583 - prec_class2: 0.8908 - rec_class0: 0.9508 - rec_class1: 0.2421 - rec_class2: 0.9226 - val_loss: 1.3047 - val_accuracy: 0.6753 - val_prec_class0: 0.7547 - val_prec_class1: 0.0000e+00 - val_prec_class2: 0.5882 - val_rec_class0: 0.7362 - val_rec_class1: 0.0000e+00 - val_rec_class2: 0.5952\n",
            "Epoch 20/25\n",
            "17/17 [==============================] - 0s 28ms/step - loss: 0.2160 - accuracy: 0.9297 - prec_class0: 0.9888 - prec_class1: 0.8750 - prec_class2: 0.9038 - rec_class0: 0.9523 - rec_class1: 0.3684 - rec_class2: 0.9226 - val_loss: 1.4142 - val_accuracy: 0.6827 - val_prec_class0: 0.7529 - val_prec_class1: 0.2000 - val_prec_class2: 0.6000 - val_rec_class0: 0.7853 - val_rec_class1: 0.0417 - val_rec_class2: 0.5000\n",
            "Epoch 21/25\n",
            "17/17 [==============================] - 0s 25ms/step - loss: 0.2212 - accuracy: 0.9260 - prec_class0: 0.9887 - prec_class1: 0.8431 - prec_class2: 0.8937 - rec_class0: 0.9431 - rec_class1: 0.4526 - rec_class2: 0.9256 - val_loss: 1.4164 - val_accuracy: 0.6642 - val_prec_class0: 0.7707 - val_prec_class1: 0.0000e+00 - val_prec_class2: 0.5930 - val_rec_class0: 0.7423 - val_rec_class1: 0.0000e+00 - val_rec_class2: 0.6071\n",
            "Epoch 22/25\n",
            "17/17 [==============================] - 0s 26ms/step - loss: 0.1974 - accuracy: 0.9325 - prec_class0: 0.9872 - prec_class1: 0.8361 - prec_class2: 0.9064 - rec_class0: 0.9523 - rec_class1: 0.5368 - rec_class2: 0.9226 - val_loss: 1.5901 - val_accuracy: 0.6790 - val_prec_class0: 0.7600 - val_prec_class1: 0.0000e+00 - val_prec_class2: 0.6184 - val_rec_class0: 0.8160 - val_rec_class1: 0.0000e+00 - val_rec_class2: 0.5595\n",
            "Epoch 23/25\n",
            "17/17 [==============================] - 0s 29ms/step - loss: 0.2054 - accuracy: 0.9251 - prec_class0: 0.9839 - prec_class1: 0.9000 - prec_class2: 0.8855 - rec_class0: 0.9415 - rec_class1: 0.4737 - rec_class2: 0.9435 - val_loss: 1.5532 - val_accuracy: 0.6716 - val_prec_class0: 0.7529 - val_prec_class1: 0.1000 - val_prec_class2: 0.6197 - val_rec_class0: 0.7853 - val_rec_class1: 0.0417 - val_rec_class2: 0.5238\n",
            "Epoch 24/25\n",
            "17/17 [==============================] - 0s 28ms/step - loss: 0.1985 - accuracy: 0.9334 - prec_class0: 0.9811 - prec_class1: 0.8923 - prec_class2: 0.9099 - rec_class0: 0.9569 - rec_class1: 0.6105 - rec_class2: 0.9018 - val_loss: 1.4838 - val_accuracy: 0.6458 - val_prec_class0: 0.7619 - val_prec_class1: 0.0714 - val_prec_class2: 0.5895 - val_rec_class0: 0.6871 - val_rec_class1: 0.0417 - val_rec_class2: 0.6667\n",
            "Epoch 25/25\n",
            "17/17 [==============================] - 0s 26ms/step - loss: 0.2008 - accuracy: 0.9334 - prec_class0: 0.9903 - prec_class1: 0.8750 - prec_class2: 0.8904 - rec_class0: 0.9415 - rec_class1: 0.5895 - rec_class2: 0.9435 - val_loss: 1.5933 - val_accuracy: 0.6642 - val_prec_class0: 0.7500 - val_prec_class1: 0.0000e+00 - val_prec_class2: 0.6232 - val_rec_class0: 0.8098 - val_rec_class1: 0.0000e+00 - val_rec_class2: 0.5119\n"
          ]
        }
      ]
    },
    {
      "cell_type": "code",
      "source": [
        "# Calcular as métricas no conjunto de teste\n",
        "test_loss, test_accuracy, test_precision_class0, test_precision_class1, test_precision_class2, test_recall_class0, test_recall_class1, test_recall_class2 = model3.evaluate(split_metadata_and_text_features(test_df, 'biased_words4'), test_labels)\n",
        "\n",
        "\n",
        "# Calcular o F1-score para cada classe no conjunto de teste\n",
        "test_f1_class0 = 2 * (test_precision_class0 * test_recall_class0) / (test_precision_class0 + test_recall_class0 + 1e-15)\n",
        "test_f1_class1 = 2 * (test_precision_class1 * test_recall_class1) / (test_precision_class1 + test_recall_class1 + 1e-15)\n",
        "test_f1_class2 = 2 * (test_precision_class2 * test_recall_class2) / (test_precision_class2 + test_recall_class2 + 1e-15)\n",
        "\n",
        "# Preparar os dados para o gráfico de barras\n",
        "metricas = ['Acurácia']\n",
        "classes = ['Classe \"Com Viés\"', 'Classe \"Sem Acordo\"', 'Classe \"Sem Viés\"']\n",
        "valores_acuracia = [test_accuracy]\n",
        "valores_precisao = [test_precision_class0, test_precision_class1, test_precision_class2]\n",
        "valores_revocacao = [test_recall_class0, test_recall_class1, test_recall_class2]\n",
        "valores_f1 = [test_f1_class0, test_f1_class1, test_f1_class2]\n",
        "\n",
        "# Criar o gráfico de barras para acurácia\n",
        "plt.figure(figsize=(6, 4))\n",
        "plt.bar(metricas, valores_acuracia, color='gray')\n",
        "plt.ylim(0, 1)\n",
        "plt.ylabel('Valor')\n",
        "plt.title('Acurácia no Conjunto de Teste')\n",
        "plt.legend()\n",
        "\n",
        "# Exibir o gráfico de barras de acurácia\n",
        "plt.show()\n",
        "\n",
        "# Criar o gráfico de barras para precisão\n",
        "plt.figure(figsize=(6, 4))\n",
        "plt.bar(classes, valores_precisao, color=['lightgray', 'gray', 'darkgray'])\n",
        "plt.ylim(0, 1)\n",
        "plt.ylabel('Valor')\n",
        "plt.title('Precisão no Conjunto de Teste - Palavras')\n",
        "plt.legend()\n",
        "\n",
        "# Exibir o gráfico de barras de precisão\n",
        "plt.show()\n",
        "\n",
        "# Criar o gráfico de barras para revocação\n",
        "plt.figure(figsize=(6, 4))\n",
        "plt.bar(classes, valores_revocacao, color=['lightgray', 'gray', 'darkgray'])\n",
        "plt.ylim(0, 1)\n",
        "plt.ylabel('Valor')\n",
        "plt.title('Revocação no Conjunto de Teste - Palavras')\n",
        "plt.legend()\n",
        "\n",
        "# Exibir o gráfico de barras de revocação\n",
        "plt.show()\n",
        "\n",
        "# Criar o gráfico de barras para F1-score\n",
        "plt.figure(figsize=(6, 4))\n",
        "plt.bar(classes, valores_f1, color=['lightgray', 'gray', 'darkgray'])\n",
        "plt.ylim(0, 1)\n",
        "plt.ylabel('Valor')\n",
        "plt.title('F1-score no Conjunto de Teste - Palavras')\n",
        "plt.legend()\n",
        "\n",
        "# Exibir o gráfico de barras de F1-score\n",
        "plt.show()"
      ],
      "metadata": {
        "colab": {
          "base_uri": "https://localhost:8080/",
          "height": 1000
        },
        "id": "Q9jTCOK1b_G9",
        "outputId": "b944b6f6-675d-410f-e78d-5c6d59c2f66c"
      },
      "execution_count": null,
      "outputs": [
        {
          "output_type": "stream",
          "name": "stdout",
          "text": [
            "11/11 [==============================] - 0s 5ms/step - loss: 1.8261 - accuracy: 0.7041 - prec_class0: 0.7658 - prec_class1: 0.2857 - prec_class2: 0.6452 - rec_class0: 0.8374 - rec_class1: 0.0667 - rec_class2: 0.5714    \n"
          ]
        },
        {
          "output_type": "stream",
          "name": "stderr",
          "text": [
            "WARNING:matplotlib.legend:No artists with labels found to put in legend.  Note that artists whose label start with an underscore are ignored when legend() is called with no argument.\n"
          ]
        },
        {
          "output_type": "display_data",
          "data": {
            "text/plain": [
              "<Figure size 600x400 with 1 Axes>"
            ],
            "image/png": "[encoded data removed]"
          },
          "metadata": {}
        },
        {
          "output_type": "stream",
          "name": "stderr",
          "text": [
            "WARNING:matplotlib.legend:No artists with labels found to put in legend.  Note that artists whose label start with an underscore are ignored when legend() is called with no argument.\n"
          ]
        },
        {
          "output_type": "display_data",
          "data": {
            "text/plain": [
              "<Figure size 600x400 with 1 Axes>"
            ],
            "image/png": "[encoded data removed]"
          },
          "metadata": {}
        },
        {
          "output_type": "stream",
          "name": "stderr",
          "text": [
            "WARNING:matplotlib.legend:No artists with labels found to put in legend.  Note that artists whose label start with an underscore are ignored when legend() is called with no argument.\n"
          ]
        },
        {
          "output_type": "display_data",
          "data": {
            "text/plain": [
              "<Figure size 600x400 with 1 Axes>"
            ],
            "image/png": "[encoded data removed]"
          },
          "metadata": {}
        },
        {
          "output_type": "stream",
          "name": "stderr",
          "text": [
            "WARNING:matplotlib.legend:No artists with labels found to put in legend.  Note that artists whose label start with an underscore are ignored when legend() is called with no argument.\n"
          ]
        },
        {
          "output_type": "display_data",
          "data": {
            "text/plain": [
              "<Figure size 600x400 with 1 Axes>"
            ],
            "image/png": "[encoded data removed]"
          },
          "metadata": {}
        }
      ]
    }
  ],
  "metadata": {
    "colab": {
      "collapsed_sections": [
        "8jhbot7NnxrP",
        "5dgVKAMqnxrR",
        "KOOeFWainxrT",
        "28mGJnjWQC82",
        "hu0eDi-4UE47"
      ],
      "provenance": []
    },
    "kernelspec": {
      "display_name": "Python 3 (ipykernel)",
      "language": "python",
      "name": "python3"
    },
    "language_info": {
      "codemirror_mode": {
        "name": "ipython",
        "version": 3
      },
      "file_extension": ".py",
      "mimetype": "text/x-python",
      "name": "python",
      "nbconvert_exporter": "python",
      "pygments_lexer": "ipython3",
      "version": "3.8.10"
    }
  },
  "nbformat": 4,
  "nbformat_minor": 0
}